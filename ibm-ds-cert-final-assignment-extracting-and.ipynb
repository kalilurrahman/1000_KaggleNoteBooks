{
 "cells": [
  {
   "cell_type": "markdown",
   "id": "ae0538b9",
   "metadata": {
    "papermill": {
     "duration": 0.012312,
     "end_time": "2022-09-15T05:37:00.750374",
     "exception": false,
     "start_time": "2022-09-15T05:37:00.738062",
     "status": "completed"
    },
    "tags": []
   },
   "source": [
    "<center>\n",
    "    <img src=\"https://s3-api.us-geo.objectstorage.softlayer.net/cf-courses-data/CognitiveClass/Logos/organization_logo/organization_logo.png\" width=\"300\" alt=\"cognitiveclass.ai logo\"  />\n",
    "</center>\n"
   ]
  },
  {
   "cell_type": "markdown",
   "id": "8e1cb6a1",
   "metadata": {
    "papermill": {
     "duration": 0.009645,
     "end_time": "2022-09-15T05:37:00.770045",
     "exception": false,
     "start_time": "2022-09-15T05:37:00.760400",
     "status": "completed"
    },
    "tags": []
   },
   "source": [
    "<h1>Extracting and Visualizing Stock Data</h1>\n",
    "<h2>Description</h2>\n"
   ]
  },
  {
   "cell_type": "markdown",
   "id": "8651d144",
   "metadata": {
    "papermill": {
     "duration": 0.009502,
     "end_time": "2022-09-15T05:37:00.789411",
     "exception": false,
     "start_time": "2022-09-15T05:37:00.779909",
     "status": "completed"
    },
    "tags": []
   },
   "source": [
    "Extracting essential data from a dataset and displaying it is a necessary part of data science; therefore individuals can make correct decisions based on the data. In this assignment, you will extract some stock data, you will then display this data in a graph.\n"
   ]
  },
  {
   "cell_type": "markdown",
   "id": "6faa6767",
   "metadata": {
    "papermill": {
     "duration": 0.00949,
     "end_time": "2022-09-15T05:37:00.808761",
     "exception": false,
     "start_time": "2022-09-15T05:37:00.799271",
     "status": "completed"
    },
    "tags": []
   },
   "source": [
    "<h2>Table of Contents</h2>\n",
    "<div class=\"alert alert-block alert-info\" style=\"margin-top: 20px\">\n",
    "    <ul>\n",
    "        <li>Define a Function that Makes a Graph</li>\n",
    "        <li>Question 1: Use yfinance to Extract Stock Data</li>\n",
    "        <li>Question 2: Use Webscraping to Extract Tesla Revenue Data</li>\n",
    "        <li>Question 3: Use yfinance to Extract Stock Data</li>\n",
    "        <li>Question 4: Use Webscraping to Extract GME Revenue Data</li>\n",
    "        <li>Question 5: Plot Tesla Stock Graph</li>\n",
    "        <li>Question 6: Plot GameStop Stock Graph</li>\n",
    "    </ul>\n",
    "<p>\n",
    "    Estimated Time Needed: <strong>30 min</strong></p>\n",
    "</div>\n",
    "\n",
    "<hr>\n"
   ]
  },
  {
   "cell_type": "code",
   "execution_count": 1,
   "id": "a3e7047d",
   "metadata": {
    "execution": {
     "iopub.execute_input": "2022-09-15T05:37:00.831666Z",
     "iopub.status.busy": "2022-09-15T05:37:00.831028Z",
     "iopub.status.idle": "2022-09-15T05:39:07.460073Z",
     "shell.execute_reply": "2022-09-15T05:39:07.458540Z"
    },
    "papermill": {
     "duration": 126.643674,
     "end_time": "2022-09-15T05:39:07.463235",
     "exception": false,
     "start_time": "2022-09-15T05:37:00.819561",
     "status": "completed"
    },
    "tags": []
   },
   "outputs": [
    {
     "name": "stdout",
     "output_type": "stream",
     "text": [
      "Collecting yfinance==0.1.67\r\n",
      "  Downloading yfinance-0.1.67-py2.py3-none-any.whl (25 kB)\r\n",
      "Requirement already satisfied: requests>=2.20 in /opt/conda/lib/python3.7/site-packages (from yfinance==0.1.67) (2.28.1)\r\n",
      "Requirement already satisfied: pandas>=0.24 in /opt/conda/lib/python3.7/site-packages (from yfinance==0.1.67) (1.3.5)\r\n",
      "Collecting multitasking>=0.0.7\r\n",
      "  Downloading multitasking-0.0.11-py3-none-any.whl (8.5 kB)\r\n",
      "Requirement already satisfied: lxml>=4.5.1 in /opt/conda/lib/python3.7/site-packages (from yfinance==0.1.67) (4.9.1)\r\n",
      "Requirement already satisfied: numpy>=1.15 in /opt/conda/lib/python3.7/site-packages (from yfinance==0.1.67) (1.21.6)\r\n",
      "Requirement already satisfied: python-dateutil>=2.7.3 in /opt/conda/lib/python3.7/site-packages (from pandas>=0.24->yfinance==0.1.67) (2.8.2)\r\n",
      "Requirement already satisfied: pytz>=2017.3 in /opt/conda/lib/python3.7/site-packages (from pandas>=0.24->yfinance==0.1.67) (2022.1)\r\n",
      "Requirement already satisfied: urllib3<1.27,>=1.21.1 in /opt/conda/lib/python3.7/site-packages (from requests>=2.20->yfinance==0.1.67) (1.26.11)\r\n",
      "Requirement already satisfied: idna<4,>=2.5 in /opt/conda/lib/python3.7/site-packages (from requests>=2.20->yfinance==0.1.67) (3.3)\r\n",
      "Requirement already satisfied: certifi>=2017.4.17 in /opt/conda/lib/python3.7/site-packages (from requests>=2.20->yfinance==0.1.67) (2022.6.15)\r\n",
      "Requirement already satisfied: charset-normalizer<3,>=2 in /opt/conda/lib/python3.7/site-packages (from requests>=2.20->yfinance==0.1.67) (2.1.0)\r\n",
      "Requirement already satisfied: six>=1.5 in /opt/conda/lib/python3.7/site-packages (from python-dateutil>=2.7.3->pandas>=0.24->yfinance==0.1.67) (1.15.0)\r\n",
      "Installing collected packages: multitasking, yfinance\r\n",
      "Successfully installed multitasking-0.0.11 yfinance-0.1.67\r\n",
      "\u001b[33mWARNING: Running pip as the 'root' user can result in broken permissions and conflicting behaviour with the system package manager. It is recommended to use a virtual environment instead: https://pip.pypa.io/warnings/venv\u001b[0m\u001b[33m\r\n",
      "\u001b[0mCollecting pandas==1.3.3\r\n",
      "  Downloading pandas-1.3.3-cp37-cp37m-manylinux_2_17_x86_64.manylinux2014_x86_64.whl (11.3 MB)\r\n",
      "\u001b[2K     \u001b[90m━━━━━━━━━━━━━━━━━━━━━━━━━━━━━━━━━━━━━━━━\u001b[0m \u001b[32m11.3/11.3 MB\u001b[0m \u001b[31m9.9 MB/s\u001b[0m eta \u001b[36m0:00:00\u001b[0m\r\n",
      "\u001b[?25hRequirement already satisfied: python-dateutil>=2.7.3 in /opt/conda/lib/python3.7/site-packages (from pandas==1.3.3) (2.8.2)\r\n",
      "Requirement already satisfied: numpy>=1.17.3 in /opt/conda/lib/python3.7/site-packages (from pandas==1.3.3) (1.21.6)\r\n",
      "Requirement already satisfied: pytz>=2017.3 in /opt/conda/lib/python3.7/site-packages (from pandas==1.3.3) (2022.1)\r\n",
      "Requirement already satisfied: six>=1.5 in /opt/conda/lib/python3.7/site-packages (from python-dateutil>=2.7.3->pandas==1.3.3) (1.15.0)\r\n",
      "Installing collected packages: pandas\r\n",
      "  Attempting uninstall: pandas\r\n",
      "    Found existing installation: pandas 1.3.5\r\n",
      "    Uninstalling pandas-1.3.5:\r\n",
      "      Successfully uninstalled pandas-1.3.5\r\n",
      "\u001b[31mERROR: pip's dependency resolver does not currently take into account all the packages that are installed. This behaviour is the source of the following dependency conflicts.\r\n",
      "beatrix-jupyterlab 3.1.7 requires google-cloud-bigquery-storage, which is not installed.\r\n",
      "tfx-bsl 1.9.0 requires pyarrow<6,>=1, but you have pyarrow 8.0.0 which is incompatible.\r\n",
      "tfx-bsl 1.9.0 requires tensorflow!=2.0.*,!=2.1.*,!=2.2.*,!=2.3.*,!=2.4.*,!=2.5.*,!=2.6.*,!=2.7.*,!=2.8.*,<3,>=1.15.5, but you have tensorflow 2.6.4 which is incompatible.\r\n",
      "tensorflow-transform 1.9.0 requires pyarrow<6,>=1, but you have pyarrow 8.0.0 which is incompatible.\r\n",
      "tensorflow-transform 1.9.0 requires tensorflow!=2.0.*,!=2.1.*,!=2.2.*,!=2.3.*,!=2.4.*,!=2.5.*,!=2.6.*,!=2.7.*,!=2.8.*,<2.10,>=1.15.5, but you have tensorflow 2.6.4 which is incompatible.\r\n",
      "pdpbox 0.2.1 requires matplotlib==3.1.1, but you have matplotlib 3.5.3 which is incompatible.\r\n",
      "pandas-profiling 3.1.0 requires markupsafe~=2.0.1, but you have markupsafe 2.1.1 which is incompatible.\u001b[0m\u001b[31m\r\n",
      "\u001b[0mSuccessfully installed pandas-1.3.3\r\n",
      "\u001b[33mWARNING: Running pip as the 'root' user can result in broken permissions and conflicting behaviour with the system package manager. It is recommended to use a virtual environment instead: https://pip.pypa.io/warnings/venv\u001b[0m\u001b[33m\r\n",
      "\u001b[0mCollecting requests==2.26.0\r\n",
      "  Downloading requests-2.26.0-py2.py3-none-any.whl (62 kB)\r\n",
      "\u001b[2K     \u001b[90m━━━━━━━━━━━━━━━━━━━━━━━━━━━━━━━━━━━━━━━\u001b[0m \u001b[32m62.3/62.3 kB\u001b[0m \u001b[31m245.8 kB/s\u001b[0m eta \u001b[36m0:00:00\u001b[0m\r\n",
      "\u001b[?25hRequirement already satisfied: certifi>=2017.4.17 in /opt/conda/lib/python3.7/site-packages (from requests==2.26.0) (2022.6.15)\r\n",
      "Requirement already satisfied: idna<4,>=2.5 in /opt/conda/lib/python3.7/site-packages (from requests==2.26.0) (3.3)\r\n",
      "Collecting charset-normalizer~=2.0.0\r\n",
      "  Downloading charset_normalizer-2.0.12-py3-none-any.whl (39 kB)\r\n",
      "Requirement already satisfied: urllib3<1.27,>=1.21.1 in /opt/conda/lib/python3.7/site-packages (from requests==2.26.0) (1.26.11)\r\n",
      "Installing collected packages: charset-normalizer, requests\r\n",
      "  Attempting uninstall: charset-normalizer\r\n",
      "    Found existing installation: charset-normalizer 2.1.0\r\n",
      "    Uninstalling charset-normalizer-2.1.0:\r\n",
      "      Successfully uninstalled charset-normalizer-2.1.0\r\n",
      "  Attempting uninstall: requests\r\n",
      "    Found existing installation: requests 2.28.1\r\n",
      "    Uninstalling requests-2.28.1:\r\n",
      "      Successfully uninstalled requests-2.28.1\r\n",
      "\u001b[31mERROR: pip's dependency resolver does not currently take into account all the packages that are installed. This behaviour is the source of the following dependency conflicts.\r\n",
      "beatrix-jupyterlab 3.1.7 requires google-cloud-bigquery-storage, which is not installed.\r\n",
      "spacy 3.3.1 requires typing-extensions<4.2.0,>=3.7.4; python_version < \"3.8\", but you have typing-extensions 4.3.0 which is incompatible.\r\n",
      "pandas-profiling 3.1.0 requires markupsafe~=2.0.1, but you have markupsafe 2.1.1 which is incompatible.\r\n",
      "gcsfs 2022.5.0 requires fsspec==2022.5.0, but you have fsspec 2022.7.1 which is incompatible.\r\n",
      "apache-beam 2.40.0 requires dill<0.3.2,>=0.3.1.1, but you have dill 0.3.5.1 which is incompatible.\r\n",
      "apache-beam 2.40.0 requires pyarrow<8.0.0,>=0.15.1, but you have pyarrow 8.0.0 which is incompatible.\r\n",
      "allennlp 2.10.0 requires protobuf==3.20.0, but you have protobuf 3.19.4 which is incompatible.\r\n",
      "allennlp 2.10.0 requires requests>=2.28, but you have requests 2.26.0 which is incompatible.\r\n",
      "aiobotocore 2.3.4 requires botocore<1.24.22,>=1.24.21, but you have botocore 1.27.56 which is incompatible.\u001b[0m\u001b[31m\r\n",
      "\u001b[0mSuccessfully installed charset-normalizer-2.0.12 requests-2.26.0\r\n",
      "\u001b[33mWARNING: Running pip as the 'root' user can result in broken permissions and conflicting behaviour with the system package manager. It is recommended to use a virtual environment instead: https://pip.pypa.io/warnings/venv\u001b[0m\u001b[33m\r\n",
      "\u001b[0m/bin/bash: mamba: command not found\r\n",
      "Collecting plotly==5.3.1\r\n",
      "  Downloading plotly-5.3.1-py2.py3-none-any.whl (23.9 MB)\r\n",
      "\u001b[2K     \u001b[90m━━━━━━━━━━━━━━━━━━━━━━━━━━━━━━━━━━━━━━━━\u001b[0m \u001b[32m23.9/23.9 MB\u001b[0m \u001b[31m13.0 MB/s\u001b[0m eta \u001b[36m0:00:00\u001b[0m\r\n",
      "\u001b[?25hRequirement already satisfied: six in /opt/conda/lib/python3.7/site-packages (from plotly==5.3.1) (1.15.0)\r\n",
      "Requirement already satisfied: tenacity>=6.2.0 in /opt/conda/lib/python3.7/site-packages (from plotly==5.3.1) (8.0.1)\r\n",
      "Installing collected packages: plotly\r\n",
      "  Attempting uninstall: plotly\r\n",
      "    Found existing installation: plotly 5.10.0\r\n",
      "    Uninstalling plotly-5.10.0:\r\n",
      "      Successfully uninstalled plotly-5.10.0\r\n",
      "Successfully installed plotly-5.3.1\r\n",
      "\u001b[33mWARNING: Running pip as the 'root' user can result in broken permissions and conflicting behaviour with the system package manager. It is recommended to use a virtual environment instead: https://pip.pypa.io/warnings/venv\u001b[0m\u001b[33m\r\n",
      "\u001b[0m"
     ]
    }
   ],
   "source": [
    "!pip install yfinance==0.1.67\n",
    "!pip install pandas==1.3.3\n",
    "!pip install requests==2.26.0\n",
    "!mamba install bs4==4.10.0 -y\n",
    "!pip install plotly==5.3.1"
   ]
  },
  {
   "cell_type": "code",
   "execution_count": 2,
   "id": "3750c0ca",
   "metadata": {
    "execution": {
     "iopub.execute_input": "2022-09-15T05:39:07.504292Z",
     "iopub.status.busy": "2022-09-15T05:39:07.503736Z",
     "iopub.status.idle": "2022-09-15T05:39:25.445439Z",
     "shell.execute_reply": "2022-09-15T05:39:25.444046Z"
    },
    "papermill": {
     "duration": 17.966032,
     "end_time": "2022-09-15T05:39:25.448454",
     "exception": false,
     "start_time": "2022-09-15T05:39:07.482422",
     "status": "completed"
    },
    "tags": []
   },
   "outputs": [
    {
     "name": "stdout",
     "output_type": "stream",
     "text": [
      "/bin/bash: mamba: command not found\r\n",
      "/bin/bash: mamba: command not found\r\n",
      "Collecting lxml==4.6.4\r\n",
      "  Downloading lxml-4.6.4-cp37-cp37m-manylinux_2_17_x86_64.manylinux2014_x86_64.manylinux_2_24_x86_64.whl (6.3 MB)\r\n",
      "\u001b[2K     \u001b[90m━━━━━━━━━━━━━━━━━━━━━━━━━━━━━━━━━━━━━━━━\u001b[0m \u001b[32m6.3/6.3 MB\u001b[0m \u001b[31m4.0 MB/s\u001b[0m eta \u001b[36m0:00:00\u001b[0m\r\n",
      "\u001b[?25hInstalling collected packages: lxml\r\n",
      "  Attempting uninstall: lxml\r\n",
      "    Found existing installation: lxml 4.9.1\r\n",
      "    Uninstalling lxml-4.9.1:\r\n",
      "      Successfully uninstalled lxml-4.9.1\r\n",
      "Successfully installed lxml-4.6.4\r\n",
      "\u001b[33mWARNING: Running pip as the 'root' user can result in broken permissions and conflicting behaviour with the system package manager. It is recommended to use a virtual environment instead: https://pip.pypa.io/warnings/venv\u001b[0m\u001b[33m\r\n",
      "\u001b[0m"
     ]
    }
   ],
   "source": [
    "!mamba install bs4==4.10.0 -y\n",
    "!mamba install html5lib==1.1 -y\n",
    "!pip install lxml==4.6.4\n",
    "import yfinance as yf\n",
    "import pandas as pd\n",
    "import requests\n",
    "from bs4 import BeautifulSoup\n",
    "import plotly.graph_objects as go\n",
    "from plotly.subplots import make_subplots\n",
    "\n"
   ]
  },
  {
   "cell_type": "markdown",
   "id": "9cb9ef17",
   "metadata": {
    "papermill": {
     "duration": 0.021839,
     "end_time": "2022-09-15T05:39:25.492676",
     "exception": false,
     "start_time": "2022-09-15T05:39:25.470837",
     "status": "completed"
    },
    "tags": []
   },
   "source": [
    "## Define Graphing Function\n"
   ]
  },
  {
   "cell_type": "markdown",
   "id": "b3252947",
   "metadata": {
    "papermill": {
     "duration": 0.021661,
     "end_time": "2022-09-15T05:39:25.536072",
     "exception": false,
     "start_time": "2022-09-15T05:39:25.514411",
     "status": "completed"
    },
    "tags": []
   },
   "source": [
    "In this section, we define the function `make_graph`. You don't have to know how the function works, you should only care about the inputs. It takes a dataframe with stock data (dataframe must contain Date and Close columns), a dataframe with revenue data (dataframe must contain Date and Revenue columns), and the name of the stock.\n"
   ]
  },
  {
   "cell_type": "code",
   "execution_count": 3,
   "id": "87dd8fd2",
   "metadata": {
    "execution": {
     "iopub.execute_input": "2022-09-15T05:39:25.580882Z",
     "iopub.status.busy": "2022-09-15T05:39:25.580104Z",
     "iopub.status.idle": "2022-09-15T05:39:25.590949Z",
     "shell.execute_reply": "2022-09-15T05:39:25.589251Z"
    },
    "papermill": {
     "duration": 0.037096,
     "end_time": "2022-09-15T05:39:25.594309",
     "exception": false,
     "start_time": "2022-09-15T05:39:25.557213",
     "status": "completed"
    },
    "tags": []
   },
   "outputs": [],
   "source": [
    "def make_graph(stock_data, revenue_data, stock):\n",
    "    fig = make_subplots(rows=2, cols=1, shared_xaxes=True, subplot_titles=(\"Historical Share Price\", \"Historical Revenue\"), vertical_spacing = .3)\n",
    "    stock_data_specific = stock_data[stock_data.Date <= '2021--06-14']\n",
    "    revenue_data_specific = revenue_data[revenue_data.Date <= '2021-04-30']\n",
    "    fig.add_trace(go.Scatter(x=pd.to_datetime(stock_data_specific.Date, infer_datetime_format=True), y=stock_data_specific.Close.astype(\"float\"), name=\"Share Price\"), row=1, col=1)\n",
    "    fig.add_trace(go.Scatter(x=pd.to_datetime(revenue_data_specific.Date, infer_datetime_format=True), y=revenue_data_specific.Revenue.astype(\"float\"), name=\"Revenue\"), row=2, col=1)\n",
    "    fig.update_xaxes(title_text=\"Date\", row=1, col=1)\n",
    "    fig.update_xaxes(title_text=\"Date\", row=2, col=1)\n",
    "    fig.update_yaxes(title_text=\"Price ($US)\", row=1, col=1)\n",
    "    fig.update_yaxes(title_text=\"Revenue ($US Millions)\", row=2, col=1)\n",
    "    fig.update_layout(showlegend=False,\n",
    "    height=900,\n",
    "    title=stock,\n",
    "    xaxis_rangeslider_visible=True)\n",
    "    fig.show()"
   ]
  },
  {
   "cell_type": "markdown",
   "id": "b5510db2",
   "metadata": {
    "papermill": {
     "duration": 0.020183,
     "end_time": "2022-09-15T05:39:25.635087",
     "exception": false,
     "start_time": "2022-09-15T05:39:25.614904",
     "status": "completed"
    },
    "tags": []
   },
   "source": [
    "## Question 1: Use yfinance to Extract Stock Data\n"
   ]
  },
  {
   "cell_type": "markdown",
   "id": "0004e86d",
   "metadata": {
    "papermill": {
     "duration": 0.019925,
     "end_time": "2022-09-15T05:39:25.676188",
     "exception": false,
     "start_time": "2022-09-15T05:39:25.656263",
     "status": "completed"
    },
    "tags": []
   },
   "source": [
    "Using the `Ticker` function enter the ticker symbol of the stock we want to extract data on to create a ticker object. The stock is Tesla and its ticker symbol is `TSLA`.\n"
   ]
  },
  {
   "cell_type": "code",
   "execution_count": 4,
   "id": "2f3afa53",
   "metadata": {
    "execution": {
     "iopub.execute_input": "2022-09-15T05:39:25.719349Z",
     "iopub.status.busy": "2022-09-15T05:39:25.718153Z",
     "iopub.status.idle": "2022-09-15T05:39:25.732307Z",
     "shell.execute_reply": "2022-09-15T05:39:25.731270Z"
    },
    "papermill": {
     "duration": 0.038213,
     "end_time": "2022-09-15T05:39:25.734748",
     "exception": false,
     "start_time": "2022-09-15T05:39:25.696535",
     "status": "completed"
    },
    "tags": []
   },
   "outputs": [],
   "source": [
    "tsla = yf.Ticker(\"TSLA\")"
   ]
  },
  {
   "cell_type": "markdown",
   "id": "d9e6b148",
   "metadata": {
    "papermill": {
     "duration": 0.020084,
     "end_time": "2022-09-15T05:39:25.775129",
     "exception": false,
     "start_time": "2022-09-15T05:39:25.755045",
     "status": "completed"
    },
    "tags": []
   },
   "source": [
    "Using the ticker object and the function `history` extract stock information and save it in a dataframe named `tesla_data`. Set the `period` parameter to `max` so we get information for the maximum amount of time.\n"
   ]
  },
  {
   "cell_type": "code",
   "execution_count": 5,
   "id": "190dd28c",
   "metadata": {
    "execution": {
     "iopub.execute_input": "2022-09-15T05:39:25.818233Z",
     "iopub.status.busy": "2022-09-15T05:39:25.816796Z",
     "iopub.status.idle": "2022-09-15T05:39:27.571941Z",
     "shell.execute_reply": "2022-09-15T05:39:27.570201Z"
    },
    "papermill": {
     "duration": 1.780309,
     "end_time": "2022-09-15T05:39:27.575622",
     "exception": false,
     "start_time": "2022-09-15T05:39:25.795313",
     "status": "completed"
    },
    "tags": []
   },
   "outputs": [],
   "source": [
    "tesla_data = tsla.history(period=\"max\")"
   ]
  },
  {
   "cell_type": "markdown",
   "id": "83b59dd5",
   "metadata": {
    "papermill": {
     "duration": 0.020394,
     "end_time": "2022-09-15T05:39:27.618958",
     "exception": false,
     "start_time": "2022-09-15T05:39:27.598564",
     "status": "completed"
    },
    "tags": []
   },
   "source": [
    "**Reset the index** using the `reset_index(inplace=True)` function on the tesla_data DataFrame and display the first five rows of the `tesla_data` dataframe using the `head` function. Take a screenshot of the results and code from the beginning of Question 1 to the results below.\n"
   ]
  },
  {
   "cell_type": "code",
   "execution_count": 6,
   "id": "bb901c5a",
   "metadata": {
    "execution": {
     "iopub.execute_input": "2022-09-15T05:39:27.665337Z",
     "iopub.status.busy": "2022-09-15T05:39:27.664507Z",
     "iopub.status.idle": "2022-09-15T05:39:27.698137Z",
     "shell.execute_reply": "2022-09-15T05:39:27.696490Z"
    },
    "papermill": {
     "duration": 0.060455,
     "end_time": "2022-09-15T05:39:27.701203",
     "exception": false,
     "start_time": "2022-09-15T05:39:27.640748",
     "status": "completed"
    },
    "tags": []
   },
   "outputs": [
    {
     "data": {
      "text/html": [
       "<div>\n",
       "<style scoped>\n",
       "    .dataframe tbody tr th:only-of-type {\n",
       "        vertical-align: middle;\n",
       "    }\n",
       "\n",
       "    .dataframe tbody tr th {\n",
       "        vertical-align: top;\n",
       "    }\n",
       "\n",
       "    .dataframe thead th {\n",
       "        text-align: right;\n",
       "    }\n",
       "</style>\n",
       "<table border=\"1\" class=\"dataframe\">\n",
       "  <thead>\n",
       "    <tr style=\"text-align: right;\">\n",
       "      <th></th>\n",
       "      <th>Date</th>\n",
       "      <th>Open</th>\n",
       "      <th>High</th>\n",
       "      <th>Low</th>\n",
       "      <th>Close</th>\n",
       "      <th>Volume</th>\n",
       "      <th>Dividends</th>\n",
       "      <th>Stock Splits</th>\n",
       "    </tr>\n",
       "  </thead>\n",
       "  <tbody>\n",
       "    <tr>\n",
       "      <th>0</th>\n",
       "      <td>2010-06-29</td>\n",
       "      <td>1.266667</td>\n",
       "      <td>1.666667</td>\n",
       "      <td>1.169333</td>\n",
       "      <td>1.592667</td>\n",
       "      <td>281494500</td>\n",
       "      <td>0</td>\n",
       "      <td>0.0</td>\n",
       "    </tr>\n",
       "    <tr>\n",
       "      <th>1</th>\n",
       "      <td>2010-06-30</td>\n",
       "      <td>1.719333</td>\n",
       "      <td>2.028000</td>\n",
       "      <td>1.553333</td>\n",
       "      <td>1.588667</td>\n",
       "      <td>257806500</td>\n",
       "      <td>0</td>\n",
       "      <td>0.0</td>\n",
       "    </tr>\n",
       "    <tr>\n",
       "      <th>2</th>\n",
       "      <td>2010-07-01</td>\n",
       "      <td>1.666667</td>\n",
       "      <td>1.728000</td>\n",
       "      <td>1.351333</td>\n",
       "      <td>1.464000</td>\n",
       "      <td>123282000</td>\n",
       "      <td>0</td>\n",
       "      <td>0.0</td>\n",
       "    </tr>\n",
       "    <tr>\n",
       "      <th>3</th>\n",
       "      <td>2010-07-02</td>\n",
       "      <td>1.533333</td>\n",
       "      <td>1.540000</td>\n",
       "      <td>1.247333</td>\n",
       "      <td>1.280000</td>\n",
       "      <td>77097000</td>\n",
       "      <td>0</td>\n",
       "      <td>0.0</td>\n",
       "    </tr>\n",
       "    <tr>\n",
       "      <th>4</th>\n",
       "      <td>2010-07-06</td>\n",
       "      <td>1.333333</td>\n",
       "      <td>1.333333</td>\n",
       "      <td>1.055333</td>\n",
       "      <td>1.074000</td>\n",
       "      <td>103003500</td>\n",
       "      <td>0</td>\n",
       "      <td>0.0</td>\n",
       "    </tr>\n",
       "  </tbody>\n",
       "</table>\n",
       "</div>"
      ],
      "text/plain": [
       "        Date      Open      High       Low     Close     Volume  Dividends  \\\n",
       "0 2010-06-29  1.266667  1.666667  1.169333  1.592667  281494500          0   \n",
       "1 2010-06-30  1.719333  2.028000  1.553333  1.588667  257806500          0   \n",
       "2 2010-07-01  1.666667  1.728000  1.351333  1.464000  123282000          0   \n",
       "3 2010-07-02  1.533333  1.540000  1.247333  1.280000   77097000          0   \n",
       "4 2010-07-06  1.333333  1.333333  1.055333  1.074000  103003500          0   \n",
       "\n",
       "   Stock Splits  \n",
       "0           0.0  \n",
       "1           0.0  \n",
       "2           0.0  \n",
       "3           0.0  \n",
       "4           0.0  "
      ]
     },
     "execution_count": 6,
     "metadata": {},
     "output_type": "execute_result"
    }
   ],
   "source": [
    "tesla_data.reset_index(inplace=True)\n",
    "tesla_data.head(5)"
   ]
  },
  {
   "cell_type": "markdown",
   "id": "f0f5fc0d",
   "metadata": {
    "papermill": {
     "duration": 0.020439,
     "end_time": "2022-09-15T05:39:27.742546",
     "exception": false,
     "start_time": "2022-09-15T05:39:27.722107",
     "status": "completed"
    },
    "tags": []
   },
   "source": [
    "## Question 2: Use Webscraping to Extract Tesla Revenue Data\n"
   ]
  },
  {
   "cell_type": "markdown",
   "id": "66b2aedb",
   "metadata": {
    "papermill": {
     "duration": 0.020773,
     "end_time": "2022-09-15T05:39:27.784498",
     "exception": false,
     "start_time": "2022-09-15T05:39:27.763725",
     "status": "completed"
    },
    "tags": []
   },
   "source": [
    "Use the `requests` library to download the webpage [https://www.macrotrends.net/stocks/charts/TSLA/tesla/revenue](https://www.macrotrends.net/stocks/charts/TSLA/tesla/revenue?utm_medium=Exinfluencer&utm_source=Exinfluencer&utm_content=000026UJ&utm_term=10006555&utm_id=NA-SkillsNetwork-Channel-SkillsNetworkCoursesIBMDeveloperSkillsNetworkPY0220ENSkillsNetwork23455606-2022-01-01). Save the text of the response as a variable named `html_data`.\n"
   ]
  },
  {
   "cell_type": "code",
   "execution_count": 7,
   "id": "bbca33f6",
   "metadata": {
    "execution": {
     "iopub.execute_input": "2022-09-15T05:39:27.829537Z",
     "iopub.status.busy": "2022-09-15T05:39:27.829070Z",
     "iopub.status.idle": "2022-09-15T05:39:29.002385Z",
     "shell.execute_reply": "2022-09-15T05:39:29.001222Z"
    },
    "papermill": {
     "duration": 1.199083,
     "end_time": "2022-09-15T05:39:29.004926",
     "exception": false,
     "start_time": "2022-09-15T05:39:27.805843",
     "status": "completed"
    },
    "tags": []
   },
   "outputs": [],
   "source": [
    "url= \"https://www.macrotrends.net/stocks/charts/TSLA/tesla/revenue.\"\n",
    "html_data=requests.get(url).text"
   ]
  },
  {
   "cell_type": "markdown",
   "id": "3bb9d263",
   "metadata": {
    "papermill": {
     "duration": 0.020956,
     "end_time": "2022-09-15T05:39:29.046785",
     "exception": false,
     "start_time": "2022-09-15T05:39:29.025829",
     "status": "completed"
    },
    "tags": []
   },
   "source": [
    "Parse the html data using `beautiful_soup`.\n"
   ]
  },
  {
   "cell_type": "code",
   "execution_count": 8,
   "id": "512766a5",
   "metadata": {
    "execution": {
     "iopub.execute_input": "2022-09-15T05:39:29.090916Z",
     "iopub.status.busy": "2022-09-15T05:39:29.090142Z",
     "iopub.status.idle": "2022-09-15T05:39:29.201489Z",
     "shell.execute_reply": "2022-09-15T05:39:29.200216Z"
    },
    "papermill": {
     "duration": 0.136813,
     "end_time": "2022-09-15T05:39:29.204431",
     "exception": false,
     "start_time": "2022-09-15T05:39:29.067618",
     "status": "completed"
    },
    "tags": []
   },
   "outputs": [],
   "source": [
    "beautiful_soup = BeautifulSoup(html_data,\"html5lib\")"
   ]
  },
  {
   "cell_type": "markdown",
   "id": "a5ee1ab8",
   "metadata": {
    "papermill": {
     "duration": 0.021431,
     "end_time": "2022-09-15T05:39:29.247028",
     "exception": false,
     "start_time": "2022-09-15T05:39:29.225597",
     "status": "completed"
    },
    "tags": []
   },
   "source": [
    "Using `BeautifulSoup` or the `read_html` function extract the table with `Tesla Quarterly Revenue` and store it into a dataframe named `tesla_revenue`. The dataframe should have columns `Date` and `Revenue`.\n"
   ]
  },
  {
   "cell_type": "markdown",
   "id": "e5ff1496",
   "metadata": {
    "papermill": {
     "duration": 0.020674,
     "end_time": "2022-09-15T05:39:29.289148",
     "exception": false,
     "start_time": "2022-09-15T05:39:29.268474",
     "status": "completed"
    },
    "tags": []
   },
   "source": [
    "<details><summary>Click here if you need help locating the table</summary>\n",
    "\n",
    "```\n",
    "    \n",
    "Below is the code to isolate the table, you will now need to loop through the rows and columns like in the previous lab\n",
    "    \n",
    "soup.find_all(\"tbody\")[1]\n",
    "    \n",
    "If you want to use the read_html function the table is located at index 1\n",
    "\n",
    "\n",
    "```\n",
    "\n",
    "</details>\n"
   ]
  },
  {
   "cell_type": "code",
   "execution_count": 9,
   "id": "96586024",
   "metadata": {
    "execution": {
     "iopub.execute_input": "2022-09-15T05:39:29.335271Z",
     "iopub.status.busy": "2022-09-15T05:39:29.334488Z",
     "iopub.status.idle": "2022-09-15T05:39:29.339637Z",
     "shell.execute_reply": "2022-09-15T05:39:29.338816Z"
    },
    "papermill": {
     "duration": 0.031813,
     "end_time": "2022-09-15T05:39:29.341890",
     "exception": false,
     "start_time": "2022-09-15T05:39:29.310077",
     "status": "completed"
    },
    "tags": []
   },
   "outputs": [],
   "source": [
    "#beautiful_soup.find_all(\"tbody\")\n"
   ]
  },
  {
   "cell_type": "code",
   "execution_count": 10,
   "id": "48a78317",
   "metadata": {
    "execution": {
     "iopub.execute_input": "2022-09-15T05:39:29.386239Z",
     "iopub.status.busy": "2022-09-15T05:39:29.385447Z",
     "iopub.status.idle": "2022-09-15T05:39:31.614618Z",
     "shell.execute_reply": "2022-09-15T05:39:31.613016Z"
    },
    "papermill": {
     "duration": 2.25687,
     "end_time": "2022-09-15T05:39:31.619609",
     "exception": false,
     "start_time": "2022-09-15T05:39:29.362739",
     "status": "completed"
    },
    "tags": []
   },
   "outputs": [
    {
     "name": "stderr",
     "output_type": "stream",
     "text": [
      "/opt/conda/lib/python3.7/site-packages/ipykernel_launcher.py:3: FutureWarning: The default value of regex will change from True to False in a future version. In addition, single character regular expressions will *not* be treated as literal strings when regex=True.\n",
      "  This is separate from the ipykernel package so we can avoid doing imports until\n"
     ]
    },
    {
     "data": {
      "text/html": [
       "<div>\n",
       "<style scoped>\n",
       "    .dataframe tbody tr th:only-of-type {\n",
       "        vertical-align: middle;\n",
       "    }\n",
       "\n",
       "    .dataframe tbody tr th {\n",
       "        vertical-align: top;\n",
       "    }\n",
       "\n",
       "    .dataframe thead th {\n",
       "        text-align: right;\n",
       "    }\n",
       "</style>\n",
       "<table border=\"1\" class=\"dataframe\">\n",
       "  <thead>\n",
       "    <tr style=\"text-align: right;\">\n",
       "      <th></th>\n",
       "      <th>Date</th>\n",
       "      <th>Revenue</th>\n",
       "    </tr>\n",
       "  </thead>\n",
       "  <tbody>\n",
       "    <tr>\n",
       "      <th>48</th>\n",
       "      <td>2010-06-30</td>\n",
       "      <td>28</td>\n",
       "    </tr>\n",
       "    <tr>\n",
       "      <th>49</th>\n",
       "      <td>2010-03-31</td>\n",
       "      <td>21</td>\n",
       "    </tr>\n",
       "    <tr>\n",
       "      <th>50</th>\n",
       "      <td>2009-12-31</td>\n",
       "      <td>NaN</td>\n",
       "    </tr>\n",
       "    <tr>\n",
       "      <th>51</th>\n",
       "      <td>2009-09-30</td>\n",
       "      <td>46</td>\n",
       "    </tr>\n",
       "    <tr>\n",
       "      <th>52</th>\n",
       "      <td>2009-06-30</td>\n",
       "      <td>27</td>\n",
       "    </tr>\n",
       "  </tbody>\n",
       "</table>\n",
       "</div>"
      ],
      "text/plain": [
       "          Date Revenue\n",
       "48  2010-06-30      28\n",
       "49  2010-03-31      21\n",
       "50  2009-12-31     NaN\n",
       "51  2009-09-30      46\n",
       "52  2009-06-30      27"
      ]
     },
     "execution_count": 10,
     "metadata": {},
     "output_type": "execute_result"
    }
   ],
   "source": [
    "tesla_revenue= pd.read_html(url, match=\"Tesla Quarterly Revenue\", flavor='bs4')[0]\n",
    "tesla_revenue=tesla_revenue.rename(columns = {'Tesla Quarterly Revenue(Millions of US $)': 'Date', 'Tesla Quarterly Revenue(Millions of US $).1': 'Revenue'}, inplace = False)\n",
    "tesla_revenue[\"Revenue\"] = tesla_revenue[\"Revenue\"].str.replace(\",\",\"\").str.replace(\"$\",\"\")\n",
    "tesla_revenue.head()\n",
    "tesla_revenue.tail()"
   ]
  },
  {
   "cell_type": "code",
   "execution_count": 11,
   "id": "64b997c3",
   "metadata": {
    "execution": {
     "iopub.execute_input": "2022-09-15T05:39:31.684779Z",
     "iopub.status.busy": "2022-09-15T05:39:31.684374Z",
     "iopub.status.idle": "2022-09-15T05:39:34.249810Z",
     "shell.execute_reply": "2022-09-15T05:39:34.248499Z"
    },
    "papermill": {
     "duration": 2.599085,
     "end_time": "2022-09-15T05:39:34.257693",
     "exception": false,
     "start_time": "2022-09-15T05:39:31.658608",
     "status": "completed"
    },
    "tags": []
   },
   "outputs": [],
   "source": [
    "tesla_revenue= pd.read_html(url, match=\"Tesla Quarterly Revenue\", flavor='bs4')[0]\n",
    "tesla_revenue=tesla_revenue.rename(columns = {'Tesla Quarterly Revenue(Millions of US $)': 'Date', 'Tesla Quarterly Revenue(Millions of US $).1': 'Revenue'}, inplace = False)\n"
   ]
  },
  {
   "cell_type": "markdown",
   "id": "a41cdfc7",
   "metadata": {
    "papermill": {
     "duration": 0.029544,
     "end_time": "2022-09-15T05:39:34.324688",
     "exception": false,
     "start_time": "2022-09-15T05:39:34.295144",
     "status": "completed"
    },
    "tags": []
   },
   "source": [
    "Execute the following line to remove the comma and dollar sign from the `Revenue` column.\n"
   ]
  },
  {
   "cell_type": "code",
   "execution_count": 12,
   "id": "2659880f",
   "metadata": {
    "execution": {
     "iopub.execute_input": "2022-09-15T05:39:34.389624Z",
     "iopub.status.busy": "2022-09-15T05:39:34.388356Z",
     "iopub.status.idle": "2022-09-15T05:39:34.410800Z",
     "shell.execute_reply": "2022-09-15T05:39:34.408603Z"
    },
    "papermill": {
     "duration": 0.058336,
     "end_time": "2022-09-15T05:39:34.414137",
     "exception": false,
     "start_time": "2022-09-15T05:39:34.355801",
     "status": "completed"
    },
    "tags": []
   },
   "outputs": [
    {
     "name": "stderr",
     "output_type": "stream",
     "text": [
      "/opt/conda/lib/python3.7/site-packages/ipykernel_launcher.py:1: FutureWarning: The default value of regex will change from True to False in a future version. In addition, single character regular expressions will *not* be treated as literal strings when regex=True.\n",
      "  \"\"\"Entry point for launching an IPython kernel.\n"
     ]
    },
    {
     "data": {
      "text/html": [
       "<div>\n",
       "<style scoped>\n",
       "    .dataframe tbody tr th:only-of-type {\n",
       "        vertical-align: middle;\n",
       "    }\n",
       "\n",
       "    .dataframe tbody tr th {\n",
       "        vertical-align: top;\n",
       "    }\n",
       "\n",
       "    .dataframe thead th {\n",
       "        text-align: right;\n",
       "    }\n",
       "</style>\n",
       "<table border=\"1\" class=\"dataframe\">\n",
       "  <thead>\n",
       "    <tr style=\"text-align: right;\">\n",
       "      <th></th>\n",
       "      <th>Date</th>\n",
       "      <th>Revenue</th>\n",
       "    </tr>\n",
       "  </thead>\n",
       "  <tbody>\n",
       "    <tr>\n",
       "      <th>48</th>\n",
       "      <td>2010-06-30</td>\n",
       "      <td>28</td>\n",
       "    </tr>\n",
       "    <tr>\n",
       "      <th>49</th>\n",
       "      <td>2010-03-31</td>\n",
       "      <td>21</td>\n",
       "    </tr>\n",
       "    <tr>\n",
       "      <th>50</th>\n",
       "      <td>2009-12-31</td>\n",
       "      <td>NaN</td>\n",
       "    </tr>\n",
       "    <tr>\n",
       "      <th>51</th>\n",
       "      <td>2009-09-30</td>\n",
       "      <td>46</td>\n",
       "    </tr>\n",
       "    <tr>\n",
       "      <th>52</th>\n",
       "      <td>2009-06-30</td>\n",
       "      <td>27</td>\n",
       "    </tr>\n",
       "  </tbody>\n",
       "</table>\n",
       "</div>"
      ],
      "text/plain": [
       "          Date Revenue\n",
       "48  2010-06-30      28\n",
       "49  2010-03-31      21\n",
       "50  2009-12-31     NaN\n",
       "51  2009-09-30      46\n",
       "52  2009-06-30      27"
      ]
     },
     "execution_count": 12,
     "metadata": {},
     "output_type": "execute_result"
    }
   ],
   "source": [
    "tesla_revenue[\"Revenue\"] = tesla_revenue[\"Revenue\"].str.replace(\",\",\"\").str.replace(\"$\",\"\")\n",
    "tesla_revenue.fillna(0)\n",
    "tesla_revenue.tail()"
   ]
  },
  {
   "cell_type": "code",
   "execution_count": 13,
   "id": "b3c4b8cf",
   "metadata": {
    "execution": {
     "iopub.execute_input": "2022-09-15T05:39:34.479282Z",
     "iopub.status.busy": "2022-09-15T05:39:34.477994Z",
     "iopub.status.idle": "2022-09-15T05:39:34.495761Z",
     "shell.execute_reply": "2022-09-15T05:39:34.494616Z"
    },
    "papermill": {
     "duration": 0.053882,
     "end_time": "2022-09-15T05:39:34.498708",
     "exception": false,
     "start_time": "2022-09-15T05:39:34.444826",
     "status": "completed"
    },
    "tags": []
   },
   "outputs": [
    {
     "data": {
      "text/html": [
       "<div>\n",
       "<style scoped>\n",
       "    .dataframe tbody tr th:only-of-type {\n",
       "        vertical-align: middle;\n",
       "    }\n",
       "\n",
       "    .dataframe tbody tr th {\n",
       "        vertical-align: top;\n",
       "    }\n",
       "\n",
       "    .dataframe thead th {\n",
       "        text-align: right;\n",
       "    }\n",
       "</style>\n",
       "<table border=\"1\" class=\"dataframe\">\n",
       "  <thead>\n",
       "    <tr style=\"text-align: right;\">\n",
       "      <th></th>\n",
       "      <th>Date</th>\n",
       "      <th>Revenue</th>\n",
       "    </tr>\n",
       "  </thead>\n",
       "  <tbody>\n",
       "    <tr>\n",
       "      <th>0</th>\n",
       "      <td>2022-06-30</td>\n",
       "      <td>16934</td>\n",
       "    </tr>\n",
       "    <tr>\n",
       "      <th>1</th>\n",
       "      <td>2022-03-31</td>\n",
       "      <td>18756</td>\n",
       "    </tr>\n",
       "    <tr>\n",
       "      <th>2</th>\n",
       "      <td>2021-12-31</td>\n",
       "      <td>17719</td>\n",
       "    </tr>\n",
       "    <tr>\n",
       "      <th>3</th>\n",
       "      <td>2021-09-30</td>\n",
       "      <td>13757</td>\n",
       "    </tr>\n",
       "    <tr>\n",
       "      <th>4</th>\n",
       "      <td>2021-06-30</td>\n",
       "      <td>11958</td>\n",
       "    </tr>\n",
       "    <tr>\n",
       "      <th>5</th>\n",
       "      <td>2021-03-31</td>\n",
       "      <td>10389</td>\n",
       "    </tr>\n",
       "    <tr>\n",
       "      <th>6</th>\n",
       "      <td>2020-12-31</td>\n",
       "      <td>10744</td>\n",
       "    </tr>\n",
       "    <tr>\n",
       "      <th>7</th>\n",
       "      <td>2020-09-30</td>\n",
       "      <td>8771</td>\n",
       "    </tr>\n",
       "    <tr>\n",
       "      <th>8</th>\n",
       "      <td>2020-06-30</td>\n",
       "      <td>6036</td>\n",
       "    </tr>\n",
       "    <tr>\n",
       "      <th>9</th>\n",
       "      <td>2020-03-31</td>\n",
       "      <td>5985</td>\n",
       "    </tr>\n",
       "    <tr>\n",
       "      <th>10</th>\n",
       "      <td>2019-12-31</td>\n",
       "      <td>7384</td>\n",
       "    </tr>\n",
       "    <tr>\n",
       "      <th>11</th>\n",
       "      <td>2019-09-30</td>\n",
       "      <td>6303</td>\n",
       "    </tr>\n",
       "    <tr>\n",
       "      <th>12</th>\n",
       "      <td>2019-06-30</td>\n",
       "      <td>6350</td>\n",
       "    </tr>\n",
       "    <tr>\n",
       "      <th>13</th>\n",
       "      <td>2019-03-31</td>\n",
       "      <td>4541</td>\n",
       "    </tr>\n",
       "    <tr>\n",
       "      <th>14</th>\n",
       "      <td>2018-12-31</td>\n",
       "      <td>7226</td>\n",
       "    </tr>\n",
       "    <tr>\n",
       "      <th>15</th>\n",
       "      <td>2018-09-30</td>\n",
       "      <td>6824</td>\n",
       "    </tr>\n",
       "    <tr>\n",
       "      <th>16</th>\n",
       "      <td>2018-06-30</td>\n",
       "      <td>4002</td>\n",
       "    </tr>\n",
       "    <tr>\n",
       "      <th>17</th>\n",
       "      <td>2018-03-31</td>\n",
       "      <td>3409</td>\n",
       "    </tr>\n",
       "    <tr>\n",
       "      <th>18</th>\n",
       "      <td>2017-12-31</td>\n",
       "      <td>3288</td>\n",
       "    </tr>\n",
       "    <tr>\n",
       "      <th>19</th>\n",
       "      <td>2017-09-30</td>\n",
       "      <td>2985</td>\n",
       "    </tr>\n",
       "    <tr>\n",
       "      <th>20</th>\n",
       "      <td>2017-06-30</td>\n",
       "      <td>2790</td>\n",
       "    </tr>\n",
       "    <tr>\n",
       "      <th>21</th>\n",
       "      <td>2017-03-31</td>\n",
       "      <td>2696</td>\n",
       "    </tr>\n",
       "    <tr>\n",
       "      <th>22</th>\n",
       "      <td>2016-12-31</td>\n",
       "      <td>2285</td>\n",
       "    </tr>\n",
       "    <tr>\n",
       "      <th>23</th>\n",
       "      <td>2016-09-30</td>\n",
       "      <td>2298</td>\n",
       "    </tr>\n",
       "    <tr>\n",
       "      <th>24</th>\n",
       "      <td>2016-06-30</td>\n",
       "      <td>1270</td>\n",
       "    </tr>\n",
       "    <tr>\n",
       "      <th>25</th>\n",
       "      <td>2016-03-31</td>\n",
       "      <td>1147</td>\n",
       "    </tr>\n",
       "    <tr>\n",
       "      <th>26</th>\n",
       "      <td>2015-12-31</td>\n",
       "      <td>1214</td>\n",
       "    </tr>\n",
       "    <tr>\n",
       "      <th>27</th>\n",
       "      <td>2015-09-30</td>\n",
       "      <td>937</td>\n",
       "    </tr>\n",
       "    <tr>\n",
       "      <th>28</th>\n",
       "      <td>2015-06-30</td>\n",
       "      <td>955</td>\n",
       "    </tr>\n",
       "    <tr>\n",
       "      <th>29</th>\n",
       "      <td>2015-03-31</td>\n",
       "      <td>940</td>\n",
       "    </tr>\n",
       "    <tr>\n",
       "      <th>30</th>\n",
       "      <td>2014-12-31</td>\n",
       "      <td>957</td>\n",
       "    </tr>\n",
       "    <tr>\n",
       "      <th>31</th>\n",
       "      <td>2014-09-30</td>\n",
       "      <td>852</td>\n",
       "    </tr>\n",
       "    <tr>\n",
       "      <th>32</th>\n",
       "      <td>2014-06-30</td>\n",
       "      <td>769</td>\n",
       "    </tr>\n",
       "    <tr>\n",
       "      <th>33</th>\n",
       "      <td>2014-03-31</td>\n",
       "      <td>621</td>\n",
       "    </tr>\n",
       "    <tr>\n",
       "      <th>34</th>\n",
       "      <td>2013-12-31</td>\n",
       "      <td>615</td>\n",
       "    </tr>\n",
       "    <tr>\n",
       "      <th>35</th>\n",
       "      <td>2013-09-30</td>\n",
       "      <td>431</td>\n",
       "    </tr>\n",
       "    <tr>\n",
       "      <th>36</th>\n",
       "      <td>2013-06-30</td>\n",
       "      <td>405</td>\n",
       "    </tr>\n",
       "    <tr>\n",
       "      <th>37</th>\n",
       "      <td>2013-03-31</td>\n",
       "      <td>562</td>\n",
       "    </tr>\n",
       "    <tr>\n",
       "      <th>38</th>\n",
       "      <td>2012-12-31</td>\n",
       "      <td>306</td>\n",
       "    </tr>\n",
       "    <tr>\n",
       "      <th>39</th>\n",
       "      <td>2012-09-30</td>\n",
       "      <td>50</td>\n",
       "    </tr>\n",
       "    <tr>\n",
       "      <th>40</th>\n",
       "      <td>2012-06-30</td>\n",
       "      <td>27</td>\n",
       "    </tr>\n",
       "    <tr>\n",
       "      <th>41</th>\n",
       "      <td>2012-03-31</td>\n",
       "      <td>30</td>\n",
       "    </tr>\n",
       "    <tr>\n",
       "      <th>42</th>\n",
       "      <td>2011-12-31</td>\n",
       "      <td>39</td>\n",
       "    </tr>\n",
       "    <tr>\n",
       "      <th>43</th>\n",
       "      <td>2011-09-30</td>\n",
       "      <td>58</td>\n",
       "    </tr>\n",
       "    <tr>\n",
       "      <th>44</th>\n",
       "      <td>2011-06-30</td>\n",
       "      <td>58</td>\n",
       "    </tr>\n",
       "    <tr>\n",
       "      <th>45</th>\n",
       "      <td>2011-03-31</td>\n",
       "      <td>49</td>\n",
       "    </tr>\n",
       "    <tr>\n",
       "      <th>46</th>\n",
       "      <td>2010-12-31</td>\n",
       "      <td>36</td>\n",
       "    </tr>\n",
       "    <tr>\n",
       "      <th>47</th>\n",
       "      <td>2010-09-30</td>\n",
       "      <td>31</td>\n",
       "    </tr>\n",
       "    <tr>\n",
       "      <th>48</th>\n",
       "      <td>2010-06-30</td>\n",
       "      <td>28</td>\n",
       "    </tr>\n",
       "    <tr>\n",
       "      <th>49</th>\n",
       "      <td>2010-03-31</td>\n",
       "      <td>21</td>\n",
       "    </tr>\n",
       "    <tr>\n",
       "      <th>50</th>\n",
       "      <td>2009-12-31</td>\n",
       "      <td>NaN</td>\n",
       "    </tr>\n",
       "    <tr>\n",
       "      <th>51</th>\n",
       "      <td>2009-09-30</td>\n",
       "      <td>46</td>\n",
       "    </tr>\n",
       "    <tr>\n",
       "      <th>52</th>\n",
       "      <td>2009-06-30</td>\n",
       "      <td>27</td>\n",
       "    </tr>\n",
       "  </tbody>\n",
       "</table>\n",
       "</div>"
      ],
      "text/plain": [
       "          Date Revenue\n",
       "0   2022-06-30   16934\n",
       "1   2022-03-31   18756\n",
       "2   2021-12-31   17719\n",
       "3   2021-09-30   13757\n",
       "4   2021-06-30   11958\n",
       "5   2021-03-31   10389\n",
       "6   2020-12-31   10744\n",
       "7   2020-09-30    8771\n",
       "8   2020-06-30    6036\n",
       "9   2020-03-31    5985\n",
       "10  2019-12-31    7384\n",
       "11  2019-09-30    6303\n",
       "12  2019-06-30    6350\n",
       "13  2019-03-31    4541\n",
       "14  2018-12-31    7226\n",
       "15  2018-09-30    6824\n",
       "16  2018-06-30    4002\n",
       "17  2018-03-31    3409\n",
       "18  2017-12-31    3288\n",
       "19  2017-09-30    2985\n",
       "20  2017-06-30    2790\n",
       "21  2017-03-31    2696\n",
       "22  2016-12-31    2285\n",
       "23  2016-09-30    2298\n",
       "24  2016-06-30    1270\n",
       "25  2016-03-31    1147\n",
       "26  2015-12-31    1214\n",
       "27  2015-09-30     937\n",
       "28  2015-06-30     955\n",
       "29  2015-03-31     940\n",
       "30  2014-12-31     957\n",
       "31  2014-09-30     852\n",
       "32  2014-06-30     769\n",
       "33  2014-03-31     621\n",
       "34  2013-12-31     615\n",
       "35  2013-09-30     431\n",
       "36  2013-06-30     405\n",
       "37  2013-03-31     562\n",
       "38  2012-12-31     306\n",
       "39  2012-09-30      50\n",
       "40  2012-06-30      27\n",
       "41  2012-03-31      30\n",
       "42  2011-12-31      39\n",
       "43  2011-09-30      58\n",
       "44  2011-06-30      58\n",
       "45  2011-03-31      49\n",
       "46  2010-12-31      36\n",
       "47  2010-09-30      31\n",
       "48  2010-06-30      28\n",
       "49  2010-03-31      21\n",
       "50  2009-12-31     NaN\n",
       "51  2009-09-30      46\n",
       "52  2009-06-30      27"
      ]
     },
     "execution_count": 13,
     "metadata": {},
     "output_type": "execute_result"
    }
   ],
   "source": [
    "tesla_revenue"
   ]
  },
  {
   "cell_type": "markdown",
   "id": "72d85c28",
   "metadata": {
    "papermill": {
     "duration": 0.031437,
     "end_time": "2022-09-15T05:39:34.562462",
     "exception": false,
     "start_time": "2022-09-15T05:39:34.531025",
     "status": "completed"
    },
    "tags": []
   },
   "source": [
    "Execute the following lines to remove an null or empty strings in the Revenue column.\n"
   ]
  },
  {
   "cell_type": "code",
   "execution_count": 14,
   "id": "5f1aa953",
   "metadata": {
    "execution": {
     "iopub.execute_input": "2022-09-15T05:39:34.628738Z",
     "iopub.status.busy": "2022-09-15T05:39:34.627789Z",
     "iopub.status.idle": "2022-09-15T05:39:34.637184Z",
     "shell.execute_reply": "2022-09-15T05:39:34.636034Z"
    },
    "papermill": {
     "duration": 0.045573,
     "end_time": "2022-09-15T05:39:34.639725",
     "exception": false,
     "start_time": "2022-09-15T05:39:34.594152",
     "status": "completed"
    },
    "tags": []
   },
   "outputs": [],
   "source": [
    "tesla_revenue.dropna(inplace=True)\n",
    "\n",
    "tesla_revenue = tesla_revenue[tesla_revenue['Revenue'] != \"\"]"
   ]
  },
  {
   "cell_type": "markdown",
   "id": "8fdb623b",
   "metadata": {
    "papermill": {
     "duration": 0.032727,
     "end_time": "2022-09-15T05:39:34.703190",
     "exception": false,
     "start_time": "2022-09-15T05:39:34.670463",
     "status": "completed"
    },
    "tags": []
   },
   "source": [
    "Display the last 5 row of the `tesla_revenue` dataframe using the `tail` function. Take a screenshot of the results.\n"
   ]
  },
  {
   "cell_type": "code",
   "execution_count": 15,
   "id": "3ab4aaf8",
   "metadata": {
    "execution": {
     "iopub.execute_input": "2022-09-15T05:39:34.770050Z",
     "iopub.status.busy": "2022-09-15T05:39:34.768701Z",
     "iopub.status.idle": "2022-09-15T05:39:34.782603Z",
     "shell.execute_reply": "2022-09-15T05:39:34.781380Z"
    },
    "papermill": {
     "duration": 0.050259,
     "end_time": "2022-09-15T05:39:34.785603",
     "exception": false,
     "start_time": "2022-09-15T05:39:34.735344",
     "status": "completed"
    },
    "tags": []
   },
   "outputs": [
    {
     "data": {
      "text/html": [
       "<div>\n",
       "<style scoped>\n",
       "    .dataframe tbody tr th:only-of-type {\n",
       "        vertical-align: middle;\n",
       "    }\n",
       "\n",
       "    .dataframe tbody tr th {\n",
       "        vertical-align: top;\n",
       "    }\n",
       "\n",
       "    .dataframe thead th {\n",
       "        text-align: right;\n",
       "    }\n",
       "</style>\n",
       "<table border=\"1\" class=\"dataframe\">\n",
       "  <thead>\n",
       "    <tr style=\"text-align: right;\">\n",
       "      <th></th>\n",
       "      <th>Date</th>\n",
       "      <th>Revenue</th>\n",
       "    </tr>\n",
       "  </thead>\n",
       "  <tbody>\n",
       "    <tr>\n",
       "      <th>47</th>\n",
       "      <td>2010-09-30</td>\n",
       "      <td>31</td>\n",
       "    </tr>\n",
       "    <tr>\n",
       "      <th>48</th>\n",
       "      <td>2010-06-30</td>\n",
       "      <td>28</td>\n",
       "    </tr>\n",
       "    <tr>\n",
       "      <th>49</th>\n",
       "      <td>2010-03-31</td>\n",
       "      <td>21</td>\n",
       "    </tr>\n",
       "    <tr>\n",
       "      <th>51</th>\n",
       "      <td>2009-09-30</td>\n",
       "      <td>46</td>\n",
       "    </tr>\n",
       "    <tr>\n",
       "      <th>52</th>\n",
       "      <td>2009-06-30</td>\n",
       "      <td>27</td>\n",
       "    </tr>\n",
       "  </tbody>\n",
       "</table>\n",
       "</div>"
      ],
      "text/plain": [
       "          Date Revenue\n",
       "47  2010-09-30      31\n",
       "48  2010-06-30      28\n",
       "49  2010-03-31      21\n",
       "51  2009-09-30      46\n",
       "52  2009-06-30      27"
      ]
     },
     "execution_count": 15,
     "metadata": {},
     "output_type": "execute_result"
    }
   ],
   "source": [
    "tesla_revenue.tail(5)"
   ]
  },
  {
   "cell_type": "markdown",
   "id": "7962661d",
   "metadata": {
    "papermill": {
     "duration": 0.03183,
     "end_time": "2022-09-15T05:39:34.849853",
     "exception": false,
     "start_time": "2022-09-15T05:39:34.818023",
     "status": "completed"
    },
    "tags": []
   },
   "source": [
    "## Question 3: Use yfinance to Extract Stock Data\n"
   ]
  },
  {
   "cell_type": "markdown",
   "id": "3d5bc60f",
   "metadata": {
    "papermill": {
     "duration": 0.031771,
     "end_time": "2022-09-15T05:39:34.914336",
     "exception": false,
     "start_time": "2022-09-15T05:39:34.882565",
     "status": "completed"
    },
    "tags": []
   },
   "source": [
    "Using the `Ticker` function enter the ticker symbol of the stock we want to extract data on to create a ticker object. The stock is GameStop and its ticker symbol is `GME`.\n"
   ]
  },
  {
   "cell_type": "code",
   "execution_count": 16,
   "id": "e813fc46",
   "metadata": {
    "execution": {
     "iopub.execute_input": "2022-09-15T05:39:34.980713Z",
     "iopub.status.busy": "2022-09-15T05:39:34.979884Z",
     "iopub.status.idle": "2022-09-15T05:39:34.990486Z",
     "shell.execute_reply": "2022-09-15T05:39:34.989068Z"
    },
    "papermill": {
     "duration": 0.047189,
     "end_time": "2022-09-15T05:39:34.993984",
     "exception": false,
     "start_time": "2022-09-15T05:39:34.946795",
     "status": "completed"
    },
    "tags": []
   },
   "outputs": [],
   "source": [
    "gme = yf.Ticker(\"GME\")"
   ]
  },
  {
   "cell_type": "markdown",
   "id": "ff3c7292",
   "metadata": {
    "papermill": {
     "duration": 0.031879,
     "end_time": "2022-09-15T05:39:35.057919",
     "exception": false,
     "start_time": "2022-09-15T05:39:35.026040",
     "status": "completed"
    },
    "tags": []
   },
   "source": [
    "Using the ticker object and the function `history` extract stock information and save it in a dataframe named `gme_data`. Set the `period` parameter to `max` so we get information for the maximum amount of time.\n"
   ]
  },
  {
   "cell_type": "code",
   "execution_count": 17,
   "id": "45c47441",
   "metadata": {
    "execution": {
     "iopub.execute_input": "2022-09-15T05:39:35.127351Z",
     "iopub.status.busy": "2022-09-15T05:39:35.125564Z",
     "iopub.status.idle": "2022-09-15T05:39:36.574248Z",
     "shell.execute_reply": "2022-09-15T05:39:36.573175Z"
    },
    "papermill": {
     "duration": 1.487196,
     "end_time": "2022-09-15T05:39:36.577005",
     "exception": false,
     "start_time": "2022-09-15T05:39:35.089809",
     "status": "completed"
    },
    "tags": []
   },
   "outputs": [],
   "source": [
    "gme_data = gme.history(period=\"max\")"
   ]
  },
  {
   "cell_type": "markdown",
   "id": "bcd9c0f9",
   "metadata": {
    "papermill": {
     "duration": 0.02225,
     "end_time": "2022-09-15T05:39:36.622200",
     "exception": false,
     "start_time": "2022-09-15T05:39:36.599950",
     "status": "completed"
    },
    "tags": []
   },
   "source": [
    "**Reset the index** using the `reset_index(inplace=True)` function on the gme_data DataFrame and display the first five rows of the `gme_data` dataframe using the `head` function. Take a screenshot of the results and code from the beginning of Question 3 to the results below.\n"
   ]
  },
  {
   "cell_type": "code",
   "execution_count": 18,
   "id": "fd082870",
   "metadata": {
    "execution": {
     "iopub.execute_input": "2022-09-15T05:39:36.673600Z",
     "iopub.status.busy": "2022-09-15T05:39:36.673160Z",
     "iopub.status.idle": "2022-09-15T05:39:36.692310Z",
     "shell.execute_reply": "2022-09-15T05:39:36.691176Z"
    },
    "papermill": {
     "duration": 0.045888,
     "end_time": "2022-09-15T05:39:36.694592",
     "exception": false,
     "start_time": "2022-09-15T05:39:36.648704",
     "status": "completed"
    },
    "tags": []
   },
   "outputs": [
    {
     "data": {
      "text/html": [
       "<div>\n",
       "<style scoped>\n",
       "    .dataframe tbody tr th:only-of-type {\n",
       "        vertical-align: middle;\n",
       "    }\n",
       "\n",
       "    .dataframe tbody tr th {\n",
       "        vertical-align: top;\n",
       "    }\n",
       "\n",
       "    .dataframe thead th {\n",
       "        text-align: right;\n",
       "    }\n",
       "</style>\n",
       "<table border=\"1\" class=\"dataframe\">\n",
       "  <thead>\n",
       "    <tr style=\"text-align: right;\">\n",
       "      <th></th>\n",
       "      <th>Date</th>\n",
       "      <th>Open</th>\n",
       "      <th>High</th>\n",
       "      <th>Low</th>\n",
       "      <th>Close</th>\n",
       "      <th>Volume</th>\n",
       "      <th>Dividends</th>\n",
       "      <th>Stock Splits</th>\n",
       "    </tr>\n",
       "  </thead>\n",
       "  <tbody>\n",
       "    <tr>\n",
       "      <th>0</th>\n",
       "      <td>2002-02-13</td>\n",
       "      <td>1.620129</td>\n",
       "      <td>1.693350</td>\n",
       "      <td>1.603296</td>\n",
       "      <td>1.691667</td>\n",
       "      <td>76216000</td>\n",
       "      <td>0.0</td>\n",
       "      <td>0.0</td>\n",
       "    </tr>\n",
       "    <tr>\n",
       "      <th>1</th>\n",
       "      <td>2002-02-14</td>\n",
       "      <td>1.712707</td>\n",
       "      <td>1.716074</td>\n",
       "      <td>1.670626</td>\n",
       "      <td>1.683250</td>\n",
       "      <td>11021600</td>\n",
       "      <td>0.0</td>\n",
       "      <td>0.0</td>\n",
       "    </tr>\n",
       "    <tr>\n",
       "      <th>2</th>\n",
       "      <td>2002-02-15</td>\n",
       "      <td>1.683250</td>\n",
       "      <td>1.687458</td>\n",
       "      <td>1.658002</td>\n",
       "      <td>1.674834</td>\n",
       "      <td>8389600</td>\n",
       "      <td>0.0</td>\n",
       "      <td>0.0</td>\n",
       "    </tr>\n",
       "    <tr>\n",
       "      <th>3</th>\n",
       "      <td>2002-02-19</td>\n",
       "      <td>1.666418</td>\n",
       "      <td>1.666418</td>\n",
       "      <td>1.578047</td>\n",
       "      <td>1.607504</td>\n",
       "      <td>7410400</td>\n",
       "      <td>0.0</td>\n",
       "      <td>0.0</td>\n",
       "    </tr>\n",
       "    <tr>\n",
       "      <th>4</th>\n",
       "      <td>2002-02-20</td>\n",
       "      <td>1.615920</td>\n",
       "      <td>1.662210</td>\n",
       "      <td>1.603296</td>\n",
       "      <td>1.662210</td>\n",
       "      <td>6892800</td>\n",
       "      <td>0.0</td>\n",
       "      <td>0.0</td>\n",
       "    </tr>\n",
       "  </tbody>\n",
       "</table>\n",
       "</div>"
      ],
      "text/plain": [
       "        Date      Open      High       Low     Close    Volume  Dividends  \\\n",
       "0 2002-02-13  1.620129  1.693350  1.603296  1.691667  76216000        0.0   \n",
       "1 2002-02-14  1.712707  1.716074  1.670626  1.683250  11021600        0.0   \n",
       "2 2002-02-15  1.683250  1.687458  1.658002  1.674834   8389600        0.0   \n",
       "3 2002-02-19  1.666418  1.666418  1.578047  1.607504   7410400        0.0   \n",
       "4 2002-02-20  1.615920  1.662210  1.603296  1.662210   6892800        0.0   \n",
       "\n",
       "   Stock Splits  \n",
       "0           0.0  \n",
       "1           0.0  \n",
       "2           0.0  \n",
       "3           0.0  \n",
       "4           0.0  "
      ]
     },
     "execution_count": 18,
     "metadata": {},
     "output_type": "execute_result"
    }
   ],
   "source": [
    "gme_data.reset_index(inplace=True)\n",
    "gme_data.head(5)"
   ]
  },
  {
   "cell_type": "markdown",
   "id": "02ca7145",
   "metadata": {
    "papermill": {
     "duration": 0.02264,
     "end_time": "2022-09-15T05:39:36.741895",
     "exception": false,
     "start_time": "2022-09-15T05:39:36.719255",
     "status": "completed"
    },
    "tags": []
   },
   "source": [
    "## Question 4: Use Webscraping to Extract GME Revenue Data\n"
   ]
  },
  {
   "cell_type": "markdown",
   "id": "80429698",
   "metadata": {
    "papermill": {
     "duration": 0.022845,
     "end_time": "2022-09-15T05:39:36.787688",
     "exception": false,
     "start_time": "2022-09-15T05:39:36.764843",
     "status": "completed"
    },
    "tags": []
   },
   "source": [
    "Use the `requests` library to download the webpage <https://cf-courses-data.s3.us.cloud-object-storage.appdomain.cloud/IBMDeveloperSkillsNetwork-PY0220EN-SkillsNetwork/labs/project/stock.html>. Save the text of the response as a variable named `html_data`.\n"
   ]
  },
  {
   "cell_type": "code",
   "execution_count": 19,
   "id": "8c453a67",
   "metadata": {
    "execution": {
     "iopub.execute_input": "2022-09-15T05:39:36.835708Z",
     "iopub.status.busy": "2022-09-15T05:39:36.834959Z",
     "iopub.status.idle": "2022-09-15T05:39:38.555519Z",
     "shell.execute_reply": "2022-09-15T05:39:38.554220Z"
    },
    "papermill": {
     "duration": 1.747486,
     "end_time": "2022-09-15T05:39:38.558143",
     "exception": false,
     "start_time": "2022-09-15T05:39:36.810657",
     "status": "completed"
    },
    "tags": []
   },
   "outputs": [],
   "source": [
    "url = \"https://cf-courses-data.s3.us.cloud-object-storage.appdomain.cloud/IBMDeveloperSkillsNetwork-PY0220EN-SkillsNetwork/labs/project/stock.html\"\n",
    "\n",
    "html_data  = requests.get(url).text"
   ]
  },
  {
   "cell_type": "markdown",
   "id": "aaad5959",
   "metadata": {
    "papermill": {
     "duration": 0.022715,
     "end_time": "2022-09-15T05:39:38.604115",
     "exception": false,
     "start_time": "2022-09-15T05:39:38.581400",
     "status": "completed"
    },
    "tags": []
   },
   "source": [
    "Parse the html data using `beautiful_soup`.\n"
   ]
  },
  {
   "cell_type": "code",
   "execution_count": 20,
   "id": "af2ca015",
   "metadata": {
    "execution": {
     "iopub.execute_input": "2022-09-15T05:39:38.651773Z",
     "iopub.status.busy": "2022-09-15T05:39:38.650874Z",
     "iopub.status.idle": "2022-09-15T05:39:38.734594Z",
     "shell.execute_reply": "2022-09-15T05:39:38.733370Z"
    },
    "papermill": {
     "duration": 0.110566,
     "end_time": "2022-09-15T05:39:38.737379",
     "exception": false,
     "start_time": "2022-09-15T05:39:38.626813",
     "status": "completed"
    },
    "tags": []
   },
   "outputs": [],
   "source": [
    "beautiful_soup = BeautifulSoup(html_data, 'html5lib')\n",
    "#beautiful_soup.head()"
   ]
  },
  {
   "cell_type": "markdown",
   "id": "ab5f1ce2",
   "metadata": {
    "papermill": {
     "duration": 0.023271,
     "end_time": "2022-09-15T05:39:38.784192",
     "exception": false,
     "start_time": "2022-09-15T05:39:38.760921",
     "status": "completed"
    },
    "tags": []
   },
   "source": [
    "Using `BeautifulSoup` or the `read_html` function extract the table with `GameStop Quarterly Revenue` and store it into a dataframe named `gme_revenue`. The dataframe should have columns `Date` and `Revenue`. Make sure the comma and dollar sign is removed from the `Revenue` column using a method similar to what you did in Question 2.\n"
   ]
  },
  {
   "cell_type": "markdown",
   "id": "7fa548f4",
   "metadata": {
    "papermill": {
     "duration": 0.022524,
     "end_time": "2022-09-15T05:39:38.829591",
     "exception": false,
     "start_time": "2022-09-15T05:39:38.807067",
     "status": "completed"
    },
    "tags": []
   },
   "source": [
    "<details><summary>Click here if you need help locating the table</summary>\n",
    "\n",
    "```\n",
    "    \n",
    "Below is the code to isolate the table, you will now need to loop through the rows and columns like in the previous lab\n",
    "    \n",
    "soup.find_all(\"tbody\")[1]\n",
    "    \n",
    "If you want to use the read_html function the table is located at index 1\n",
    "\n",
    "\n",
    "```\n",
    "\n",
    "</details>\n"
   ]
  },
  {
   "cell_type": "code",
   "execution_count": 21,
   "id": "feeb9c56",
   "metadata": {
    "execution": {
     "iopub.execute_input": "2022-09-15T05:39:38.877521Z",
     "iopub.status.busy": "2022-09-15T05:39:38.877099Z",
     "iopub.status.idle": "2022-09-15T05:39:41.126236Z",
     "shell.execute_reply": "2022-09-15T05:39:41.124771Z"
    },
    "papermill": {
     "duration": 2.276792,
     "end_time": "2022-09-15T05:39:41.129331",
     "exception": false,
     "start_time": "2022-09-15T05:39:38.852539",
     "status": "completed"
    },
    "tags": []
   },
   "outputs": [
    {
     "name": "stderr",
     "output_type": "stream",
     "text": [
      "/opt/conda/lib/python3.7/site-packages/ipykernel_launcher.py:3: FutureWarning: The default value of regex will change from True to False in a future version. In addition, single character regular expressions will *not* be treated as literal strings when regex=True.\n",
      "  This is separate from the ipykernel package so we can avoid doing imports until\n"
     ]
    }
   ],
   "source": [
    "gme_revenue= pd.read_html(url, match=\"GameStop Quarterly Revenue\", flavor='bs4')[0]\n",
    "gme_revenue=gme_revenue.rename(columns = {'GameStop Quarterly Revenue(Millions of US $)': 'Date', 'GameStop Quarterly Revenue(Millions of US $).1': 'Revenue'}, inplace = False)\n",
    "gme_revenue[\"Revenue\"] = gme_revenue[\"Revenue\"].str.replace(\",\",\"\").str.replace(\"$\",\"\")"
   ]
  },
  {
   "cell_type": "markdown",
   "id": "8aa47abc",
   "metadata": {
    "papermill": {
     "duration": 0.022941,
     "end_time": "2022-09-15T05:39:41.175697",
     "exception": false,
     "start_time": "2022-09-15T05:39:41.152756",
     "status": "completed"
    },
    "tags": []
   },
   "source": [
    "Display the last five rows of the `gme_revenue` dataframe using the `tail` function. Take a screenshot of the results.\n"
   ]
  },
  {
   "cell_type": "code",
   "execution_count": 22,
   "id": "95ff57a2",
   "metadata": {
    "execution": {
     "iopub.execute_input": "2022-09-15T05:39:41.225189Z",
     "iopub.status.busy": "2022-09-15T05:39:41.224478Z",
     "iopub.status.idle": "2022-09-15T05:39:41.238589Z",
     "shell.execute_reply": "2022-09-15T05:39:41.237032Z"
    },
    "papermill": {
     "duration": 0.042017,
     "end_time": "2022-09-15T05:39:41.241014",
     "exception": false,
     "start_time": "2022-09-15T05:39:41.198997",
     "status": "completed"
    },
    "tags": []
   },
   "outputs": [
    {
     "name": "stderr",
     "output_type": "stream",
     "text": [
      "/opt/conda/lib/python3.7/site-packages/ipykernel_launcher.py:1: FutureWarning: The default value of regex will change from True to False in a future version.\n",
      "  \"\"\"Entry point for launching an IPython kernel.\n"
     ]
    },
    {
     "data": {
      "text/html": [
       "<div>\n",
       "<style scoped>\n",
       "    .dataframe tbody tr th:only-of-type {\n",
       "        vertical-align: middle;\n",
       "    }\n",
       "\n",
       "    .dataframe tbody tr th {\n",
       "        vertical-align: top;\n",
       "    }\n",
       "\n",
       "    .dataframe thead th {\n",
       "        text-align: right;\n",
       "    }\n",
       "</style>\n",
       "<table border=\"1\" class=\"dataframe\">\n",
       "  <thead>\n",
       "    <tr style=\"text-align: right;\">\n",
       "      <th></th>\n",
       "      <th>Date</th>\n",
       "      <th>Revenue</th>\n",
       "    </tr>\n",
       "  </thead>\n",
       "  <tbody>\n",
       "    <tr>\n",
       "      <th>57</th>\n",
       "      <td>2006-01-31</td>\n",
       "      <td>1667</td>\n",
       "    </tr>\n",
       "    <tr>\n",
       "      <th>58</th>\n",
       "      <td>2005-10-31</td>\n",
       "      <td>534</td>\n",
       "    </tr>\n",
       "    <tr>\n",
       "      <th>59</th>\n",
       "      <td>2005-07-31</td>\n",
       "      <td>416</td>\n",
       "    </tr>\n",
       "    <tr>\n",
       "      <th>60</th>\n",
       "      <td>2005-04-30</td>\n",
       "      <td>475</td>\n",
       "    </tr>\n",
       "    <tr>\n",
       "      <th>61</th>\n",
       "      <td>2005-01-31</td>\n",
       "      <td>709</td>\n",
       "    </tr>\n",
       "  </tbody>\n",
       "</table>\n",
       "</div>"
      ],
      "text/plain": [
       "          Date Revenue\n",
       "57  2006-01-31    1667\n",
       "58  2005-10-31     534\n",
       "59  2005-07-31     416\n",
       "60  2005-04-30     475\n",
       "61  2005-01-31     709"
      ]
     },
     "execution_count": 22,
     "metadata": {},
     "output_type": "execute_result"
    }
   ],
   "source": [
    "gme_revenue[\"Revenue\"] = gme_revenue['Revenue'].str.replace(',|\\$',\"\") \n",
    "gme_revenue.tail(5)"
   ]
  },
  {
   "cell_type": "markdown",
   "id": "105382ad",
   "metadata": {
    "papermill": {
     "duration": 0.023082,
     "end_time": "2022-09-15T05:39:41.287656",
     "exception": false,
     "start_time": "2022-09-15T05:39:41.264574",
     "status": "completed"
    },
    "tags": []
   },
   "source": [
    "## Question 5: Plot Tesla Stock Graph\n"
   ]
  },
  {
   "cell_type": "markdown",
   "id": "25e0c608",
   "metadata": {
    "papermill": {
     "duration": 0.026545,
     "end_time": "2022-09-15T05:39:41.341957",
     "exception": false,
     "start_time": "2022-09-15T05:39:41.315412",
     "status": "completed"
    },
    "tags": []
   },
   "source": [
    "Use the `make_graph` function to graph the Tesla Stock Data, also provide a title for the graph. The structure to call the `make_graph` function is `make_graph(tesla_data, tesla_revenue, 'Tesla')`. Note the graph will only show data upto June 2021.\n"
   ]
  },
  {
   "cell_type": "code",
   "execution_count": 23,
   "id": "c478e9b9",
   "metadata": {
    "execution": {
     "iopub.execute_input": "2022-09-15T05:39:41.396115Z",
     "iopub.status.busy": "2022-09-15T05:39:41.395669Z",
     "iopub.status.idle": "2022-09-15T05:39:41.661497Z",
     "shell.execute_reply": "2022-09-15T05:39:41.660394Z"
    },
    "papermill": {
     "duration": 0.297212,
     "end_time": "2022-09-15T05:39:41.667818",
     "exception": false,
     "start_time": "2022-09-15T05:39:41.370606",
     "status": "completed"
    },
    "tags": []
   },
   "outputs": [
    {
     "data": {
      "text/html": [
       "        <script type=\"text/javascript\">\n",
       "        window.PlotlyConfig = {MathJaxConfig: 'local'};\n",
       "        if (window.MathJax) {MathJax.Hub.Config({SVG: {font: \"STIX-Web\"}});}\n",
       "        if (typeof require !== 'undefined') {\n",
       "        require.undef(\"plotly\");\n",
       "        requirejs.config({\n",
       "            paths: {\n",
       "                'plotly': ['https://cdn.plot.ly/plotly-2.4.2.min']\n",
       "            }\n",
       "        });\n",
       "        require(['plotly'], function(Plotly) {\n",
       "            window._Plotly = Plotly;\n",
       "        });\n",
       "        }\n",
       "        </script>\n",
       "        "
      ]
     },
     "metadata": {},
     "output_type": "display_data"
    },
    {
     "data": {
      "text/html": [
       "<div>                            <div id=\"e29e03f5-e497-4ba3-8e08-74a084fa38f0\" class=\"plotly-graph-div\" style=\"height:900px; width:100%;\"></div>            <script type=\"text/javascript\">                require([\"plotly\"], function(Plotly) {                    window.PLOTLYENV=window.PLOTLYENV || {};                                    if (document.getElementById(\"e29e03f5-e497-4ba3-8e08-74a084fa38f0\")) {                    Plotly.newPlot(                        \"e29e03f5-e497-4ba3-8e08-74a084fa38f0\",                        [{\"name\":\"Share Price\",\"type\":\"scatter\",\"x\":[\"2010-06-29T00:00:00\",\"2010-06-30T00:00:00\",\"2010-07-01T00:00:00\",\"2010-07-02T00:00:00\",\"2010-07-06T00:00:00\",\"2010-07-07T00:00:00\",\"2010-07-08T00:00:00\",\"2010-07-09T00:00:00\",\"2010-07-12T00:00:00\",\"2010-07-13T00:00:00\",\"2010-07-14T00:00:00\",\"2010-07-15T00:00:00\",\"2010-07-16T00:00:00\",\"2010-07-19T00:00:00\",\"2010-07-20T00:00:00\",\"2010-07-21T00:00:00\",\"2010-07-22T00:00:00\",\"2010-07-23T00:00:00\",\"2010-07-26T00:00:00\",\"2010-07-27T00:00:00\",\"2010-07-28T00:00:00\",\"2010-07-29T00:00:00\",\"2010-07-30T00:00:00\",\"2010-08-02T00:00:00\",\"2010-08-03T00:00:00\",\"2010-08-04T00:00:00\",\"2010-08-05T00:00:00\",\"2010-08-06T00:00:00\",\"2010-08-09T00:00:00\",\"2010-08-10T00:00:00\",\"2010-08-11T00:00:00\",\"2010-08-12T00:00:00\",\"2010-08-13T00:00:00\",\"2010-08-16T00:00:00\",\"2010-08-17T00:00:00\",\"2010-08-18T00:00:00\",\"2010-08-19T00:00:00\",\"2010-08-20T00:00:00\",\"2010-08-23T00:00:00\",\"2010-08-24T00:00:00\",\"2010-08-25T00:00:00\",\"2010-08-26T00:00:00\",\"2010-08-27T00:00:00\",\"2010-08-30T00:00:00\",\"2010-08-31T00:00:00\",\"2010-09-01T00:00:00\",\"2010-09-02T00:00:00\",\"2010-09-03T00:00:00\",\"2010-09-07T00:00:00\",\"2010-09-08T00:00:00\",\"2010-09-09T00:00:00\",\"2010-09-10T00:00:00\",\"2010-09-13T00:00:00\",\"2010-09-14T00:00:00\",\"2010-09-15T00:00:00\",\"2010-09-16T00:00:00\",\"2010-09-17T00:00:00\",\"2010-09-20T00:00:00\",\"2010-09-21T00:00:00\",\"2010-09-22T00:00:00\",\"2010-09-23T00:00:00\",\"2010-09-24T00:00:00\",\"2010-09-27T00:00:00\",\"2010-09-28T00:00:00\",\"2010-09-29T00:00:00\",\"2010-09-30T00:00:00\",\"2010-10-01T00:00:00\",\"2010-10-04T00:00:00\",\"2010-10-05T00:00:00\",\"2010-10-06T00:00:00\",\"2010-10-07T00:00:00\",\"2010-10-08T00:00:00\",\"2010-10-11T00:00:00\",\"2010-10-12T00:00:00\",\"2010-10-13T00:00:00\",\"2010-10-14T00:00:00\",\"2010-10-15T00:00:00\",\"2010-10-18T00:00:00\",\"2010-10-19T00:00:00\",\"2010-10-20T00:00:00\",\"2010-10-21T00:00:00\",\"2010-10-22T00:00:00\",\"2010-10-25T00:00:00\",\"2010-10-26T00:00:00\",\"2010-10-27T00:00:00\",\"2010-10-28T00:00:00\",\"2010-10-29T00:00:00\",\"2010-11-01T00:00:00\",\"2010-11-02T00:00:00\",\"2010-11-03T00:00:00\",\"2010-11-04T00:00:00\",\"2010-11-05T00:00:00\",\"2010-11-08T00:00:00\",\"2010-11-09T00:00:00\",\"2010-11-10T00:00:00\",\"2010-11-11T00:00:00\",\"2010-11-12T00:00:00\",\"2010-11-15T00:00:00\",\"2010-11-16T00:00:00\",\"2010-11-17T00:00:00\",\"2010-11-18T00:00:00\",\"2010-11-19T00:00:00\",\"2010-11-22T00:00:00\",\"2010-11-23T00:00:00\",\"2010-11-24T00:00:00\",\"2010-11-26T00:00:00\",\"2010-11-29T00:00:00\",\"2010-11-30T00:00:00\",\"2010-12-01T00:00:00\",\"2010-12-02T00:00:00\",\"2010-12-03T00:00:00\",\"2010-12-06T00:00:00\",\"2010-12-07T00:00:00\",\"2010-12-08T00:00:00\",\"2010-12-09T00:00:00\",\"2010-12-10T00:00:00\",\"2010-12-13T00:00:00\",\"2010-12-14T00:00:00\",\"2010-12-15T00:00:00\",\"2010-12-16T00:00:00\",\"2010-12-17T00:00:00\",\"2010-12-20T00:00:00\",\"2010-12-21T00:00:00\",\"2010-12-22T00:00:00\",\"2010-12-23T00:00:00\",\"2010-12-27T00:00:00\",\"2010-12-28T00:00:00\",\"2010-12-29T00:00:00\",\"2010-12-30T00:00:00\",\"2010-12-31T00:00:00\",\"2011-01-03T00:00:00\",\"2011-01-04T00:00:00\",\"2011-01-05T00:00:00\",\"2011-01-06T00:00:00\",\"2011-01-07T00:00:00\",\"2011-01-10T00:00:00\",\"2011-01-11T00:00:00\",\"2011-01-12T00:00:00\",\"2011-01-13T00:00:00\",\"2011-01-14T00:00:00\",\"2011-01-18T00:00:00\",\"2011-01-19T00:00:00\",\"2011-01-20T00:00:00\",\"2011-01-21T00:00:00\",\"2011-01-24T00:00:00\",\"2011-01-25T00:00:00\",\"2011-01-26T00:00:00\",\"2011-01-27T00:00:00\",\"2011-01-28T00:00:00\",\"2011-01-31T00:00:00\",\"2011-02-01T00:00:00\",\"2011-02-02T00:00:00\",\"2011-02-03T00:00:00\",\"2011-02-04T00:00:00\",\"2011-02-07T00:00:00\",\"2011-02-08T00:00:00\",\"2011-02-09T00:00:00\",\"2011-02-10T00:00:00\",\"2011-02-11T00:00:00\",\"2011-02-14T00:00:00\",\"2011-02-15T00:00:00\",\"2011-02-16T00:00:00\",\"2011-02-17T00:00:00\",\"2011-02-18T00:00:00\",\"2011-02-22T00:00:00\",\"2011-02-23T00:00:00\",\"2011-02-24T00:00:00\",\"2011-02-25T00:00:00\",\"2011-02-28T00:00:00\",\"2011-03-01T00:00:00\",\"2011-03-02T00:00:00\",\"2011-03-03T00:00:00\",\"2011-03-04T00:00:00\",\"2011-03-07T00:00:00\",\"2011-03-08T00:00:00\",\"2011-03-09T00:00:00\",\"2011-03-10T00:00:00\",\"2011-03-11T00:00:00\",\"2011-03-14T00:00:00\",\"2011-03-15T00:00:00\",\"2011-03-16T00:00:00\",\"2011-03-17T00:00:00\",\"2011-03-18T00:00:00\",\"2011-03-21T00:00:00\",\"2011-03-22T00:00:00\",\"2011-03-23T00:00:00\",\"2011-03-24T00:00:00\",\"2011-03-25T00:00:00\",\"2011-03-28T00:00:00\",\"2011-03-29T00:00:00\",\"2011-03-30T00:00:00\",\"2011-03-31T00:00:00\",\"2011-04-01T00:00:00\",\"2011-04-04T00:00:00\",\"2011-04-05T00:00:00\",\"2011-04-06T00:00:00\",\"2011-04-07T00:00:00\",\"2011-04-08T00:00:00\",\"2011-04-11T00:00:00\",\"2011-04-12T00:00:00\",\"2011-04-13T00:00:00\",\"2011-04-14T00:00:00\",\"2011-04-15T00:00:00\",\"2011-04-18T00:00:00\",\"2011-04-19T00:00:00\",\"2011-04-20T00:00:00\",\"2011-04-21T00:00:00\",\"2011-04-25T00:00:00\",\"2011-04-26T00:00:00\",\"2011-04-27T00:00:00\",\"2011-04-28T00:00:00\",\"2011-04-29T00:00:00\",\"2011-05-02T00:00:00\",\"2011-05-03T00:00:00\",\"2011-05-04T00:00:00\",\"2011-05-05T00:00:00\",\"2011-05-06T00:00:00\",\"2011-05-09T00:00:00\",\"2011-05-10T00:00:00\",\"2011-05-11T00:00:00\",\"2011-05-12T00:00:00\",\"2011-05-13T00:00:00\",\"2011-05-16T00:00:00\",\"2011-05-17T00:00:00\",\"2011-05-18T00:00:00\",\"2011-05-19T00:00:00\",\"2011-05-20T00:00:00\",\"2011-05-23T00:00:00\",\"2011-05-24T00:00:00\",\"2011-05-25T00:00:00\",\"2011-05-26T00:00:00\",\"2011-05-27T00:00:00\",\"2011-05-31T00:00:00\",\"2011-06-01T00:00:00\",\"2011-06-02T00:00:00\",\"2011-06-03T00:00:00\",\"2011-06-06T00:00:00\",\"2011-06-07T00:00:00\",\"2011-06-08T00:00:00\",\"2011-06-09T00:00:00\",\"2011-06-10T00:00:00\",\"2011-06-13T00:00:00\",\"2011-06-14T00:00:00\",\"2011-06-15T00:00:00\",\"2011-06-16T00:00:00\",\"2011-06-17T00:00:00\",\"2011-06-20T00:00:00\",\"2011-06-21T00:00:00\",\"2011-06-22T00:00:00\",\"2011-06-23T00:00:00\",\"2011-06-24T00:00:00\",\"2011-06-27T00:00:00\",\"2011-06-28T00:00:00\",\"2011-06-29T00:00:00\",\"2011-06-30T00:00:00\",\"2011-07-01T00:00:00\",\"2011-07-05T00:00:00\",\"2011-07-06T00:00:00\",\"2011-07-07T00:00:00\",\"2011-07-08T00:00:00\",\"2011-07-11T00:00:00\",\"2011-07-12T00:00:00\",\"2011-07-13T00:00:00\",\"2011-07-14T00:00:00\",\"2011-07-15T00:00:00\",\"2011-07-18T00:00:00\",\"2011-07-19T00:00:00\",\"2011-07-20T00:00:00\",\"2011-07-21T00:00:00\",\"2011-07-22T00:00:00\",\"2011-07-25T00:00:00\",\"2011-07-26T00:00:00\",\"2011-07-27T00:00:00\",\"2011-07-28T00:00:00\",\"2011-07-29T00:00:00\",\"2011-08-01T00:00:00\",\"2011-08-02T00:00:00\",\"2011-08-03T00:00:00\",\"2011-08-04T00:00:00\",\"2011-08-05T00:00:00\",\"2011-08-08T00:00:00\",\"2011-08-09T00:00:00\",\"2011-08-10T00:00:00\",\"2011-08-11T00:00:00\",\"2011-08-12T00:00:00\",\"2011-08-15T00:00:00\",\"2011-08-16T00:00:00\",\"2011-08-17T00:00:00\",\"2011-08-18T00:00:00\",\"2011-08-19T00:00:00\",\"2011-08-22T00:00:00\",\"2011-08-23T00:00:00\",\"2011-08-24T00:00:00\",\"2011-08-25T00:00:00\",\"2011-08-26T00:00:00\",\"2011-08-29T00:00:00\",\"2011-08-30T00:00:00\",\"2011-08-31T00:00:00\",\"2011-09-01T00:00:00\",\"2011-09-02T00:00:00\",\"2011-09-06T00:00:00\",\"2011-09-07T00:00:00\",\"2011-09-08T00:00:00\",\"2011-09-09T00:00:00\",\"2011-09-12T00:00:00\",\"2011-09-13T00:00:00\",\"2011-09-14T00:00:00\",\"2011-09-15T00:00:00\",\"2011-09-16T00:00:00\",\"2011-09-19T00:00:00\",\"2011-09-20T00:00:00\",\"2011-09-21T00:00:00\",\"2011-09-22T00:00:00\",\"2011-09-23T00:00:00\",\"2011-09-26T00:00:00\",\"2011-09-27T00:00:00\",\"2011-09-28T00:00:00\",\"2011-09-29T00:00:00\",\"2011-09-30T00:00:00\",\"2011-10-03T00:00:00\",\"2011-10-04T00:00:00\",\"2011-10-05T00:00:00\",\"2011-10-06T00:00:00\",\"2011-10-07T00:00:00\",\"2011-10-10T00:00:00\",\"2011-10-11T00:00:00\",\"2011-10-12T00:00:00\",\"2011-10-13T00:00:00\",\"2011-10-14T00:00:00\",\"2011-10-17T00:00:00\",\"2011-10-18T00:00:00\",\"2011-10-19T00:00:00\",\"2011-10-20T00:00:00\",\"2011-10-21T00:00:00\",\"2011-10-24T00:00:00\",\"2011-10-25T00:00:00\",\"2011-10-26T00:00:00\",\"2011-10-27T00:00:00\",\"2011-10-28T00:00:00\",\"2011-10-31T00:00:00\",\"2011-11-01T00:00:00\",\"2011-11-02T00:00:00\",\"2011-11-03T00:00:00\",\"2011-11-04T00:00:00\",\"2011-11-07T00:00:00\",\"2011-11-08T00:00:00\",\"2011-11-09T00:00:00\",\"2011-11-10T00:00:00\",\"2011-11-11T00:00:00\",\"2011-11-14T00:00:00\",\"2011-11-15T00:00:00\",\"2011-11-16T00:00:00\",\"2011-11-17T00:00:00\",\"2011-11-18T00:00:00\",\"2011-11-21T00:00:00\",\"2011-11-22T00:00:00\",\"2011-11-23T00:00:00\",\"2011-11-25T00:00:00\",\"2011-11-28T00:00:00\",\"2011-11-29T00:00:00\",\"2011-11-30T00:00:00\",\"2011-12-01T00:00:00\",\"2011-12-02T00:00:00\",\"2011-12-05T00:00:00\",\"2011-12-06T00:00:00\",\"2011-12-07T00:00:00\",\"2011-12-08T00:00:00\",\"2011-12-09T00:00:00\",\"2011-12-12T00:00:00\",\"2011-12-13T00:00:00\",\"2011-12-14T00:00:00\",\"2011-12-15T00:00:00\",\"2011-12-16T00:00:00\",\"2011-12-19T00:00:00\",\"2011-12-20T00:00:00\",\"2011-12-21T00:00:00\",\"2011-12-22T00:00:00\",\"2011-12-23T00:00:00\",\"2011-12-27T00:00:00\",\"2011-12-28T00:00:00\",\"2011-12-29T00:00:00\",\"2011-12-30T00:00:00\",\"2012-01-03T00:00:00\",\"2012-01-04T00:00:00\",\"2012-01-05T00:00:00\",\"2012-01-06T00:00:00\",\"2012-01-09T00:00:00\",\"2012-01-10T00:00:00\",\"2012-01-11T00:00:00\",\"2012-01-12T00:00:00\",\"2012-01-13T00:00:00\",\"2012-01-17T00:00:00\",\"2012-01-18T00:00:00\",\"2012-01-19T00:00:00\",\"2012-01-20T00:00:00\",\"2012-01-23T00:00:00\",\"2012-01-24T00:00:00\",\"2012-01-25T00:00:00\",\"2012-01-26T00:00:00\",\"2012-01-27T00:00:00\",\"2012-01-30T00:00:00\",\"2012-01-31T00:00:00\",\"2012-02-01T00:00:00\",\"2012-02-02T00:00:00\",\"2012-02-03T00:00:00\",\"2012-02-06T00:00:00\",\"2012-02-07T00:00:00\",\"2012-02-08T00:00:00\",\"2012-02-09T00:00:00\",\"2012-02-10T00:00:00\",\"2012-02-13T00:00:00\",\"2012-02-14T00:00:00\",\"2012-02-15T00:00:00\",\"2012-02-16T00:00:00\",\"2012-02-17T00:00:00\",\"2012-02-21T00:00:00\",\"2012-02-22T00:00:00\",\"2012-02-23T00:00:00\",\"2012-02-24T00:00:00\",\"2012-02-27T00:00:00\",\"2012-02-28T00:00:00\",\"2012-02-29T00:00:00\",\"2012-03-01T00:00:00\",\"2012-03-02T00:00:00\",\"2012-03-05T00:00:00\",\"2012-03-06T00:00:00\",\"2012-03-07T00:00:00\",\"2012-03-08T00:00:00\",\"2012-03-09T00:00:00\",\"2012-03-12T00:00:00\",\"2012-03-13T00:00:00\",\"2012-03-14T00:00:00\",\"2012-03-15T00:00:00\",\"2012-03-16T00:00:00\",\"2012-03-19T00:00:00\",\"2012-03-20T00:00:00\",\"2012-03-21T00:00:00\",\"2012-03-22T00:00:00\",\"2012-03-23T00:00:00\",\"2012-03-26T00:00:00\",\"2012-03-27T00:00:00\",\"2012-03-28T00:00:00\",\"2012-03-29T00:00:00\",\"2012-03-30T00:00:00\",\"2012-04-02T00:00:00\",\"2012-04-03T00:00:00\",\"2012-04-04T00:00:00\",\"2012-04-05T00:00:00\",\"2012-04-09T00:00:00\",\"2012-04-10T00:00:00\",\"2012-04-11T00:00:00\",\"2012-04-12T00:00:00\",\"2012-04-13T00:00:00\",\"2012-04-16T00:00:00\",\"2012-04-17T00:00:00\",\"2012-04-18T00:00:00\",\"2012-04-19T00:00:00\",\"2012-04-20T00:00:00\",\"2012-04-23T00:00:00\",\"2012-04-24T00:00:00\",\"2012-04-25T00:00:00\",\"2012-04-26T00:00:00\",\"2012-04-27T00:00:00\",\"2012-04-30T00:00:00\",\"2012-05-01T00:00:00\",\"2012-05-02T00:00:00\",\"2012-05-03T00:00:00\",\"2012-05-04T00:00:00\",\"2012-05-07T00:00:00\",\"2012-05-08T00:00:00\",\"2012-05-09T00:00:00\",\"2012-05-10T00:00:00\",\"2012-05-11T00:00:00\",\"2012-05-14T00:00:00\",\"2012-05-15T00:00:00\",\"2012-05-16T00:00:00\",\"2012-05-17T00:00:00\",\"2012-05-18T00:00:00\",\"2012-05-21T00:00:00\",\"2012-05-22T00:00:00\",\"2012-05-23T00:00:00\",\"2012-05-24T00:00:00\",\"2012-05-25T00:00:00\",\"2012-05-29T00:00:00\",\"2012-05-30T00:00:00\",\"2012-05-31T00:00:00\",\"2012-06-01T00:00:00\",\"2012-06-04T00:00:00\",\"2012-06-05T00:00:00\",\"2012-06-06T00:00:00\",\"2012-06-07T00:00:00\",\"2012-06-08T00:00:00\",\"2012-06-11T00:00:00\",\"2012-06-12T00:00:00\",\"2012-06-13T00:00:00\",\"2012-06-14T00:00:00\",\"2012-06-15T00:00:00\",\"2012-06-18T00:00:00\",\"2012-06-19T00:00:00\",\"2012-06-20T00:00:00\",\"2012-06-21T00:00:00\",\"2012-06-22T00:00:00\",\"2012-06-25T00:00:00\",\"2012-06-26T00:00:00\",\"2012-06-27T00:00:00\",\"2012-06-28T00:00:00\",\"2012-06-29T00:00:00\",\"2012-07-02T00:00:00\",\"2012-07-03T00:00:00\",\"2012-07-05T00:00:00\",\"2012-07-06T00:00:00\",\"2012-07-09T00:00:00\",\"2012-07-10T00:00:00\",\"2012-07-11T00:00:00\",\"2012-07-12T00:00:00\",\"2012-07-13T00:00:00\",\"2012-07-16T00:00:00\",\"2012-07-17T00:00:00\",\"2012-07-18T00:00:00\",\"2012-07-19T00:00:00\",\"2012-07-20T00:00:00\",\"2012-07-23T00:00:00\",\"2012-07-24T00:00:00\",\"2012-07-25T00:00:00\",\"2012-07-26T00:00:00\",\"2012-07-27T00:00:00\",\"2012-07-30T00:00:00\",\"2012-07-31T00:00:00\",\"2012-08-01T00:00:00\",\"2012-08-02T00:00:00\",\"2012-08-03T00:00:00\",\"2012-08-06T00:00:00\",\"2012-08-07T00:00:00\",\"2012-08-08T00:00:00\",\"2012-08-09T00:00:00\",\"2012-08-10T00:00:00\",\"2012-08-13T00:00:00\",\"2012-08-14T00:00:00\",\"2012-08-15T00:00:00\",\"2012-08-16T00:00:00\",\"2012-08-17T00:00:00\",\"2012-08-20T00:00:00\",\"2012-08-21T00:00:00\",\"2012-08-22T00:00:00\",\"2012-08-23T00:00:00\",\"2012-08-24T00:00:00\",\"2012-08-27T00:00:00\",\"2012-08-28T00:00:00\",\"2012-08-29T00:00:00\",\"2012-08-30T00:00:00\",\"2012-08-31T00:00:00\",\"2012-09-04T00:00:00\",\"2012-09-05T00:00:00\",\"2012-09-06T00:00:00\",\"2012-09-07T00:00:00\",\"2012-09-10T00:00:00\",\"2012-09-11T00:00:00\",\"2012-09-12T00:00:00\",\"2012-09-13T00:00:00\",\"2012-09-14T00:00:00\",\"2012-09-17T00:00:00\",\"2012-09-18T00:00:00\",\"2012-09-19T00:00:00\",\"2012-09-20T00:00:00\",\"2012-09-21T00:00:00\",\"2012-09-24T00:00:00\",\"2012-09-25T00:00:00\",\"2012-09-26T00:00:00\",\"2012-09-27T00:00:00\",\"2012-09-28T00:00:00\",\"2012-10-01T00:00:00\",\"2012-10-02T00:00:00\",\"2012-10-03T00:00:00\",\"2012-10-04T00:00:00\",\"2012-10-05T00:00:00\",\"2012-10-08T00:00:00\",\"2012-10-09T00:00:00\",\"2012-10-10T00:00:00\",\"2012-10-11T00:00:00\",\"2012-10-12T00:00:00\",\"2012-10-15T00:00:00\",\"2012-10-16T00:00:00\",\"2012-10-17T00:00:00\",\"2012-10-18T00:00:00\",\"2012-10-19T00:00:00\",\"2012-10-22T00:00:00\",\"2012-10-23T00:00:00\",\"2012-10-24T00:00:00\",\"2012-10-25T00:00:00\",\"2012-10-26T00:00:00\",\"2012-10-31T00:00:00\",\"2012-11-01T00:00:00\",\"2012-11-02T00:00:00\",\"2012-11-05T00:00:00\",\"2012-11-06T00:00:00\",\"2012-11-07T00:00:00\",\"2012-11-08T00:00:00\",\"2012-11-09T00:00:00\",\"2012-11-12T00:00:00\",\"2012-11-13T00:00:00\",\"2012-11-14T00:00:00\",\"2012-11-15T00:00:00\",\"2012-11-16T00:00:00\",\"2012-11-19T00:00:00\",\"2012-11-20T00:00:00\",\"2012-11-21T00:00:00\",\"2012-11-23T00:00:00\",\"2012-11-26T00:00:00\",\"2012-11-27T00:00:00\",\"2012-11-28T00:00:00\",\"2012-11-29T00:00:00\",\"2012-11-30T00:00:00\",\"2012-12-03T00:00:00\",\"2012-12-04T00:00:00\",\"2012-12-05T00:00:00\",\"2012-12-06T00:00:00\",\"2012-12-07T00:00:00\",\"2012-12-10T00:00:00\",\"2012-12-11T00:00:00\",\"2012-12-12T00:00:00\",\"2012-12-13T00:00:00\",\"2012-12-14T00:00:00\",\"2012-12-17T00:00:00\",\"2012-12-18T00:00:00\",\"2012-12-19T00:00:00\",\"2012-12-20T00:00:00\",\"2012-12-21T00:00:00\",\"2012-12-24T00:00:00\",\"2012-12-26T00:00:00\",\"2012-12-27T00:00:00\",\"2012-12-28T00:00:00\",\"2012-12-31T00:00:00\",\"2013-01-02T00:00:00\",\"2013-01-03T00:00:00\",\"2013-01-04T00:00:00\",\"2013-01-07T00:00:00\",\"2013-01-08T00:00:00\",\"2013-01-09T00:00:00\",\"2013-01-10T00:00:00\",\"2013-01-11T00:00:00\",\"2013-01-14T00:00:00\",\"2013-01-15T00:00:00\",\"2013-01-16T00:00:00\",\"2013-01-17T00:00:00\",\"2013-01-18T00:00:00\",\"2013-01-22T00:00:00\",\"2013-01-23T00:00:00\",\"2013-01-24T00:00:00\",\"2013-01-25T00:00:00\",\"2013-01-28T00:00:00\",\"2013-01-29T00:00:00\",\"2013-01-30T00:00:00\",\"2013-01-31T00:00:00\",\"2013-02-01T00:00:00\",\"2013-02-04T00:00:00\",\"2013-02-05T00:00:00\",\"2013-02-06T00:00:00\",\"2013-02-07T00:00:00\",\"2013-02-08T00:00:00\",\"2013-02-11T00:00:00\",\"2013-02-12T00:00:00\",\"2013-02-13T00:00:00\",\"2013-02-14T00:00:00\",\"2013-02-15T00:00:00\",\"2013-02-19T00:00:00\",\"2013-02-20T00:00:00\",\"2013-02-21T00:00:00\",\"2013-02-22T00:00:00\",\"2013-02-25T00:00:00\",\"2013-02-26T00:00:00\",\"2013-02-27T00:00:00\",\"2013-02-28T00:00:00\",\"2013-03-01T00:00:00\",\"2013-03-04T00:00:00\",\"2013-03-05T00:00:00\",\"2013-03-06T00:00:00\",\"2013-03-07T00:00:00\",\"2013-03-08T00:00:00\",\"2013-03-11T00:00:00\",\"2013-03-12T00:00:00\",\"2013-03-13T00:00:00\",\"2013-03-14T00:00:00\",\"2013-03-15T00:00:00\",\"2013-03-18T00:00:00\",\"2013-03-19T00:00:00\",\"2013-03-20T00:00:00\",\"2013-03-21T00:00:00\",\"2013-03-22T00:00:00\",\"2013-03-25T00:00:00\",\"2013-03-26T00:00:00\",\"2013-03-27T00:00:00\",\"2013-03-28T00:00:00\",\"2013-04-01T00:00:00\",\"2013-04-02T00:00:00\",\"2013-04-03T00:00:00\",\"2013-04-04T00:00:00\",\"2013-04-05T00:00:00\",\"2013-04-08T00:00:00\",\"2013-04-09T00:00:00\",\"2013-04-10T00:00:00\",\"2013-04-11T00:00:00\",\"2013-04-12T00:00:00\",\"2013-04-15T00:00:00\",\"2013-04-16T00:00:00\",\"2013-04-17T00:00:00\",\"2013-04-18T00:00:00\",\"2013-04-19T00:00:00\",\"2013-04-22T00:00:00\",\"2013-04-23T00:00:00\",\"2013-04-24T00:00:00\",\"2013-04-25T00:00:00\",\"2013-04-26T00:00:00\",\"2013-04-29T00:00:00\",\"2013-04-30T00:00:00\",\"2013-05-01T00:00:00\",\"2013-05-02T00:00:00\",\"2013-05-03T00:00:00\",\"2013-05-06T00:00:00\",\"2013-05-07T00:00:00\",\"2013-05-08T00:00:00\",\"2013-05-09T00:00:00\",\"2013-05-10T00:00:00\",\"2013-05-13T00:00:00\",\"2013-05-14T00:00:00\",\"2013-05-15T00:00:00\",\"2013-05-16T00:00:00\",\"2013-05-17T00:00:00\",\"2013-05-20T00:00:00\",\"2013-05-21T00:00:00\",\"2013-05-22T00:00:00\",\"2013-05-23T00:00:00\",\"2013-05-24T00:00:00\",\"2013-05-28T00:00:00\",\"2013-05-29T00:00:00\",\"2013-05-30T00:00:00\",\"2013-05-31T00:00:00\",\"2013-06-03T00:00:00\",\"2013-06-04T00:00:00\",\"2013-06-05T00:00:00\",\"2013-06-06T00:00:00\",\"2013-06-07T00:00:00\",\"2013-06-10T00:00:00\",\"2013-06-11T00:00:00\",\"2013-06-12T00:00:00\",\"2013-06-13T00:00:00\",\"2013-06-14T00:00:00\",\"2013-06-17T00:00:00\",\"2013-06-18T00:00:00\",\"2013-06-19T00:00:00\",\"2013-06-20T00:00:00\",\"2013-06-21T00:00:00\",\"2013-06-24T00:00:00\",\"2013-06-25T00:00:00\",\"2013-06-26T00:00:00\",\"2013-06-27T00:00:00\",\"2013-06-28T00:00:00\",\"2013-07-01T00:00:00\",\"2013-07-02T00:00:00\",\"2013-07-03T00:00:00\",\"2013-07-05T00:00:00\",\"2013-07-08T00:00:00\",\"2013-07-09T00:00:00\",\"2013-07-10T00:00:00\",\"2013-07-11T00:00:00\",\"2013-07-12T00:00:00\",\"2013-07-15T00:00:00\",\"2013-07-16T00:00:00\",\"2013-07-17T00:00:00\",\"2013-07-18T00:00:00\",\"2013-07-19T00:00:00\",\"2013-07-22T00:00:00\",\"2013-07-23T00:00:00\",\"2013-07-24T00:00:00\",\"2013-07-25T00:00:00\",\"2013-07-26T00:00:00\",\"2013-07-29T00:00:00\",\"2013-07-30T00:00:00\",\"2013-07-31T00:00:00\",\"2013-08-01T00:00:00\",\"2013-08-02T00:00:00\",\"2013-08-05T00:00:00\",\"2013-08-06T00:00:00\",\"2013-08-07T00:00:00\",\"2013-08-08T00:00:00\",\"2013-08-09T00:00:00\",\"2013-08-12T00:00:00\",\"2013-08-13T00:00:00\",\"2013-08-14T00:00:00\",\"2013-08-15T00:00:00\",\"2013-08-16T00:00:00\",\"2013-08-19T00:00:00\",\"2013-08-20T00:00:00\",\"2013-08-21T00:00:00\",\"2013-08-22T00:00:00\",\"2013-08-23T00:00:00\",\"2013-08-26T00:00:00\",\"2013-08-27T00:00:00\",\"2013-08-28T00:00:00\",\"2013-08-29T00:00:00\",\"2013-08-30T00:00:00\",\"2013-09-03T00:00:00\",\"2013-09-04T00:00:00\",\"2013-09-05T00:00:00\",\"2013-09-06T00:00:00\",\"2013-09-09T00:00:00\",\"2013-09-10T00:00:00\",\"2013-09-11T00:00:00\",\"2013-09-12T00:00:00\",\"2013-09-13T00:00:00\",\"2013-09-16T00:00:00\",\"2013-09-17T00:00:00\",\"2013-09-18T00:00:00\",\"2013-09-19T00:00:00\",\"2013-09-20T00:00:00\",\"2013-09-23T00:00:00\",\"2013-09-24T00:00:00\",\"2013-09-25T00:00:00\",\"2013-09-26T00:00:00\",\"2013-09-27T00:00:00\",\"2013-09-30T00:00:00\",\"2013-10-01T00:00:00\",\"2013-10-02T00:00:00\",\"2013-10-03T00:00:00\",\"2013-10-04T00:00:00\",\"2013-10-07T00:00:00\",\"2013-10-08T00:00:00\",\"2013-10-09T00:00:00\",\"2013-10-10T00:00:00\",\"2013-10-11T00:00:00\",\"2013-10-14T00:00:00\",\"2013-10-15T00:00:00\",\"2013-10-16T00:00:00\",\"2013-10-17T00:00:00\",\"2013-10-18T00:00:00\",\"2013-10-21T00:00:00\",\"2013-10-22T00:00:00\",\"2013-10-23T00:00:00\",\"2013-10-24T00:00:00\",\"2013-10-25T00:00:00\",\"2013-10-28T00:00:00\",\"2013-10-29T00:00:00\",\"2013-10-30T00:00:00\",\"2013-10-31T00:00:00\",\"2013-11-01T00:00:00\",\"2013-11-04T00:00:00\",\"2013-11-05T00:00:00\",\"2013-11-06T00:00:00\",\"2013-11-07T00:00:00\",\"2013-11-08T00:00:00\",\"2013-11-11T00:00:00\",\"2013-11-12T00:00:00\",\"2013-11-13T00:00:00\",\"2013-11-14T00:00:00\",\"2013-11-15T00:00:00\",\"2013-11-18T00:00:00\",\"2013-11-19T00:00:00\",\"2013-11-20T00:00:00\",\"2013-11-21T00:00:00\",\"2013-11-22T00:00:00\",\"2013-11-25T00:00:00\",\"2013-11-26T00:00:00\",\"2013-11-27T00:00:00\",\"2013-11-29T00:00:00\",\"2013-12-02T00:00:00\",\"2013-12-03T00:00:00\",\"2013-12-04T00:00:00\",\"2013-12-05T00:00:00\",\"2013-12-06T00:00:00\",\"2013-12-09T00:00:00\",\"2013-12-10T00:00:00\",\"2013-12-11T00:00:00\",\"2013-12-12T00:00:00\",\"2013-12-13T00:00:00\",\"2013-12-16T00:00:00\",\"2013-12-17T00:00:00\",\"2013-12-18T00:00:00\",\"2013-12-19T00:00:00\",\"2013-12-20T00:00:00\",\"2013-12-23T00:00:00\",\"2013-12-24T00:00:00\",\"2013-12-26T00:00:00\",\"2013-12-27T00:00:00\",\"2013-12-30T00:00:00\",\"2013-12-31T00:00:00\",\"2014-01-02T00:00:00\",\"2014-01-03T00:00:00\",\"2014-01-06T00:00:00\",\"2014-01-07T00:00:00\",\"2014-01-08T00:00:00\",\"2014-01-09T00:00:00\",\"2014-01-10T00:00:00\",\"2014-01-13T00:00:00\",\"2014-01-14T00:00:00\",\"2014-01-15T00:00:00\",\"2014-01-16T00:00:00\",\"2014-01-17T00:00:00\",\"2014-01-21T00:00:00\",\"2014-01-22T00:00:00\",\"2014-01-23T00:00:00\",\"2014-01-24T00:00:00\",\"2014-01-27T00:00:00\",\"2014-01-28T00:00:00\",\"2014-01-29T00:00:00\",\"2014-01-30T00:00:00\",\"2014-01-31T00:00:00\",\"2014-02-03T00:00:00\",\"2014-02-04T00:00:00\",\"2014-02-05T00:00:00\",\"2014-02-06T00:00:00\",\"2014-02-07T00:00:00\",\"2014-02-10T00:00:00\",\"2014-02-11T00:00:00\",\"2014-02-12T00:00:00\",\"2014-02-13T00:00:00\",\"2014-02-14T00:00:00\",\"2014-02-18T00:00:00\",\"2014-02-19T00:00:00\",\"2014-02-20T00:00:00\",\"2014-02-21T00:00:00\",\"2014-02-24T00:00:00\",\"2014-02-25T00:00:00\",\"2014-02-26T00:00:00\",\"2014-02-27T00:00:00\",\"2014-02-28T00:00:00\",\"2014-03-03T00:00:00\",\"2014-03-04T00:00:00\",\"2014-03-05T00:00:00\",\"2014-03-06T00:00:00\",\"2014-03-07T00:00:00\",\"2014-03-10T00:00:00\",\"2014-03-11T00:00:00\",\"2014-03-12T00:00:00\",\"2014-03-13T00:00:00\",\"2014-03-14T00:00:00\",\"2014-03-17T00:00:00\",\"2014-03-18T00:00:00\",\"2014-03-19T00:00:00\",\"2014-03-20T00:00:00\",\"2014-03-21T00:00:00\",\"2014-03-24T00:00:00\",\"2014-03-25T00:00:00\",\"2014-03-26T00:00:00\",\"2014-03-27T00:00:00\",\"2014-03-28T00:00:00\",\"2014-03-31T00:00:00\",\"2014-04-01T00:00:00\",\"2014-04-02T00:00:00\",\"2014-04-03T00:00:00\",\"2014-04-04T00:00:00\",\"2014-04-07T00:00:00\",\"2014-04-08T00:00:00\",\"2014-04-09T00:00:00\",\"2014-04-10T00:00:00\",\"2014-04-11T00:00:00\",\"2014-04-14T00:00:00\",\"2014-04-15T00:00:00\",\"2014-04-16T00:00:00\",\"2014-04-17T00:00:00\",\"2014-04-21T00:00:00\",\"2014-04-22T00:00:00\",\"2014-04-23T00:00:00\",\"2014-04-24T00:00:00\",\"2014-04-25T00:00:00\",\"2014-04-28T00:00:00\",\"2014-04-29T00:00:00\",\"2014-04-30T00:00:00\",\"2014-05-01T00:00:00\",\"2014-05-02T00:00:00\",\"2014-05-05T00:00:00\",\"2014-05-06T00:00:00\",\"2014-05-07T00:00:00\",\"2014-05-08T00:00:00\",\"2014-05-09T00:00:00\",\"2014-05-12T00:00:00\",\"2014-05-13T00:00:00\",\"2014-05-14T00:00:00\",\"2014-05-15T00:00:00\",\"2014-05-16T00:00:00\",\"2014-05-19T00:00:00\",\"2014-05-20T00:00:00\",\"2014-05-21T00:00:00\",\"2014-05-22T00:00:00\",\"2014-05-23T00:00:00\",\"2014-05-27T00:00:00\",\"2014-05-28T00:00:00\",\"2014-05-29T00:00:00\",\"2014-05-30T00:00:00\",\"2014-06-02T00:00:00\",\"2014-06-03T00:00:00\",\"2014-06-04T00:00:00\",\"2014-06-05T00:00:00\",\"2014-06-06T00:00:00\",\"2014-06-09T00:00:00\",\"2014-06-10T00:00:00\",\"2014-06-11T00:00:00\",\"2014-06-12T00:00:00\",\"2014-06-13T00:00:00\",\"2014-06-16T00:00:00\",\"2014-06-17T00:00:00\",\"2014-06-18T00:00:00\",\"2014-06-19T00:00:00\",\"2014-06-20T00:00:00\",\"2014-06-23T00:00:00\",\"2014-06-24T00:00:00\",\"2014-06-25T00:00:00\",\"2014-06-26T00:00:00\",\"2014-06-27T00:00:00\",\"2014-06-30T00:00:00\",\"2014-07-01T00:00:00\",\"2014-07-02T00:00:00\",\"2014-07-03T00:00:00\",\"2014-07-07T00:00:00\",\"2014-07-08T00:00:00\",\"2014-07-09T00:00:00\",\"2014-07-10T00:00:00\",\"2014-07-11T00:00:00\",\"2014-07-14T00:00:00\",\"2014-07-15T00:00:00\",\"2014-07-16T00:00:00\",\"2014-07-17T00:00:00\",\"2014-07-18T00:00:00\",\"2014-07-21T00:00:00\",\"2014-07-22T00:00:00\",\"2014-07-23T00:00:00\",\"2014-07-24T00:00:00\",\"2014-07-25T00:00:00\",\"2014-07-28T00:00:00\",\"2014-07-29T00:00:00\",\"2014-07-30T00:00:00\",\"2014-07-31T00:00:00\",\"2014-08-01T00:00:00\",\"2014-08-04T00:00:00\",\"2014-08-05T00:00:00\",\"2014-08-06T00:00:00\",\"2014-08-07T00:00:00\",\"2014-08-08T00:00:00\",\"2014-08-11T00:00:00\",\"2014-08-12T00:00:00\",\"2014-08-13T00:00:00\",\"2014-08-14T00:00:00\",\"2014-08-15T00:00:00\",\"2014-08-18T00:00:00\",\"2014-08-19T00:00:00\",\"2014-08-20T00:00:00\",\"2014-08-21T00:00:00\",\"2014-08-22T00:00:00\",\"2014-08-25T00:00:00\",\"2014-08-26T00:00:00\",\"2014-08-27T00:00:00\",\"2014-08-28T00:00:00\",\"2014-08-29T00:00:00\",\"2014-09-02T00:00:00\",\"2014-09-03T00:00:00\",\"2014-09-04T00:00:00\",\"2014-09-05T00:00:00\",\"2014-09-08T00:00:00\",\"2014-09-09T00:00:00\",\"2014-09-10T00:00:00\",\"2014-09-11T00:00:00\",\"2014-09-12T00:00:00\",\"2014-09-15T00:00:00\",\"2014-09-16T00:00:00\",\"2014-09-17T00:00:00\",\"2014-09-18T00:00:00\",\"2014-09-19T00:00:00\",\"2014-09-22T00:00:00\",\"2014-09-23T00:00:00\",\"2014-09-24T00:00:00\",\"2014-09-25T00:00:00\",\"2014-09-26T00:00:00\",\"2014-09-29T00:00:00\",\"2014-09-30T00:00:00\",\"2014-10-01T00:00:00\",\"2014-10-02T00:00:00\",\"2014-10-03T00:00:00\",\"2014-10-06T00:00:00\",\"2014-10-07T00:00:00\",\"2014-10-08T00:00:00\",\"2014-10-09T00:00:00\",\"2014-10-10T00:00:00\",\"2014-10-13T00:00:00\",\"2014-10-14T00:00:00\",\"2014-10-15T00:00:00\",\"2014-10-16T00:00:00\",\"2014-10-17T00:00:00\",\"2014-10-20T00:00:00\",\"2014-10-21T00:00:00\",\"2014-10-22T00:00:00\",\"2014-10-23T00:00:00\",\"2014-10-24T00:00:00\",\"2014-10-27T00:00:00\",\"2014-10-28T00:00:00\",\"2014-10-29T00:00:00\",\"2014-10-30T00:00:00\",\"2014-10-31T00:00:00\",\"2014-11-03T00:00:00\",\"2014-11-04T00:00:00\",\"2014-11-05T00:00:00\",\"2014-11-06T00:00:00\",\"2014-11-07T00:00:00\",\"2014-11-10T00:00:00\",\"2014-11-11T00:00:00\",\"2014-11-12T00:00:00\",\"2014-11-13T00:00:00\",\"2014-11-14T00:00:00\",\"2014-11-17T00:00:00\",\"2014-11-18T00:00:00\",\"2014-11-19T00:00:00\",\"2014-11-20T00:00:00\",\"2014-11-21T00:00:00\",\"2014-11-24T00:00:00\",\"2014-11-25T00:00:00\",\"2014-11-26T00:00:00\",\"2014-11-28T00:00:00\",\"2014-12-01T00:00:00\",\"2014-12-02T00:00:00\",\"2014-12-03T00:00:00\",\"2014-12-04T00:00:00\",\"2014-12-05T00:00:00\",\"2014-12-08T00:00:00\",\"2014-12-09T00:00:00\",\"2014-12-10T00:00:00\",\"2014-12-11T00:00:00\",\"2014-12-12T00:00:00\",\"2014-12-15T00:00:00\",\"2014-12-16T00:00:00\",\"2014-12-17T00:00:00\",\"2014-12-18T00:00:00\",\"2014-12-19T00:00:00\",\"2014-12-22T00:00:00\",\"2014-12-23T00:00:00\",\"2014-12-24T00:00:00\",\"2014-12-26T00:00:00\",\"2014-12-29T00:00:00\",\"2014-12-30T00:00:00\",\"2014-12-31T00:00:00\",\"2015-01-02T00:00:00\",\"2015-01-05T00:00:00\",\"2015-01-06T00:00:00\",\"2015-01-07T00:00:00\",\"2015-01-08T00:00:00\",\"2015-01-09T00:00:00\",\"2015-01-12T00:00:00\",\"2015-01-13T00:00:00\",\"2015-01-14T00:00:00\",\"2015-01-15T00:00:00\",\"2015-01-16T00:00:00\",\"2015-01-20T00:00:00\",\"2015-01-21T00:00:00\",\"2015-01-22T00:00:00\",\"2015-01-23T00:00:00\",\"2015-01-26T00:00:00\",\"2015-01-27T00:00:00\",\"2015-01-28T00:00:00\",\"2015-01-29T00:00:00\",\"2015-01-30T00:00:00\",\"2015-02-02T00:00:00\",\"2015-02-03T00:00:00\",\"2015-02-04T00:00:00\",\"2015-02-05T00:00:00\",\"2015-02-06T00:00:00\",\"2015-02-09T00:00:00\",\"2015-02-10T00:00:00\",\"2015-02-11T00:00:00\",\"2015-02-12T00:00:00\",\"2015-02-13T00:00:00\",\"2015-02-17T00:00:00\",\"2015-02-18T00:00:00\",\"2015-02-19T00:00:00\",\"2015-02-20T00:00:00\",\"2015-02-23T00:00:00\",\"2015-02-24T00:00:00\",\"2015-02-25T00:00:00\",\"2015-02-26T00:00:00\",\"2015-02-27T00:00:00\",\"2015-03-02T00:00:00\",\"2015-03-03T00:00:00\",\"2015-03-04T00:00:00\",\"2015-03-05T00:00:00\",\"2015-03-06T00:00:00\",\"2015-03-09T00:00:00\",\"2015-03-10T00:00:00\",\"2015-03-11T00:00:00\",\"2015-03-12T00:00:00\",\"2015-03-13T00:00:00\",\"2015-03-16T00:00:00\",\"2015-03-17T00:00:00\",\"2015-03-18T00:00:00\",\"2015-03-19T00:00:00\",\"2015-03-20T00:00:00\",\"2015-03-23T00:00:00\",\"2015-03-24T00:00:00\",\"2015-03-25T00:00:00\",\"2015-03-26T00:00:00\",\"2015-03-27T00:00:00\",\"2015-03-30T00:00:00\",\"2015-03-31T00:00:00\",\"2015-04-01T00:00:00\",\"2015-04-02T00:00:00\",\"2015-04-06T00:00:00\",\"2015-04-07T00:00:00\",\"2015-04-08T00:00:00\",\"2015-04-09T00:00:00\",\"2015-04-10T00:00:00\",\"2015-04-13T00:00:00\",\"2015-04-14T00:00:00\",\"2015-04-15T00:00:00\",\"2015-04-16T00:00:00\",\"2015-04-17T00:00:00\",\"2015-04-20T00:00:00\",\"2015-04-21T00:00:00\",\"2015-04-22T00:00:00\",\"2015-04-23T00:00:00\",\"2015-04-24T00:00:00\",\"2015-04-27T00:00:00\",\"2015-04-28T00:00:00\",\"2015-04-29T00:00:00\",\"2015-04-30T00:00:00\",\"2015-05-01T00:00:00\",\"2015-05-04T00:00:00\",\"2015-05-05T00:00:00\",\"2015-05-06T00:00:00\",\"2015-05-07T00:00:00\",\"2015-05-08T00:00:00\",\"2015-05-11T00:00:00\",\"2015-05-12T00:00:00\",\"2015-05-13T00:00:00\",\"2015-05-14T00:00:00\",\"2015-05-15T00:00:00\",\"2015-05-18T00:00:00\",\"2015-05-19T00:00:00\",\"2015-05-20T00:00:00\",\"2015-05-21T00:00:00\",\"2015-05-22T00:00:00\",\"2015-05-26T00:00:00\",\"2015-05-27T00:00:00\",\"2015-05-28T00:00:00\",\"2015-05-29T00:00:00\",\"2015-06-01T00:00:00\",\"2015-06-02T00:00:00\",\"2015-06-03T00:00:00\",\"2015-06-04T00:00:00\",\"2015-06-05T00:00:00\",\"2015-06-08T00:00:00\",\"2015-06-09T00:00:00\",\"2015-06-10T00:00:00\",\"2015-06-11T00:00:00\",\"2015-06-12T00:00:00\",\"2015-06-15T00:00:00\",\"2015-06-16T00:00:00\",\"2015-06-17T00:00:00\",\"2015-06-18T00:00:00\",\"2015-06-19T00:00:00\",\"2015-06-22T00:00:00\",\"2015-06-23T00:00:00\",\"2015-06-24T00:00:00\",\"2015-06-25T00:00:00\",\"2015-06-26T00:00:00\",\"2015-06-29T00:00:00\",\"2015-06-30T00:00:00\",\"2015-07-01T00:00:00\",\"2015-07-02T00:00:00\",\"2015-07-06T00:00:00\",\"2015-07-07T00:00:00\",\"2015-07-08T00:00:00\",\"2015-07-09T00:00:00\",\"2015-07-10T00:00:00\",\"2015-07-13T00:00:00\",\"2015-07-14T00:00:00\",\"2015-07-15T00:00:00\",\"2015-07-16T00:00:00\",\"2015-07-17T00:00:00\",\"2015-07-20T00:00:00\",\"2015-07-21T00:00:00\",\"2015-07-22T00:00:00\",\"2015-07-23T00:00:00\",\"2015-07-24T00:00:00\",\"2015-07-27T00:00:00\",\"2015-07-28T00:00:00\",\"2015-07-29T00:00:00\",\"2015-07-30T00:00:00\",\"2015-07-31T00:00:00\",\"2015-08-03T00:00:00\",\"2015-08-04T00:00:00\",\"2015-08-05T00:00:00\",\"2015-08-06T00:00:00\",\"2015-08-07T00:00:00\",\"2015-08-10T00:00:00\",\"2015-08-11T00:00:00\",\"2015-08-12T00:00:00\",\"2015-08-13T00:00:00\",\"2015-08-14T00:00:00\",\"2015-08-17T00:00:00\",\"2015-08-18T00:00:00\",\"2015-08-19T00:00:00\",\"2015-08-20T00:00:00\",\"2015-08-21T00:00:00\",\"2015-08-24T00:00:00\",\"2015-08-25T00:00:00\",\"2015-08-26T00:00:00\",\"2015-08-27T00:00:00\",\"2015-08-28T00:00:00\",\"2015-08-31T00:00:00\",\"2015-09-01T00:00:00\",\"2015-09-02T00:00:00\",\"2015-09-03T00:00:00\",\"2015-09-04T00:00:00\",\"2015-09-08T00:00:00\",\"2015-09-09T00:00:00\",\"2015-09-10T00:00:00\",\"2015-09-11T00:00:00\",\"2015-09-14T00:00:00\",\"2015-09-15T00:00:00\",\"2015-09-16T00:00:00\",\"2015-09-17T00:00:00\",\"2015-09-18T00:00:00\",\"2015-09-21T00:00:00\",\"2015-09-22T00:00:00\",\"2015-09-23T00:00:00\",\"2015-09-24T00:00:00\",\"2015-09-25T00:00:00\",\"2015-09-28T00:00:00\",\"2015-09-29T00:00:00\",\"2015-09-30T00:00:00\",\"2015-10-01T00:00:00\",\"2015-10-02T00:00:00\",\"2015-10-05T00:00:00\",\"2015-10-06T00:00:00\",\"2015-10-07T00:00:00\",\"2015-10-08T00:00:00\",\"2015-10-09T00:00:00\",\"2015-10-12T00:00:00\",\"2015-10-13T00:00:00\",\"2015-10-14T00:00:00\",\"2015-10-15T00:00:00\",\"2015-10-16T00:00:00\",\"2015-10-19T00:00:00\",\"2015-10-20T00:00:00\",\"2015-10-21T00:00:00\",\"2015-10-22T00:00:00\",\"2015-10-23T00:00:00\",\"2015-10-26T00:00:00\",\"2015-10-27T00:00:00\",\"2015-10-28T00:00:00\",\"2015-10-29T00:00:00\",\"2015-10-30T00:00:00\",\"2015-11-02T00:00:00\",\"2015-11-03T00:00:00\",\"2015-11-04T00:00:00\",\"2015-11-05T00:00:00\",\"2015-11-06T00:00:00\",\"2015-11-09T00:00:00\",\"2015-11-10T00:00:00\",\"2015-11-11T00:00:00\",\"2015-11-12T00:00:00\",\"2015-11-13T00:00:00\",\"2015-11-16T00:00:00\",\"2015-11-17T00:00:00\",\"2015-11-18T00:00:00\",\"2015-11-19T00:00:00\",\"2015-11-20T00:00:00\",\"2015-11-23T00:00:00\",\"2015-11-24T00:00:00\",\"2015-11-25T00:00:00\",\"2015-11-27T00:00:00\",\"2015-11-30T00:00:00\",\"2015-12-01T00:00:00\",\"2015-12-02T00:00:00\",\"2015-12-03T00:00:00\",\"2015-12-04T00:00:00\",\"2015-12-07T00:00:00\",\"2015-12-08T00:00:00\",\"2015-12-09T00:00:00\",\"2015-12-10T00:00:00\",\"2015-12-11T00:00:00\",\"2015-12-14T00:00:00\",\"2015-12-15T00:00:00\",\"2015-12-16T00:00:00\",\"2015-12-17T00:00:00\",\"2015-12-18T00:00:00\",\"2015-12-21T00:00:00\",\"2015-12-22T00:00:00\",\"2015-12-23T00:00:00\",\"2015-12-24T00:00:00\",\"2015-12-28T00:00:00\",\"2015-12-29T00:00:00\",\"2015-12-30T00:00:00\",\"2015-12-31T00:00:00\",\"2016-01-04T00:00:00\",\"2016-01-05T00:00:00\",\"2016-01-06T00:00:00\",\"2016-01-07T00:00:00\",\"2016-01-08T00:00:00\",\"2016-01-11T00:00:00\",\"2016-01-12T00:00:00\",\"2016-01-13T00:00:00\",\"2016-01-14T00:00:00\",\"2016-01-15T00:00:00\",\"2016-01-19T00:00:00\",\"2016-01-20T00:00:00\",\"2016-01-21T00:00:00\",\"2016-01-22T00:00:00\",\"2016-01-25T00:00:00\",\"2016-01-26T00:00:00\",\"2016-01-27T00:00:00\",\"2016-01-28T00:00:00\",\"2016-01-29T00:00:00\",\"2016-02-01T00:00:00\",\"2016-02-02T00:00:00\",\"2016-02-03T00:00:00\",\"2016-02-04T00:00:00\",\"2016-02-05T00:00:00\",\"2016-02-08T00:00:00\",\"2016-02-09T00:00:00\",\"2016-02-10T00:00:00\",\"2016-02-11T00:00:00\",\"2016-02-12T00:00:00\",\"2016-02-16T00:00:00\",\"2016-02-17T00:00:00\",\"2016-02-18T00:00:00\",\"2016-02-19T00:00:00\",\"2016-02-22T00:00:00\",\"2016-02-23T00:00:00\",\"2016-02-24T00:00:00\",\"2016-02-25T00:00:00\",\"2016-02-26T00:00:00\",\"2016-02-29T00:00:00\",\"2016-03-01T00:00:00\",\"2016-03-02T00:00:00\",\"2016-03-03T00:00:00\",\"2016-03-04T00:00:00\",\"2016-03-07T00:00:00\",\"2016-03-08T00:00:00\",\"2016-03-09T00:00:00\",\"2016-03-10T00:00:00\",\"2016-03-11T00:00:00\",\"2016-03-14T00:00:00\",\"2016-03-15T00:00:00\",\"2016-03-16T00:00:00\",\"2016-03-17T00:00:00\",\"2016-03-18T00:00:00\",\"2016-03-21T00:00:00\",\"2016-03-22T00:00:00\",\"2016-03-23T00:00:00\",\"2016-03-24T00:00:00\",\"2016-03-28T00:00:00\",\"2016-03-29T00:00:00\",\"2016-03-30T00:00:00\",\"2016-03-31T00:00:00\",\"2016-04-01T00:00:00\",\"2016-04-04T00:00:00\",\"2016-04-05T00:00:00\",\"2016-04-06T00:00:00\",\"2016-04-07T00:00:00\",\"2016-04-08T00:00:00\",\"2016-04-11T00:00:00\",\"2016-04-12T00:00:00\",\"2016-04-13T00:00:00\",\"2016-04-14T00:00:00\",\"2016-04-15T00:00:00\",\"2016-04-18T00:00:00\",\"2016-04-19T00:00:00\",\"2016-04-20T00:00:00\",\"2016-04-21T00:00:00\",\"2016-04-22T00:00:00\",\"2016-04-25T00:00:00\",\"2016-04-26T00:00:00\",\"2016-04-27T00:00:00\",\"2016-04-28T00:00:00\",\"2016-04-29T00:00:00\",\"2016-05-02T00:00:00\",\"2016-05-03T00:00:00\",\"2016-05-04T00:00:00\",\"2016-05-05T00:00:00\",\"2016-05-06T00:00:00\",\"2016-05-09T00:00:00\",\"2016-05-10T00:00:00\",\"2016-05-11T00:00:00\",\"2016-05-12T00:00:00\",\"2016-05-13T00:00:00\",\"2016-05-16T00:00:00\",\"2016-05-17T00:00:00\",\"2016-05-18T00:00:00\",\"2016-05-19T00:00:00\",\"2016-05-20T00:00:00\",\"2016-05-23T00:00:00\",\"2016-05-24T00:00:00\",\"2016-05-25T00:00:00\",\"2016-05-26T00:00:00\",\"2016-05-27T00:00:00\",\"2016-05-31T00:00:00\",\"2016-06-01T00:00:00\",\"2016-06-02T00:00:00\",\"2016-06-03T00:00:00\",\"2016-06-06T00:00:00\",\"2016-06-07T00:00:00\",\"2016-06-08T00:00:00\",\"2016-06-09T00:00:00\",\"2016-06-10T00:00:00\",\"2016-06-13T00:00:00\",\"2016-06-14T00:00:00\",\"2016-06-15T00:00:00\",\"2016-06-16T00:00:00\",\"2016-06-17T00:00:00\",\"2016-06-20T00:00:00\",\"2016-06-21T00:00:00\",\"2016-06-22T00:00:00\",\"2016-06-23T00:00:00\",\"2016-06-24T00:00:00\",\"2016-06-27T00:00:00\",\"2016-06-28T00:00:00\",\"2016-06-29T00:00:00\",\"2016-06-30T00:00:00\",\"2016-07-01T00:00:00\",\"2016-07-05T00:00:00\",\"2016-07-06T00:00:00\",\"2016-07-07T00:00:00\",\"2016-07-08T00:00:00\",\"2016-07-11T00:00:00\",\"2016-07-12T00:00:00\",\"2016-07-13T00:00:00\",\"2016-07-14T00:00:00\",\"2016-07-15T00:00:00\",\"2016-07-18T00:00:00\",\"2016-07-19T00:00:00\",\"2016-07-20T00:00:00\",\"2016-07-21T00:00:00\",\"2016-07-22T00:00:00\",\"2016-07-25T00:00:00\",\"2016-07-26T00:00:00\",\"2016-07-27T00:00:00\",\"2016-07-28T00:00:00\",\"2016-07-29T00:00:00\",\"2016-08-01T00:00:00\",\"2016-08-02T00:00:00\",\"2016-08-03T00:00:00\",\"2016-08-04T00:00:00\",\"2016-08-05T00:00:00\",\"2016-08-08T00:00:00\",\"2016-08-09T00:00:00\",\"2016-08-10T00:00:00\",\"2016-08-11T00:00:00\",\"2016-08-12T00:00:00\",\"2016-08-15T00:00:00\",\"2016-08-16T00:00:00\",\"2016-08-17T00:00:00\",\"2016-08-18T00:00:00\",\"2016-08-19T00:00:00\",\"2016-08-22T00:00:00\",\"2016-08-23T00:00:00\",\"2016-08-24T00:00:00\",\"2016-08-25T00:00:00\",\"2016-08-26T00:00:00\",\"2016-08-29T00:00:00\",\"2016-08-30T00:00:00\",\"2016-08-31T00:00:00\",\"2016-09-01T00:00:00\",\"2016-09-02T00:00:00\",\"2016-09-06T00:00:00\",\"2016-09-07T00:00:00\",\"2016-09-08T00:00:00\",\"2016-09-09T00:00:00\",\"2016-09-12T00:00:00\",\"2016-09-13T00:00:00\",\"2016-09-14T00:00:00\",\"2016-09-15T00:00:00\",\"2016-09-16T00:00:00\",\"2016-09-19T00:00:00\",\"2016-09-20T00:00:00\",\"2016-09-21T00:00:00\",\"2016-09-22T00:00:00\",\"2016-09-23T00:00:00\",\"2016-09-26T00:00:00\",\"2016-09-27T00:00:00\",\"2016-09-28T00:00:00\",\"2016-09-29T00:00:00\",\"2016-09-30T00:00:00\",\"2016-10-03T00:00:00\",\"2016-10-04T00:00:00\",\"2016-10-05T00:00:00\",\"2016-10-06T00:00:00\",\"2016-10-07T00:00:00\",\"2016-10-10T00:00:00\",\"2016-10-11T00:00:00\",\"2016-10-12T00:00:00\",\"2016-10-13T00:00:00\",\"2016-10-14T00:00:00\",\"2016-10-17T00:00:00\",\"2016-10-18T00:00:00\",\"2016-10-19T00:00:00\",\"2016-10-20T00:00:00\",\"2016-10-21T00:00:00\",\"2016-10-24T00:00:00\",\"2016-10-25T00:00:00\",\"2016-10-26T00:00:00\",\"2016-10-27T00:00:00\",\"2016-10-28T00:00:00\",\"2016-10-31T00:00:00\",\"2016-11-01T00:00:00\",\"2016-11-02T00:00:00\",\"2016-11-03T00:00:00\",\"2016-11-04T00:00:00\",\"2016-11-07T00:00:00\",\"2016-11-08T00:00:00\",\"2016-11-09T00:00:00\",\"2016-11-10T00:00:00\",\"2016-11-11T00:00:00\",\"2016-11-14T00:00:00\",\"2016-11-15T00:00:00\",\"2016-11-16T00:00:00\",\"2016-11-17T00:00:00\",\"2016-11-18T00:00:00\",\"2016-11-21T00:00:00\",\"2016-11-22T00:00:00\",\"2016-11-23T00:00:00\",\"2016-11-25T00:00:00\",\"2016-11-28T00:00:00\",\"2016-11-29T00:00:00\",\"2016-11-30T00:00:00\",\"2016-12-01T00:00:00\",\"2016-12-02T00:00:00\",\"2016-12-05T00:00:00\",\"2016-12-06T00:00:00\",\"2016-12-07T00:00:00\",\"2016-12-08T00:00:00\",\"2016-12-09T00:00:00\",\"2016-12-12T00:00:00\",\"2016-12-13T00:00:00\",\"2016-12-14T00:00:00\",\"2016-12-15T00:00:00\",\"2016-12-16T00:00:00\",\"2016-12-19T00:00:00\",\"2016-12-20T00:00:00\",\"2016-12-21T00:00:00\",\"2016-12-22T00:00:00\",\"2016-12-23T00:00:00\",\"2016-12-27T00:00:00\",\"2016-12-28T00:00:00\",\"2016-12-29T00:00:00\",\"2016-12-30T00:00:00\",\"2017-01-03T00:00:00\",\"2017-01-04T00:00:00\",\"2017-01-05T00:00:00\",\"2017-01-06T00:00:00\",\"2017-01-09T00:00:00\",\"2017-01-10T00:00:00\",\"2017-01-11T00:00:00\",\"2017-01-12T00:00:00\",\"2017-01-13T00:00:00\",\"2017-01-17T00:00:00\",\"2017-01-18T00:00:00\",\"2017-01-19T00:00:00\",\"2017-01-20T00:00:00\",\"2017-01-23T00:00:00\",\"2017-01-24T00:00:00\",\"2017-01-25T00:00:00\",\"2017-01-26T00:00:00\",\"2017-01-27T00:00:00\",\"2017-01-30T00:00:00\",\"2017-01-31T00:00:00\",\"2017-02-01T00:00:00\",\"2017-02-02T00:00:00\",\"2017-02-03T00:00:00\",\"2017-02-06T00:00:00\",\"2017-02-07T00:00:00\",\"2017-02-08T00:00:00\",\"2017-02-09T00:00:00\",\"2017-02-10T00:00:00\",\"2017-02-13T00:00:00\",\"2017-02-14T00:00:00\",\"2017-02-15T00:00:00\",\"2017-02-16T00:00:00\",\"2017-02-17T00:00:00\",\"2017-02-21T00:00:00\",\"2017-02-22T00:00:00\",\"2017-02-23T00:00:00\",\"2017-02-24T00:00:00\",\"2017-02-27T00:00:00\",\"2017-02-28T00:00:00\",\"2017-03-01T00:00:00\",\"2017-03-02T00:00:00\",\"2017-03-03T00:00:00\",\"2017-03-06T00:00:00\",\"2017-03-07T00:00:00\",\"2017-03-08T00:00:00\",\"2017-03-09T00:00:00\",\"2017-03-10T00:00:00\",\"2017-03-13T00:00:00\",\"2017-03-14T00:00:00\",\"2017-03-15T00:00:00\",\"2017-03-16T00:00:00\",\"2017-03-17T00:00:00\",\"2017-03-20T00:00:00\",\"2017-03-21T00:00:00\",\"2017-03-22T00:00:00\",\"2017-03-23T00:00:00\",\"2017-03-24T00:00:00\",\"2017-03-27T00:00:00\",\"2017-03-28T00:00:00\",\"2017-03-29T00:00:00\",\"2017-03-30T00:00:00\",\"2017-03-31T00:00:00\",\"2017-04-03T00:00:00\",\"2017-04-04T00:00:00\",\"2017-04-05T00:00:00\",\"2017-04-06T00:00:00\",\"2017-04-07T00:00:00\",\"2017-04-10T00:00:00\",\"2017-04-11T00:00:00\",\"2017-04-12T00:00:00\",\"2017-04-13T00:00:00\",\"2017-04-17T00:00:00\",\"2017-04-18T00:00:00\",\"2017-04-19T00:00:00\",\"2017-04-20T00:00:00\",\"2017-04-21T00:00:00\",\"2017-04-24T00:00:00\",\"2017-04-25T00:00:00\",\"2017-04-26T00:00:00\",\"2017-04-27T00:00:00\",\"2017-04-28T00:00:00\",\"2017-05-01T00:00:00\",\"2017-05-02T00:00:00\",\"2017-05-03T00:00:00\",\"2017-05-04T00:00:00\",\"2017-05-05T00:00:00\",\"2017-05-08T00:00:00\",\"2017-05-09T00:00:00\",\"2017-05-10T00:00:00\",\"2017-05-11T00:00:00\",\"2017-05-12T00:00:00\",\"2017-05-15T00:00:00\",\"2017-05-16T00:00:00\",\"2017-05-17T00:00:00\",\"2017-05-18T00:00:00\",\"2017-05-19T00:00:00\",\"2017-05-22T00:00:00\",\"2017-05-23T00:00:00\",\"2017-05-24T00:00:00\",\"2017-05-25T00:00:00\",\"2017-05-26T00:00:00\",\"2017-05-30T00:00:00\",\"2017-05-31T00:00:00\",\"2017-06-01T00:00:00\",\"2017-06-02T00:00:00\",\"2017-06-05T00:00:00\",\"2017-06-06T00:00:00\",\"2017-06-07T00:00:00\",\"2017-06-08T00:00:00\",\"2017-06-09T00:00:00\",\"2017-06-12T00:00:00\",\"2017-06-13T00:00:00\",\"2017-06-14T00:00:00\",\"2017-06-15T00:00:00\",\"2017-06-16T00:00:00\",\"2017-06-19T00:00:00\",\"2017-06-20T00:00:00\",\"2017-06-21T00:00:00\",\"2017-06-22T00:00:00\",\"2017-06-23T00:00:00\",\"2017-06-26T00:00:00\",\"2017-06-27T00:00:00\",\"2017-06-28T00:00:00\",\"2017-06-29T00:00:00\",\"2017-06-30T00:00:00\",\"2017-07-03T00:00:00\",\"2017-07-05T00:00:00\",\"2017-07-06T00:00:00\",\"2017-07-07T00:00:00\",\"2017-07-10T00:00:00\",\"2017-07-11T00:00:00\",\"2017-07-12T00:00:00\",\"2017-07-13T00:00:00\",\"2017-07-14T00:00:00\",\"2017-07-17T00:00:00\",\"2017-07-18T00:00:00\",\"2017-07-19T00:00:00\",\"2017-07-20T00:00:00\",\"2017-07-21T00:00:00\",\"2017-07-24T00:00:00\",\"2017-07-25T00:00:00\",\"2017-07-26T00:00:00\",\"2017-07-27T00:00:00\",\"2017-07-28T00:00:00\",\"2017-07-31T00:00:00\",\"2017-08-01T00:00:00\",\"2017-08-02T00:00:00\",\"2017-08-03T00:00:00\",\"2017-08-04T00:00:00\",\"2017-08-07T00:00:00\",\"2017-08-08T00:00:00\",\"2017-08-09T00:00:00\",\"2017-08-10T00:00:00\",\"2017-08-11T00:00:00\",\"2017-08-14T00:00:00\",\"2017-08-15T00:00:00\",\"2017-08-16T00:00:00\",\"2017-08-17T00:00:00\",\"2017-08-18T00:00:00\",\"2017-08-21T00:00:00\",\"2017-08-22T00:00:00\",\"2017-08-23T00:00:00\",\"2017-08-24T00:00:00\",\"2017-08-25T00:00:00\",\"2017-08-28T00:00:00\",\"2017-08-29T00:00:00\",\"2017-08-30T00:00:00\",\"2017-08-31T00:00:00\",\"2017-09-01T00:00:00\",\"2017-09-05T00:00:00\",\"2017-09-06T00:00:00\",\"2017-09-07T00:00:00\",\"2017-09-08T00:00:00\",\"2017-09-11T00:00:00\",\"2017-09-12T00:00:00\",\"2017-09-13T00:00:00\",\"2017-09-14T00:00:00\",\"2017-09-15T00:00:00\",\"2017-09-18T00:00:00\",\"2017-09-19T00:00:00\",\"2017-09-20T00:00:00\",\"2017-09-21T00:00:00\",\"2017-09-22T00:00:00\",\"2017-09-25T00:00:00\",\"2017-09-26T00:00:00\",\"2017-09-27T00:00:00\",\"2017-09-28T00:00:00\",\"2017-09-29T00:00:00\",\"2017-10-02T00:00:00\",\"2017-10-03T00:00:00\",\"2017-10-04T00:00:00\",\"2017-10-05T00:00:00\",\"2017-10-06T00:00:00\",\"2017-10-09T00:00:00\",\"2017-10-10T00:00:00\",\"2017-10-11T00:00:00\",\"2017-10-12T00:00:00\",\"2017-10-13T00:00:00\",\"2017-10-16T00:00:00\",\"2017-10-17T00:00:00\",\"2017-10-18T00:00:00\",\"2017-10-19T00:00:00\",\"2017-10-20T00:00:00\",\"2017-10-23T00:00:00\",\"2017-10-24T00:00:00\",\"2017-10-25T00:00:00\",\"2017-10-26T00:00:00\",\"2017-10-27T00:00:00\",\"2017-10-30T00:00:00\",\"2017-10-31T00:00:00\",\"2017-11-01T00:00:00\",\"2017-11-02T00:00:00\",\"2017-11-03T00:00:00\",\"2017-11-06T00:00:00\",\"2017-11-07T00:00:00\",\"2017-11-08T00:00:00\",\"2017-11-09T00:00:00\",\"2017-11-10T00:00:00\",\"2017-11-13T00:00:00\",\"2017-11-14T00:00:00\",\"2017-11-15T00:00:00\",\"2017-11-16T00:00:00\",\"2017-11-17T00:00:00\",\"2017-11-20T00:00:00\",\"2017-11-21T00:00:00\",\"2017-11-22T00:00:00\",\"2017-11-24T00:00:00\",\"2017-11-27T00:00:00\",\"2017-11-28T00:00:00\",\"2017-11-29T00:00:00\",\"2017-11-30T00:00:00\",\"2017-12-01T00:00:00\",\"2017-12-04T00:00:00\",\"2017-12-05T00:00:00\",\"2017-12-06T00:00:00\",\"2017-12-07T00:00:00\",\"2017-12-08T00:00:00\",\"2017-12-11T00:00:00\",\"2017-12-12T00:00:00\",\"2017-12-13T00:00:00\",\"2017-12-14T00:00:00\",\"2017-12-15T00:00:00\",\"2017-12-18T00:00:00\",\"2017-12-19T00:00:00\",\"2017-12-20T00:00:00\",\"2017-12-21T00:00:00\",\"2017-12-22T00:00:00\",\"2017-12-26T00:00:00\",\"2017-12-27T00:00:00\",\"2017-12-28T00:00:00\",\"2017-12-29T00:00:00\",\"2018-01-02T00:00:00\",\"2018-01-03T00:00:00\",\"2018-01-04T00:00:00\",\"2018-01-05T00:00:00\",\"2018-01-08T00:00:00\",\"2018-01-09T00:00:00\",\"2018-01-10T00:00:00\",\"2018-01-11T00:00:00\",\"2018-01-12T00:00:00\",\"2018-01-16T00:00:00\",\"2018-01-17T00:00:00\",\"2018-01-18T00:00:00\",\"2018-01-19T00:00:00\",\"2018-01-22T00:00:00\",\"2018-01-23T00:00:00\",\"2018-01-24T00:00:00\",\"2018-01-25T00:00:00\",\"2018-01-26T00:00:00\",\"2018-01-29T00:00:00\",\"2018-01-30T00:00:00\",\"2018-01-31T00:00:00\",\"2018-02-01T00:00:00\",\"2018-02-02T00:00:00\",\"2018-02-05T00:00:00\",\"2018-02-06T00:00:00\",\"2018-02-07T00:00:00\",\"2018-02-08T00:00:00\",\"2018-02-09T00:00:00\",\"2018-02-12T00:00:00\",\"2018-02-13T00:00:00\",\"2018-02-14T00:00:00\",\"2018-02-15T00:00:00\",\"2018-02-16T00:00:00\",\"2018-02-20T00:00:00\",\"2018-02-21T00:00:00\",\"2018-02-22T00:00:00\",\"2018-02-23T00:00:00\",\"2018-02-26T00:00:00\",\"2018-02-27T00:00:00\",\"2018-02-28T00:00:00\",\"2018-03-01T00:00:00\",\"2018-03-02T00:00:00\",\"2018-03-05T00:00:00\",\"2018-03-06T00:00:00\",\"2018-03-07T00:00:00\",\"2018-03-08T00:00:00\",\"2018-03-09T00:00:00\",\"2018-03-12T00:00:00\",\"2018-03-13T00:00:00\",\"2018-03-14T00:00:00\",\"2018-03-15T00:00:00\",\"2018-03-16T00:00:00\",\"2018-03-19T00:00:00\",\"2018-03-20T00:00:00\",\"2018-03-21T00:00:00\",\"2018-03-22T00:00:00\",\"2018-03-23T00:00:00\",\"2018-03-26T00:00:00\",\"2018-03-27T00:00:00\",\"2018-03-28T00:00:00\",\"2018-03-29T00:00:00\",\"2018-04-02T00:00:00\",\"2018-04-03T00:00:00\",\"2018-04-04T00:00:00\",\"2018-04-05T00:00:00\",\"2018-04-06T00:00:00\",\"2018-04-09T00:00:00\",\"2018-04-10T00:00:00\",\"2018-04-11T00:00:00\",\"2018-04-12T00:00:00\",\"2018-04-13T00:00:00\",\"2018-04-16T00:00:00\",\"2018-04-17T00:00:00\",\"2018-04-18T00:00:00\",\"2018-04-19T00:00:00\",\"2018-04-20T00:00:00\",\"2018-04-23T00:00:00\",\"2018-04-24T00:00:00\",\"2018-04-25T00:00:00\",\"2018-04-26T00:00:00\",\"2018-04-27T00:00:00\",\"2018-04-30T00:00:00\",\"2018-05-01T00:00:00\",\"2018-05-02T00:00:00\",\"2018-05-03T00:00:00\",\"2018-05-04T00:00:00\",\"2018-05-07T00:00:00\",\"2018-05-08T00:00:00\",\"2018-05-09T00:00:00\",\"2018-05-10T00:00:00\",\"2018-05-11T00:00:00\",\"2018-05-14T00:00:00\",\"2018-05-15T00:00:00\",\"2018-05-16T00:00:00\",\"2018-05-17T00:00:00\",\"2018-05-18T00:00:00\",\"2018-05-21T00:00:00\",\"2018-05-22T00:00:00\",\"2018-05-23T00:00:00\",\"2018-05-24T00:00:00\",\"2018-05-25T00:00:00\",\"2018-05-29T00:00:00\",\"2018-05-30T00:00:00\",\"2018-05-31T00:00:00\",\"2018-06-01T00:00:00\",\"2018-06-04T00:00:00\",\"2018-06-05T00:00:00\",\"2018-06-06T00:00:00\",\"2018-06-07T00:00:00\",\"2018-06-08T00:00:00\",\"2018-06-11T00:00:00\",\"2018-06-12T00:00:00\",\"2018-06-13T00:00:00\",\"2018-06-14T00:00:00\",\"2018-06-15T00:00:00\",\"2018-06-18T00:00:00\",\"2018-06-19T00:00:00\",\"2018-06-20T00:00:00\",\"2018-06-21T00:00:00\",\"2018-06-22T00:00:00\",\"2018-06-25T00:00:00\",\"2018-06-26T00:00:00\",\"2018-06-27T00:00:00\",\"2018-06-28T00:00:00\",\"2018-06-29T00:00:00\",\"2018-07-02T00:00:00\",\"2018-07-03T00:00:00\",\"2018-07-05T00:00:00\",\"2018-07-06T00:00:00\",\"2018-07-09T00:00:00\",\"2018-07-10T00:00:00\",\"2018-07-11T00:00:00\",\"2018-07-12T00:00:00\",\"2018-07-13T00:00:00\",\"2018-07-16T00:00:00\",\"2018-07-17T00:00:00\",\"2018-07-18T00:00:00\",\"2018-07-19T00:00:00\",\"2018-07-20T00:00:00\",\"2018-07-23T00:00:00\",\"2018-07-24T00:00:00\",\"2018-07-25T00:00:00\",\"2018-07-26T00:00:00\",\"2018-07-27T00:00:00\",\"2018-07-30T00:00:00\",\"2018-07-31T00:00:00\",\"2018-08-01T00:00:00\",\"2018-08-02T00:00:00\",\"2018-08-03T00:00:00\",\"2018-08-06T00:00:00\",\"2018-08-07T00:00:00\",\"2018-08-08T00:00:00\",\"2018-08-09T00:00:00\",\"2018-08-10T00:00:00\",\"2018-08-13T00:00:00\",\"2018-08-14T00:00:00\",\"2018-08-15T00:00:00\",\"2018-08-16T00:00:00\",\"2018-08-17T00:00:00\",\"2018-08-20T00:00:00\",\"2018-08-21T00:00:00\",\"2018-08-22T00:00:00\",\"2018-08-23T00:00:00\",\"2018-08-24T00:00:00\",\"2018-08-27T00:00:00\",\"2018-08-28T00:00:00\",\"2018-08-29T00:00:00\",\"2018-08-30T00:00:00\",\"2018-08-31T00:00:00\",\"2018-09-04T00:00:00\",\"2018-09-05T00:00:00\",\"2018-09-06T00:00:00\",\"2018-09-07T00:00:00\",\"2018-09-10T00:00:00\",\"2018-09-11T00:00:00\",\"2018-09-12T00:00:00\",\"2018-09-13T00:00:00\",\"2018-09-14T00:00:00\",\"2018-09-17T00:00:00\",\"2018-09-18T00:00:00\",\"2018-09-19T00:00:00\",\"2018-09-20T00:00:00\",\"2018-09-21T00:00:00\",\"2018-09-24T00:00:00\",\"2018-09-25T00:00:00\",\"2018-09-26T00:00:00\",\"2018-09-27T00:00:00\",\"2018-09-28T00:00:00\",\"2018-10-01T00:00:00\",\"2018-10-02T00:00:00\",\"2018-10-03T00:00:00\",\"2018-10-04T00:00:00\",\"2018-10-05T00:00:00\",\"2018-10-08T00:00:00\",\"2018-10-09T00:00:00\",\"2018-10-10T00:00:00\",\"2018-10-11T00:00:00\",\"2018-10-12T00:00:00\",\"2018-10-15T00:00:00\",\"2018-10-16T00:00:00\",\"2018-10-17T00:00:00\",\"2018-10-18T00:00:00\",\"2018-10-19T00:00:00\",\"2018-10-22T00:00:00\",\"2018-10-23T00:00:00\",\"2018-10-24T00:00:00\",\"2018-10-25T00:00:00\",\"2018-10-26T00:00:00\",\"2018-10-29T00:00:00\",\"2018-10-30T00:00:00\",\"2018-10-31T00:00:00\",\"2018-11-01T00:00:00\",\"2018-11-02T00:00:00\",\"2018-11-05T00:00:00\",\"2018-11-06T00:00:00\",\"2018-11-07T00:00:00\",\"2018-11-08T00:00:00\",\"2018-11-09T00:00:00\",\"2018-11-12T00:00:00\",\"2018-11-13T00:00:00\",\"2018-11-14T00:00:00\",\"2018-11-15T00:00:00\",\"2018-11-16T00:00:00\",\"2018-11-19T00:00:00\",\"2018-11-20T00:00:00\",\"2018-11-21T00:00:00\",\"2018-11-23T00:00:00\",\"2018-11-26T00:00:00\",\"2018-11-27T00:00:00\",\"2018-11-28T00:00:00\",\"2018-11-29T00:00:00\",\"2018-11-30T00:00:00\",\"2018-12-03T00:00:00\",\"2018-12-04T00:00:00\",\"2018-12-06T00:00:00\",\"2018-12-07T00:00:00\",\"2018-12-10T00:00:00\",\"2018-12-11T00:00:00\",\"2018-12-12T00:00:00\",\"2018-12-13T00:00:00\",\"2018-12-14T00:00:00\",\"2018-12-17T00:00:00\",\"2018-12-18T00:00:00\",\"2018-12-19T00:00:00\",\"2018-12-20T00:00:00\",\"2018-12-21T00:00:00\",\"2018-12-24T00:00:00\",\"2018-12-26T00:00:00\",\"2018-12-27T00:00:00\",\"2018-12-28T00:00:00\",\"2018-12-31T00:00:00\",\"2019-01-02T00:00:00\",\"2019-01-03T00:00:00\",\"2019-01-04T00:00:00\",\"2019-01-07T00:00:00\",\"2019-01-08T00:00:00\",\"2019-01-09T00:00:00\",\"2019-01-10T00:00:00\",\"2019-01-11T00:00:00\",\"2019-01-14T00:00:00\",\"2019-01-15T00:00:00\",\"2019-01-16T00:00:00\",\"2019-01-17T00:00:00\",\"2019-01-18T00:00:00\",\"2019-01-22T00:00:00\",\"2019-01-23T00:00:00\",\"2019-01-24T00:00:00\",\"2019-01-25T00:00:00\",\"2019-01-28T00:00:00\",\"2019-01-29T00:00:00\",\"2019-01-30T00:00:00\",\"2019-01-31T00:00:00\",\"2019-02-01T00:00:00\",\"2019-02-04T00:00:00\",\"2019-02-05T00:00:00\",\"2019-02-06T00:00:00\",\"2019-02-07T00:00:00\",\"2019-02-08T00:00:00\",\"2019-02-11T00:00:00\",\"2019-02-12T00:00:00\",\"2019-02-13T00:00:00\",\"2019-02-14T00:00:00\",\"2019-02-15T00:00:00\",\"2019-02-19T00:00:00\",\"2019-02-20T00:00:00\",\"2019-02-21T00:00:00\",\"2019-02-22T00:00:00\",\"2019-02-25T00:00:00\",\"2019-02-26T00:00:00\",\"2019-02-27T00:00:00\",\"2019-02-28T00:00:00\",\"2019-03-01T00:00:00\",\"2019-03-04T00:00:00\",\"2019-03-05T00:00:00\",\"2019-03-06T00:00:00\",\"2019-03-07T00:00:00\",\"2019-03-08T00:00:00\",\"2019-03-11T00:00:00\",\"2019-03-12T00:00:00\",\"2019-03-13T00:00:00\",\"2019-03-14T00:00:00\",\"2019-03-15T00:00:00\",\"2019-03-18T00:00:00\",\"2019-03-19T00:00:00\",\"2019-03-20T00:00:00\",\"2019-03-21T00:00:00\",\"2019-03-22T00:00:00\",\"2019-03-25T00:00:00\",\"2019-03-26T00:00:00\",\"2019-03-27T00:00:00\",\"2019-03-28T00:00:00\",\"2019-03-29T00:00:00\",\"2019-04-01T00:00:00\",\"2019-04-02T00:00:00\",\"2019-04-03T00:00:00\",\"2019-04-04T00:00:00\",\"2019-04-05T00:00:00\",\"2019-04-08T00:00:00\",\"2019-04-09T00:00:00\",\"2019-04-10T00:00:00\",\"2019-04-11T00:00:00\",\"2019-04-12T00:00:00\",\"2019-04-15T00:00:00\",\"2019-04-16T00:00:00\",\"2019-04-17T00:00:00\",\"2019-04-18T00:00:00\",\"2019-04-22T00:00:00\",\"2019-04-23T00:00:00\",\"2019-04-24T00:00:00\",\"2019-04-25T00:00:00\",\"2019-04-26T00:00:00\",\"2019-04-29T00:00:00\",\"2019-04-30T00:00:00\",\"2019-05-01T00:00:00\",\"2019-05-02T00:00:00\",\"2019-05-03T00:00:00\",\"2019-05-06T00:00:00\",\"2019-05-07T00:00:00\",\"2019-05-08T00:00:00\",\"2019-05-09T00:00:00\",\"2019-05-10T00:00:00\",\"2019-05-13T00:00:00\",\"2019-05-14T00:00:00\",\"2019-05-15T00:00:00\",\"2019-05-16T00:00:00\",\"2019-05-17T00:00:00\",\"2019-05-20T00:00:00\",\"2019-05-21T00:00:00\",\"2019-05-22T00:00:00\",\"2019-05-23T00:00:00\",\"2019-05-24T00:00:00\",\"2019-05-28T00:00:00\",\"2019-05-29T00:00:00\",\"2019-05-30T00:00:00\",\"2019-05-31T00:00:00\",\"2019-06-03T00:00:00\",\"2019-06-04T00:00:00\",\"2019-06-05T00:00:00\",\"2019-06-06T00:00:00\",\"2019-06-07T00:00:00\",\"2019-06-10T00:00:00\",\"2019-06-11T00:00:00\",\"2019-06-12T00:00:00\",\"2019-06-13T00:00:00\",\"2019-06-14T00:00:00\",\"2019-06-17T00:00:00\",\"2019-06-18T00:00:00\",\"2019-06-19T00:00:00\",\"2019-06-20T00:00:00\",\"2019-06-21T00:00:00\",\"2019-06-24T00:00:00\",\"2019-06-25T00:00:00\",\"2019-06-26T00:00:00\",\"2019-06-27T00:00:00\",\"2019-06-28T00:00:00\",\"2019-07-01T00:00:00\",\"2019-07-02T00:00:00\",\"2019-07-03T00:00:00\",\"2019-07-05T00:00:00\",\"2019-07-08T00:00:00\",\"2019-07-09T00:00:00\",\"2019-07-10T00:00:00\",\"2019-07-11T00:00:00\",\"2019-07-12T00:00:00\",\"2019-07-15T00:00:00\",\"2019-07-16T00:00:00\",\"2019-07-17T00:00:00\",\"2019-07-18T00:00:00\",\"2019-07-19T00:00:00\",\"2019-07-22T00:00:00\",\"2019-07-23T00:00:00\",\"2019-07-24T00:00:00\",\"2019-07-25T00:00:00\",\"2019-07-26T00:00:00\",\"2019-07-29T00:00:00\",\"2019-07-30T00:00:00\",\"2019-07-31T00:00:00\",\"2019-08-01T00:00:00\",\"2019-08-02T00:00:00\",\"2019-08-05T00:00:00\",\"2019-08-06T00:00:00\",\"2019-08-07T00:00:00\",\"2019-08-08T00:00:00\",\"2019-08-09T00:00:00\",\"2019-08-12T00:00:00\",\"2019-08-13T00:00:00\",\"2019-08-14T00:00:00\",\"2019-08-15T00:00:00\",\"2019-08-16T00:00:00\",\"2019-08-19T00:00:00\",\"2019-08-20T00:00:00\",\"2019-08-21T00:00:00\",\"2019-08-22T00:00:00\",\"2019-08-23T00:00:00\",\"2019-08-26T00:00:00\",\"2019-08-27T00:00:00\",\"2019-08-28T00:00:00\",\"2019-08-29T00:00:00\",\"2019-08-30T00:00:00\",\"2019-09-03T00:00:00\",\"2019-09-04T00:00:00\",\"2019-09-05T00:00:00\",\"2019-09-06T00:00:00\",\"2019-09-09T00:00:00\",\"2019-09-10T00:00:00\",\"2019-09-11T00:00:00\",\"2019-09-12T00:00:00\",\"2019-09-13T00:00:00\",\"2019-09-16T00:00:00\",\"2019-09-17T00:00:00\",\"2019-09-18T00:00:00\",\"2019-09-19T00:00:00\",\"2019-09-20T00:00:00\",\"2019-09-23T00:00:00\",\"2019-09-24T00:00:00\",\"2019-09-25T00:00:00\",\"2019-09-26T00:00:00\",\"2019-09-27T00:00:00\",\"2019-09-30T00:00:00\",\"2019-10-01T00:00:00\",\"2019-10-02T00:00:00\",\"2019-10-03T00:00:00\",\"2019-10-04T00:00:00\",\"2019-10-07T00:00:00\",\"2019-10-08T00:00:00\",\"2019-10-09T00:00:00\",\"2019-10-10T00:00:00\",\"2019-10-11T00:00:00\",\"2019-10-14T00:00:00\",\"2019-10-15T00:00:00\",\"2019-10-16T00:00:00\",\"2019-10-17T00:00:00\",\"2019-10-18T00:00:00\",\"2019-10-21T00:00:00\",\"2019-10-22T00:00:00\",\"2019-10-23T00:00:00\",\"2019-10-24T00:00:00\",\"2019-10-25T00:00:00\",\"2019-10-28T00:00:00\",\"2019-10-29T00:00:00\",\"2019-10-30T00:00:00\",\"2019-10-31T00:00:00\",\"2019-11-01T00:00:00\",\"2019-11-04T00:00:00\",\"2019-11-05T00:00:00\",\"2019-11-06T00:00:00\",\"2019-11-07T00:00:00\",\"2019-11-08T00:00:00\",\"2019-11-11T00:00:00\",\"2019-11-12T00:00:00\",\"2019-11-13T00:00:00\",\"2019-11-14T00:00:00\",\"2019-11-15T00:00:00\",\"2019-11-18T00:00:00\",\"2019-11-19T00:00:00\",\"2019-11-20T00:00:00\",\"2019-11-21T00:00:00\",\"2019-11-22T00:00:00\",\"2019-11-25T00:00:00\",\"2019-11-26T00:00:00\",\"2019-11-27T00:00:00\",\"2019-11-29T00:00:00\",\"2019-12-02T00:00:00\",\"2019-12-03T00:00:00\",\"2019-12-04T00:00:00\",\"2019-12-05T00:00:00\",\"2019-12-06T00:00:00\",\"2019-12-09T00:00:00\",\"2019-12-10T00:00:00\",\"2019-12-11T00:00:00\",\"2019-12-12T00:00:00\",\"2019-12-13T00:00:00\",\"2019-12-16T00:00:00\",\"2019-12-17T00:00:00\",\"2019-12-18T00:00:00\",\"2019-12-19T00:00:00\",\"2019-12-20T00:00:00\",\"2019-12-23T00:00:00\",\"2019-12-24T00:00:00\",\"2019-12-26T00:00:00\",\"2019-12-27T00:00:00\",\"2019-12-30T00:00:00\",\"2019-12-31T00:00:00\",\"2020-01-02T00:00:00\",\"2020-01-03T00:00:00\",\"2020-01-06T00:00:00\",\"2020-01-07T00:00:00\",\"2020-01-08T00:00:00\",\"2020-01-09T00:00:00\",\"2020-01-10T00:00:00\",\"2020-01-13T00:00:00\",\"2020-01-14T00:00:00\",\"2020-01-15T00:00:00\",\"2020-01-16T00:00:00\",\"2020-01-17T00:00:00\",\"2020-01-21T00:00:00\",\"2020-01-22T00:00:00\",\"2020-01-23T00:00:00\",\"2020-01-24T00:00:00\",\"2020-01-27T00:00:00\",\"2020-01-28T00:00:00\",\"2020-01-29T00:00:00\",\"2020-01-30T00:00:00\",\"2020-01-31T00:00:00\",\"2020-02-03T00:00:00\",\"2020-02-04T00:00:00\",\"2020-02-05T00:00:00\",\"2020-02-06T00:00:00\",\"2020-02-07T00:00:00\",\"2020-02-10T00:00:00\",\"2020-02-11T00:00:00\",\"2020-02-12T00:00:00\",\"2020-02-13T00:00:00\",\"2020-02-14T00:00:00\",\"2020-02-18T00:00:00\",\"2020-02-19T00:00:00\",\"2020-02-20T00:00:00\",\"2020-02-21T00:00:00\",\"2020-02-24T00:00:00\",\"2020-02-25T00:00:00\",\"2020-02-26T00:00:00\",\"2020-02-27T00:00:00\",\"2020-02-28T00:00:00\",\"2020-03-02T00:00:00\",\"2020-03-03T00:00:00\",\"2020-03-04T00:00:00\",\"2020-03-05T00:00:00\",\"2020-03-06T00:00:00\",\"2020-03-09T00:00:00\",\"2020-03-10T00:00:00\",\"2020-03-11T00:00:00\",\"2020-03-12T00:00:00\",\"2020-03-13T00:00:00\",\"2020-03-16T00:00:00\",\"2020-03-17T00:00:00\",\"2020-03-18T00:00:00\",\"2020-03-19T00:00:00\",\"2020-03-20T00:00:00\",\"2020-03-23T00:00:00\",\"2020-03-24T00:00:00\",\"2020-03-25T00:00:00\",\"2020-03-26T00:00:00\",\"2020-03-27T00:00:00\",\"2020-03-30T00:00:00\",\"2020-03-31T00:00:00\",\"2020-04-01T00:00:00\",\"2020-04-02T00:00:00\",\"2020-04-03T00:00:00\",\"2020-04-06T00:00:00\",\"2020-04-07T00:00:00\",\"2020-04-08T00:00:00\",\"2020-04-09T00:00:00\",\"2020-04-13T00:00:00\",\"2020-04-14T00:00:00\",\"2020-04-15T00:00:00\",\"2020-04-16T00:00:00\",\"2020-04-17T00:00:00\",\"2020-04-20T00:00:00\",\"2020-04-21T00:00:00\",\"2020-04-22T00:00:00\",\"2020-04-23T00:00:00\",\"2020-04-24T00:00:00\",\"2020-04-27T00:00:00\",\"2020-04-28T00:00:00\",\"2020-04-29T00:00:00\",\"2020-04-30T00:00:00\",\"2020-05-01T00:00:00\",\"2020-05-04T00:00:00\",\"2020-05-05T00:00:00\",\"2020-05-06T00:00:00\",\"2020-05-07T00:00:00\",\"2020-05-08T00:00:00\",\"2020-05-11T00:00:00\",\"2020-05-12T00:00:00\",\"2020-05-13T00:00:00\",\"2020-05-14T00:00:00\",\"2020-05-15T00:00:00\",\"2020-05-18T00:00:00\",\"2020-05-19T00:00:00\",\"2020-05-20T00:00:00\",\"2020-05-21T00:00:00\",\"2020-05-22T00:00:00\",\"2020-05-26T00:00:00\",\"2020-05-27T00:00:00\",\"2020-05-28T00:00:00\",\"2020-05-29T00:00:00\",\"2020-06-01T00:00:00\",\"2020-06-02T00:00:00\",\"2020-06-03T00:00:00\",\"2020-06-04T00:00:00\",\"2020-06-05T00:00:00\",\"2020-06-08T00:00:00\",\"2020-06-09T00:00:00\",\"2020-06-10T00:00:00\",\"2020-06-11T00:00:00\",\"2020-06-12T00:00:00\",\"2020-06-15T00:00:00\",\"2020-06-16T00:00:00\",\"2020-06-17T00:00:00\",\"2020-06-18T00:00:00\",\"2020-06-19T00:00:00\",\"2020-06-22T00:00:00\",\"2020-06-23T00:00:00\",\"2020-06-24T00:00:00\",\"2020-06-25T00:00:00\",\"2020-06-26T00:00:00\",\"2020-06-29T00:00:00\",\"2020-06-30T00:00:00\",\"2020-07-01T00:00:00\",\"2020-07-02T00:00:00\",\"2020-07-06T00:00:00\",\"2020-07-07T00:00:00\",\"2020-07-08T00:00:00\",\"2020-07-09T00:00:00\",\"2020-07-10T00:00:00\",\"2020-07-13T00:00:00\",\"2020-07-14T00:00:00\",\"2020-07-15T00:00:00\",\"2020-07-16T00:00:00\",\"2020-07-17T00:00:00\",\"2020-07-20T00:00:00\",\"2020-07-21T00:00:00\",\"2020-07-22T00:00:00\",\"2020-07-23T00:00:00\",\"2020-07-24T00:00:00\",\"2020-07-27T00:00:00\",\"2020-07-28T00:00:00\",\"2020-07-29T00:00:00\",\"2020-07-30T00:00:00\",\"2020-07-31T00:00:00\",\"2020-08-03T00:00:00\",\"2020-08-04T00:00:00\",\"2020-08-05T00:00:00\",\"2020-08-06T00:00:00\",\"2020-08-07T00:00:00\",\"2020-08-10T00:00:00\",\"2020-08-11T00:00:00\",\"2020-08-12T00:00:00\",\"2020-08-13T00:00:00\",\"2020-08-14T00:00:00\",\"2020-08-17T00:00:00\",\"2020-08-18T00:00:00\",\"2020-08-19T00:00:00\",\"2020-08-20T00:00:00\",\"2020-08-21T00:00:00\",\"2020-08-24T00:00:00\",\"2020-08-25T00:00:00\",\"2020-08-26T00:00:00\",\"2020-08-27T00:00:00\",\"2020-08-28T00:00:00\",\"2020-08-31T00:00:00\",\"2020-09-01T00:00:00\",\"2020-09-02T00:00:00\",\"2020-09-03T00:00:00\",\"2020-09-04T00:00:00\",\"2020-09-08T00:00:00\",\"2020-09-09T00:00:00\",\"2020-09-10T00:00:00\",\"2020-09-11T00:00:00\",\"2020-09-14T00:00:00\",\"2020-09-15T00:00:00\",\"2020-09-16T00:00:00\",\"2020-09-17T00:00:00\",\"2020-09-18T00:00:00\",\"2020-09-21T00:00:00\",\"2020-09-22T00:00:00\",\"2020-09-23T00:00:00\",\"2020-09-24T00:00:00\",\"2020-09-25T00:00:00\",\"2020-09-28T00:00:00\",\"2020-09-29T00:00:00\",\"2020-09-30T00:00:00\",\"2020-10-01T00:00:00\",\"2020-10-02T00:00:00\",\"2020-10-05T00:00:00\",\"2020-10-06T00:00:00\",\"2020-10-07T00:00:00\",\"2020-10-08T00:00:00\",\"2020-10-09T00:00:00\",\"2020-10-12T00:00:00\",\"2020-10-13T00:00:00\",\"2020-10-14T00:00:00\",\"2020-10-15T00:00:00\",\"2020-10-16T00:00:00\",\"2020-10-19T00:00:00\",\"2020-10-20T00:00:00\",\"2020-10-21T00:00:00\",\"2020-10-22T00:00:00\",\"2020-10-23T00:00:00\",\"2020-10-26T00:00:00\",\"2020-10-27T00:00:00\",\"2020-10-28T00:00:00\",\"2020-10-29T00:00:00\",\"2020-10-30T00:00:00\",\"2020-11-02T00:00:00\",\"2020-11-03T00:00:00\",\"2020-11-04T00:00:00\",\"2020-11-05T00:00:00\",\"2020-11-06T00:00:00\",\"2020-11-09T00:00:00\",\"2020-11-10T00:00:00\",\"2020-11-11T00:00:00\",\"2020-11-12T00:00:00\",\"2020-11-13T00:00:00\",\"2020-11-16T00:00:00\",\"2020-11-17T00:00:00\",\"2020-11-18T00:00:00\",\"2020-11-19T00:00:00\",\"2020-11-20T00:00:00\",\"2020-11-23T00:00:00\",\"2020-11-24T00:00:00\",\"2020-11-25T00:00:00\",\"2020-11-27T00:00:00\",\"2020-11-30T00:00:00\",\"2020-12-01T00:00:00\",\"2020-12-02T00:00:00\",\"2020-12-03T00:00:00\",\"2020-12-04T00:00:00\",\"2020-12-07T00:00:00\",\"2020-12-08T00:00:00\",\"2020-12-09T00:00:00\",\"2020-12-10T00:00:00\",\"2020-12-11T00:00:00\",\"2020-12-14T00:00:00\",\"2020-12-15T00:00:00\",\"2020-12-16T00:00:00\",\"2020-12-17T00:00:00\",\"2020-12-18T00:00:00\",\"2020-12-21T00:00:00\",\"2020-12-22T00:00:00\",\"2020-12-23T00:00:00\",\"2020-12-24T00:00:00\",\"2020-12-28T00:00:00\",\"2020-12-29T00:00:00\",\"2020-12-30T00:00:00\",\"2020-12-31T00:00:00\",\"2021-01-04T00:00:00\",\"2021-01-05T00:00:00\",\"2021-01-06T00:00:00\",\"2021-01-07T00:00:00\",\"2021-01-08T00:00:00\",\"2021-01-11T00:00:00\",\"2021-01-12T00:00:00\",\"2021-01-13T00:00:00\",\"2021-01-14T00:00:00\",\"2021-01-15T00:00:00\",\"2021-01-19T00:00:00\",\"2021-01-20T00:00:00\",\"2021-01-21T00:00:00\",\"2021-01-22T00:00:00\",\"2021-01-25T00:00:00\",\"2021-01-26T00:00:00\",\"2021-01-27T00:00:00\",\"2021-01-28T00:00:00\",\"2021-01-29T00:00:00\",\"2021-02-01T00:00:00\",\"2021-02-02T00:00:00\",\"2021-02-03T00:00:00\",\"2021-02-04T00:00:00\",\"2021-02-05T00:00:00\",\"2021-02-08T00:00:00\",\"2021-02-09T00:00:00\",\"2021-02-10T00:00:00\",\"2021-02-11T00:00:00\",\"2021-02-12T00:00:00\",\"2021-02-16T00:00:00\",\"2021-02-17T00:00:00\",\"2021-02-18T00:00:00\",\"2021-02-19T00:00:00\",\"2021-02-22T00:00:00\",\"2021-02-23T00:00:00\",\"2021-02-24T00:00:00\",\"2021-02-25T00:00:00\",\"2021-02-26T00:00:00\",\"2021-03-01T00:00:00\",\"2021-03-02T00:00:00\",\"2021-03-03T00:00:00\",\"2021-03-04T00:00:00\",\"2021-03-05T00:00:00\",\"2021-03-08T00:00:00\",\"2021-03-09T00:00:00\",\"2021-03-10T00:00:00\",\"2021-03-11T00:00:00\",\"2021-03-12T00:00:00\",\"2021-03-15T00:00:00\",\"2021-03-16T00:00:00\",\"2021-03-17T00:00:00\",\"2021-03-18T00:00:00\",\"2021-03-19T00:00:00\",\"2021-03-22T00:00:00\",\"2021-03-23T00:00:00\",\"2021-03-24T00:00:00\",\"2021-03-25T00:00:00\",\"2021-03-26T00:00:00\",\"2021-03-29T00:00:00\",\"2021-03-30T00:00:00\",\"2021-03-31T00:00:00\",\"2021-04-01T00:00:00\",\"2021-04-05T00:00:00\",\"2021-04-06T00:00:00\",\"2021-04-07T00:00:00\",\"2021-04-08T00:00:00\",\"2021-04-09T00:00:00\",\"2021-04-12T00:00:00\",\"2021-04-13T00:00:00\",\"2021-04-14T00:00:00\",\"2021-04-15T00:00:00\",\"2021-04-16T00:00:00\",\"2021-04-19T00:00:00\",\"2021-04-20T00:00:00\",\"2021-04-21T00:00:00\",\"2021-04-22T00:00:00\",\"2021-04-23T00:00:00\",\"2021-04-26T00:00:00\",\"2021-04-27T00:00:00\",\"2021-04-28T00:00:00\",\"2021-04-29T00:00:00\",\"2021-04-30T00:00:00\",\"2021-05-03T00:00:00\",\"2021-05-04T00:00:00\",\"2021-05-05T00:00:00\",\"2021-05-06T00:00:00\",\"2021-05-07T00:00:00\",\"2021-05-10T00:00:00\",\"2021-05-11T00:00:00\",\"2021-05-12T00:00:00\",\"2021-05-13T00:00:00\",\"2021-05-14T00:00:00\",\"2021-05-17T00:00:00\",\"2021-05-18T00:00:00\",\"2021-05-19T00:00:00\",\"2021-05-20T00:00:00\",\"2021-05-21T00:00:00\",\"2021-05-24T00:00:00\",\"2021-05-25T00:00:00\",\"2021-05-26T00:00:00\",\"2021-05-27T00:00:00\",\"2021-05-28T00:00:00\",\"2021-06-01T00:00:00\",\"2021-06-02T00:00:00\",\"2021-06-03T00:00:00\",\"2021-06-04T00:00:00\",\"2021-06-07T00:00:00\",\"2021-06-08T00:00:00\",\"2021-06-09T00:00:00\",\"2021-06-10T00:00:00\",\"2021-06-11T00:00:00\",\"2021-06-14T00:00:00\"],\"xaxis\":\"x\",\"y\":[1.5926669836044312,1.5886670351028442,1.4639999866485596,1.2799999713897705,1.0740000009536743,1.053333044052124,1.1640000343322754,1.159999966621399,1.136667013168335,1.2093329429626465,1.3226670026779175,1.3259999752044678,1.3760000467300415,1.4606670141220093,1.3533329963684082,1.3480000495910645,1.399999976158142,1.4193329811096191,1.3966670036315918,1.3700000047683716,1.3813329935073853,1.3566670417785645,1.329332947731018,1.3946670293807983,1.463333010673523,1.4173330068588257,1.363332986831665,1.305999994277954,1.3066669702529907,1.2686669826507568,1.1933330297470093,1.1733330488204956,1.2213330268859863,1.2519999742507935,1.2766669988632202,1.2513329982757568,1.25266695022583,1.273332953453064,1.3420000076293945,1.2799999713897705,1.3266669511795044,1.3166669607162476,1.3133330345153809,1.324666976928711,1.2986669540405273,1.363332986831665,1.4040000438690186,1.4033329486846924,1.369333028793335,1.3933329582214355,1.380666971206665,1.3446669578552246,1.3813329935073853,1.4079999923706055,1.4653329849243164,1.3960000276565552,1.348667025566101,1.4040000438690186,1.3846670389175415,1.324666976928711,1.3040000200271606,1.340000033378601,1.3686670064926147,1.4266669750213623,1.4653329849243164,1.3606669902801514,1.3733329772949219,1.3993330001831055,1.4079999923706055,1.3639999628067017,1.3619999885559082,1.3619999885559082,1.3493330478668213,1.3493330478668213,1.369333028793335,1.3833329677581787,1.369333028793335,1.348667025566101,1.3366669416427612,1.3766670227050781,1.3833329677581787,1.3813329935073853,1.3899999856948853,1.4240000247955322,1.399999976158142,1.4126670360565186,1.4559999704360962,1.4273329973220825,1.4166669845581055,1.4513330459594727,1.659999966621399,1.6293330192565918,1.6653330326080322,1.6419999599456787,1.957332968711853,1.869333028793335,1.9893330335617065,2.053333044052124,1.9780000448226929,1.965999960899353,1.9926669597625732,2.065999984741211,2.2266669273376465,2.3046669960021973,2.3646669387817383,2.3546669483184814,2.2886669635772705,2.355333089828491,2.2899999618530273,2.1566669940948486,2.0993330478668213,2.02066707611084,2.1040000915527344,2.1579999923706055,2.136667013168335,2.101332902908325,2.0366671085357666,1.9019999504089355,1.9733330011367798,2.053999900817871,2.0906670093536377,2.113332986831665,2.1506669521331787,2.175333023071289,2.00600004196167,1.7033330202102661,1.7606669664382935,1.848667025566101,1.7666670083999634,1.775333046913147,1.7746670246124268,1.777999997138977,1.7886669635772705,1.858667016029358,1.8826669454574585,1.8966670036315918,1.797333002090454,1.797333002090454,1.7480000257492065,1.7166670560836792,1.7093329429626465,1.6019999980926514,1.5080000162124634,1.5360000133514404,1.6326669454574585,1.6453330516815186,1.649999976158142,1.6613329648971558,1.6006669998168945,1.6066670417785645,1.593999981880188,1.5959999561309814,1.5753329992294312,1.5640000104904175,1.5379999876022339,1.6326669454574585,1.547333002090454,1.5479999780654907,1.5499999523162842,1.5386669635772705,1.5226670503616333,1.6486669778823853,1.5733330249786377,1.5453330278396606,1.4579999446868896,1.4553329944610596,1.5019999742507935,1.5740000009536743,1.5926669836044312,1.5959999561309814,1.6013330221176147,1.6239999532699585,1.6633330583572388,1.6626670360565186,1.6440000534057617,1.6480000019073486,1.6006669998168945,1.6046669483184814,1.5499999523162842,1.5299999713897705,1.5213329792022705,1.5206669569015503,1.5306669473648071,1.5153330564498901,1.4793330430984497,1.480666995048523,1.4886670112609863,1.5166670083999634,1.5499999523162842,1.5946669578552246,1.5806670188903809,1.850000023841858,1.7773330211639404,1.722000002861023,1.7799999713897705,1.7660000324249268,1.815999984741211,1.7660000324249268,1.6846669912338257,1.6433329582214355,1.6619999408721924,1.6759999990463257,1.7053329944610596,1.668666958808899,1.6773329973220825,1.7166670560836792,1.7826670408248901,1.7593330144882202,1.7953330278396606,1.8053330183029175,1.843999981880188,1.840000033378601,1.8300000429153442,1.7913329601287842,1.7793329954147339,1.762666940689087,1.8079999685287476,1.8606669902801514,1.8886669874191284,1.8046669960021973,1.8446669578552246,1.8366669416427612,1.773332953453064,1.730666995048523,1.7566670179367065,1.8799999952316284,1.8646670579910278,1.7879999876022339,1.7813329696655273,1.9320000410079956,1.9653329849243164,1.9700000286102295,2.0093328952789307,1.901332974433899,1.9173330068588257,2.0086669921875,1.9133330583572388,1.891332983970642,1.8079999685287476,1.841333031654358,1.8573329448699951,1.8953330516815186,1.9066669940948486,1.8213330507278442,1.7666670083999634,1.7666670083999634,1.7339999675750732,1.835332989692688,1.8140000104904175,1.8473329544067383,1.8380000591278076,1.8306670188903809,1.8739999532699585,1.8860000371932983,1.9420000314712524,1.9346669912338257,1.942667007446289,1.9306670427322388,1.9819999933242798,1.920667052268982,1.8899999856948853,1.878000020980835,1.9093329906463623,1.8406670093536377,1.8386670351028442,1.8153330087661743,1.8593330383300781,1.9126670360565186,1.9133330583572388,1.952666997909546,1.8993330001831055,1.8666670322418213,1.8426669836044312,1.878000020980835,1.878000020980835,1.9179999828338623,1.8226670026779175,1.8133330345153809,1.649999976158142,1.6160000562667847,1.5759999752044678,1.670667052268982,1.5880000591278076,1.6866669654846191,1.753999948501587,1.7486670017242432,1.7400000095367432,1.722000002861023,1.6173330545425415,1.4866670370101929,1.463333010673523,1.5306669473648071,1.591333031654358,1.5406670570373535,1.5820000171661377,1.647333025932312,1.6419999599456787,1.6493330001831055,1.600000023841858,1.5379999876022339,1.5293329954147339,1.5893330574035645,1.5740000009536743,1.5313329696655273,1.525333046913147,1.6053329706192017,1.6226669549942017,1.6546670198440552,1.7200000286102295,1.718000054359436,1.7339999675750732,1.7233330011367798,1.7086670398712158,1.7586669921875,1.7013330459594727,1.746000051498413,1.6393330097198486,1.6080000400543213,1.6260000467300415,1.5820000171661377,1.5773329734802246,1.6913330554962158,1.797333002090454,1.7993329763412476,1.858667016029358,1.8406670093536377,1.8533329963684082,1.8626669645309448,1.8700000047683716,1.8279999494552612,1.8893330097198486,1.8380000591278076,1.8226670026779175,1.8686670064926147,1.9033329486846924,1.8833329677581787,1.8653329610824585,1.9173330068588257,1.9913330078125,1.9579999446868896,1.925333023071289,1.9140000343322754,2.1640000343322754,2.1540000438690186,2.0846669673919678,2.122667074203491,2.058666944503784,2.0886669158935547,2.2426669597625732,2.2146670818328857,2.26200008392334,2.3293330669403076,2.245332956314087,2.173332929611206,2.117332935333252,2.138000011444092,2.0966670513153076,2.1106669902801514,2.1706669330596924,2.1166670322418213,2.1826670169830322,2.173332929611206,2.2200000286102295,2.2946670055389404,2.324666976928711,2.2793331146240234,2.059333086013794,2.069333076477051,2.0273330211639404,1.963333010673523,1.9019999504089355,1.9079999923706055,1.8666670322418213,1.850000023841858,1.8600000143051147,1.8380000591278076,1.8513330221176147,1.8600000143051147,1.9046670198440552,1.9006669521331787,1.9153330326080322,1.9040000438690186,1.871999979019165,1.8473329544067383,1.8079999685287476,1.7940000295639038,1.8166669607162476,1.841333031654358,1.8819999694824219,1.8833329677581787,1.519333004951477,1.773332953453064,1.7873330116271973,1.784000039100647,1.773332953453064,1.7846670150756836,1.8279999494552612,1.8646670579910278,1.929332971572876,1.9553329944610596,1.9713330268859863,1.937999963760376,1.972000002861023,2.016666889190674,2.076667070388794,2.119999885559082,2.1066670417785645,2.128667116165161,2.171999931335449,2.0733330249786377,2.0993330478668213,2.2113330364227295,2.240000009536743,2.2786669731140137,2.3313329219818115,2.299999952316284,2.2813329696655273,2.302000045776367,2.25,2.2413330078125,2.253999948501587,2.2273330688476562,2.2939999103546143,2.2693328857421875,2.251332998275757,2.2073330879211426,2.2079999446868896,2.204667091369629,2.315999984741211,2.4006669521331787,2.4059998989105225,2.3526670932769775,2.3333330154418945,2.3546669483184814,2.3320000171661377,2.330667018890381,2.3433330059051514,2.293333053588867,2.2720000743865967,2.493333101272583,2.5293331146240234,2.5233330726623535,2.4886670112609863,2.4826669692993164,2.438667058944702,2.5339999198913574,2.3333330154418945,2.2986669540405273,2.2100000381469727,2.1640000343322754,2.2060000896453857,2.22933292388916,2.239332914352417,2.1500000953674316,2.1493330001831055,2.177333116531372,2.2106668949127197,2.2106668949127197,2.129333019256592,2.121332883834839,2.194000005722046,2.2326669692993164,2.2226669788360596,2.208667039871216,2.252000093460083,2.262666940689087,2.1640000343322754,2.121999979019165,2.1646668910980225,2.012666940689087,2.003999948501587,2.1973330974578857,2.1500000953674316,2.003999948501587,1.9620000123977661,1.9453330039978027,1.9046670198440552,1.8373329639434814,1.9179999828338623,2.053333044052124,2.068000078201294,2.018666982650757,1.987333059310913,2.1126670837402344,2.0273330211639404,1.9666670560836792,1.8766670227050781,1.858667016029358,1.8606669902801514,1.9479999542236328,1.9286669492721558,2.0053329467773438,1.9413330554962158,1.9773329496383667,1.9846669435501099,1.9593329429626465,1.99399995803833,2.122667074203491,2.1393330097198486,2.252000093460083,2.1459999084472656,2.25266695022583,2.2073330879211426,2.107332944869995,2.130666971206665,2.0940001010894775,2.0859999656677246,2.0266671180725098,2.0439999103546143,2.0820000171661377,2.065999984741211,2.0993330478668213,2.0846669673919678,2.1006669998168945,2.180000066757202,2.2833330631256104,2.3973329067230225,2.2233328819274902,2.1433329582214355,2.1513330936431885,2.119333028793335,2.0439999103546143,1.9893330335617065,1.9299999475479126,1.8753329515457153,1.9673329591751099,1.8233330249786377,1.8279999494552612,1.75,1.7400000095367432,1.8179999589920044,1.8846670389175415,2.016666889190674,1.9393329620361328,1.9606670141220093,1.996000051498413,2.078000068664551,1.9613330364227295,1.9600000381469727,2.0199999809265137,2.000667095184326,1.9673329591751099,1.9406670331954956,1.9966670274734497,2.0486669540405273,1.9666670560836792,1.8880000114440918,1.9126670360565186,1.8940000534057617,1.8940000534057617,1.901332974433899,1.8760000467300415,1.8626669645309448,1.9033329486846924,1.9566669464111328,1.824666976928711,1.8533329963684082,1.8853329420089722,1.9653329849243164,2.0260000228881836,2.169332981109619,2.0893330574035645,2.069999933242798,2.059999942779541,2.001332998275757,2.0439999103546143,1.843999981880188,1.8359999656677246,1.8993330001831055,1.9520000219345093,1.944000005722046,1.9866670370101929,1.9533330202102661,1.9600000381469727,1.9259999990463257,1.9500000476837158,1.891332983970642,1.8933329582214355,1.8880000114440918,1.8426669836044312,1.8220000267028809,1.8706669807434082,1.9213329553604126,1.869333028793335,1.8493330478668213,1.8566670417785645,1.8926670551300049,1.8279999494552612,1.8346669673919678,1.8253329992294312,1.8753329515457153,1.9500000476837158,1.9279999732971191,2.0999999046325684,2.076667070388794,2.1026670932769775,2.0873329639434814,2.0213329792022705,2.0713329315185547,2.107332944869995,2.0920000076293945,2.0546669960021973,2.122667074203491,2.194667100906372,2.200000047683716,2.1646668910980225,2.1419999599456787,2.1513330936431885,2.1433329582214355,2.2153329849243164,2.246000051498413,2.254667043685913,2.308000087738037,2.259999990463257,2.24733304977417,2.259999990463257,2.2780001163482666,2.3046669960021973,2.3519999980926514,2.3506669998168945,2.2406671047210693,2.253999948501587,2.293333053588867,2.305999994277954,2.307332992553711,2.295332908630371,2.266666889190674,2.2853329181671143,2.239332914352417,2.246000051498413,2.2146670818328857,2.257999897003174,2.357332944869995,2.318000078201294,2.293333053588867,2.2893331050872803,2.245332956314087,2.2426669597625732,2.23533296585083,2.194000005722046,2.2173330783843994,2.259999990463257,2.2733330726623535,2.2920000553131104,2.301332950592041,2.3459999561309814,2.4000000953674316,2.4660000801086426,2.4653329849243164,2.5353329181671143,2.5299999713897705,2.501332998275757,2.500667095184326,2.553333044052124,2.5160000324249268,2.5420000553131104,2.611332893371582,2.631999969482422,2.615999937057495,2.561332941055298,2.5260000228881836,2.563333034515381,2.551332950592041,2.4693329334259033,2.618666887283325,2.569333076477051,2.3440001010894775,2.4073328971862793,2.2920000553131104,2.295332908630371,2.3399999141693115,2.322000026702881,2.309999942779541,2.371999979019165,2.4433329105377197,2.512666940689087,2.5486669540405273,2.564666986465454,2.6066670417785645,2.6080000400543213,2.5986669063568115,2.456666946411133,2.3526670932769775,2.3433330059051514,2.3386669158935547,2.396667003631592,2.4006669521331787,2.441333055496216,2.502000093460083,2.5239999294281006,2.5439999103546143,2.5260000228881836,2.9286670684814453,2.9560000896453857,2.740000009536743,2.8006670475006104,2.757999897003174,2.7886669635772705,2.700000047683716,2.7906670570373535,2.9059998989105225,2.9166669845581055,2.886667013168335,3.0393331050872803,3.0299999713897705,3.131333112716675,3.188667058944702,3.3459999561309814,3.4006669521331787,3.361999988555908,3.4666669368743896,3.413332939147949,3.6626670360565186,3.5993330478668213,3.552000045776367,3.607332944869995,3.636667013168335,3.9666669368743896,3.700666904449463,3.7193329334259033,4.626667022705078,5.117332935333252,5.853332996368408,5.549333095550537,5.656000137329102,6.150000095367432,6.099999904632568,5.995999813079834,5.8393330574035645,5.815999984741211,6.182000160217285,6.4720001220703125,7.355332851409912,6.975333213806152,6.99666690826416,6.517333030700684,6.172667026519775,6.322667121887207,6.357999801635742,6.489999771118164,6.802667140960693,6.670000076293945,6.297999858856201,6.51533317565918,6.545332908630371,6.686666965484619,6.813333034515381,6.892666816711426,6.97866678237915,6.710000038146973,6.636666774749756,6.765999794006348,6.826666831970215,7.047999858856201,7.283332824707031,7.157332897186279,7.811999797821045,7.8546671867370605,7.682666778564453,8.005999565124512,8.107333183288574,8.229999542236328,8.15133285522461,8.37399959564209,8.65999984741211,8.484000205993652,7.269999980926514,8.016667366027832,7.935332775115967,7.97866678237915,8.161999702453613,8.182666778564453,8.113332748413086,8.271332740783691,8.62600040435791,8.974666595458984,8.78266716003418,8.95199966430664,9.036666870117188,9.199999809265137,9.645333290100098,9.476667404174805,8.9486665725708,10.232000350952148,10.199999809265137,9.825332641601562,9.695332527160645,9.290666580200195,9.311332702636719,9.466667175292969,9.65999984741211,9.972000122070312,9.857333183288574,10.473333358764648,10.78933334350586,10.947999954223633,11.133999824523926,11.096667289733887,11.070667266845703,11.266667366027832,11.262666702270508,11.374667167663574,11.328666687011719,11.131333351135254,10.713333129882812,11.091333389282227,10.90133285522461,10.995332717895508,11.03600025177002,11.10533332824707,11.081999778747559,11.08133316040039,11.861332893371582,12.22599983215332,12.074000358581543,12.155332565307617,12.349332809448242,12.576000213623047,12.726667404174805,12.891332626342773,12.866666793823242,12.063332557678223,11.553999900817871,12.065333366394043,12.204667091369629,11.648667335510254,11.251999855041504,11.528667449951172,11.91333293914795,11.981332778930664,12.262666702270508,12.237333297729492,12.186667442321777,12.226667404174805,11.506667137145996,11.435999870300293,10.966667175292969,11.543333053588867,11.310667037963867,10.857333183288574,10.964667320251465,10.614666938781738,10.662667274475098,10.811332702636719,11.680000305175781,11.787332534790039,10.077333450317383,9.317999839782715,9.196666717529297,9.646666526794434,9.186667442321777,9.24666690826416,9.173333168029785,9.029999732971191,8.10533332824707,8.406000137329102,8.074000358581543,8.140000343322754,8.092000007629395,8.055999755859375,8.033332824707031,8.462667465209961,8.485333442687988,8.277999877929688,9.646666526794434,9.263333320617676,9.36533260345459,9.157333374023438,9.4399995803833,9.47933292388916,9.3100004196167,9.83133316040039,9.84333324432373,9.862667083740234,10.163999557495117,9.86533260345459,9.381333351135254,9.549332618713379,9.569999694824219,10.093999862670898,10.366666793823242,10.074666976928711,10.162667274475098,10.028667449951172,10.006667137145996,9.970666885375977,9.800000190734863,9.957332611083984,10.085332870483398,9.835332870483398,9.714667320251465,9.28933334350586,10.751333236694336,10.942000389099121,11.39799976348877,11.333999633789062,11.778667449951172,11.904000282287598,12.100000381469727,11.640000343322754,11.307999610900879,11.892000198364258,11.682000160217285,12.189332962036133,12.093999862670898,11.807332992553711,11.915332794189453,11.628000259399414,11.892000198364258,12.435333251953125,13.104000091552734,13.107999801635742,13.021332740783691,13.308667182922363,13.215332984924316,13.579999923706055,12.909333229064941,13.998000144958496,13.973333358764648,14.510000228881836,16.53333282470703,16.866666793823242,16.836000442504883,16.320667266845703,16.70400047302246,16.98933219909668,16.8439998626709,16.862667083740234,16.413999557495117,15.922666549682617,15.62733268737793,16.099332809448242,15.852666854858398,15.39799976348877,15.59866714477539,16.002666473388672,15.72266674041748,15.660667419433594,15.259332656860352,14.678000450134277,14.696000099182129,14.197333335876465,13.821332931518555,14.157999992370605,13.896666526794434,14.464667320251465,15.352666854858398,15.026666641235352,14.148667335510254,13.834667205810547,14.36400032043457,14.461999893188477,13.612667083740234,13.585332870483398,13.206000328063965,12.927332878112793,13.27400016784668,13.208000183105469,13.625332832336426,14.576000213623047,13.866000175476074,13.857333183288574,13.323332786560059,13.234000205993652,13.79466724395752,13.859333038330078,13.84866714477539,14.060667037963867,14.440667152404785,13.8186674118042,13.423333168029785,11.906000137329102,12.150667190551758,12.311332702636719,12.677332878112793,12.708000183105469,12.572667121887207,12.77066707611084,13.072667121887207,13.020000457763672,13.296667098999023,13.658666610717773,13.819999694824219,14.104000091552734,14.015999794006348,14.015999794006348,13.851332664489746,13.646666526794434,13.662667274475098,13.599332809448242,13.793333053588867,13.878000259399414,13.687333106994629,13.486666679382324,13.631333351135254,13.567999839782715,13.761333465576172,14.973999977111816,15.444666862487793,15.141332626342773,15.185999870300293,15.305999755859375,15.814666748046875,15.5,15.792667388916016,15.706666946411133,15.937333106994629,16.003999710083008,15.981332778930664,15.295332908630371,15.283332824707031,14.843999862670898,14.604666709899902,14.870667457580566,14.630666732788086,14.541999816894531,15.113332748413086,14.638667106628418,14.477333068847656,14.359999656677246,14.668000221252441,14.702667236328125,14.638667106628418,14.832667350769043,14.902667045593262,14.904666900634766,14.98799991607666,15.000666618347168,15.261333465576172,14.886667251586914,15.5513334274292,15.90133285522461,15.899333000183105,16.595333099365234,16.826000213623047,16.54199981689453,17.288000106811523,17.33066749572754,17.354000091552734,17.42533302307129,17.46733283996582,17.32933235168457,17.117332458496094,17.047332763671875,16.95599937438965,17.118667602539062,17.503332138061523,17.44933319091797,17.549999237060547,17.590667724609375,17.979999542236328,18.941333770751953,18.746000289916992,19.069332122802734,18.492666244506836,18.80733299255371,18.565332412719727,18.739999771118164,18.687332153320312,18.613332748413086,16.923999786376953,17.382667541503906,17.42533302307129,17.58799934387207,17.288000106811523,16.66866683959961,16.694000244140625,16.80933380126953,16.463333129882812,16.440000534057617,16.35066795349121,16.178667068481445,16.016000747680664,16.761333465576172,17.013999938964844,17.374666213989258,17.30466651916504,17.28533363342285,17.134000778198242,15.793999671936035,14.97266674041748,15.137332916259766,15.313332557678223,15.09000015258789,15.165332794189453,15.364666938781738,15.689332962036133,15.40666675567627,15.685999870300293,15.682666778564453,14.777999877929688,16.184667587280273,15.873332977294922,15.910667419433594,16.113332748413086,16.172666549682617,15.928667068481445,15.39799976348877,16.08133316040039,16.01333236694336,16.1286678314209,16.738666534423828,16.606666564941406,16.780000686645508,17.245332717895508,16.93199920654297,17.18000030517578,16.516000747680664,16.58066749572754,16.185333251953125,16.447999954223633,16.53933334350586,16.562667846679688,16.301332473754883,15.442667007446289,15.428667068481445,15.286666870117188,15.218667030334473,14.913999557495117,14.290666580200195,14.459333419799805,13.989333152770996,13.925333023071289,13.800000190734863,13.602666854858398,13.187333106994629,13.721332550048828,14.550666809082031,14.619333267211914,14.84000015258789,14.731332778930664,14.817333221435547,15.187999725341797,15.047332763671875,14.815333366394043,14.827333450317383,14.620667457580566,14.005999565124512,14.085332870483398,14.063332557678223,14.041333198547363,13.77733325958252,13.480667114257812,13.616666793823242,12.845999717712402,12.791333198547363,12.871333122253418,12.795332908630371,13.104666709899902,13.441332817077637,13.419333457946777,13.770000457763672,13.732000350952148,13.291333198547363,13.680000305175781,13.573332786560059,14.062666893005371,14.557332992553711,14.569999694824219,14.732666969299316,14.490667343139648,14.498666763305664,14.419333457946777,14.186667442321777,13.525333404541016,13.584667205810547,13.623332977294922,13.630666732788086,14.11400032043457,14.473999977111816,13.822667121887207,13.607333183288574,13.583999633789062,13.812666893005371,13.555999755859375,13.155332565307617,13.303999900817871,13.496000289916992,13.375332832336426,12.925333023071289,12.725333213806152,12.687999725341797,12.916000366210938,12.73799991607666,12.578666687011719,13.046667098999023,12.982000350952148,13.380666732788086,13.043333053588867,13.20533275604248,13.308667182922363,13.447999954223633,12.953332901000977,12.694000244140625,12.333333015441895,12.704667091369629,12.584667205810547,12.505999565124512,12.733332633972168,13.539999961853027,13.550000190734863,13.844667434692383,14.005999565124512,14.0600004196167,13.985333442687988,13.830666542053223,13.85533332824707,13.779999732971191,13.78600025177002,13.684666633605957,13.96066665649414,14.629332542419434,14.573332786560059,14.562000274658203,15.436667442321777,15.36533260345459,15.49666690826416,15.069999694824219,15.0686674118042,15.36733341217041,15.529999732971191,15.362000465393066,15.786666870117188,15.77400016784668,15.965999603271484,16.31599998474121,16.211999893188477,16.273332595825195,16.589332580566406,16.583332061767578,16.47599983215332,16.290000915527344,16.374666213989258,16.51533317565918,16.497333526611328,16.495332717895508,16.76333236694336,16.719999313354492,16.6299991607666,16.55666732788086,16.599332809448242,16.39466667175293,16.609333038330078,17.086000442504883,17.066667556762695,16.713333129882812,16.76066780090332,16.71266746520996,16.691999435424805,16.874666213989258,17.360666275024414,17.459333419799805,17.500667572021484,17.319332122802734,17.844667434692383,17.67799949645996,17.91933250427246,17.805999755859375,17.468000411987305,17.884000778198242,17.94333267211914,18.667999267578125,18.648000717163086,17.858667373657227,16.997333526611328,17.19466781616211,17.27666664123535,17.477333068847656,17.709999084472656,17.542667388916016,17.778667449951172,18.310667037963867,18.817333221435547,17.784666061401367,17.857999801635742,17.81333351135254,17.694000244140625,16.867332458496094,17.654666900634766,17.58799934387207,17.785999298095703,17.74333381652832,17.332666397094727,17.75200080871582,18.0086669921875,16.408666610717773,16.167333602905273,16.076000213623047,15.824666976928711,15.878000259399414,16.167333602905273,16.209999084472656,16.999332427978516,17.381332397460938,17.016666412353516,16.14533233642578,15.38466739654541,14.591333389282227,14.66866683959961,14.989333152770996,16.19933319091797,16.565332412719727,16.604000091552734,15.908666610717773,16.512666702270508,16.3713321685791,16.1286678314209,16.544666290283203,16.5939998626709,16.565332412719727,16.682666778564453,16.87933349609375,16.904666900634766,17.483333587646484,17.471332550048828,17.374666213989258,17.613332748413086,17.395999908447266,17.40399932861328,17.541332244873047,17.12733268737793,16.562000274658203,16.44333267211914,16.559999465942383,15.991999626159668,16.504667282104492,16.40999984741211,16.097333908081055,15.46399974822998,15.114666938781738,14.712667465209961,14.371999740600586,14.616666793823242,14.458666801452637,14.753999710083008,15.133999824523926,15.206666946411133,14.20199966430664,14.005999565124512,14.114666938781738,13.939332962036133,14.350666999816895,14.023332595825195,14.197333335876465,14.108667373657227,13.795332908630371,14.252667427062988,13.890000343322754,15.442000389099121,15.451333045959473,15.490667343139648,15.022000312805176,14.433333396911621,14.60533332824707,14.196000099182129,13.812666893005371,14.287332534790039,14.266667366027832,14.73799991607666,14.786666870117188,14.667332649230957,14.516667366027832,14.550000190734863,15.309332847595215,15.440667152404785,15.350666999816895,15.812666893005371,15.465999603271484,15.513999938964844,15.358667373657227,15.408666610717773,15.114666938781738,14.968000411987305,15.137999534606934,14.468000411987305,14.571999549865723,14.739333152770996,15.633999824523926,15.559332847595215,15.36400032043457,15.503999710083008,15.329999923706055,15.313332557678223,15.371333122253418,15.263333320617676,15.812666893005371,15.87266731262207,16.000667572021484,14.894000053405762,14.895333290100098,14.602666854858398,14.376667022705078,14.066666603088379,13.856666564941406,13.998000144958496,13.354000091552734,13.745332717895508,13.666000366210938,13.64799976348877,13.24666690826416,13.33133316040039,13.50333309173584,13.092000007629395,12.904000282287598,12.538000106811523,12.646666526794434,12.74666690826416,13.129332542419434,12.185333251953125,11.565333366394043,11.688667297363281,10.84000015258789,9.866000175476074,9.883333206176758,9.57800006866455,10.031332969665527,10.06933307647705,10.344667434692383,11.245332717895508,11.118000030517578,11.10533332824707,11.849332809448242,11.814000129699707,11.933333396911621,12.495332717895508,12.689332962036133,12.795332908630371,12.423333168029785,12.555999755859375,13.049332618713379,13.402667045593262,13.685999870300293,13.506667137145996,13.914667129516602,13.678667068481445,13.833333015441895,14.34333324432373,14.555999755859375,14.795332908630371,15.092000007629395,15.515999794006348,15.887999534606934,15.616000175476074,14.838666915893555,15.183333396911621,15.350666999816895,15.342000007629395,15.12600040435791,15.317999839782715,15.839332580566406,16.465999603271484,17.031333923339844,17.69466781616211,17.14666748046875,16.67133331298828,16.661333084106445,16.521333694458008,16.968666076660156,16.790666580200195,16.96733283996582,16.92533302307129,16.4913330078125,16.6646671295166,16.55266761779785,16.916667938232422,16.788000106811523,16.916000366210938,16.764667510986328,16.513999938964844,16.05066680908203,16.1200008392334,15.48799991607666,14.837332725524902,14.10200023651123,14.328666687011719,13.928000450134277,13.912667274475098,13.93066692352295,13.8186674118042,13.840666770935059,13.88599967956543,13.644000053405762,14.07800006866455,14.347332954406738,14.685333251953125,14.414667129516602,14.52733325958252,14.638667106628418,15.008000373840332,14.869333267211914,14.881999969482422,14.637332916259766,14.597332954406738,14.599332809448242,14.711999893188477,15.489333152770996,15.701333045959473,15.290666580200195,14.586000442504883,14.524666786193848,14.330666542053223,14.513333320617676,14.528667449951172,14.364666938781738,14.646666526794434,14.640666961669922,13.11066722869873,13.09333324432373,12.876667022705078,13.236666679382324,13.452667236328125,14.012666702270508,14.152000427246094,14.433333396911621,14.26533317565918,14.295999526977539,14.395999908447266,14.45199966430664,14.985333442687988,14.976667404174805,14.835332870483398,14.768667221069336,14.69333267211914,15.083333015441895,15.017333030700684,15.223999977111816,14.699999809265137,14.817999839782715,15.333999633789062,15.300666809082031,15.232666969299316,15.37399959564209,15.652667045593262,15.333999633789062,15.146666526794434,15.052666664123535,15.37399959564209,15.335332870483398,15.077333450317383,15.272000312805176,15.043333053588867,14.994000434875488,15.040666580200195,15.03933334350586,14.907333374023438,14.88266658782959,14.900667190551758,15.0,14.862000465393066,14.989333152770996,14.841333389282227,14.730667114257812,14.666000366210938,14.346667289733887,14.089332580566406,14.133999824523926,13.38466739654541,13.185333251953125,13.522000312805176,13.447333335876465,13.157333374023438,12.964667320251465,13.220000267028809,13.069999694824219,13.093999862670898,13.361332893371582,13.69333267211914,13.755999565124512,13.642666816711426,13.6813325881958,13.76200008392334,13.829999923706055,13.932666778564453,13.720666885375977,13.751333236694336,13.380000114440918,13.60200023651123,14.24666690826416,14.093999862670898,13.897333145141602,13.399999618530273,13.107333183288574,13.396666526794434,13.34000015258789,13.434000015258789,13.349332809448242,13.100666999816895,12.93066692352295,13.273332595825195,13.570667266845703,13.273332595825195,13.339332580566406,13.517333030700684,13.489333152770996,13.482666969299316,13.600666999816895,13.33133316040039,13.182000160217285,12.719332695007324,12.534667015075684,12.494667053222656,12.704000473022461,12.880666732788086,12.996000289916992,12.670666694641113,12.356666564941406,12.570667266845703,12.096667289733887,12.251333236694336,12.26200008392334,12.577333450317383,12.334667205810547,12.3013334274292,12.744667053222656,12.87600040435791,13.109999656677246,13.074666976928711,12.637999534606934,12.626667022705078,12.125332832336426,12.097999572753906,12.453332901000977,12.390000343322754,12.876667022705078,12.81933307647705,12.812000274658203,12.828666687011719,13.210000038146973,13.246000289916992,13.17199993133545,13.499333381652832,13.51533317565918,13.919333457946777,13.846667289733887,13.896666526794434,14.22266674041748,14.635333061218262,14.649333000183105,14.312000274658203,14.246000289916992,14.465999603271484,15.13266658782959,15.116666793823242,15.267333030700684,15.41866683959961,15.324666976928711,15.315333366394043,15.305999755859375,15.850000381469727,15.70533275604248,15.890666961669922,16.250667572021484,16.315332412719727,16.594667434692383,16.974000930786133,16.96466636657715,16.833999633789062,16.863332748413086,16.708667755126953,16.795333862304688,16.615999221801758,16.770000457763672,16.755332946777344,17.184667587280273,17.165332794189453,17.472000122070312,17.946666717529297,17.948667526245117,18.706666946411133,18.73200035095215,18.650667190551758,17.93000030517578,18.148666381835938,18.492666244506836,18.233999252319336,17.06599998474121,17.133333206176758,16.415332794189453,16.666000366210938,16.667999267578125,16.698667526245117,16.771333694458008,16.747333526611328,16.57266616821289,16.45800018310547,16.32666778564453,16.246000289916992,16.411333084106445,17.200000762939453,17.048667907714844,17.469999313354492,17.433332443237305,17.461332321166992,16.711999893188477,17.000667572021484,16.985332489013672,17.54400062561035,18.014667510986328,18.496667861938477,18.492000579833984,18.527999877929688,18.553333282470703,19.90133285522461,20.246667861938477,19.666667938232422,19.913333892822266,20.16933250427246,20.826000213623047,20.58066749572754,19.78933334350586,20.266666412353516,20.09600067138672,20.016666412353516,20.368000030517578,20.167333602905273,20.373332977294922,20.53533363342285,20.91933250427246,20.67799949645996,20.575332641601562,20.937999725341797,21.52199935913086,21.25933265686035,20.73466682434082,19.69733238220215,20.55666732788086,20.479333877563477,21.417333602905273,21.681333541870117,21.540000915527344,21.65399932861328,21.058666229248047,21.134000778198242,20.407333374023438,20.87066650390625,20.722000122070312,20.690000534057617,20.257333755493164,20.681333541870117,21.121999740600586,21.676000595092773,22.34000015258789,22.733999252319336,22.691333770751953,22.656667709350586,23.154666900634766,23.523332595825195,23.976667404174805,24.666667938232422,23.821332931518555,23.93400001525879,25.06333351135254,25.37733268737793,25.022666931152344,24.760000228881836,24.65333366394043,24.81599998474121,25.093332290649414,25.507333755493164,25.56333351135254,25.166000366210938,24.158000946044922,24.749332427978516,24.049999237060547,24.107332229614258,23.507999420166016,21.805999755859375,20.588666915893555,20.881332397460938,21.06999969482422,21.814666748046875,21.968000411987305,21.560667037963867,21.851999282836914,21.30466651916504,21.882667541503906,21.68400001525879,21.994667053222656,21.893333435058594,22.834667205810547,22.639999389648438,22.92333221435547,22.297332763671875,22.33799934387207,21.564666748046875,21.30466651916504,21.72599983215332,23.139333724975586,23.79400062561035,23.67799949645996,24.347999572753906,24.235332489013672,23.69333267211914,23.857999801635742,24.253332138061523,24.155332565307617,24.194000244140625,23.461332321166992,23.163999557495117,22.52400016784668,22.75666618347168,23.51799964904785,23.528667449951172,23.203332901000977,23.04400062561035,23.157333374023438,23.545333862304688,23.726667404174805,23.69333267211914,23.305999755859375,22.968666076660156,23.374000549316406,22.893333435058594,24.246000289916992,24.183332443237305,24.415332794189453,25.176000595092773,25.320667266845703,25.666667938232422,25.00666618347168,24.92733383178711,24.43199920654297,23.4060001373291,22.999332427978516,23.016666412353516,22.731332778930664,22.639999389648438,22.739999771118164,22.768667221069336,23.209333419799805,23.667333602905273,23.68866729736328,23.79199981689453,22.862667083740234,23.70599937438965,23.639999389648438,23.711999893188477,23.704666137695312,23.373332977294922,23.71666717529297,23.976667404174805,23.45400047302246,23.00666618347168,22.468000411987305,22.48933219909668,21.722667694091797,21.744667053222656,21.391332626342773,21.338666915893555,22.101999282836914,21.405332565307617,19.950666427612305,20.4060001373291,20.185333251953125,20.40333366394043,20.292667388916016,20.19933319091797,20.19933319091797,21.02666664123535,20.579999923706055,20.753332138061523,20.833332061767578,21.003332138061523,20.582666397094727,21.187332153320312,20.84000015258789,21.036666870117188,21.12066650390625,21.170000076293945,20.502666473388672,20.59000015258789,20.435333251953125,20.34666633605957,20.246667861938477,20.884000778198242,20.749332427978516,21.0086669921875,21.92733383178711,22.735332489013672,22.601999282836914,22.525999069213867,22.89666748046875,22.591333389282227,22.073333740234375,21.93199920654297,22.110666275024414,21.68000030517578,21.152666091918945,20.775999069213867,21.02400016784668,20.75666618347168,21.368667602539062,21.149999618530273,20.974666595458984,21.10533332824707,22.42733383178711,22.246000289916992,22.31999969482422,22.530000686645508,22.4146671295166,22.67066764831543,23.143999099731445,22.971332550048828,23.334667205810547,23.437332153320312,23.519332885742188,23.05933380126953,22.50933265686035,22.856666564941406,23.302000045776367,23.05466651916504,23.62066650390625,23.28333282470703,22.916667938232422,22.208667755126953,22.264667510986328,23.0,21.01533317565918,20.69466781616211,21.048667907714844,21.577333450317383,21.487333297729492,22.271333694458008,22.365999221801758,22.31800079345703,22.219999313354492,23.077999114990234,23.469999313354492,23.827999114990234,23.39933204650879,22.87066650390625,22.062000274658203,22.341333389282227,22.22333335876465,21.8799991607666,22.15333366394043,21.940000534057617,21.81133270263672,23.034000396728516,22.78933334350586,21.775333404541016,21.706666946411133,21.42333221435547,20.90399932861328,20.703332901000977,21.101999282836914,20.606666564941406,20.1026668548584,20.278667449951172,18.61199951171875,17.185333251953125,17.742000579833984,16.832000732421875,17.8353328704834,19.12933349609375,20.381332397460938,19.953332901000977,19.310667037963867,20.31333351135254,20.062000274658203,19.60533332824707,20.022666931152344,19.413999557495117,19.179332733154297,19.55666732788086,20.005332946777344,19.349332809448242,18.891332626342773,18.8973331451416,18.71266746520996,19.031999588012695,19.60533332824707,19.593332290649414,19.994667053222656,20.07666778564453,18.963333129882812,19.606000900268555,20.184667587280273,20.131332397460938,20.456666946411133,20.334667205810547,20.070667266845703,19.46466636657715,18.94533348083496,19.09866714477539,18.96933364868164,18.454666137695312,18.965999603271484,18.333999633789062,18.60466766357422,18.523332595825195,18.59000015258789,18.917333602905273,19.447999954223633,18.98200035095215,19.454666137695312,19.78266716003418,19.408666610717773,21.299999237060547,21.07266616821289,21.17733383178711,22.139999389648438,22.851333618164062,22.985332489013672,23.847999572753906,23.878000259399414,24.722000122070312,23.503332138061523,24.148000717163086,23.167333602905273,22.242000579833984,22.200666427612305,22.799999237060547,22.96666717529297,23.32866668701172,22.863332748413086,22.33799934387207,20.724000930786133,20.610666275024414,20.593332290649414,21.233999252319336,21.49799919128418,21.263999938964844,21.11400032043457,21.257999420166016,20.67333221435547,21.512666702270508,21.59000015258789,21.34866714477539,20.905332565307617,20.213333129882812,19.82866668701172,20.582666397094727,20.44333267211914,19.812000274658203,19.344667434692383,19.875999450683594,20.055999755859375,23.30266761779785,23.211332321166992,22.799333572387695,25.30466651916504,24.689332962036133,23.496667861938477,23.69933319091797,23.76066780090332,23.176000595092773,22.57933235168457,22.363332748413086,20.366666793823242,20.562667846679688,21.459999084472656,21.44266700744629,21.34000015258789,21.521333694458008,21.284666061401367,20.790666580200195,20.333999633789062,20.209999084472656,20.110666275024414,19.26333236694336,18.715999603271484,18.729999542236328,17.549333572387695,19.03333282470703,18.62933349609375,19.369333267211914,19.297332763671875,19.68000030517578,19.6560001373291,18.997333526611328,19.934667587280273,19.8886661529541,19.940000534057617,19.978666305541992,20.06599998474121,20.6386661529541,20.501333236694336,17.65133285522461,20.713333129882812,20.06800079345703,19.65333366394043,18.788667678833008,17.463333129882812,16.70400047302246,17.520000457763672,17.125333786010742,16.815332412719727,17.25200080871582,17.305999755859375,18.439332962036133,18.118667602539062,17.5939998626709,17.333332061767578,17.39666748046875,19.609333038330078,19.233333587646484,20.99066734313965,22.059999465942383,22.323333740234375,21.99333381652832,22.488000869750977,22.95199966430664,23.0939998626709,22.760000228881836,22.737333297729492,23.21066665649414,23.426666259765625,23.367332458496094,22.0853328704834,22.582000732421875,22.933332443237305,23.229333877563477,23.62066650390625,23.564666748046875,23.166000366210938,22.54599952697754,21.722000122070312,23.066667556762695,22.92799949645996,23.191333770751953,22.744667053222656,23.365333557128906,23.89933204650879,23.979999542236328,24.20400047302246,23.864667892456055,24.343332290649414,24.450666427612305,24.440000534057617,25.119333267211914,24.380666732788086,23.22800064086914,22.468666076660156,22.197999954223633,21.025333404541016,21.31800079345703,19.69266700744629,21.73933219909668,21.075332641601562,22.257999420166016,22.18666648864746,20.674667358398438,20.02400016784668,21.179332733154297,22.33066749572754,22.356666564941406,22.568666458129883,22.99799919128418,23.150667190551758,22.293333053588867,22.961999893188477,23.06999969482422,23.15399932861328,20.150667190551758,19.92799949645996,19.172666549682617,19.43400001525879,19.80266761779785,19.7586669921875,19.83066749572754,20.584667205810547,20.468000411987305,20.81399917602539,20.859333038330078,21.42333221435547,21.148000717163086,20.500667572021484,20.386667251586914,20.856000900268555,20.78733253479004,20.544666290283203,20.251333236694336,20.525333404541016,20.375999450683594,20.17066764831543,19.415332794189453,19.6473331451416,19.917999267578125,19.857332229614258,20.982667922973633,21.325332641601562,19.652666091918945,19.02400016784668,18.43600082397461,18.416000366210938,18.439332962036133,18.94266700744629,19.39466667175293,18.890666961669922,19.263999938964844,19.33066749572754,18.36199951171875,17.965999603271484,17.83133316040039,18.239999771118164,18.26799964904785,17.635332107543945,17.3613338470459,17.851333618164062,18.32200050354004,18.57466697692871,18.657333374023438,19.278667449951172,19.058666229248047,19.45400047302246,17.851999282836914,18.33066749572754,18.213333129882812,18.15399932861328,18.40399932861328,17.89466667175293,17.84666633605957,17.7586669921875,18.224000930786133,18.082000732421875,18.21733283996582,17.516666412353516,17.593332290649414,17.243999481201172,16.5086669921875,15.675999641418457,16.097999572753906,15.912667274475098,15.600666999816895,16.273332595825195,17.00200080871582,17.022666931152344,16.470666885375977,16.32266616821289,16.131999969482422,15.968000411987305,15.133999824523926,15.487333297729492,15.463333129882812,15.222000122070312,14.0686674118042,13.690667152404785,13.67199993133545,12.84866714477539,13.03266716003418,12.708666801452637,12.579999923706055,12.657333374023438,12.54800033569336,12.343999862670898,11.9313325881958,12.90666675567627,13.105999946594238,13.729999542236328,13.633333206176758,14.192000389099121,14.473333358764648,13.950667381286621,14.260666847229004,14.32800006866455,15.001999855041504,14.982666969299316,15.095333099365234,14.641332626342773,14.790666580200195,14.909333229064941,14.650667190551758,14.618000030517578,14.855999946594238,14.897333145141602,15.14466667175293,14.970000267028809,15.65999984741211,15.539999961853027,15.355999946594238,15.337332725524902,15.928000450134277,15.90666675567627,16.338666915893555,16.899999618530273,16.825332641601562,16.99066734313965,16.902666091918945,17.211999893188477,17.045333862304688,17.344667434692383,17.658666610717773,15.254667282104492,15.202667236328125,15.718000411987305,16.150667190551758,16.107332229614258,15.59000015258789,15.62266731262207,15.221332550048828,15.383333206176758,15.561332702636719,15.886667251586914,15.667332649230957,15.267333030700684,15.666666984558105,14.641332626342773,14.37600040435791,14.662667274475098,15.121999740600586,15.057332992553711,14.722000122070312,14.8100004196167,14.09333324432373,14.333333015441895,14.272000312805176,14.37266731262207,14.780667304992676,15.040666580200195,15.000666618347168,14.711999893188477,15.305333137512207,15.16333293914795,15.452667236328125,15.702667236328125,16.47333335876465,16.391332626342773,16.34666633605957,16.187332153320312,16.319332122802734,16.232667922973633,16.440000534057617,16.041332244873047,16.082000732421875,14.880666732788086,15.24666690826416,16.17066764831543,16.142000198364258,16.058000564575195,16.312667846679688,16.208667755126953,15.535332679748535,15.428667068481445,15.847999572753906,16.003332138061523,16.302000045776367,16.31599998474121,16.525999069213867,17.130666732788086,17.19266700744629,17.316667556762695,17.46466636657715,17.1299991607666,16.899999618530273,17.038667678833008,16.978666305541992,19.978666305541992,21.875333786010742,21.847333908081055,21.08133316040039,21.000667572021484,20.994667053222656,20.887332916259766,21.1646671295166,21.148000717163086,21.77199935913086,22.369333267211914,22.47599983215332,23.006000518798828,23.32866668701172,23.073999404907227,23.290000915527344,23.47800064086914,23.332666397094727,23.968000411987305,23.481332778930664,23.655332565307617,22.202667236328125,22.422666549682617,21.92799949645996,22.086000442504883,21.996000289916992,22.32466697692871,22.413333892822266,22.20199966430664,22.024667739868164,22.392667770385742,22.635332107543945,23.256000518798828,23.51333236694336,23.978666305541992,23.892667770385742,25.433332443237305,25.266000747680664,26.209999084472656,26.93600082397461,27.03933334350586,27.947999954223633,28.350000381469727,28.729333877563477,28.691999435424805,27.64666748046875,27.8886661529541,28.68400001525879,29.534000396728516,30.1026668548584,31.270666122436523,32.80933380126953,32.089332580566406,31.876667022705078,34.990665435791016,35.861331939697266,34.56666564941406,34.232666015625,34.03333282470703,36.47999954223633,37.97066879272461,38.14666748046875,37.654666900634766,37.201332092285156,37.793331146240234,38.732666015625,42.72066879272461,43.371334075927734,52.0,59.137332916259766,48.97999954223633,49.930667877197266,49.871334075927734,51.41866683959961,51.62533187866211,51.15266799926758,53.599998474121094,53.33533477783203,57.22666549682617,61.16133117675781,59.96066665649414,60.06666564941406,55.58599853515625,53.32733154296875,51.91999816894531,45.266666412353516,44.53266525268555,49.574668884277344,49.70066833496094,49.96666717529297,48.30266571044922,46.89866638183594,40.53333282470703,43.02199935913086,42.28200149536133,37.369998931884766,36.44133377075195,29.67133331298828,28.68000030517578,24.08133316040039,28.50933265686035,28.50200080871582,28.952667236328125,33.66666793823242,35.95000076293945,35.21066665649414,34.29066848754883,33.47533416748047,34.93333435058594,32.104000091552734,30.29800033569336,32.000667572021484,34.41600036621094,36.36333465576172,36.589332580566406,38.20000076293945,43.39666748046875,47.32600021362305,48.65533447265625,49.680667877197266,50.259334564208984,49.75733184814453,45.781333923339844,48.807334899902344,47.04199981689453,48.34333419799805,53.25,51.27466583251953,53.367332458496094,52.12533187866211,46.75466537475586,50.74599838256836,51.2140007019043,52.172000885009766,52.00266647338867,54.62799835205078,54.08599853515625,53.96066665649414,52.73066711425781,53.55533218383789,53.27799987792969,54.242000579833984,53.867332458496094,54.37066650390625,55.17333221435547,54.45866775512695,54.591331481933594,54.68199920654297,53.72066879272461,55.66666793823242,59.87333297729492,58.770668029785156,58.86399841308594,57.62533187866211,59.04399871826172,63.327999114990234,62.711334228515625,68.336669921875,64.85600280761719,62.35200119018555,66.05999755859375,65.47533416748047,66.11933135986328,66.9306640625,66.72666931152344,66.28800201416016,66.78533172607422,64.0566635131836,65.73200225830078,63.982666015625,67.29000091552734,71.98733520507812,74.64199829101562,80.57733154296875,91.43866729736328,92.65733337402344,91.05867004394531,92.9520034790039,102.97666931152344,99.80400085449219,101.12000274658203,103.06732940673828,100.04266357421875,100.05599975585938,109.53333282470703,104.55733489990234,106.15533447265625,100.87133026123047,94.46666717529297,102.63999938964844,98.43267059326172,99.94066619873047,99.16600036621094,95.38400268554688,99.0,99.13333129882812,99.00133514404297,99.30533599853516,96.84733581542969,94.57133483886719,91.6259994506836,103.65066528320312,108.06666564941406,110.04733276367188,122.3759994506836,125.80599975585938,125.23533630371094,133.45533752441406,136.6653289794922,134.27999877929688,134.8893280029297,143.54466247558594,149.25,147.55999755859375,166.10667419433594,158.35000610351562,149.1233367919922,135.6666717529297,139.44000244140625,110.06999969482422,122.09333038330078,123.77999877929688,124.23999786376953,139.8733367919922,149.9199981689453,147.25332641601562,141.14332580566406,147.38333129882812,149.79666137695312,141.41000366210938,126.78666687011719,129.26333618164062,135.77999877929688,140.39999389648438,139.69000244140625,143.00332641601562,149.3866729736328,138.3633270263672,141.89332580566406,137.9933319091797,141.76666259765625,141.97332763671875,144.6666717529297,147.43333435058594,148.88333129882812,153.76666259765625,149.6266632080078,146.55667114257812,143.61000061035156,140.64666748046875,140.8800048828125,141.92999267578125,140.2100067138672,140.0933380126953,141.55999755859375,135.33999633789062,136.94332885742188,129.34666442871094,133.50332641601562,141.3000030517578,140.32666015625,146.02999877929688,143.31666564941406,140.4199981689453,136.7866668701172,139.0433349609375,137.25332641601562,136.1666717529297,136.02999877929688,147.20333862304688,162.2133331298828,166.42333984375,163.20333862304688,173.9499969482422,185.1266632080078,191.3333282470703,195.25332641601562,189.1999969482422,194.9199981689453,189.60667419433594,197.7933349609375,199.67999267578125,213.9199981689453,216.6266632080078,201.4933319091797,209.02333068847656,203.3300018310547,213.27667236328125,211.0833282470703,207.58999633789062,218.63333129882812,231.6666717529297,216.6199951171875,213.44667053222656,215.32666015625,220.58999633789062,221.22999572753906,221.99667358398438,231.5933380126953,235.22332763671875,243.2566680908203,245.0366668701172,251.9933319091797,272.0133361816406,293.3399963378906,270.39666748046875,283.14666748046875,284.8033447265625,281.6666564941406,275.38665771484375,281.51666259765625,283.48333740234375,281.663330078125,282.21331787109375,293.6000061035156,294.36334228515625,288.0533447265625,278.4766540527344,264.510009765625,279.9366760253906,290.92999267578125,284.89666748046875,283.3299865722656,284.07666015625,287.8066711425781,283.1533203125,268.2733459472656,270.5533447265625,272.0400085449219,265.40667724609375,266.04998779296875,262.4599914550781,260.4333190917969,238.1666717529297,232.94667053222656,247.33999633789062,227.4066619873047,225.1666717529297,239.47666931152344,228.81333923339844,217.73333740234375,207.14666748046875,199.31666564941406,187.6666717529297,224.52667236328125,222.68666076660156,233.1999969482422,231.2433319091797,235.97999572753906,225.6266632080078,233.93666076660156,217.72000122070312,218.2899932861328,223.3333282470703,220.72000122070312,210.08999633789062,213.4633331298828,206.23666381835938,203.76333618164062,211.8733367919922,222.64332580566406,220.5833282470703,230.35000610351562,230.5399932861328,223.6566619873047,227.93333435058594,225.67333984375,233.9933319091797,254.10667419433594,244.07666015625,246.28334045410156,246.5933380126953,238.2100067138672,239.663330078125,248.0399932861328,239.89666748046875,243.13333129882812,246.06666564941406,234.913330078125,231.46665954589844,225.6666717529297,236.47999572753906,228.3000030517578,224.53334045410156,223.64666748046875,221.17999267578125,224.1233367919922,209.67999267578125,205.73333740234375,196.6300048828125,190.56333923339844,196.5800018310547,192.27667236328125,192.6233367919922,187.82000732421875,195.5933380126953,193.6266632080078,202.14666748046875,201.56333923339844,206.3766632080078,210.28334045410156,208.4066619873047,207.96665954589844,201.7066650390625,190.94667053222656,199.68333435058594,201.7100067138672,201.19667053222656,199.5933380126953,203.3733367919922,203.29666137695312,205.89666748046875],\"yaxis\":\"y\"},{\"name\":\"Revenue\",\"type\":\"scatter\",\"x\":[\"2021-03-31T00:00:00\",\"2020-12-31T00:00:00\",\"2020-09-30T00:00:00\",\"2020-06-30T00:00:00\",\"2020-03-31T00:00:00\",\"2019-12-31T00:00:00\",\"2019-09-30T00:00:00\",\"2019-06-30T00:00:00\",\"2019-03-31T00:00:00\",\"2018-12-31T00:00:00\",\"2018-09-30T00:00:00\",\"2018-06-30T00:00:00\",\"2018-03-31T00:00:00\",\"2017-12-31T00:00:00\",\"2017-09-30T00:00:00\",\"2017-06-30T00:00:00\",\"2017-03-31T00:00:00\",\"2016-12-31T00:00:00\",\"2016-09-30T00:00:00\",\"2016-06-30T00:00:00\",\"2016-03-31T00:00:00\",\"2015-12-31T00:00:00\",\"2015-09-30T00:00:00\",\"2015-06-30T00:00:00\",\"2015-03-31T00:00:00\",\"2014-12-31T00:00:00\",\"2014-09-30T00:00:00\",\"2014-06-30T00:00:00\",\"2014-03-31T00:00:00\",\"2013-12-31T00:00:00\",\"2013-09-30T00:00:00\",\"2013-06-30T00:00:00\",\"2013-03-31T00:00:00\",\"2012-12-31T00:00:00\",\"2012-09-30T00:00:00\",\"2012-06-30T00:00:00\",\"2012-03-31T00:00:00\",\"2011-12-31T00:00:00\",\"2011-09-30T00:00:00\",\"2011-06-30T00:00:00\",\"2011-03-31T00:00:00\",\"2010-12-31T00:00:00\",\"2010-09-30T00:00:00\",\"2010-06-30T00:00:00\",\"2010-03-31T00:00:00\",\"2009-09-30T00:00:00\",\"2009-06-30T00:00:00\"],\"xaxis\":\"x2\",\"y\":[10389.0,10744.0,8771.0,6036.0,5985.0,7384.0,6303.0,6350.0,4541.0,7226.0,6824.0,4002.0,3409.0,3288.0,2985.0,2790.0,2696.0,2285.0,2298.0,1270.0,1147.0,1214.0,937.0,955.0,940.0,957.0,852.0,769.0,621.0,615.0,431.0,405.0,562.0,306.0,50.0,27.0,30.0,39.0,58.0,58.0,49.0,36.0,31.0,28.0,21.0,46.0,27.0],\"yaxis\":\"y2\"}],                        {\"annotations\":[{\"font\":{\"size\":16},\"showarrow\":false,\"text\":\"Historical Share Price\",\"x\":0.5,\"xanchor\":\"center\",\"xref\":\"paper\",\"y\":0.9999999999999999,\"yanchor\":\"bottom\",\"yref\":\"paper\"},{\"font\":{\"size\":16},\"showarrow\":false,\"text\":\"Historical Revenue\",\"x\":0.5,\"xanchor\":\"center\",\"xref\":\"paper\",\"y\":0.35,\"yanchor\":\"bottom\",\"yref\":\"paper\"}],\"height\":900,\"showlegend\":false,\"template\":{\"data\":{\"bar\":[{\"error_x\":{\"color\":\"#2a3f5f\"},\"error_y\":{\"color\":\"#2a3f5f\"},\"marker\":{\"line\":{\"color\":\"#E5ECF6\",\"width\":0.5},\"pattern\":{\"fillmode\":\"overlay\",\"size\":10,\"solidity\":0.2}},\"type\":\"bar\"}],\"barpolar\":[{\"marker\":{\"line\":{\"color\":\"#E5ECF6\",\"width\":0.5},\"pattern\":{\"fillmode\":\"overlay\",\"size\":10,\"solidity\":0.2}},\"type\":\"barpolar\"}],\"carpet\":[{\"aaxis\":{\"endlinecolor\":\"#2a3f5f\",\"gridcolor\":\"white\",\"linecolor\":\"white\",\"minorgridcolor\":\"white\",\"startlinecolor\":\"#2a3f5f\"},\"baxis\":{\"endlinecolor\":\"#2a3f5f\",\"gridcolor\":\"white\",\"linecolor\":\"white\",\"minorgridcolor\":\"white\",\"startlinecolor\":\"#2a3f5f\"},\"type\":\"carpet\"}],\"choropleth\":[{\"colorbar\":{\"outlinewidth\":0,\"ticks\":\"\"},\"type\":\"choropleth\"}],\"contour\":[{\"colorbar\":{\"outlinewidth\":0,\"ticks\":\"\"},\"colorscale\":[[0.0,\"#0d0887\"],[0.1111111111111111,\"#46039f\"],[0.2222222222222222,\"#7201a8\"],[0.3333333333333333,\"#9c179e\"],[0.4444444444444444,\"#bd3786\"],[0.5555555555555556,\"#d8576b\"],[0.6666666666666666,\"#ed7953\"],[0.7777777777777778,\"#fb9f3a\"],[0.8888888888888888,\"#fdca26\"],[1.0,\"#f0f921\"]],\"type\":\"contour\"}],\"contourcarpet\":[{\"colorbar\":{\"outlinewidth\":0,\"ticks\":\"\"},\"type\":\"contourcarpet\"}],\"heatmap\":[{\"colorbar\":{\"outlinewidth\":0,\"ticks\":\"\"},\"colorscale\":[[0.0,\"#0d0887\"],[0.1111111111111111,\"#46039f\"],[0.2222222222222222,\"#7201a8\"],[0.3333333333333333,\"#9c179e\"],[0.4444444444444444,\"#bd3786\"],[0.5555555555555556,\"#d8576b\"],[0.6666666666666666,\"#ed7953\"],[0.7777777777777778,\"#fb9f3a\"],[0.8888888888888888,\"#fdca26\"],[1.0,\"#f0f921\"]],\"type\":\"heatmap\"}],\"heatmapgl\":[{\"colorbar\":{\"outlinewidth\":0,\"ticks\":\"\"},\"colorscale\":[[0.0,\"#0d0887\"],[0.1111111111111111,\"#46039f\"],[0.2222222222222222,\"#7201a8\"],[0.3333333333333333,\"#9c179e\"],[0.4444444444444444,\"#bd3786\"],[0.5555555555555556,\"#d8576b\"],[0.6666666666666666,\"#ed7953\"],[0.7777777777777778,\"#fb9f3a\"],[0.8888888888888888,\"#fdca26\"],[1.0,\"#f0f921\"]],\"type\":\"heatmapgl\"}],\"histogram\":[{\"marker\":{\"pattern\":{\"fillmode\":\"overlay\",\"size\":10,\"solidity\":0.2}},\"type\":\"histogram\"}],\"histogram2d\":[{\"colorbar\":{\"outlinewidth\":0,\"ticks\":\"\"},\"colorscale\":[[0.0,\"#0d0887\"],[0.1111111111111111,\"#46039f\"],[0.2222222222222222,\"#7201a8\"],[0.3333333333333333,\"#9c179e\"],[0.4444444444444444,\"#bd3786\"],[0.5555555555555556,\"#d8576b\"],[0.6666666666666666,\"#ed7953\"],[0.7777777777777778,\"#fb9f3a\"],[0.8888888888888888,\"#fdca26\"],[1.0,\"#f0f921\"]],\"type\":\"histogram2d\"}],\"histogram2dcontour\":[{\"colorbar\":{\"outlinewidth\":0,\"ticks\":\"\"},\"colorscale\":[[0.0,\"#0d0887\"],[0.1111111111111111,\"#46039f\"],[0.2222222222222222,\"#7201a8\"],[0.3333333333333333,\"#9c179e\"],[0.4444444444444444,\"#bd3786\"],[0.5555555555555556,\"#d8576b\"],[0.6666666666666666,\"#ed7953\"],[0.7777777777777778,\"#fb9f3a\"],[0.8888888888888888,\"#fdca26\"],[1.0,\"#f0f921\"]],\"type\":\"histogram2dcontour\"}],\"mesh3d\":[{\"colorbar\":{\"outlinewidth\":0,\"ticks\":\"\"},\"type\":\"mesh3d\"}],\"parcoords\":[{\"line\":{\"colorbar\":{\"outlinewidth\":0,\"ticks\":\"\"}},\"type\":\"parcoords\"}],\"pie\":[{\"automargin\":true,\"type\":\"pie\"}],\"scatter\":[{\"marker\":{\"colorbar\":{\"outlinewidth\":0,\"ticks\":\"\"}},\"type\":\"scatter\"}],\"scatter3d\":[{\"line\":{\"colorbar\":{\"outlinewidth\":0,\"ticks\":\"\"}},\"marker\":{\"colorbar\":{\"outlinewidth\":0,\"ticks\":\"\"}},\"type\":\"scatter3d\"}],\"scattercarpet\":[{\"marker\":{\"colorbar\":{\"outlinewidth\":0,\"ticks\":\"\"}},\"type\":\"scattercarpet\"}],\"scattergeo\":[{\"marker\":{\"colorbar\":{\"outlinewidth\":0,\"ticks\":\"\"}},\"type\":\"scattergeo\"}],\"scattergl\":[{\"marker\":{\"colorbar\":{\"outlinewidth\":0,\"ticks\":\"\"}},\"type\":\"scattergl\"}],\"scattermapbox\":[{\"marker\":{\"colorbar\":{\"outlinewidth\":0,\"ticks\":\"\"}},\"type\":\"scattermapbox\"}],\"scatterpolar\":[{\"marker\":{\"colorbar\":{\"outlinewidth\":0,\"ticks\":\"\"}},\"type\":\"scatterpolar\"}],\"scatterpolargl\":[{\"marker\":{\"colorbar\":{\"outlinewidth\":0,\"ticks\":\"\"}},\"type\":\"scatterpolargl\"}],\"scatterternary\":[{\"marker\":{\"colorbar\":{\"outlinewidth\":0,\"ticks\":\"\"}},\"type\":\"scatterternary\"}],\"surface\":[{\"colorbar\":{\"outlinewidth\":0,\"ticks\":\"\"},\"colorscale\":[[0.0,\"#0d0887\"],[0.1111111111111111,\"#46039f\"],[0.2222222222222222,\"#7201a8\"],[0.3333333333333333,\"#9c179e\"],[0.4444444444444444,\"#bd3786\"],[0.5555555555555556,\"#d8576b\"],[0.6666666666666666,\"#ed7953\"],[0.7777777777777778,\"#fb9f3a\"],[0.8888888888888888,\"#fdca26\"],[1.0,\"#f0f921\"]],\"type\":\"surface\"}],\"table\":[{\"cells\":{\"fill\":{\"color\":\"#EBF0F8\"},\"line\":{\"color\":\"white\"}},\"header\":{\"fill\":{\"color\":\"#C8D4E3\"},\"line\":{\"color\":\"white\"}},\"type\":\"table\"}]},\"layout\":{\"annotationdefaults\":{\"arrowcolor\":\"#2a3f5f\",\"arrowhead\":0,\"arrowwidth\":1},\"autotypenumbers\":\"strict\",\"coloraxis\":{\"colorbar\":{\"outlinewidth\":0,\"ticks\":\"\"}},\"colorscale\":{\"diverging\":[[0,\"#8e0152\"],[0.1,\"#c51b7d\"],[0.2,\"#de77ae\"],[0.3,\"#f1b6da\"],[0.4,\"#fde0ef\"],[0.5,\"#f7f7f7\"],[0.6,\"#e6f5d0\"],[0.7,\"#b8e186\"],[0.8,\"#7fbc41\"],[0.9,\"#4d9221\"],[1,\"#276419\"]],\"sequential\":[[0.0,\"#0d0887\"],[0.1111111111111111,\"#46039f\"],[0.2222222222222222,\"#7201a8\"],[0.3333333333333333,\"#9c179e\"],[0.4444444444444444,\"#bd3786\"],[0.5555555555555556,\"#d8576b\"],[0.6666666666666666,\"#ed7953\"],[0.7777777777777778,\"#fb9f3a\"],[0.8888888888888888,\"#fdca26\"],[1.0,\"#f0f921\"]],\"sequentialminus\":[[0.0,\"#0d0887\"],[0.1111111111111111,\"#46039f\"],[0.2222222222222222,\"#7201a8\"],[0.3333333333333333,\"#9c179e\"],[0.4444444444444444,\"#bd3786\"],[0.5555555555555556,\"#d8576b\"],[0.6666666666666666,\"#ed7953\"],[0.7777777777777778,\"#fb9f3a\"],[0.8888888888888888,\"#fdca26\"],[1.0,\"#f0f921\"]]},\"colorway\":[\"#636efa\",\"#EF553B\",\"#00cc96\",\"#ab63fa\",\"#FFA15A\",\"#19d3f3\",\"#FF6692\",\"#B6E880\",\"#FF97FF\",\"#FECB52\"],\"font\":{\"color\":\"#2a3f5f\"},\"geo\":{\"bgcolor\":\"white\",\"lakecolor\":\"white\",\"landcolor\":\"#E5ECF6\",\"showlakes\":true,\"showland\":true,\"subunitcolor\":\"white\"},\"hoverlabel\":{\"align\":\"left\"},\"hovermode\":\"closest\",\"mapbox\":{\"style\":\"light\"},\"paper_bgcolor\":\"white\",\"plot_bgcolor\":\"#E5ECF6\",\"polar\":{\"angularaxis\":{\"gridcolor\":\"white\",\"linecolor\":\"white\",\"ticks\":\"\"},\"bgcolor\":\"#E5ECF6\",\"radialaxis\":{\"gridcolor\":\"white\",\"linecolor\":\"white\",\"ticks\":\"\"}},\"scene\":{\"xaxis\":{\"backgroundcolor\":\"#E5ECF6\",\"gridcolor\":\"white\",\"gridwidth\":2,\"linecolor\":\"white\",\"showbackground\":true,\"ticks\":\"\",\"zerolinecolor\":\"white\"},\"yaxis\":{\"backgroundcolor\":\"#E5ECF6\",\"gridcolor\":\"white\",\"gridwidth\":2,\"linecolor\":\"white\",\"showbackground\":true,\"ticks\":\"\",\"zerolinecolor\":\"white\"},\"zaxis\":{\"backgroundcolor\":\"#E5ECF6\",\"gridcolor\":\"white\",\"gridwidth\":2,\"linecolor\":\"white\",\"showbackground\":true,\"ticks\":\"\",\"zerolinecolor\":\"white\"}},\"shapedefaults\":{\"line\":{\"color\":\"#2a3f5f\"}},\"ternary\":{\"aaxis\":{\"gridcolor\":\"white\",\"linecolor\":\"white\",\"ticks\":\"\"},\"baxis\":{\"gridcolor\":\"white\",\"linecolor\":\"white\",\"ticks\":\"\"},\"bgcolor\":\"#E5ECF6\",\"caxis\":{\"gridcolor\":\"white\",\"linecolor\":\"white\",\"ticks\":\"\"}},\"title\":{\"x\":0.05},\"xaxis\":{\"automargin\":true,\"gridcolor\":\"white\",\"linecolor\":\"white\",\"ticks\":\"\",\"title\":{\"standoff\":15},\"zerolinecolor\":\"white\",\"zerolinewidth\":2},\"yaxis\":{\"automargin\":true,\"gridcolor\":\"white\",\"linecolor\":\"white\",\"ticks\":\"\",\"title\":{\"standoff\":15},\"zerolinecolor\":\"white\",\"zerolinewidth\":2}}},\"title\":{\"text\":\"Tesla\"},\"xaxis\":{\"anchor\":\"y\",\"domain\":[0.0,1.0],\"matches\":\"x2\",\"rangeslider\":{\"visible\":true},\"showticklabels\":false,\"title\":{\"text\":\"Date\"}},\"xaxis2\":{\"anchor\":\"y2\",\"domain\":[0.0,1.0],\"title\":{\"text\":\"Date\"}},\"yaxis\":{\"anchor\":\"x\",\"domain\":[0.6499999999999999,0.9999999999999999],\"title\":{\"text\":\"Price ($US)\"}},\"yaxis2\":{\"anchor\":\"x2\",\"domain\":[0.0,0.35],\"title\":{\"text\":\"Revenue ($US Millions)\"}}},                        {\"responsive\": true}                    ).then(function(){\n",
       "                            \n",
       "var gd = document.getElementById('e29e03f5-e497-4ba3-8e08-74a084fa38f0');\n",
       "var x = new MutationObserver(function (mutations, observer) {{\n",
       "        var display = window.getComputedStyle(gd).display;\n",
       "        if (!display || display === 'none') {{\n",
       "            console.log([gd, 'removed!']);\n",
       "            Plotly.purge(gd);\n",
       "            observer.disconnect();\n",
       "        }}\n",
       "}});\n",
       "\n",
       "// Listen for the removal of the full notebook cells\n",
       "var notebookContainer = gd.closest('#notebook-container');\n",
       "if (notebookContainer) {{\n",
       "    x.observe(notebookContainer, {childList: true});\n",
       "}}\n",
       "\n",
       "// Listen for the clearing of the current output cell\n",
       "var outputEl = gd.closest('.output');\n",
       "if (outputEl) {{\n",
       "    x.observe(outputEl, {childList: true});\n",
       "}}\n",
       "\n",
       "                        })                };                });            </script>        </div>"
      ]
     },
     "metadata": {},
     "output_type": "display_data"
    }
   ],
   "source": [
    "make_graph(tesla_data, tesla_revenue, 'Tesla')"
   ]
  },
  {
   "cell_type": "markdown",
   "id": "8ea1476b",
   "metadata": {
    "papermill": {
     "duration": 0.03092,
     "end_time": "2022-09-15T05:39:41.732416",
     "exception": false,
     "start_time": "2022-09-15T05:39:41.701496",
     "status": "completed"
    },
    "tags": []
   },
   "source": [
    "## Question 6: Plot GameStop Stock Graph\n"
   ]
  },
  {
   "cell_type": "markdown",
   "id": "90f2670a",
   "metadata": {
    "papermill": {
     "duration": 0.025183,
     "end_time": "2022-09-15T05:39:41.783849",
     "exception": false,
     "start_time": "2022-09-15T05:39:41.758666",
     "status": "completed"
    },
    "tags": []
   },
   "source": [
    "Use the `make_graph` function to graph the GameStop Stock Data, also provide a title for the graph. The structure to call the `make_graph` function is `make_graph(gme_data, gme_revenue, 'GameStop')`. Note the graph will only show data upto June 2021.\n"
   ]
  },
  {
   "cell_type": "code",
   "execution_count": 24,
   "id": "24b29f7f",
   "metadata": {
    "execution": {
     "iopub.execute_input": "2022-09-15T05:39:41.836865Z",
     "iopub.status.busy": "2022-09-15T05:39:41.836369Z",
     "iopub.status.idle": "2022-09-15T05:39:42.006806Z",
     "shell.execute_reply": "2022-09-15T05:39:42.005610Z"
    },
    "papermill": {
     "duration": 0.20434,
     "end_time": "2022-09-15T05:39:42.013767",
     "exception": false,
     "start_time": "2022-09-15T05:39:41.809427",
     "status": "completed"
    },
    "tags": []
   },
   "outputs": [
    {
     "data": {
      "text/html": [
       "<div>                            <div id=\"10f8bee9-d7be-4c9d-bda8-b240615e3001\" class=\"plotly-graph-div\" style=\"height:900px; width:100%;\"></div>            <script type=\"text/javascript\">                require([\"plotly\"], function(Plotly) {                    window.PLOTLYENV=window.PLOTLYENV || {};                                    if (document.getElementById(\"10f8bee9-d7be-4c9d-bda8-b240615e3001\")) {                    Plotly.newPlot(                        \"10f8bee9-d7be-4c9d-bda8-b240615e3001\",                        [{\"name\":\"Share Price\",\"type\":\"scatter\",\"x\":[\"2002-02-13T00:00:00\",\"2002-02-14T00:00:00\",\"2002-02-15T00:00:00\",\"2002-02-19T00:00:00\",\"2002-02-20T00:00:00\",\"2002-02-21T00:00:00\",\"2002-02-22T00:00:00\",\"2002-02-25T00:00:00\",\"2002-02-26T00:00:00\",\"2002-02-27T00:00:00\",\"2002-02-28T00:00:00\",\"2002-03-01T00:00:00\",\"2002-03-04T00:00:00\",\"2002-03-05T00:00:00\",\"2002-03-06T00:00:00\",\"2002-03-07T00:00:00\",\"2002-03-08T00:00:00\",\"2002-03-11T00:00:00\",\"2002-03-12T00:00:00\",\"2002-03-13T00:00:00\",\"2002-03-14T00:00:00\",\"2002-03-15T00:00:00\",\"2002-03-18T00:00:00\",\"2002-03-19T00:00:00\",\"2002-03-20T00:00:00\",\"2002-03-21T00:00:00\",\"2002-03-22T00:00:00\",\"2002-03-25T00:00:00\",\"2002-03-26T00:00:00\",\"2002-03-27T00:00:00\",\"2002-03-28T00:00:00\",\"2002-04-01T00:00:00\",\"2002-04-02T00:00:00\",\"2002-04-03T00:00:00\",\"2002-04-04T00:00:00\",\"2002-04-05T00:00:00\",\"2002-04-08T00:00:00\",\"2002-04-09T00:00:00\",\"2002-04-10T00:00:00\",\"2002-04-11T00:00:00\",\"2002-04-12T00:00:00\",\"2002-04-15T00:00:00\",\"2002-04-16T00:00:00\",\"2002-04-17T00:00:00\",\"2002-04-18T00:00:00\",\"2002-04-19T00:00:00\",\"2002-04-22T00:00:00\",\"2002-04-23T00:00:00\",\"2002-04-24T00:00:00\",\"2002-04-25T00:00:00\",\"2002-04-26T00:00:00\",\"2002-04-29T00:00:00\",\"2002-04-30T00:00:00\",\"2002-05-01T00:00:00\",\"2002-05-02T00:00:00\",\"2002-05-03T00:00:00\",\"2002-05-06T00:00:00\",\"2002-05-07T00:00:00\",\"2002-05-08T00:00:00\",\"2002-05-09T00:00:00\",\"2002-05-10T00:00:00\",\"2002-05-13T00:00:00\",\"2002-05-14T00:00:00\",\"2002-05-15T00:00:00\",\"2002-05-16T00:00:00\",\"2002-05-17T00:00:00\",\"2002-05-20T00:00:00\",\"2002-05-21T00:00:00\",\"2002-05-22T00:00:00\",\"2002-05-23T00:00:00\",\"2002-05-24T00:00:00\",\"2002-05-28T00:00:00\",\"2002-05-29T00:00:00\",\"2002-05-30T00:00:00\",\"2002-05-31T00:00:00\",\"2002-06-03T00:00:00\",\"2002-06-04T00:00:00\",\"2002-06-05T00:00:00\",\"2002-06-06T00:00:00\",\"2002-06-07T00:00:00\",\"2002-06-10T00:00:00\",\"2002-06-11T00:00:00\",\"2002-06-12T00:00:00\",\"2002-06-13T00:00:00\",\"2002-06-14T00:00:00\",\"2002-06-17T00:00:00\",\"2002-06-18T00:00:00\",\"2002-06-19T00:00:00\",\"2002-06-20T00:00:00\",\"2002-06-21T00:00:00\",\"2002-06-24T00:00:00\",\"2002-06-25T00:00:00\",\"2002-06-26T00:00:00\",\"2002-06-27T00:00:00\",\"2002-06-28T00:00:00\",\"2002-07-01T00:00:00\",\"2002-07-02T00:00:00\",\"2002-07-03T00:00:00\",\"2002-07-05T00:00:00\",\"2002-07-08T00:00:00\",\"2002-07-09T00:00:00\",\"2002-07-10T00:00:00\",\"2002-07-11T00:00:00\",\"2002-07-12T00:00:00\",\"2002-07-15T00:00:00\",\"2002-07-16T00:00:00\",\"2002-07-17T00:00:00\",\"2002-07-18T00:00:00\",\"2002-07-19T00:00:00\",\"2002-07-22T00:00:00\",\"2002-07-23T00:00:00\",\"2002-07-24T00:00:00\",\"2002-07-25T00:00:00\",\"2002-07-26T00:00:00\",\"2002-07-29T00:00:00\",\"2002-07-30T00:00:00\",\"2002-07-31T00:00:00\",\"2002-08-01T00:00:00\",\"2002-08-02T00:00:00\",\"2002-08-05T00:00:00\",\"2002-08-06T00:00:00\",\"2002-08-07T00:00:00\",\"2002-08-08T00:00:00\",\"2002-08-09T00:00:00\",\"2002-08-12T00:00:00\",\"2002-08-13T00:00:00\",\"2002-08-14T00:00:00\",\"2002-08-15T00:00:00\",\"2002-08-16T00:00:00\",\"2002-08-19T00:00:00\",\"2002-08-20T00:00:00\",\"2002-08-21T00:00:00\",\"2002-08-22T00:00:00\",\"2002-08-23T00:00:00\",\"2002-08-26T00:00:00\",\"2002-08-27T00:00:00\",\"2002-08-28T00:00:00\",\"2002-08-29T00:00:00\",\"2002-08-30T00:00:00\",\"2002-09-03T00:00:00\",\"2002-09-04T00:00:00\",\"2002-09-05T00:00:00\",\"2002-09-06T00:00:00\",\"2002-09-09T00:00:00\",\"2002-09-10T00:00:00\",\"2002-09-11T00:00:00\",\"2002-09-12T00:00:00\",\"2002-09-13T00:00:00\",\"2002-09-16T00:00:00\",\"2002-09-17T00:00:00\",\"2002-09-18T00:00:00\",\"2002-09-19T00:00:00\",\"2002-09-20T00:00:00\",\"2002-09-23T00:00:00\",\"2002-09-24T00:00:00\",\"2002-09-25T00:00:00\",\"2002-09-26T00:00:00\",\"2002-09-27T00:00:00\",\"2002-09-30T00:00:00\",\"2002-10-01T00:00:00\",\"2002-10-02T00:00:00\",\"2002-10-03T00:00:00\",\"2002-10-04T00:00:00\",\"2002-10-07T00:00:00\",\"2002-10-08T00:00:00\",\"2002-10-09T00:00:00\",\"2002-10-10T00:00:00\",\"2002-10-11T00:00:00\",\"2002-10-14T00:00:00\",\"2002-10-15T00:00:00\",\"2002-10-16T00:00:00\",\"2002-10-17T00:00:00\",\"2002-10-18T00:00:00\",\"2002-10-21T00:00:00\",\"2002-10-22T00:00:00\",\"2002-10-23T00:00:00\",\"2002-10-24T00:00:00\",\"2002-10-25T00:00:00\",\"2002-10-28T00:00:00\",\"2002-10-29T00:00:00\",\"2002-10-30T00:00:00\",\"2002-10-31T00:00:00\",\"2002-11-01T00:00:00\",\"2002-11-04T00:00:00\",\"2002-11-05T00:00:00\",\"2002-11-06T00:00:00\",\"2002-11-07T00:00:00\",\"2002-11-08T00:00:00\",\"2002-11-11T00:00:00\",\"2002-11-12T00:00:00\",\"2002-11-13T00:00:00\",\"2002-11-14T00:00:00\",\"2002-11-15T00:00:00\",\"2002-11-18T00:00:00\",\"2002-11-19T00:00:00\",\"2002-11-20T00:00:00\",\"2002-11-21T00:00:00\",\"2002-11-22T00:00:00\",\"2002-11-25T00:00:00\",\"2002-11-26T00:00:00\",\"2002-11-27T00:00:00\",\"2002-11-29T00:00:00\",\"2002-12-02T00:00:00\",\"2002-12-03T00:00:00\",\"2002-12-04T00:00:00\",\"2002-12-05T00:00:00\",\"2002-12-06T00:00:00\",\"2002-12-09T00:00:00\",\"2002-12-10T00:00:00\",\"2002-12-11T00:00:00\",\"2002-12-12T00:00:00\",\"2002-12-13T00:00:00\",\"2002-12-16T00:00:00\",\"2002-12-17T00:00:00\",\"2002-12-18T00:00:00\",\"2002-12-19T00:00:00\",\"2002-12-20T00:00:00\",\"2002-12-23T00:00:00\",\"2002-12-24T00:00:00\",\"2002-12-26T00:00:00\",\"2002-12-27T00:00:00\",\"2002-12-30T00:00:00\",\"2002-12-31T00:00:00\",\"2003-01-02T00:00:00\",\"2003-01-03T00:00:00\",\"2003-01-06T00:00:00\",\"2003-01-07T00:00:00\",\"2003-01-08T00:00:00\",\"2003-01-09T00:00:00\",\"2003-01-10T00:00:00\",\"2003-01-13T00:00:00\",\"2003-01-14T00:00:00\",\"2003-01-15T00:00:00\",\"2003-01-16T00:00:00\",\"2003-01-17T00:00:00\",\"2003-01-21T00:00:00\",\"2003-01-22T00:00:00\",\"2003-01-23T00:00:00\",\"2003-01-24T00:00:00\",\"2003-01-27T00:00:00\",\"2003-01-28T00:00:00\",\"2003-01-29T00:00:00\",\"2003-01-30T00:00:00\",\"2003-01-31T00:00:00\",\"2003-02-03T00:00:00\",\"2003-02-04T00:00:00\",\"2003-02-05T00:00:00\",\"2003-02-06T00:00:00\",\"2003-02-07T00:00:00\",\"2003-02-10T00:00:00\",\"2003-02-11T00:00:00\",\"2003-02-12T00:00:00\",\"2003-02-13T00:00:00\",\"2003-02-14T00:00:00\",\"2003-02-18T00:00:00\",\"2003-02-19T00:00:00\",\"2003-02-20T00:00:00\",\"2003-02-21T00:00:00\",\"2003-02-24T00:00:00\",\"2003-02-25T00:00:00\",\"2003-02-26T00:00:00\",\"2003-02-27T00:00:00\",\"2003-02-28T00:00:00\",\"2003-03-03T00:00:00\",\"2003-03-04T00:00:00\",\"2003-03-05T00:00:00\",\"2003-03-06T00:00:00\",\"2003-03-07T00:00:00\",\"2003-03-10T00:00:00\",\"2003-03-11T00:00:00\",\"2003-03-12T00:00:00\",\"2003-03-13T00:00:00\",\"2003-03-14T00:00:00\",\"2003-03-17T00:00:00\",\"2003-03-18T00:00:00\",\"2003-03-19T00:00:00\",\"2003-03-20T00:00:00\",\"2003-03-21T00:00:00\",\"2003-03-24T00:00:00\",\"2003-03-25T00:00:00\",\"2003-03-26T00:00:00\",\"2003-03-27T00:00:00\",\"2003-03-28T00:00:00\",\"2003-03-31T00:00:00\",\"2003-04-01T00:00:00\",\"2003-04-02T00:00:00\",\"2003-04-03T00:00:00\",\"2003-04-04T00:00:00\",\"2003-04-07T00:00:00\",\"2003-04-08T00:00:00\",\"2003-04-09T00:00:00\",\"2003-04-10T00:00:00\",\"2003-04-11T00:00:00\",\"2003-04-14T00:00:00\",\"2003-04-15T00:00:00\",\"2003-04-16T00:00:00\",\"2003-04-17T00:00:00\",\"2003-04-21T00:00:00\",\"2003-04-22T00:00:00\",\"2003-04-23T00:00:00\",\"2003-04-24T00:00:00\",\"2003-04-25T00:00:00\",\"2003-04-28T00:00:00\",\"2003-04-29T00:00:00\",\"2003-04-30T00:00:00\",\"2003-05-01T00:00:00\",\"2003-05-02T00:00:00\",\"2003-05-05T00:00:00\",\"2003-05-06T00:00:00\",\"2003-05-07T00:00:00\",\"2003-05-08T00:00:00\",\"2003-05-09T00:00:00\",\"2003-05-12T00:00:00\",\"2003-05-13T00:00:00\",\"2003-05-14T00:00:00\",\"2003-05-15T00:00:00\",\"2003-05-16T00:00:00\",\"2003-05-19T00:00:00\",\"2003-05-20T00:00:00\",\"2003-05-21T00:00:00\",\"2003-05-22T00:00:00\",\"2003-05-23T00:00:00\",\"2003-05-27T00:00:00\",\"2003-05-28T00:00:00\",\"2003-05-29T00:00:00\",\"2003-05-30T00:00:00\",\"2003-06-02T00:00:00\",\"2003-06-03T00:00:00\",\"2003-06-04T00:00:00\",\"2003-06-05T00:00:00\",\"2003-06-06T00:00:00\",\"2003-06-09T00:00:00\",\"2003-06-10T00:00:00\",\"2003-06-11T00:00:00\",\"2003-06-12T00:00:00\",\"2003-06-13T00:00:00\",\"2003-06-16T00:00:00\",\"2003-06-17T00:00:00\",\"2003-06-18T00:00:00\",\"2003-06-19T00:00:00\",\"2003-06-20T00:00:00\",\"2003-06-23T00:00:00\",\"2003-06-24T00:00:00\",\"2003-06-25T00:00:00\",\"2003-06-26T00:00:00\",\"2003-06-27T00:00:00\",\"2003-06-30T00:00:00\",\"2003-07-01T00:00:00\",\"2003-07-02T00:00:00\",\"2003-07-03T00:00:00\",\"2003-07-07T00:00:00\",\"2003-07-08T00:00:00\",\"2003-07-09T00:00:00\",\"2003-07-10T00:00:00\",\"2003-07-11T00:00:00\",\"2003-07-14T00:00:00\",\"2003-07-15T00:00:00\",\"2003-07-16T00:00:00\",\"2003-07-17T00:00:00\",\"2003-07-18T00:00:00\",\"2003-07-21T00:00:00\",\"2003-07-22T00:00:00\",\"2003-07-23T00:00:00\",\"2003-07-24T00:00:00\",\"2003-07-25T00:00:00\",\"2003-07-28T00:00:00\",\"2003-07-29T00:00:00\",\"2003-07-30T00:00:00\",\"2003-07-31T00:00:00\",\"2003-08-01T00:00:00\",\"2003-08-04T00:00:00\",\"2003-08-05T00:00:00\",\"2003-08-06T00:00:00\",\"2003-08-07T00:00:00\",\"2003-08-08T00:00:00\",\"2003-08-11T00:00:00\",\"2003-08-12T00:00:00\",\"2003-08-13T00:00:00\",\"2003-08-14T00:00:00\",\"2003-08-15T00:00:00\",\"2003-08-18T00:00:00\",\"2003-08-19T00:00:00\",\"2003-08-20T00:00:00\",\"2003-08-21T00:00:00\",\"2003-08-22T00:00:00\",\"2003-08-25T00:00:00\",\"2003-08-26T00:00:00\",\"2003-08-27T00:00:00\",\"2003-08-28T00:00:00\",\"2003-08-29T00:00:00\",\"2003-09-02T00:00:00\",\"2003-09-03T00:00:00\",\"2003-09-04T00:00:00\",\"2003-09-05T00:00:00\",\"2003-09-08T00:00:00\",\"2003-09-09T00:00:00\",\"2003-09-10T00:00:00\",\"2003-09-11T00:00:00\",\"2003-09-12T00:00:00\",\"2003-09-15T00:00:00\",\"2003-09-16T00:00:00\",\"2003-09-17T00:00:00\",\"2003-09-18T00:00:00\",\"2003-09-19T00:00:00\",\"2003-09-22T00:00:00\",\"2003-09-23T00:00:00\",\"2003-09-24T00:00:00\",\"2003-09-25T00:00:00\",\"2003-09-26T00:00:00\",\"2003-09-29T00:00:00\",\"2003-09-30T00:00:00\",\"2003-10-01T00:00:00\",\"2003-10-02T00:00:00\",\"2003-10-03T00:00:00\",\"2003-10-06T00:00:00\",\"2003-10-07T00:00:00\",\"2003-10-08T00:00:00\",\"2003-10-09T00:00:00\",\"2003-10-10T00:00:00\",\"2003-10-13T00:00:00\",\"2003-10-14T00:00:00\",\"2003-10-15T00:00:00\",\"2003-10-16T00:00:00\",\"2003-10-17T00:00:00\",\"2003-10-20T00:00:00\",\"2003-10-21T00:00:00\",\"2003-10-22T00:00:00\",\"2003-10-23T00:00:00\",\"2003-10-24T00:00:00\",\"2003-10-27T00:00:00\",\"2003-10-28T00:00:00\",\"2003-10-29T00:00:00\",\"2003-10-30T00:00:00\",\"2003-10-31T00:00:00\",\"2003-11-03T00:00:00\",\"2003-11-04T00:00:00\",\"2003-11-05T00:00:00\",\"2003-11-06T00:00:00\",\"2003-11-07T00:00:00\",\"2003-11-10T00:00:00\",\"2003-11-11T00:00:00\",\"2003-11-12T00:00:00\",\"2003-11-13T00:00:00\",\"2003-11-14T00:00:00\",\"2003-11-17T00:00:00\",\"2003-11-18T00:00:00\",\"2003-11-19T00:00:00\",\"2003-11-20T00:00:00\",\"2003-11-21T00:00:00\",\"2003-11-24T00:00:00\",\"2003-11-25T00:00:00\",\"2003-11-26T00:00:00\",\"2003-11-28T00:00:00\",\"2003-12-01T00:00:00\",\"2003-12-02T00:00:00\",\"2003-12-03T00:00:00\",\"2003-12-04T00:00:00\",\"2003-12-05T00:00:00\",\"2003-12-08T00:00:00\",\"2003-12-09T00:00:00\",\"2003-12-10T00:00:00\",\"2003-12-11T00:00:00\",\"2003-12-12T00:00:00\",\"2003-12-15T00:00:00\",\"2003-12-16T00:00:00\",\"2003-12-17T00:00:00\",\"2003-12-18T00:00:00\",\"2003-12-19T00:00:00\",\"2003-12-22T00:00:00\",\"2003-12-23T00:00:00\",\"2003-12-24T00:00:00\",\"2003-12-26T00:00:00\",\"2003-12-29T00:00:00\",\"2003-12-30T00:00:00\",\"2003-12-31T00:00:00\",\"2004-01-02T00:00:00\",\"2004-01-05T00:00:00\",\"2004-01-06T00:00:00\",\"2004-01-07T00:00:00\",\"2004-01-08T00:00:00\",\"2004-01-09T00:00:00\",\"2004-01-12T00:00:00\",\"2004-01-13T00:00:00\",\"2004-01-14T00:00:00\",\"2004-01-15T00:00:00\",\"2004-01-16T00:00:00\",\"2004-01-20T00:00:00\",\"2004-01-21T00:00:00\",\"2004-01-22T00:00:00\",\"2004-01-23T00:00:00\",\"2004-01-26T00:00:00\",\"2004-01-27T00:00:00\",\"2004-01-28T00:00:00\",\"2004-01-29T00:00:00\",\"2004-01-30T00:00:00\",\"2004-02-02T00:00:00\",\"2004-02-03T00:00:00\",\"2004-02-04T00:00:00\",\"2004-02-05T00:00:00\",\"2004-02-06T00:00:00\",\"2004-02-09T00:00:00\",\"2004-02-10T00:00:00\",\"2004-02-11T00:00:00\",\"2004-02-12T00:00:00\",\"2004-02-13T00:00:00\",\"2004-02-17T00:00:00\",\"2004-02-18T00:00:00\",\"2004-02-19T00:00:00\",\"2004-02-20T00:00:00\",\"2004-02-23T00:00:00\",\"2004-02-24T00:00:00\",\"2004-02-25T00:00:00\",\"2004-02-26T00:00:00\",\"2004-02-27T00:00:00\",\"2004-03-01T00:00:00\",\"2004-03-02T00:00:00\",\"2004-03-03T00:00:00\",\"2004-03-04T00:00:00\",\"2004-03-05T00:00:00\",\"2004-03-08T00:00:00\",\"2004-03-09T00:00:00\",\"2004-03-10T00:00:00\",\"2004-03-11T00:00:00\",\"2004-03-12T00:00:00\",\"2004-03-15T00:00:00\",\"2004-03-16T00:00:00\",\"2004-03-17T00:00:00\",\"2004-03-18T00:00:00\",\"2004-03-19T00:00:00\",\"2004-03-22T00:00:00\",\"2004-03-23T00:00:00\",\"2004-03-24T00:00:00\",\"2004-03-25T00:00:00\",\"2004-03-26T00:00:00\",\"2004-03-29T00:00:00\",\"2004-03-30T00:00:00\",\"2004-03-31T00:00:00\",\"2004-04-01T00:00:00\",\"2004-04-02T00:00:00\",\"2004-04-05T00:00:00\",\"2004-04-06T00:00:00\",\"2004-04-07T00:00:00\",\"2004-04-08T00:00:00\",\"2004-04-12T00:00:00\",\"2004-04-13T00:00:00\",\"2004-04-14T00:00:00\",\"2004-04-15T00:00:00\",\"2004-04-16T00:00:00\",\"2004-04-19T00:00:00\",\"2004-04-20T00:00:00\",\"2004-04-21T00:00:00\",\"2004-04-22T00:00:00\",\"2004-04-23T00:00:00\",\"2004-04-26T00:00:00\",\"2004-04-27T00:00:00\",\"2004-04-28T00:00:00\",\"2004-04-29T00:00:00\",\"2004-04-30T00:00:00\",\"2004-05-03T00:00:00\",\"2004-05-04T00:00:00\",\"2004-05-05T00:00:00\",\"2004-05-06T00:00:00\",\"2004-05-07T00:00:00\",\"2004-05-10T00:00:00\",\"2004-05-11T00:00:00\",\"2004-05-12T00:00:00\",\"2004-05-13T00:00:00\",\"2004-05-14T00:00:00\",\"2004-05-17T00:00:00\",\"2004-05-18T00:00:00\",\"2004-05-19T00:00:00\",\"2004-05-20T00:00:00\",\"2004-05-21T00:00:00\",\"2004-05-24T00:00:00\",\"2004-05-25T00:00:00\",\"2004-05-26T00:00:00\",\"2004-05-27T00:00:00\",\"2004-05-28T00:00:00\",\"2004-06-01T00:00:00\",\"2004-06-02T00:00:00\",\"2004-06-03T00:00:00\",\"2004-06-04T00:00:00\",\"2004-06-07T00:00:00\",\"2004-06-08T00:00:00\",\"2004-06-09T00:00:00\",\"2004-06-10T00:00:00\",\"2004-06-14T00:00:00\",\"2004-06-15T00:00:00\",\"2004-06-16T00:00:00\",\"2004-06-17T00:00:00\",\"2004-06-18T00:00:00\",\"2004-06-21T00:00:00\",\"2004-06-22T00:00:00\",\"2004-06-23T00:00:00\",\"2004-06-24T00:00:00\",\"2004-06-25T00:00:00\",\"2004-06-28T00:00:00\",\"2004-06-29T00:00:00\",\"2004-06-30T00:00:00\",\"2004-07-01T00:00:00\",\"2004-07-02T00:00:00\",\"2004-07-06T00:00:00\",\"2004-07-07T00:00:00\",\"2004-07-08T00:00:00\",\"2004-07-09T00:00:00\",\"2004-07-12T00:00:00\",\"2004-07-13T00:00:00\",\"2004-07-14T00:00:00\",\"2004-07-15T00:00:00\",\"2004-07-16T00:00:00\",\"2004-07-19T00:00:00\",\"2004-07-20T00:00:00\",\"2004-07-21T00:00:00\",\"2004-07-22T00:00:00\",\"2004-07-23T00:00:00\",\"2004-07-26T00:00:00\",\"2004-07-27T00:00:00\",\"2004-07-28T00:00:00\",\"2004-07-29T00:00:00\",\"2004-07-30T00:00:00\",\"2004-08-02T00:00:00\",\"2004-08-03T00:00:00\",\"2004-08-04T00:00:00\",\"2004-08-05T00:00:00\",\"2004-08-06T00:00:00\",\"2004-08-09T00:00:00\",\"2004-08-10T00:00:00\",\"2004-08-11T00:00:00\",\"2004-08-12T00:00:00\",\"2004-08-13T00:00:00\",\"2004-08-16T00:00:00\",\"2004-08-17T00:00:00\",\"2004-08-18T00:00:00\",\"2004-08-19T00:00:00\",\"2004-08-20T00:00:00\",\"2004-08-23T00:00:00\",\"2004-08-24T00:00:00\",\"2004-08-25T00:00:00\",\"2004-08-26T00:00:00\",\"2004-08-27T00:00:00\",\"2004-08-30T00:00:00\",\"2004-08-31T00:00:00\",\"2004-09-01T00:00:00\",\"2004-09-02T00:00:00\",\"2004-09-03T00:00:00\",\"2004-09-07T00:00:00\",\"2004-09-08T00:00:00\",\"2004-09-09T00:00:00\",\"2004-09-10T00:00:00\",\"2004-09-13T00:00:00\",\"2004-09-14T00:00:00\",\"2004-09-15T00:00:00\",\"2004-09-16T00:00:00\",\"2004-09-17T00:00:00\",\"2004-09-20T00:00:00\",\"2004-09-21T00:00:00\",\"2004-09-22T00:00:00\",\"2004-09-23T00:00:00\",\"2004-09-24T00:00:00\",\"2004-09-27T00:00:00\",\"2004-09-28T00:00:00\",\"2004-09-29T00:00:00\",\"2004-09-30T00:00:00\",\"2004-10-01T00:00:00\",\"2004-10-04T00:00:00\",\"2004-10-05T00:00:00\",\"2004-10-06T00:00:00\",\"2004-10-07T00:00:00\",\"2004-10-08T00:00:00\",\"2004-10-11T00:00:00\",\"2004-10-12T00:00:00\",\"2004-10-13T00:00:00\",\"2004-10-14T00:00:00\",\"2004-10-15T00:00:00\",\"2004-10-18T00:00:00\",\"2004-10-19T00:00:00\",\"2004-10-20T00:00:00\",\"2004-10-21T00:00:00\",\"2004-10-22T00:00:00\",\"2004-10-25T00:00:00\",\"2004-10-26T00:00:00\",\"2004-10-27T00:00:00\",\"2004-10-28T00:00:00\",\"2004-10-29T00:00:00\",\"2004-11-01T00:00:00\",\"2004-11-02T00:00:00\",\"2004-11-03T00:00:00\",\"2004-11-04T00:00:00\",\"2004-11-05T00:00:00\",\"2004-11-08T00:00:00\",\"2004-11-09T00:00:00\",\"2004-11-10T00:00:00\",\"2004-11-11T00:00:00\",\"2004-11-12T00:00:00\",\"2004-11-15T00:00:00\",\"2004-11-16T00:00:00\",\"2004-11-17T00:00:00\",\"2004-11-18T00:00:00\",\"2004-11-19T00:00:00\",\"2004-11-22T00:00:00\",\"2004-11-23T00:00:00\",\"2004-11-24T00:00:00\",\"2004-11-26T00:00:00\",\"2004-11-29T00:00:00\",\"2004-11-30T00:00:00\",\"2004-12-01T00:00:00\",\"2004-12-02T00:00:00\",\"2004-12-03T00:00:00\",\"2004-12-06T00:00:00\",\"2004-12-07T00:00:00\",\"2004-12-08T00:00:00\",\"2004-12-09T00:00:00\",\"2004-12-10T00:00:00\",\"2004-12-13T00:00:00\",\"2004-12-14T00:00:00\",\"2004-12-15T00:00:00\",\"2004-12-16T00:00:00\",\"2004-12-17T00:00:00\",\"2004-12-20T00:00:00\",\"2004-12-21T00:00:00\",\"2004-12-22T00:00:00\",\"2004-12-23T00:00:00\",\"2004-12-27T00:00:00\",\"2004-12-28T00:00:00\",\"2004-12-29T00:00:00\",\"2004-12-30T00:00:00\",\"2004-12-31T00:00:00\",\"2005-01-03T00:00:00\",\"2005-01-04T00:00:00\",\"2005-01-05T00:00:00\",\"2005-01-06T00:00:00\",\"2005-01-07T00:00:00\",\"2005-01-10T00:00:00\",\"2005-01-11T00:00:00\",\"2005-01-12T00:00:00\",\"2005-01-13T00:00:00\",\"2005-01-14T00:00:00\",\"2005-01-18T00:00:00\",\"2005-01-19T00:00:00\",\"2005-01-20T00:00:00\",\"2005-01-21T00:00:00\",\"2005-01-24T00:00:00\",\"2005-01-25T00:00:00\",\"2005-01-26T00:00:00\",\"2005-01-27T00:00:00\",\"2005-01-28T00:00:00\",\"2005-01-31T00:00:00\",\"2005-02-01T00:00:00\",\"2005-02-02T00:00:00\",\"2005-02-03T00:00:00\",\"2005-02-04T00:00:00\",\"2005-02-07T00:00:00\",\"2005-02-08T00:00:00\",\"2005-02-09T00:00:00\",\"2005-02-10T00:00:00\",\"2005-02-11T00:00:00\",\"2005-02-14T00:00:00\",\"2005-02-15T00:00:00\",\"2005-02-16T00:00:00\",\"2005-02-17T00:00:00\",\"2005-02-18T00:00:00\",\"2005-02-22T00:00:00\",\"2005-02-23T00:00:00\",\"2005-02-24T00:00:00\",\"2005-02-25T00:00:00\",\"2005-02-28T00:00:00\",\"2005-03-01T00:00:00\",\"2005-03-02T00:00:00\",\"2005-03-03T00:00:00\",\"2005-03-04T00:00:00\",\"2005-03-07T00:00:00\",\"2005-03-08T00:00:00\",\"2005-03-09T00:00:00\",\"2005-03-10T00:00:00\",\"2005-03-11T00:00:00\",\"2005-03-14T00:00:00\",\"2005-03-15T00:00:00\",\"2005-03-16T00:00:00\",\"2005-03-17T00:00:00\",\"2005-03-18T00:00:00\",\"2005-03-21T00:00:00\",\"2005-03-22T00:00:00\",\"2005-03-23T00:00:00\",\"2005-03-24T00:00:00\",\"2005-03-28T00:00:00\",\"2005-03-29T00:00:00\",\"2005-03-30T00:00:00\",\"2005-03-31T00:00:00\",\"2005-04-01T00:00:00\",\"2005-04-04T00:00:00\",\"2005-04-05T00:00:00\",\"2005-04-06T00:00:00\",\"2005-04-07T00:00:00\",\"2005-04-08T00:00:00\",\"2005-04-11T00:00:00\",\"2005-04-12T00:00:00\",\"2005-04-13T00:00:00\",\"2005-04-14T00:00:00\",\"2005-04-15T00:00:00\",\"2005-04-18T00:00:00\",\"2005-04-19T00:00:00\",\"2005-04-20T00:00:00\",\"2005-04-21T00:00:00\",\"2005-04-22T00:00:00\",\"2005-04-25T00:00:00\",\"2005-04-26T00:00:00\",\"2005-04-27T00:00:00\",\"2005-04-28T00:00:00\",\"2005-04-29T00:00:00\",\"2005-05-02T00:00:00\",\"2005-05-03T00:00:00\",\"2005-05-04T00:00:00\",\"2005-05-05T00:00:00\",\"2005-05-06T00:00:00\",\"2005-05-09T00:00:00\",\"2005-05-10T00:00:00\",\"2005-05-11T00:00:00\",\"2005-05-12T00:00:00\",\"2005-05-13T00:00:00\",\"2005-05-16T00:00:00\",\"2005-05-17T00:00:00\",\"2005-05-18T00:00:00\",\"2005-05-19T00:00:00\",\"2005-05-20T00:00:00\",\"2005-05-23T00:00:00\",\"2005-05-24T00:00:00\",\"2005-05-25T00:00:00\",\"2005-05-26T00:00:00\",\"2005-05-27T00:00:00\",\"2005-05-31T00:00:00\",\"2005-06-01T00:00:00\",\"2005-06-02T00:00:00\",\"2005-06-03T00:00:00\",\"2005-06-06T00:00:00\",\"2005-06-07T00:00:00\",\"2005-06-08T00:00:00\",\"2005-06-09T00:00:00\",\"2005-06-10T00:00:00\",\"2005-06-13T00:00:00\",\"2005-06-14T00:00:00\",\"2005-06-15T00:00:00\",\"2005-06-16T00:00:00\",\"2005-06-17T00:00:00\",\"2005-06-20T00:00:00\",\"2005-06-21T00:00:00\",\"2005-06-22T00:00:00\",\"2005-06-23T00:00:00\",\"2005-06-24T00:00:00\",\"2005-06-27T00:00:00\",\"2005-06-28T00:00:00\",\"2005-06-29T00:00:00\",\"2005-06-30T00:00:00\",\"2005-07-01T00:00:00\",\"2005-07-05T00:00:00\",\"2005-07-06T00:00:00\",\"2005-07-07T00:00:00\",\"2005-07-08T00:00:00\",\"2005-07-11T00:00:00\",\"2005-07-12T00:00:00\",\"2005-07-13T00:00:00\",\"2005-07-14T00:00:00\",\"2005-07-15T00:00:00\",\"2005-07-18T00:00:00\",\"2005-07-19T00:00:00\",\"2005-07-20T00:00:00\",\"2005-07-21T00:00:00\",\"2005-07-22T00:00:00\",\"2005-07-25T00:00:00\",\"2005-07-26T00:00:00\",\"2005-07-27T00:00:00\",\"2005-07-28T00:00:00\",\"2005-07-29T00:00:00\",\"2005-08-01T00:00:00\",\"2005-08-02T00:00:00\",\"2005-08-03T00:00:00\",\"2005-08-04T00:00:00\",\"2005-08-05T00:00:00\",\"2005-08-08T00:00:00\",\"2005-08-09T00:00:00\",\"2005-08-10T00:00:00\",\"2005-08-11T00:00:00\",\"2005-08-12T00:00:00\",\"2005-08-15T00:00:00\",\"2005-08-16T00:00:00\",\"2005-08-17T00:00:00\",\"2005-08-18T00:00:00\",\"2005-08-19T00:00:00\",\"2005-08-22T00:00:00\",\"2005-08-23T00:00:00\",\"2005-08-24T00:00:00\",\"2005-08-25T00:00:00\",\"2005-08-26T00:00:00\",\"2005-08-29T00:00:00\",\"2005-08-30T00:00:00\",\"2005-08-31T00:00:00\",\"2005-09-01T00:00:00\",\"2005-09-02T00:00:00\",\"2005-09-06T00:00:00\",\"2005-09-07T00:00:00\",\"2005-09-08T00:00:00\",\"2005-09-09T00:00:00\",\"2005-09-12T00:00:00\",\"2005-09-13T00:00:00\",\"2005-09-14T00:00:00\",\"2005-09-15T00:00:00\",\"2005-09-16T00:00:00\",\"2005-09-19T00:00:00\",\"2005-09-20T00:00:00\",\"2005-09-21T00:00:00\",\"2005-09-22T00:00:00\",\"2005-09-23T00:00:00\",\"2005-09-26T00:00:00\",\"2005-09-27T00:00:00\",\"2005-09-28T00:00:00\",\"2005-09-29T00:00:00\",\"2005-09-30T00:00:00\",\"2005-10-03T00:00:00\",\"2005-10-04T00:00:00\",\"2005-10-05T00:00:00\",\"2005-10-06T00:00:00\",\"2005-10-07T00:00:00\",\"2005-10-10T00:00:00\",\"2005-10-11T00:00:00\",\"2005-10-12T00:00:00\",\"2005-10-13T00:00:00\",\"2005-10-14T00:00:00\",\"2005-10-17T00:00:00\",\"2005-10-18T00:00:00\",\"2005-10-19T00:00:00\",\"2005-10-20T00:00:00\",\"2005-10-21T00:00:00\",\"2005-10-24T00:00:00\",\"2005-10-25T00:00:00\",\"2005-10-26T00:00:00\",\"2005-10-27T00:00:00\",\"2005-10-28T00:00:00\",\"2005-10-31T00:00:00\",\"2005-11-01T00:00:00\",\"2005-11-02T00:00:00\",\"2005-11-03T00:00:00\",\"2005-11-04T00:00:00\",\"2005-11-07T00:00:00\",\"2005-11-08T00:00:00\",\"2005-11-09T00:00:00\",\"2005-11-10T00:00:00\",\"2005-11-11T00:00:00\",\"2005-11-14T00:00:00\",\"2005-11-15T00:00:00\",\"2005-11-16T00:00:00\",\"2005-11-17T00:00:00\",\"2005-11-18T00:00:00\",\"2005-11-21T00:00:00\",\"2005-11-22T00:00:00\",\"2005-11-23T00:00:00\",\"2005-11-25T00:00:00\",\"2005-11-28T00:00:00\",\"2005-11-29T00:00:00\",\"2005-11-30T00:00:00\",\"2005-12-01T00:00:00\",\"2005-12-02T00:00:00\",\"2005-12-05T00:00:00\",\"2005-12-06T00:00:00\",\"2005-12-07T00:00:00\",\"2005-12-08T00:00:00\",\"2005-12-09T00:00:00\",\"2005-12-12T00:00:00\",\"2005-12-13T00:00:00\",\"2005-12-14T00:00:00\",\"2005-12-15T00:00:00\",\"2005-12-16T00:00:00\",\"2005-12-19T00:00:00\",\"2005-12-20T00:00:00\",\"2005-12-21T00:00:00\",\"2005-12-22T00:00:00\",\"2005-12-23T00:00:00\",\"2005-12-27T00:00:00\",\"2005-12-28T00:00:00\",\"2005-12-29T00:00:00\",\"2005-12-30T00:00:00\",\"2006-01-03T00:00:00\",\"2006-01-04T00:00:00\",\"2006-01-05T00:00:00\",\"2006-01-06T00:00:00\",\"2006-01-09T00:00:00\",\"2006-01-10T00:00:00\",\"2006-01-11T00:00:00\",\"2006-01-12T00:00:00\",\"2006-01-13T00:00:00\",\"2006-01-17T00:00:00\",\"2006-01-18T00:00:00\",\"2006-01-19T00:00:00\",\"2006-01-20T00:00:00\",\"2006-01-23T00:00:00\",\"2006-01-24T00:00:00\",\"2006-01-25T00:00:00\",\"2006-01-26T00:00:00\",\"2006-01-27T00:00:00\",\"2006-01-30T00:00:00\",\"2006-01-31T00:00:00\",\"2006-02-01T00:00:00\",\"2006-02-02T00:00:00\",\"2006-02-03T00:00:00\",\"2006-02-06T00:00:00\",\"2006-02-07T00:00:00\",\"2006-02-08T00:00:00\",\"2006-02-09T00:00:00\",\"2006-02-10T00:00:00\",\"2006-02-13T00:00:00\",\"2006-02-14T00:00:00\",\"2006-02-15T00:00:00\",\"2006-02-16T00:00:00\",\"2006-02-17T00:00:00\",\"2006-02-21T00:00:00\",\"2006-02-22T00:00:00\",\"2006-02-23T00:00:00\",\"2006-02-24T00:00:00\",\"2006-02-27T00:00:00\",\"2006-02-28T00:00:00\",\"2006-03-01T00:00:00\",\"2006-03-02T00:00:00\",\"2006-03-03T00:00:00\",\"2006-03-06T00:00:00\",\"2006-03-07T00:00:00\",\"2006-03-08T00:00:00\",\"2006-03-09T00:00:00\",\"2006-03-10T00:00:00\",\"2006-03-13T00:00:00\",\"2006-03-14T00:00:00\",\"2006-03-15T00:00:00\",\"2006-03-16T00:00:00\",\"2006-03-17T00:00:00\",\"2006-03-20T00:00:00\",\"2006-03-21T00:00:00\",\"2006-03-22T00:00:00\",\"2006-03-23T00:00:00\",\"2006-03-24T00:00:00\",\"2006-03-27T00:00:00\",\"2006-03-28T00:00:00\",\"2006-03-29T00:00:00\",\"2006-03-30T00:00:00\",\"2006-03-31T00:00:00\",\"2006-04-03T00:00:00\",\"2006-04-04T00:00:00\",\"2006-04-05T00:00:00\",\"2006-04-06T00:00:00\",\"2006-04-07T00:00:00\",\"2006-04-10T00:00:00\",\"2006-04-11T00:00:00\",\"2006-04-12T00:00:00\",\"2006-04-13T00:00:00\",\"2006-04-17T00:00:00\",\"2006-04-18T00:00:00\",\"2006-04-19T00:00:00\",\"2006-04-20T00:00:00\",\"2006-04-21T00:00:00\",\"2006-04-24T00:00:00\",\"2006-04-25T00:00:00\",\"2006-04-26T00:00:00\",\"2006-04-27T00:00:00\",\"2006-04-28T00:00:00\",\"2006-05-01T00:00:00\",\"2006-05-02T00:00:00\",\"2006-05-03T00:00:00\",\"2006-05-04T00:00:00\",\"2006-05-05T00:00:00\",\"2006-05-08T00:00:00\",\"2006-05-09T00:00:00\",\"2006-05-10T00:00:00\",\"2006-05-11T00:00:00\",\"2006-05-12T00:00:00\",\"2006-05-15T00:00:00\",\"2006-05-16T00:00:00\",\"2006-05-17T00:00:00\",\"2006-05-18T00:00:00\",\"2006-05-19T00:00:00\",\"2006-05-22T00:00:00\",\"2006-05-23T00:00:00\",\"2006-05-24T00:00:00\",\"2006-05-25T00:00:00\",\"2006-05-26T00:00:00\",\"2006-05-30T00:00:00\",\"2006-05-31T00:00:00\",\"2006-06-01T00:00:00\",\"2006-06-02T00:00:00\",\"2006-06-05T00:00:00\",\"2006-06-06T00:00:00\",\"2006-06-07T00:00:00\",\"2006-06-08T00:00:00\",\"2006-06-09T00:00:00\",\"2006-06-12T00:00:00\",\"2006-06-13T00:00:00\",\"2006-06-14T00:00:00\",\"2006-06-15T00:00:00\",\"2006-06-16T00:00:00\",\"2006-06-19T00:00:00\",\"2006-06-20T00:00:00\",\"2006-06-21T00:00:00\",\"2006-06-22T00:00:00\",\"2006-06-23T00:00:00\",\"2006-06-26T00:00:00\",\"2006-06-27T00:00:00\",\"2006-06-28T00:00:00\",\"2006-06-29T00:00:00\",\"2006-06-30T00:00:00\",\"2006-07-03T00:00:00\",\"2006-07-05T00:00:00\",\"2006-07-06T00:00:00\",\"2006-07-07T00:00:00\",\"2006-07-10T00:00:00\",\"2006-07-11T00:00:00\",\"2006-07-12T00:00:00\",\"2006-07-13T00:00:00\",\"2006-07-14T00:00:00\",\"2006-07-17T00:00:00\",\"2006-07-18T00:00:00\",\"2006-07-19T00:00:00\",\"2006-07-20T00:00:00\",\"2006-07-21T00:00:00\",\"2006-07-24T00:00:00\",\"2006-07-25T00:00:00\",\"2006-07-26T00:00:00\",\"2006-07-27T00:00:00\",\"2006-07-28T00:00:00\",\"2006-07-31T00:00:00\",\"2006-08-01T00:00:00\",\"2006-08-02T00:00:00\",\"2006-08-03T00:00:00\",\"2006-08-04T00:00:00\",\"2006-08-07T00:00:00\",\"2006-08-08T00:00:00\",\"2006-08-09T00:00:00\",\"2006-08-10T00:00:00\",\"2006-08-11T00:00:00\",\"2006-08-14T00:00:00\",\"2006-08-15T00:00:00\",\"2006-08-16T00:00:00\",\"2006-08-17T00:00:00\",\"2006-08-18T00:00:00\",\"2006-08-21T00:00:00\",\"2006-08-22T00:00:00\",\"2006-08-23T00:00:00\",\"2006-08-24T00:00:00\",\"2006-08-25T00:00:00\",\"2006-08-28T00:00:00\",\"2006-08-29T00:00:00\",\"2006-08-30T00:00:00\",\"2006-08-31T00:00:00\",\"2006-09-01T00:00:00\",\"2006-09-05T00:00:00\",\"2006-09-06T00:00:00\",\"2006-09-07T00:00:00\",\"2006-09-08T00:00:00\",\"2006-09-11T00:00:00\",\"2006-09-12T00:00:00\",\"2006-09-13T00:00:00\",\"2006-09-14T00:00:00\",\"2006-09-15T00:00:00\",\"2006-09-18T00:00:00\",\"2006-09-19T00:00:00\",\"2006-09-20T00:00:00\",\"2006-09-21T00:00:00\",\"2006-09-22T00:00:00\",\"2006-09-25T00:00:00\",\"2006-09-26T00:00:00\",\"2006-09-27T00:00:00\",\"2006-09-28T00:00:00\",\"2006-09-29T00:00:00\",\"2006-10-02T00:00:00\",\"2006-10-03T00:00:00\",\"2006-10-04T00:00:00\",\"2006-10-05T00:00:00\",\"2006-10-06T00:00:00\",\"2006-10-09T00:00:00\",\"2006-10-10T00:00:00\",\"2006-10-11T00:00:00\",\"2006-10-12T00:00:00\",\"2006-10-13T00:00:00\",\"2006-10-16T00:00:00\",\"2006-10-17T00:00:00\",\"2006-10-18T00:00:00\",\"2006-10-19T00:00:00\",\"2006-10-20T00:00:00\",\"2006-10-23T00:00:00\",\"2006-10-24T00:00:00\",\"2006-10-25T00:00:00\",\"2006-10-26T00:00:00\",\"2006-10-27T00:00:00\",\"2006-10-30T00:00:00\",\"2006-10-31T00:00:00\",\"2006-11-01T00:00:00\",\"2006-11-02T00:00:00\",\"2006-11-03T00:00:00\",\"2006-11-06T00:00:00\",\"2006-11-07T00:00:00\",\"2006-11-08T00:00:00\",\"2006-11-09T00:00:00\",\"2006-11-10T00:00:00\",\"2006-11-13T00:00:00\",\"2006-11-14T00:00:00\",\"2006-11-15T00:00:00\",\"2006-11-16T00:00:00\",\"2006-11-17T00:00:00\",\"2006-11-20T00:00:00\",\"2006-11-21T00:00:00\",\"2006-11-22T00:00:00\",\"2006-11-24T00:00:00\",\"2006-11-27T00:00:00\",\"2006-11-28T00:00:00\",\"2006-11-29T00:00:00\",\"2006-11-30T00:00:00\",\"2006-12-01T00:00:00\",\"2006-12-04T00:00:00\",\"2006-12-05T00:00:00\",\"2006-12-06T00:00:00\",\"2006-12-07T00:00:00\",\"2006-12-08T00:00:00\",\"2006-12-11T00:00:00\",\"2006-12-12T00:00:00\",\"2006-12-13T00:00:00\",\"2006-12-14T00:00:00\",\"2006-12-15T00:00:00\",\"2006-12-18T00:00:00\",\"2006-12-19T00:00:00\",\"2006-12-20T00:00:00\",\"2006-12-21T00:00:00\",\"2006-12-22T00:00:00\",\"2006-12-26T00:00:00\",\"2006-12-27T00:00:00\",\"2006-12-28T00:00:00\",\"2006-12-29T00:00:00\",\"2007-01-03T00:00:00\",\"2007-01-04T00:00:00\",\"2007-01-05T00:00:00\",\"2007-01-08T00:00:00\",\"2007-01-09T00:00:00\",\"2007-01-10T00:00:00\",\"2007-01-11T00:00:00\",\"2007-01-12T00:00:00\",\"2007-01-16T00:00:00\",\"2007-01-17T00:00:00\",\"2007-01-18T00:00:00\",\"2007-01-19T00:00:00\",\"2007-01-22T00:00:00\",\"2007-01-23T00:00:00\",\"2007-01-24T00:00:00\",\"2007-01-25T00:00:00\",\"2007-01-26T00:00:00\",\"2007-01-29T00:00:00\",\"2007-01-30T00:00:00\",\"2007-01-31T00:00:00\",\"2007-02-01T00:00:00\",\"2007-02-02T00:00:00\",\"2007-02-05T00:00:00\",\"2007-02-06T00:00:00\",\"2007-02-07T00:00:00\",\"2007-02-08T00:00:00\",\"2007-02-09T00:00:00\",\"2007-02-12T00:00:00\",\"2007-02-13T00:00:00\",\"2007-02-14T00:00:00\",\"2007-02-15T00:00:00\",\"2007-02-16T00:00:00\",\"2007-02-20T00:00:00\",\"2007-02-21T00:00:00\",\"2007-02-22T00:00:00\",\"2007-02-23T00:00:00\",\"2007-02-26T00:00:00\",\"2007-02-27T00:00:00\",\"2007-02-28T00:00:00\",\"2007-03-01T00:00:00\",\"2007-03-02T00:00:00\",\"2007-03-05T00:00:00\",\"2007-03-06T00:00:00\",\"2007-03-07T00:00:00\",\"2007-03-08T00:00:00\",\"2007-03-09T00:00:00\",\"2007-03-12T00:00:00\",\"2007-03-13T00:00:00\",\"2007-03-14T00:00:00\",\"2007-03-15T00:00:00\",\"2007-03-16T00:00:00\",\"2007-03-19T00:00:00\",\"2007-03-20T00:00:00\",\"2007-03-21T00:00:00\",\"2007-03-22T00:00:00\",\"2007-03-23T00:00:00\",\"2007-03-26T00:00:00\",\"2007-03-27T00:00:00\",\"2007-03-28T00:00:00\",\"2007-03-29T00:00:00\",\"2007-03-30T00:00:00\",\"2007-04-02T00:00:00\",\"2007-04-03T00:00:00\",\"2007-04-04T00:00:00\",\"2007-04-05T00:00:00\",\"2007-04-09T00:00:00\",\"2007-04-10T00:00:00\",\"2007-04-11T00:00:00\",\"2007-04-12T00:00:00\",\"2007-04-13T00:00:00\",\"2007-04-16T00:00:00\",\"2007-04-17T00:00:00\",\"2007-04-18T00:00:00\",\"2007-04-19T00:00:00\",\"2007-04-20T00:00:00\",\"2007-04-23T00:00:00\",\"2007-04-24T00:00:00\",\"2007-04-25T00:00:00\",\"2007-04-26T00:00:00\",\"2007-04-27T00:00:00\",\"2007-04-30T00:00:00\",\"2007-05-01T00:00:00\",\"2007-05-02T00:00:00\",\"2007-05-03T00:00:00\",\"2007-05-04T00:00:00\",\"2007-05-07T00:00:00\",\"2007-05-08T00:00:00\",\"2007-05-09T00:00:00\",\"2007-05-10T00:00:00\",\"2007-05-11T00:00:00\",\"2007-05-14T00:00:00\",\"2007-05-15T00:00:00\",\"2007-05-16T00:00:00\",\"2007-05-17T00:00:00\",\"2007-05-18T00:00:00\",\"2007-05-21T00:00:00\",\"2007-05-22T00:00:00\",\"2007-05-23T00:00:00\",\"2007-05-24T00:00:00\",\"2007-05-25T00:00:00\",\"2007-05-29T00:00:00\",\"2007-05-30T00:00:00\",\"2007-05-31T00:00:00\",\"2007-06-01T00:00:00\",\"2007-06-04T00:00:00\",\"2007-06-05T00:00:00\",\"2007-06-06T00:00:00\",\"2007-06-07T00:00:00\",\"2007-06-08T00:00:00\",\"2007-06-11T00:00:00\",\"2007-06-12T00:00:00\",\"2007-06-13T00:00:00\",\"2007-06-14T00:00:00\",\"2007-06-15T00:00:00\",\"2007-06-18T00:00:00\",\"2007-06-19T00:00:00\",\"2007-06-20T00:00:00\",\"2007-06-21T00:00:00\",\"2007-06-22T00:00:00\",\"2007-06-25T00:00:00\",\"2007-06-26T00:00:00\",\"2007-06-27T00:00:00\",\"2007-06-28T00:00:00\",\"2007-06-29T00:00:00\",\"2007-07-02T00:00:00\",\"2007-07-03T00:00:00\",\"2007-07-05T00:00:00\",\"2007-07-06T00:00:00\",\"2007-07-09T00:00:00\",\"2007-07-10T00:00:00\",\"2007-07-11T00:00:00\",\"2007-07-12T00:00:00\",\"2007-07-13T00:00:00\",\"2007-07-16T00:00:00\",\"2007-07-17T00:00:00\",\"2007-07-18T00:00:00\",\"2007-07-19T00:00:00\",\"2007-07-20T00:00:00\",\"2007-07-23T00:00:00\",\"2007-07-24T00:00:00\",\"2007-07-25T00:00:00\",\"2007-07-26T00:00:00\",\"2007-07-27T00:00:00\",\"2007-07-30T00:00:00\",\"2007-07-31T00:00:00\",\"2007-08-01T00:00:00\",\"2007-08-02T00:00:00\",\"2007-08-03T00:00:00\",\"2007-08-06T00:00:00\",\"2007-08-07T00:00:00\",\"2007-08-08T00:00:00\",\"2007-08-09T00:00:00\",\"2007-08-10T00:00:00\",\"2007-08-13T00:00:00\",\"2007-08-14T00:00:00\",\"2007-08-15T00:00:00\",\"2007-08-16T00:00:00\",\"2007-08-17T00:00:00\",\"2007-08-20T00:00:00\",\"2007-08-21T00:00:00\",\"2007-08-22T00:00:00\",\"2007-08-23T00:00:00\",\"2007-08-24T00:00:00\",\"2007-08-27T00:00:00\",\"2007-08-28T00:00:00\",\"2007-08-29T00:00:00\",\"2007-08-30T00:00:00\",\"2007-08-31T00:00:00\",\"2007-09-04T00:00:00\",\"2007-09-05T00:00:00\",\"2007-09-06T00:00:00\",\"2007-09-07T00:00:00\",\"2007-09-10T00:00:00\",\"2007-09-11T00:00:00\",\"2007-09-12T00:00:00\",\"2007-09-13T00:00:00\",\"2007-09-14T00:00:00\",\"2007-09-17T00:00:00\",\"2007-09-18T00:00:00\",\"2007-09-19T00:00:00\",\"2007-09-20T00:00:00\",\"2007-09-21T00:00:00\",\"2007-09-24T00:00:00\",\"2007-09-25T00:00:00\",\"2007-09-26T00:00:00\",\"2007-09-27T00:00:00\",\"2007-09-28T00:00:00\",\"2007-10-01T00:00:00\",\"2007-10-02T00:00:00\",\"2007-10-03T00:00:00\",\"2007-10-04T00:00:00\",\"2007-10-05T00:00:00\",\"2007-10-08T00:00:00\",\"2007-10-09T00:00:00\",\"2007-10-10T00:00:00\",\"2007-10-11T00:00:00\",\"2007-10-12T00:00:00\",\"2007-10-15T00:00:00\",\"2007-10-16T00:00:00\",\"2007-10-17T00:00:00\",\"2007-10-18T00:00:00\",\"2007-10-19T00:00:00\",\"2007-10-22T00:00:00\",\"2007-10-23T00:00:00\",\"2007-10-24T00:00:00\",\"2007-10-25T00:00:00\",\"2007-10-26T00:00:00\",\"2007-10-29T00:00:00\",\"2007-10-30T00:00:00\",\"2007-10-31T00:00:00\",\"2007-11-01T00:00:00\",\"2007-11-02T00:00:00\",\"2007-11-05T00:00:00\",\"2007-11-06T00:00:00\",\"2007-11-07T00:00:00\",\"2007-11-08T00:00:00\",\"2007-11-09T00:00:00\",\"2007-11-12T00:00:00\",\"2007-11-13T00:00:00\",\"2007-11-14T00:00:00\",\"2007-11-15T00:00:00\",\"2007-11-16T00:00:00\",\"2007-11-19T00:00:00\",\"2007-11-20T00:00:00\",\"2007-11-21T00:00:00\",\"2007-11-23T00:00:00\",\"2007-11-26T00:00:00\",\"2007-11-27T00:00:00\",\"2007-11-28T00:00:00\",\"2007-11-29T00:00:00\",\"2007-11-30T00:00:00\",\"2007-12-03T00:00:00\",\"2007-12-04T00:00:00\",\"2007-12-05T00:00:00\",\"2007-12-06T00:00:00\",\"2007-12-07T00:00:00\",\"2007-12-10T00:00:00\",\"2007-12-11T00:00:00\",\"2007-12-12T00:00:00\",\"2007-12-13T00:00:00\",\"2007-12-14T00:00:00\",\"2007-12-17T00:00:00\",\"2007-12-18T00:00:00\",\"2007-12-19T00:00:00\",\"2007-12-20T00:00:00\",\"2007-12-21T00:00:00\",\"2007-12-24T00:00:00\",\"2007-12-26T00:00:00\",\"2007-12-27T00:00:00\",\"2007-12-28T00:00:00\",\"2007-12-31T00:00:00\",\"2008-01-02T00:00:00\",\"2008-01-03T00:00:00\",\"2008-01-04T00:00:00\",\"2008-01-07T00:00:00\",\"2008-01-08T00:00:00\",\"2008-01-09T00:00:00\",\"2008-01-10T00:00:00\",\"2008-01-11T00:00:00\",\"2008-01-14T00:00:00\",\"2008-01-15T00:00:00\",\"2008-01-16T00:00:00\",\"2008-01-17T00:00:00\",\"2008-01-18T00:00:00\",\"2008-01-22T00:00:00\",\"2008-01-23T00:00:00\",\"2008-01-24T00:00:00\",\"2008-01-25T00:00:00\",\"2008-01-28T00:00:00\",\"2008-01-29T00:00:00\",\"2008-01-30T00:00:00\",\"2008-01-31T00:00:00\",\"2008-02-01T00:00:00\",\"2008-02-04T00:00:00\",\"2008-02-05T00:00:00\",\"2008-02-06T00:00:00\",\"2008-02-07T00:00:00\",\"2008-02-08T00:00:00\",\"2008-02-11T00:00:00\",\"2008-02-12T00:00:00\",\"2008-02-13T00:00:00\",\"2008-02-14T00:00:00\",\"2008-02-15T00:00:00\",\"2008-02-19T00:00:00\",\"2008-02-20T00:00:00\",\"2008-02-21T00:00:00\",\"2008-02-22T00:00:00\",\"2008-02-25T00:00:00\",\"2008-02-26T00:00:00\",\"2008-02-27T00:00:00\",\"2008-02-28T00:00:00\",\"2008-02-29T00:00:00\",\"2008-03-03T00:00:00\",\"2008-03-04T00:00:00\",\"2008-03-05T00:00:00\",\"2008-03-06T00:00:00\",\"2008-03-07T00:00:00\",\"2008-03-10T00:00:00\",\"2008-03-11T00:00:00\",\"2008-03-12T00:00:00\",\"2008-03-13T00:00:00\",\"2008-03-14T00:00:00\",\"2008-03-17T00:00:00\",\"2008-03-18T00:00:00\",\"2008-03-19T00:00:00\",\"2008-03-20T00:00:00\",\"2008-03-24T00:00:00\",\"2008-03-25T00:00:00\",\"2008-03-26T00:00:00\",\"2008-03-27T00:00:00\",\"2008-03-28T00:00:00\",\"2008-03-31T00:00:00\",\"2008-04-01T00:00:00\",\"2008-04-02T00:00:00\",\"2008-04-03T00:00:00\",\"2008-04-04T00:00:00\",\"2008-04-07T00:00:00\",\"2008-04-08T00:00:00\",\"2008-04-09T00:00:00\",\"2008-04-10T00:00:00\",\"2008-04-11T00:00:00\",\"2008-04-14T00:00:00\",\"2008-04-15T00:00:00\",\"2008-04-16T00:00:00\",\"2008-04-17T00:00:00\",\"2008-04-18T00:00:00\",\"2008-04-21T00:00:00\",\"2008-04-22T00:00:00\",\"2008-04-23T00:00:00\",\"2008-04-24T00:00:00\",\"2008-04-25T00:00:00\",\"2008-04-28T00:00:00\",\"2008-04-29T00:00:00\",\"2008-04-30T00:00:00\",\"2008-05-01T00:00:00\",\"2008-05-02T00:00:00\",\"2008-05-05T00:00:00\",\"2008-05-06T00:00:00\",\"2008-05-07T00:00:00\",\"2008-05-08T00:00:00\",\"2008-05-09T00:00:00\",\"2008-05-12T00:00:00\",\"2008-05-13T00:00:00\",\"2008-05-14T00:00:00\",\"2008-05-15T00:00:00\",\"2008-05-16T00:00:00\",\"2008-05-19T00:00:00\",\"2008-05-20T00:00:00\",\"2008-05-21T00:00:00\",\"2008-05-22T00:00:00\",\"2008-05-23T00:00:00\",\"2008-05-27T00:00:00\",\"2008-05-28T00:00:00\",\"2008-05-29T00:00:00\",\"2008-05-30T00:00:00\",\"2008-06-02T00:00:00\",\"2008-06-03T00:00:00\",\"2008-06-04T00:00:00\",\"2008-06-05T00:00:00\",\"2008-06-06T00:00:00\",\"2008-06-09T00:00:00\",\"2008-06-10T00:00:00\",\"2008-06-11T00:00:00\",\"2008-06-12T00:00:00\",\"2008-06-13T00:00:00\",\"2008-06-16T00:00:00\",\"2008-06-17T00:00:00\",\"2008-06-18T00:00:00\",\"2008-06-19T00:00:00\",\"2008-06-20T00:00:00\",\"2008-06-23T00:00:00\",\"2008-06-24T00:00:00\",\"2008-06-25T00:00:00\",\"2008-06-26T00:00:00\",\"2008-06-27T00:00:00\",\"2008-06-30T00:00:00\",\"2008-07-01T00:00:00\",\"2008-07-02T00:00:00\",\"2008-07-03T00:00:00\",\"2008-07-07T00:00:00\",\"2008-07-08T00:00:00\",\"2008-07-09T00:00:00\",\"2008-07-10T00:00:00\",\"2008-07-11T00:00:00\",\"2008-07-14T00:00:00\",\"2008-07-15T00:00:00\",\"2008-07-16T00:00:00\",\"2008-07-17T00:00:00\",\"2008-07-18T00:00:00\",\"2008-07-21T00:00:00\",\"2008-07-22T00:00:00\",\"2008-07-23T00:00:00\",\"2008-07-24T00:00:00\",\"2008-07-25T00:00:00\",\"2008-07-28T00:00:00\",\"2008-07-29T00:00:00\",\"2008-07-30T00:00:00\",\"2008-07-31T00:00:00\",\"2008-08-01T00:00:00\",\"2008-08-04T00:00:00\",\"2008-08-05T00:00:00\",\"2008-08-06T00:00:00\",\"2008-08-07T00:00:00\",\"2008-08-08T00:00:00\",\"2008-08-11T00:00:00\",\"2008-08-12T00:00:00\",\"2008-08-13T00:00:00\",\"2008-08-14T00:00:00\",\"2008-08-15T00:00:00\",\"2008-08-18T00:00:00\",\"2008-08-19T00:00:00\",\"2008-08-20T00:00:00\",\"2008-08-21T00:00:00\",\"2008-08-22T00:00:00\",\"2008-08-25T00:00:00\",\"2008-08-26T00:00:00\",\"2008-08-27T00:00:00\",\"2008-08-28T00:00:00\",\"2008-08-29T00:00:00\",\"2008-09-02T00:00:00\",\"2008-09-03T00:00:00\",\"2008-09-04T00:00:00\",\"2008-09-05T00:00:00\",\"2008-09-08T00:00:00\",\"2008-09-09T00:00:00\",\"2008-09-10T00:00:00\",\"2008-09-11T00:00:00\",\"2008-09-12T00:00:00\",\"2008-09-15T00:00:00\",\"2008-09-16T00:00:00\",\"2008-09-17T00:00:00\",\"2008-09-18T00:00:00\",\"2008-09-19T00:00:00\",\"2008-09-22T00:00:00\",\"2008-09-23T00:00:00\",\"2008-09-24T00:00:00\",\"2008-09-25T00:00:00\",\"2008-09-26T00:00:00\",\"2008-09-29T00:00:00\",\"2008-09-30T00:00:00\",\"2008-10-01T00:00:00\",\"2008-10-02T00:00:00\",\"2008-10-03T00:00:00\",\"2008-10-06T00:00:00\",\"2008-10-07T00:00:00\",\"2008-10-08T00:00:00\",\"2008-10-09T00:00:00\",\"2008-10-10T00:00:00\",\"2008-10-13T00:00:00\",\"2008-10-14T00:00:00\",\"2008-10-15T00:00:00\",\"2008-10-16T00:00:00\",\"2008-10-17T00:00:00\",\"2008-10-20T00:00:00\",\"2008-10-21T00:00:00\",\"2008-10-22T00:00:00\",\"2008-10-23T00:00:00\",\"2008-10-24T00:00:00\",\"2008-10-27T00:00:00\",\"2008-10-28T00:00:00\",\"2008-10-29T00:00:00\",\"2008-10-30T00:00:00\",\"2008-10-31T00:00:00\",\"2008-11-03T00:00:00\",\"2008-11-04T00:00:00\",\"2008-11-05T00:00:00\",\"2008-11-06T00:00:00\",\"2008-11-07T00:00:00\",\"2008-11-10T00:00:00\",\"2008-11-11T00:00:00\",\"2008-11-12T00:00:00\",\"2008-11-13T00:00:00\",\"2008-11-14T00:00:00\",\"2008-11-17T00:00:00\",\"2008-11-18T00:00:00\",\"2008-11-19T00:00:00\",\"2008-11-20T00:00:00\",\"2008-11-21T00:00:00\",\"2008-11-24T00:00:00\",\"2008-11-25T00:00:00\",\"2008-11-26T00:00:00\",\"2008-11-28T00:00:00\",\"2008-12-01T00:00:00\",\"2008-12-02T00:00:00\",\"2008-12-03T00:00:00\",\"2008-12-04T00:00:00\",\"2008-12-05T00:00:00\",\"2008-12-08T00:00:00\",\"2008-12-09T00:00:00\",\"2008-12-10T00:00:00\",\"2008-12-11T00:00:00\",\"2008-12-12T00:00:00\",\"2008-12-15T00:00:00\",\"2008-12-16T00:00:00\",\"2008-12-17T00:00:00\",\"2008-12-18T00:00:00\",\"2008-12-19T00:00:00\",\"2008-12-22T00:00:00\",\"2008-12-23T00:00:00\",\"2008-12-24T00:00:00\",\"2008-12-26T00:00:00\",\"2008-12-29T00:00:00\",\"2008-12-30T00:00:00\",\"2008-12-31T00:00:00\",\"2009-01-02T00:00:00\",\"2009-01-05T00:00:00\",\"2009-01-06T00:00:00\",\"2009-01-07T00:00:00\",\"2009-01-08T00:00:00\",\"2009-01-09T00:00:00\",\"2009-01-12T00:00:00\",\"2009-01-13T00:00:00\",\"2009-01-14T00:00:00\",\"2009-01-15T00:00:00\",\"2009-01-16T00:00:00\",\"2009-01-20T00:00:00\",\"2009-01-21T00:00:00\",\"2009-01-22T00:00:00\",\"2009-01-23T00:00:00\",\"2009-01-26T00:00:00\",\"2009-01-27T00:00:00\",\"2009-01-28T00:00:00\",\"2009-01-29T00:00:00\",\"2009-01-30T00:00:00\",\"2009-02-02T00:00:00\",\"2009-02-03T00:00:00\",\"2009-02-04T00:00:00\",\"2009-02-05T00:00:00\",\"2009-02-06T00:00:00\",\"2009-02-09T00:00:00\",\"2009-02-10T00:00:00\",\"2009-02-11T00:00:00\",\"2009-02-12T00:00:00\",\"2009-02-13T00:00:00\",\"2009-02-17T00:00:00\",\"2009-02-18T00:00:00\",\"2009-02-19T00:00:00\",\"2009-02-20T00:00:00\",\"2009-02-23T00:00:00\",\"2009-02-24T00:00:00\",\"2009-02-25T00:00:00\",\"2009-02-26T00:00:00\",\"2009-02-27T00:00:00\",\"2009-03-02T00:00:00\",\"2009-03-03T00:00:00\",\"2009-03-04T00:00:00\",\"2009-03-05T00:00:00\",\"2009-03-06T00:00:00\",\"2009-03-09T00:00:00\",\"2009-03-10T00:00:00\",\"2009-03-11T00:00:00\",\"2009-03-12T00:00:00\",\"2009-03-13T00:00:00\",\"2009-03-16T00:00:00\",\"2009-03-17T00:00:00\",\"2009-03-18T00:00:00\",\"2009-03-19T00:00:00\",\"2009-03-20T00:00:00\",\"2009-03-23T00:00:00\",\"2009-03-24T00:00:00\",\"2009-03-25T00:00:00\",\"2009-03-26T00:00:00\",\"2009-03-27T00:00:00\",\"2009-03-30T00:00:00\",\"2009-03-31T00:00:00\",\"2009-04-01T00:00:00\",\"2009-04-02T00:00:00\",\"2009-04-03T00:00:00\",\"2009-04-06T00:00:00\",\"2009-04-07T00:00:00\",\"2009-04-08T00:00:00\",\"2009-04-09T00:00:00\",\"2009-04-13T00:00:00\",\"2009-04-14T00:00:00\",\"2009-04-15T00:00:00\",\"2009-04-16T00:00:00\",\"2009-04-17T00:00:00\",\"2009-04-20T00:00:00\",\"2009-04-21T00:00:00\",\"2009-04-22T00:00:00\",\"2009-04-23T00:00:00\",\"2009-04-24T00:00:00\",\"2009-04-27T00:00:00\",\"2009-04-28T00:00:00\",\"2009-04-29T00:00:00\",\"2009-04-30T00:00:00\",\"2009-05-01T00:00:00\",\"2009-05-04T00:00:00\",\"2009-05-05T00:00:00\",\"2009-05-06T00:00:00\",\"2009-05-07T00:00:00\",\"2009-05-08T00:00:00\",\"2009-05-11T00:00:00\",\"2009-05-12T00:00:00\",\"2009-05-13T00:00:00\",\"2009-05-14T00:00:00\",\"2009-05-15T00:00:00\",\"2009-05-18T00:00:00\",\"2009-05-19T00:00:00\",\"2009-05-20T00:00:00\",\"2009-05-21T00:00:00\",\"2009-05-22T00:00:00\",\"2009-05-26T00:00:00\",\"2009-05-27T00:00:00\",\"2009-05-28T00:00:00\",\"2009-05-29T00:00:00\",\"2009-06-01T00:00:00\",\"2009-06-02T00:00:00\",\"2009-06-03T00:00:00\",\"2009-06-04T00:00:00\",\"2009-06-05T00:00:00\",\"2009-06-08T00:00:00\",\"2009-06-09T00:00:00\",\"2009-06-10T00:00:00\",\"2009-06-11T00:00:00\",\"2009-06-12T00:00:00\",\"2009-06-15T00:00:00\",\"2009-06-16T00:00:00\",\"2009-06-17T00:00:00\",\"2009-06-18T00:00:00\",\"2009-06-19T00:00:00\",\"2009-06-22T00:00:00\",\"2009-06-23T00:00:00\",\"2009-06-24T00:00:00\",\"2009-06-25T00:00:00\",\"2009-06-26T00:00:00\",\"2009-06-29T00:00:00\",\"2009-06-30T00:00:00\",\"2009-07-01T00:00:00\",\"2009-07-02T00:00:00\",\"2009-07-06T00:00:00\",\"2009-07-07T00:00:00\",\"2009-07-08T00:00:00\",\"2009-07-09T00:00:00\",\"2009-07-10T00:00:00\",\"2009-07-13T00:00:00\",\"2009-07-14T00:00:00\",\"2009-07-15T00:00:00\",\"2009-07-16T00:00:00\",\"2009-07-17T00:00:00\",\"2009-07-20T00:00:00\",\"2009-07-21T00:00:00\",\"2009-07-22T00:00:00\",\"2009-07-23T00:00:00\",\"2009-07-24T00:00:00\",\"2009-07-27T00:00:00\",\"2009-07-28T00:00:00\",\"2009-07-29T00:00:00\",\"2009-07-30T00:00:00\",\"2009-07-31T00:00:00\",\"2009-08-03T00:00:00\",\"2009-08-04T00:00:00\",\"2009-08-05T00:00:00\",\"2009-08-06T00:00:00\",\"2009-08-07T00:00:00\",\"2009-08-10T00:00:00\",\"2009-08-11T00:00:00\",\"2009-08-12T00:00:00\",\"2009-08-13T00:00:00\",\"2009-08-14T00:00:00\",\"2009-08-17T00:00:00\",\"2009-08-18T00:00:00\",\"2009-08-19T00:00:00\",\"2009-08-20T00:00:00\",\"2009-08-21T00:00:00\",\"2009-08-24T00:00:00\",\"2009-08-25T00:00:00\",\"2009-08-26T00:00:00\",\"2009-08-27T00:00:00\",\"2009-08-28T00:00:00\",\"2009-08-31T00:00:00\",\"2009-09-01T00:00:00\",\"2009-09-02T00:00:00\",\"2009-09-03T00:00:00\",\"2009-09-04T00:00:00\",\"2009-09-08T00:00:00\",\"2009-09-09T00:00:00\",\"2009-09-10T00:00:00\",\"2009-09-11T00:00:00\",\"2009-09-14T00:00:00\",\"2009-09-15T00:00:00\",\"2009-09-16T00:00:00\",\"2009-09-17T00:00:00\",\"2009-09-18T00:00:00\",\"2009-09-21T00:00:00\",\"2009-09-22T00:00:00\",\"2009-09-23T00:00:00\",\"2009-09-24T00:00:00\",\"2009-09-25T00:00:00\",\"2009-09-28T00:00:00\",\"2009-09-29T00:00:00\",\"2009-09-30T00:00:00\",\"2009-10-01T00:00:00\",\"2009-10-02T00:00:00\",\"2009-10-05T00:00:00\",\"2009-10-06T00:00:00\",\"2009-10-07T00:00:00\",\"2009-10-08T00:00:00\",\"2009-10-09T00:00:00\",\"2009-10-12T00:00:00\",\"2009-10-13T00:00:00\",\"2009-10-14T00:00:00\",\"2009-10-15T00:00:00\",\"2009-10-16T00:00:00\",\"2009-10-19T00:00:00\",\"2009-10-20T00:00:00\",\"2009-10-21T00:00:00\",\"2009-10-22T00:00:00\",\"2009-10-23T00:00:00\",\"2009-10-26T00:00:00\",\"2009-10-27T00:00:00\",\"2009-10-28T00:00:00\",\"2009-10-29T00:00:00\",\"2009-10-30T00:00:00\",\"2009-11-02T00:00:00\",\"2009-11-03T00:00:00\",\"2009-11-04T00:00:00\",\"2009-11-05T00:00:00\",\"2009-11-06T00:00:00\",\"2009-11-09T00:00:00\",\"2009-11-10T00:00:00\",\"2009-11-11T00:00:00\",\"2009-11-12T00:00:00\",\"2009-11-13T00:00:00\",\"2009-11-16T00:00:00\",\"2009-11-17T00:00:00\",\"2009-11-18T00:00:00\",\"2009-11-19T00:00:00\",\"2009-11-20T00:00:00\",\"2009-11-23T00:00:00\",\"2009-11-24T00:00:00\",\"2009-11-25T00:00:00\",\"2009-11-27T00:00:00\",\"2009-11-30T00:00:00\",\"2009-12-01T00:00:00\",\"2009-12-02T00:00:00\",\"2009-12-03T00:00:00\",\"2009-12-04T00:00:00\",\"2009-12-07T00:00:00\",\"2009-12-08T00:00:00\",\"2009-12-09T00:00:00\",\"2009-12-10T00:00:00\",\"2009-12-11T00:00:00\",\"2009-12-14T00:00:00\",\"2009-12-15T00:00:00\",\"2009-12-16T00:00:00\",\"2009-12-17T00:00:00\",\"2009-12-18T00:00:00\",\"2009-12-21T00:00:00\",\"2009-12-22T00:00:00\",\"2009-12-23T00:00:00\",\"2009-12-24T00:00:00\",\"2009-12-28T00:00:00\",\"2009-12-29T00:00:00\",\"2009-12-30T00:00:00\",\"2009-12-31T00:00:00\",\"2010-01-04T00:00:00\",\"2010-01-05T00:00:00\",\"2010-01-06T00:00:00\",\"2010-01-07T00:00:00\",\"2010-01-08T00:00:00\",\"2010-01-11T00:00:00\",\"2010-01-12T00:00:00\",\"2010-01-13T00:00:00\",\"2010-01-14T00:00:00\",\"2010-01-15T00:00:00\",\"2010-01-19T00:00:00\",\"2010-01-20T00:00:00\",\"2010-01-21T00:00:00\",\"2010-01-22T00:00:00\",\"2010-01-25T00:00:00\",\"2010-01-26T00:00:00\",\"2010-01-27T00:00:00\",\"2010-01-28T00:00:00\",\"2010-01-29T00:00:00\",\"2010-02-01T00:00:00\",\"2010-02-02T00:00:00\",\"2010-02-03T00:00:00\",\"2010-02-04T00:00:00\",\"2010-02-05T00:00:00\",\"2010-02-08T00:00:00\",\"2010-02-09T00:00:00\",\"2010-02-10T00:00:00\",\"2010-02-11T00:00:00\",\"2010-02-12T00:00:00\",\"2010-02-16T00:00:00\",\"2010-02-17T00:00:00\",\"2010-02-18T00:00:00\",\"2010-02-19T00:00:00\",\"2010-02-22T00:00:00\",\"2010-02-23T00:00:00\",\"2010-02-24T00:00:00\",\"2010-02-25T00:00:00\",\"2010-02-26T00:00:00\",\"2010-03-01T00:00:00\",\"2010-03-02T00:00:00\",\"2010-03-03T00:00:00\",\"2010-03-04T00:00:00\",\"2010-03-05T00:00:00\",\"2010-03-08T00:00:00\",\"2010-03-09T00:00:00\",\"2010-03-10T00:00:00\",\"2010-03-11T00:00:00\",\"2010-03-12T00:00:00\",\"2010-03-15T00:00:00\",\"2010-03-16T00:00:00\",\"2010-03-17T00:00:00\",\"2010-03-18T00:00:00\",\"2010-03-19T00:00:00\",\"2010-03-22T00:00:00\",\"2010-03-23T00:00:00\",\"2010-03-24T00:00:00\",\"2010-03-25T00:00:00\",\"2010-03-26T00:00:00\",\"2010-03-29T00:00:00\",\"2010-03-30T00:00:00\",\"2010-03-31T00:00:00\",\"2010-04-01T00:00:00\",\"2010-04-05T00:00:00\",\"2010-04-06T00:00:00\",\"2010-04-07T00:00:00\",\"2010-04-08T00:00:00\",\"2010-04-09T00:00:00\",\"2010-04-12T00:00:00\",\"2010-04-13T00:00:00\",\"2010-04-14T00:00:00\",\"2010-04-15T00:00:00\",\"2010-04-16T00:00:00\",\"2010-04-19T00:00:00\",\"2010-04-20T00:00:00\",\"2010-04-21T00:00:00\",\"2010-04-22T00:00:00\",\"2010-04-23T00:00:00\",\"2010-04-26T00:00:00\",\"2010-04-27T00:00:00\",\"2010-04-28T00:00:00\",\"2010-04-29T00:00:00\",\"2010-04-30T00:00:00\",\"2010-05-03T00:00:00\",\"2010-05-04T00:00:00\",\"2010-05-05T00:00:00\",\"2010-05-06T00:00:00\",\"2010-05-07T00:00:00\",\"2010-05-10T00:00:00\",\"2010-05-11T00:00:00\",\"2010-05-12T00:00:00\",\"2010-05-13T00:00:00\",\"2010-05-14T00:00:00\",\"2010-05-17T00:00:00\",\"2010-05-18T00:00:00\",\"2010-05-19T00:00:00\",\"2010-05-20T00:00:00\",\"2010-05-21T00:00:00\",\"2010-05-24T00:00:00\",\"2010-05-25T00:00:00\",\"2010-05-26T00:00:00\",\"2010-05-27T00:00:00\",\"2010-05-28T00:00:00\",\"2010-06-01T00:00:00\",\"2010-06-02T00:00:00\",\"2010-06-03T00:00:00\",\"2010-06-04T00:00:00\",\"2010-06-07T00:00:00\",\"2010-06-08T00:00:00\",\"2010-06-09T00:00:00\",\"2010-06-10T00:00:00\",\"2010-06-11T00:00:00\",\"2010-06-14T00:00:00\",\"2010-06-15T00:00:00\",\"2010-06-16T00:00:00\",\"2010-06-17T00:00:00\",\"2010-06-18T00:00:00\",\"2010-06-21T00:00:00\",\"2010-06-22T00:00:00\",\"2010-06-23T00:00:00\",\"2010-06-24T00:00:00\",\"2010-06-25T00:00:00\",\"2010-06-28T00:00:00\",\"2010-06-29T00:00:00\",\"2010-06-30T00:00:00\",\"2010-07-01T00:00:00\",\"2010-07-02T00:00:00\",\"2010-07-06T00:00:00\",\"2010-07-07T00:00:00\",\"2010-07-08T00:00:00\",\"2010-07-09T00:00:00\",\"2010-07-12T00:00:00\",\"2010-07-13T00:00:00\",\"2010-07-14T00:00:00\",\"2010-07-15T00:00:00\",\"2010-07-16T00:00:00\",\"2010-07-19T00:00:00\",\"2010-07-20T00:00:00\",\"2010-07-21T00:00:00\",\"2010-07-22T00:00:00\",\"2010-07-23T00:00:00\",\"2010-07-26T00:00:00\",\"2010-07-27T00:00:00\",\"2010-07-28T00:00:00\",\"2010-07-29T00:00:00\",\"2010-07-30T00:00:00\",\"2010-08-02T00:00:00\",\"2010-08-03T00:00:00\",\"2010-08-04T00:00:00\",\"2010-08-05T00:00:00\",\"2010-08-06T00:00:00\",\"2010-08-09T00:00:00\",\"2010-08-10T00:00:00\",\"2010-08-11T00:00:00\",\"2010-08-12T00:00:00\",\"2010-08-13T00:00:00\",\"2010-08-16T00:00:00\",\"2010-08-17T00:00:00\",\"2010-08-18T00:00:00\",\"2010-08-19T00:00:00\",\"2010-08-20T00:00:00\",\"2010-08-23T00:00:00\",\"2010-08-24T00:00:00\",\"2010-08-25T00:00:00\",\"2010-08-26T00:00:00\",\"2010-08-27T00:00:00\",\"2010-08-30T00:00:00\",\"2010-08-31T00:00:00\",\"2010-09-01T00:00:00\",\"2010-09-02T00:00:00\",\"2010-09-03T00:00:00\",\"2010-09-07T00:00:00\",\"2010-09-08T00:00:00\",\"2010-09-09T00:00:00\",\"2010-09-10T00:00:00\",\"2010-09-13T00:00:00\",\"2010-09-14T00:00:00\",\"2010-09-15T00:00:00\",\"2010-09-16T00:00:00\",\"2010-09-17T00:00:00\",\"2010-09-20T00:00:00\",\"2010-09-21T00:00:00\",\"2010-09-22T00:00:00\",\"2010-09-23T00:00:00\",\"2010-09-24T00:00:00\",\"2010-09-27T00:00:00\",\"2010-09-28T00:00:00\",\"2010-09-29T00:00:00\",\"2010-09-30T00:00:00\",\"2010-10-01T00:00:00\",\"2010-10-04T00:00:00\",\"2010-10-05T00:00:00\",\"2010-10-06T00:00:00\",\"2010-10-07T00:00:00\",\"2010-10-08T00:00:00\",\"2010-10-11T00:00:00\",\"2010-10-12T00:00:00\",\"2010-10-13T00:00:00\",\"2010-10-14T00:00:00\",\"2010-10-15T00:00:00\",\"2010-10-18T00:00:00\",\"2010-10-19T00:00:00\",\"2010-10-20T00:00:00\",\"2010-10-21T00:00:00\",\"2010-10-22T00:00:00\",\"2010-10-25T00:00:00\",\"2010-10-26T00:00:00\",\"2010-10-27T00:00:00\",\"2010-10-28T00:00:00\",\"2010-10-29T00:00:00\",\"2010-11-01T00:00:00\",\"2010-11-02T00:00:00\",\"2010-11-03T00:00:00\",\"2010-11-04T00:00:00\",\"2010-11-05T00:00:00\",\"2010-11-08T00:00:00\",\"2010-11-09T00:00:00\",\"2010-11-10T00:00:00\",\"2010-11-11T00:00:00\",\"2010-11-12T00:00:00\",\"2010-11-15T00:00:00\",\"2010-11-16T00:00:00\",\"2010-11-17T00:00:00\",\"2010-11-18T00:00:00\",\"2010-11-19T00:00:00\",\"2010-11-22T00:00:00\",\"2010-11-23T00:00:00\",\"2010-11-24T00:00:00\",\"2010-11-26T00:00:00\",\"2010-11-29T00:00:00\",\"2010-11-30T00:00:00\",\"2010-12-01T00:00:00\",\"2010-12-02T00:00:00\",\"2010-12-03T00:00:00\",\"2010-12-06T00:00:00\",\"2010-12-07T00:00:00\",\"2010-12-08T00:00:00\",\"2010-12-09T00:00:00\",\"2010-12-10T00:00:00\",\"2010-12-13T00:00:00\",\"2010-12-14T00:00:00\",\"2010-12-15T00:00:00\",\"2010-12-16T00:00:00\",\"2010-12-17T00:00:00\",\"2010-12-20T00:00:00\",\"2010-12-21T00:00:00\",\"2010-12-22T00:00:00\",\"2010-12-23T00:00:00\",\"2010-12-27T00:00:00\",\"2010-12-28T00:00:00\",\"2010-12-29T00:00:00\",\"2010-12-30T00:00:00\",\"2010-12-31T00:00:00\",\"2011-01-03T00:00:00\",\"2011-01-04T00:00:00\",\"2011-01-05T00:00:00\",\"2011-01-06T00:00:00\",\"2011-01-07T00:00:00\",\"2011-01-10T00:00:00\",\"2011-01-11T00:00:00\",\"2011-01-12T00:00:00\",\"2011-01-13T00:00:00\",\"2011-01-14T00:00:00\",\"2011-01-18T00:00:00\",\"2011-01-19T00:00:00\",\"2011-01-20T00:00:00\",\"2011-01-21T00:00:00\",\"2011-01-24T00:00:00\",\"2011-01-25T00:00:00\",\"2011-01-26T00:00:00\",\"2011-01-27T00:00:00\",\"2011-01-28T00:00:00\",\"2011-01-31T00:00:00\",\"2011-02-01T00:00:00\",\"2011-02-02T00:00:00\",\"2011-02-03T00:00:00\",\"2011-02-04T00:00:00\",\"2011-02-07T00:00:00\",\"2011-02-08T00:00:00\",\"2011-02-09T00:00:00\",\"2011-02-10T00:00:00\",\"2011-02-11T00:00:00\",\"2011-02-14T00:00:00\",\"2011-02-15T00:00:00\",\"2011-02-16T00:00:00\",\"2011-02-17T00:00:00\",\"2011-02-18T00:00:00\",\"2011-02-22T00:00:00\",\"2011-02-23T00:00:00\",\"2011-02-24T00:00:00\",\"2011-02-25T00:00:00\",\"2011-02-28T00:00:00\",\"2011-03-01T00:00:00\",\"2011-03-02T00:00:00\",\"2011-03-03T00:00:00\",\"2011-03-04T00:00:00\",\"2011-03-07T00:00:00\",\"2011-03-08T00:00:00\",\"2011-03-09T00:00:00\",\"2011-03-10T00:00:00\",\"2011-03-11T00:00:00\",\"2011-03-14T00:00:00\",\"2011-03-15T00:00:00\",\"2011-03-16T00:00:00\",\"2011-03-17T00:00:00\",\"2011-03-18T00:00:00\",\"2011-03-21T00:00:00\",\"2011-03-22T00:00:00\",\"2011-03-23T00:00:00\",\"2011-03-24T00:00:00\",\"2011-03-25T00:00:00\",\"2011-03-28T00:00:00\",\"2011-03-29T00:00:00\",\"2011-03-30T00:00:00\",\"2011-03-31T00:00:00\",\"2011-04-01T00:00:00\",\"2011-04-04T00:00:00\",\"2011-04-05T00:00:00\",\"2011-04-06T00:00:00\",\"2011-04-07T00:00:00\",\"2011-04-08T00:00:00\",\"2011-04-11T00:00:00\",\"2011-04-12T00:00:00\",\"2011-04-13T00:00:00\",\"2011-04-14T00:00:00\",\"2011-04-15T00:00:00\",\"2011-04-18T00:00:00\",\"2011-04-19T00:00:00\",\"2011-04-20T00:00:00\",\"2011-04-21T00:00:00\",\"2011-04-25T00:00:00\",\"2011-04-26T00:00:00\",\"2011-04-27T00:00:00\",\"2011-04-28T00:00:00\",\"2011-04-29T00:00:00\",\"2011-05-02T00:00:00\",\"2011-05-03T00:00:00\",\"2011-05-04T00:00:00\",\"2011-05-05T00:00:00\",\"2011-05-06T00:00:00\",\"2011-05-09T00:00:00\",\"2011-05-10T00:00:00\",\"2011-05-11T00:00:00\",\"2011-05-12T00:00:00\",\"2011-05-13T00:00:00\",\"2011-05-16T00:00:00\",\"2011-05-17T00:00:00\",\"2011-05-18T00:00:00\",\"2011-05-19T00:00:00\",\"2011-05-20T00:00:00\",\"2011-05-23T00:00:00\",\"2011-05-24T00:00:00\",\"2011-05-25T00:00:00\",\"2011-05-26T00:00:00\",\"2011-05-27T00:00:00\",\"2011-05-31T00:00:00\",\"2011-06-01T00:00:00\",\"2011-06-02T00:00:00\",\"2011-06-03T00:00:00\",\"2011-06-06T00:00:00\",\"2011-06-07T00:00:00\",\"2011-06-08T00:00:00\",\"2011-06-09T00:00:00\",\"2011-06-10T00:00:00\",\"2011-06-13T00:00:00\",\"2011-06-14T00:00:00\",\"2011-06-15T00:00:00\",\"2011-06-16T00:00:00\",\"2011-06-17T00:00:00\",\"2011-06-20T00:00:00\",\"2011-06-21T00:00:00\",\"2011-06-22T00:00:00\",\"2011-06-23T00:00:00\",\"2011-06-24T00:00:00\",\"2011-06-27T00:00:00\",\"2011-06-28T00:00:00\",\"2011-06-29T00:00:00\",\"2011-06-30T00:00:00\",\"2011-07-01T00:00:00\",\"2011-07-05T00:00:00\",\"2011-07-06T00:00:00\",\"2011-07-07T00:00:00\",\"2011-07-08T00:00:00\",\"2011-07-11T00:00:00\",\"2011-07-12T00:00:00\",\"2011-07-13T00:00:00\",\"2011-07-14T00:00:00\",\"2011-07-15T00:00:00\",\"2011-07-18T00:00:00\",\"2011-07-19T00:00:00\",\"2011-07-20T00:00:00\",\"2011-07-21T00:00:00\",\"2011-07-22T00:00:00\",\"2011-07-25T00:00:00\",\"2011-07-26T00:00:00\",\"2011-07-27T00:00:00\",\"2011-07-28T00:00:00\",\"2011-07-29T00:00:00\",\"2011-08-01T00:00:00\",\"2011-08-02T00:00:00\",\"2011-08-03T00:00:00\",\"2011-08-04T00:00:00\",\"2011-08-05T00:00:00\",\"2011-08-08T00:00:00\",\"2011-08-09T00:00:00\",\"2011-08-10T00:00:00\",\"2011-08-11T00:00:00\",\"2011-08-12T00:00:00\",\"2011-08-15T00:00:00\",\"2011-08-16T00:00:00\",\"2011-08-17T00:00:00\",\"2011-08-18T00:00:00\",\"2011-08-19T00:00:00\",\"2011-08-22T00:00:00\",\"2011-08-23T00:00:00\",\"2011-08-24T00:00:00\",\"2011-08-25T00:00:00\",\"2011-08-26T00:00:00\",\"2011-08-29T00:00:00\",\"2011-08-30T00:00:00\",\"2011-08-31T00:00:00\",\"2011-09-01T00:00:00\",\"2011-09-02T00:00:00\",\"2011-09-06T00:00:00\",\"2011-09-07T00:00:00\",\"2011-09-08T00:00:00\",\"2011-09-09T00:00:00\",\"2011-09-12T00:00:00\",\"2011-09-13T00:00:00\",\"2011-09-14T00:00:00\",\"2011-09-15T00:00:00\",\"2011-09-16T00:00:00\",\"2011-09-19T00:00:00\",\"2011-09-20T00:00:00\",\"2011-09-21T00:00:00\",\"2011-09-22T00:00:00\",\"2011-09-23T00:00:00\",\"2011-09-26T00:00:00\",\"2011-09-27T00:00:00\",\"2011-09-28T00:00:00\",\"2011-09-29T00:00:00\",\"2011-09-30T00:00:00\",\"2011-10-03T00:00:00\",\"2011-10-04T00:00:00\",\"2011-10-05T00:00:00\",\"2011-10-06T00:00:00\",\"2011-10-07T00:00:00\",\"2011-10-10T00:00:00\",\"2011-10-11T00:00:00\",\"2011-10-12T00:00:00\",\"2011-10-13T00:00:00\",\"2011-10-14T00:00:00\",\"2011-10-17T00:00:00\",\"2011-10-18T00:00:00\",\"2011-10-19T00:00:00\",\"2011-10-20T00:00:00\",\"2011-10-21T00:00:00\",\"2011-10-24T00:00:00\",\"2011-10-25T00:00:00\",\"2011-10-26T00:00:00\",\"2011-10-27T00:00:00\",\"2011-10-28T00:00:00\",\"2011-10-31T00:00:00\",\"2011-11-01T00:00:00\",\"2011-11-02T00:00:00\",\"2011-11-03T00:00:00\",\"2011-11-04T00:00:00\",\"2011-11-07T00:00:00\",\"2011-11-08T00:00:00\",\"2011-11-09T00:00:00\",\"2011-11-10T00:00:00\",\"2011-11-11T00:00:00\",\"2011-11-14T00:00:00\",\"2011-11-15T00:00:00\",\"2011-11-16T00:00:00\",\"2011-11-17T00:00:00\",\"2011-11-18T00:00:00\",\"2011-11-21T00:00:00\",\"2011-11-22T00:00:00\",\"2011-11-23T00:00:00\",\"2011-11-25T00:00:00\",\"2011-11-28T00:00:00\",\"2011-11-29T00:00:00\",\"2011-11-30T00:00:00\",\"2011-12-01T00:00:00\",\"2011-12-02T00:00:00\",\"2011-12-05T00:00:00\",\"2011-12-06T00:00:00\",\"2011-12-07T00:00:00\",\"2011-12-08T00:00:00\",\"2011-12-09T00:00:00\",\"2011-12-12T00:00:00\",\"2011-12-13T00:00:00\",\"2011-12-14T00:00:00\",\"2011-12-15T00:00:00\",\"2011-12-16T00:00:00\",\"2011-12-19T00:00:00\",\"2011-12-20T00:00:00\",\"2011-12-21T00:00:00\",\"2011-12-22T00:00:00\",\"2011-12-23T00:00:00\",\"2011-12-27T00:00:00\",\"2011-12-28T00:00:00\",\"2011-12-29T00:00:00\",\"2011-12-30T00:00:00\",\"2012-01-03T00:00:00\",\"2012-01-04T00:00:00\",\"2012-01-05T00:00:00\",\"2012-01-06T00:00:00\",\"2012-01-09T00:00:00\",\"2012-01-10T00:00:00\",\"2012-01-11T00:00:00\",\"2012-01-12T00:00:00\",\"2012-01-13T00:00:00\",\"2012-01-17T00:00:00\",\"2012-01-18T00:00:00\",\"2012-01-19T00:00:00\",\"2012-01-20T00:00:00\",\"2012-01-23T00:00:00\",\"2012-01-24T00:00:00\",\"2012-01-25T00:00:00\",\"2012-01-26T00:00:00\",\"2012-01-27T00:00:00\",\"2012-01-30T00:00:00\",\"2012-01-31T00:00:00\",\"2012-02-01T00:00:00\",\"2012-02-02T00:00:00\",\"2012-02-03T00:00:00\",\"2012-02-06T00:00:00\",\"2012-02-07T00:00:00\",\"2012-02-08T00:00:00\",\"2012-02-09T00:00:00\",\"2012-02-10T00:00:00\",\"2012-02-13T00:00:00\",\"2012-02-14T00:00:00\",\"2012-02-15T00:00:00\",\"2012-02-16T00:00:00\",\"2012-02-17T00:00:00\",\"2012-02-21T00:00:00\",\"2012-02-22T00:00:00\",\"2012-02-23T00:00:00\",\"2012-02-24T00:00:00\",\"2012-02-27T00:00:00\",\"2012-02-28T00:00:00\",\"2012-02-29T00:00:00\",\"2012-03-01T00:00:00\",\"2012-03-02T00:00:00\",\"2012-03-05T00:00:00\",\"2012-03-06T00:00:00\",\"2012-03-07T00:00:00\",\"2012-03-08T00:00:00\",\"2012-03-09T00:00:00\",\"2012-03-12T00:00:00\",\"2012-03-13T00:00:00\",\"2012-03-14T00:00:00\",\"2012-03-15T00:00:00\",\"2012-03-16T00:00:00\",\"2012-03-19T00:00:00\",\"2012-03-20T00:00:00\",\"2012-03-21T00:00:00\",\"2012-03-22T00:00:00\",\"2012-03-23T00:00:00\",\"2012-03-26T00:00:00\",\"2012-03-27T00:00:00\",\"2012-03-28T00:00:00\",\"2012-03-29T00:00:00\",\"2012-03-30T00:00:00\",\"2012-04-02T00:00:00\",\"2012-04-03T00:00:00\",\"2012-04-04T00:00:00\",\"2012-04-05T00:00:00\",\"2012-04-09T00:00:00\",\"2012-04-10T00:00:00\",\"2012-04-11T00:00:00\",\"2012-04-12T00:00:00\",\"2012-04-13T00:00:00\",\"2012-04-16T00:00:00\",\"2012-04-17T00:00:00\",\"2012-04-18T00:00:00\",\"2012-04-19T00:00:00\",\"2012-04-20T00:00:00\",\"2012-04-23T00:00:00\",\"2012-04-24T00:00:00\",\"2012-04-25T00:00:00\",\"2012-04-26T00:00:00\",\"2012-04-27T00:00:00\",\"2012-04-30T00:00:00\",\"2012-05-01T00:00:00\",\"2012-05-02T00:00:00\",\"2012-05-03T00:00:00\",\"2012-05-04T00:00:00\",\"2012-05-07T00:00:00\",\"2012-05-08T00:00:00\",\"2012-05-09T00:00:00\",\"2012-05-10T00:00:00\",\"2012-05-11T00:00:00\",\"2012-05-14T00:00:00\",\"2012-05-15T00:00:00\",\"2012-05-16T00:00:00\",\"2012-05-17T00:00:00\",\"2012-05-18T00:00:00\",\"2012-05-21T00:00:00\",\"2012-05-22T00:00:00\",\"2012-05-23T00:00:00\",\"2012-05-24T00:00:00\",\"2012-05-25T00:00:00\",\"2012-05-29T00:00:00\",\"2012-05-30T00:00:00\",\"2012-05-31T00:00:00\",\"2012-06-01T00:00:00\",\"2012-06-04T00:00:00\",\"2012-06-05T00:00:00\",\"2012-06-06T00:00:00\",\"2012-06-07T00:00:00\",\"2012-06-08T00:00:00\",\"2012-06-11T00:00:00\",\"2012-06-12T00:00:00\",\"2012-06-13T00:00:00\",\"2012-06-14T00:00:00\",\"2012-06-15T00:00:00\",\"2012-06-18T00:00:00\",\"2012-06-19T00:00:00\",\"2012-06-20T00:00:00\",\"2012-06-21T00:00:00\",\"2012-06-22T00:00:00\",\"2012-06-25T00:00:00\",\"2012-06-26T00:00:00\",\"2012-06-27T00:00:00\",\"2012-06-28T00:00:00\",\"2012-06-29T00:00:00\",\"2012-07-02T00:00:00\",\"2012-07-03T00:00:00\",\"2012-07-05T00:00:00\",\"2012-07-06T00:00:00\",\"2012-07-09T00:00:00\",\"2012-07-10T00:00:00\",\"2012-07-11T00:00:00\",\"2012-07-12T00:00:00\",\"2012-07-13T00:00:00\",\"2012-07-16T00:00:00\",\"2012-07-17T00:00:00\",\"2012-07-18T00:00:00\",\"2012-07-19T00:00:00\",\"2012-07-20T00:00:00\",\"2012-07-23T00:00:00\",\"2012-07-24T00:00:00\",\"2012-07-25T00:00:00\",\"2012-07-26T00:00:00\",\"2012-07-27T00:00:00\",\"2012-07-30T00:00:00\",\"2012-07-31T00:00:00\",\"2012-08-01T00:00:00\",\"2012-08-02T00:00:00\",\"2012-08-03T00:00:00\",\"2012-08-06T00:00:00\",\"2012-08-07T00:00:00\",\"2012-08-08T00:00:00\",\"2012-08-09T00:00:00\",\"2012-08-10T00:00:00\",\"2012-08-13T00:00:00\",\"2012-08-14T00:00:00\",\"2012-08-15T00:00:00\",\"2012-08-16T00:00:00\",\"2012-08-17T00:00:00\",\"2012-08-20T00:00:00\",\"2012-08-21T00:00:00\",\"2012-08-22T00:00:00\",\"2012-08-23T00:00:00\",\"2012-08-24T00:00:00\",\"2012-08-27T00:00:00\",\"2012-08-28T00:00:00\",\"2012-08-29T00:00:00\",\"2012-08-30T00:00:00\",\"2012-08-31T00:00:00\",\"2012-09-04T00:00:00\",\"2012-09-05T00:00:00\",\"2012-09-06T00:00:00\",\"2012-09-07T00:00:00\",\"2012-09-10T00:00:00\",\"2012-09-11T00:00:00\",\"2012-09-12T00:00:00\",\"2012-09-13T00:00:00\",\"2012-09-14T00:00:00\",\"2012-09-17T00:00:00\",\"2012-09-18T00:00:00\",\"2012-09-19T00:00:00\",\"2012-09-20T00:00:00\",\"2012-09-21T00:00:00\",\"2012-09-24T00:00:00\",\"2012-09-25T00:00:00\",\"2012-09-26T00:00:00\",\"2012-09-27T00:00:00\",\"2012-09-28T00:00:00\",\"2012-10-01T00:00:00\",\"2012-10-02T00:00:00\",\"2012-10-03T00:00:00\",\"2012-10-04T00:00:00\",\"2012-10-05T00:00:00\",\"2012-10-08T00:00:00\",\"2012-10-09T00:00:00\",\"2012-10-10T00:00:00\",\"2012-10-11T00:00:00\",\"2012-10-12T00:00:00\",\"2012-10-15T00:00:00\",\"2012-10-16T00:00:00\",\"2012-10-17T00:00:00\",\"2012-10-18T00:00:00\",\"2012-10-19T00:00:00\",\"2012-10-22T00:00:00\",\"2012-10-23T00:00:00\",\"2012-10-24T00:00:00\",\"2012-10-25T00:00:00\",\"2012-10-26T00:00:00\",\"2012-10-31T00:00:00\",\"2012-11-01T00:00:00\",\"2012-11-02T00:00:00\",\"2012-11-05T00:00:00\",\"2012-11-06T00:00:00\",\"2012-11-07T00:00:00\",\"2012-11-08T00:00:00\",\"2012-11-09T00:00:00\",\"2012-11-12T00:00:00\",\"2012-11-13T00:00:00\",\"2012-11-14T00:00:00\",\"2012-11-15T00:00:00\",\"2012-11-16T00:00:00\",\"2012-11-19T00:00:00\",\"2012-11-20T00:00:00\",\"2012-11-21T00:00:00\",\"2012-11-23T00:00:00\",\"2012-11-26T00:00:00\",\"2012-11-27T00:00:00\",\"2012-11-28T00:00:00\",\"2012-11-29T00:00:00\",\"2012-11-30T00:00:00\",\"2012-12-03T00:00:00\",\"2012-12-04T00:00:00\",\"2012-12-05T00:00:00\",\"2012-12-06T00:00:00\",\"2012-12-07T00:00:00\",\"2012-12-10T00:00:00\",\"2012-12-11T00:00:00\",\"2012-12-12T00:00:00\",\"2012-12-13T00:00:00\",\"2012-12-14T00:00:00\",\"2012-12-17T00:00:00\",\"2012-12-18T00:00:00\",\"2012-12-19T00:00:00\",\"2012-12-20T00:00:00\",\"2012-12-21T00:00:00\",\"2012-12-24T00:00:00\",\"2012-12-26T00:00:00\",\"2012-12-27T00:00:00\",\"2012-12-28T00:00:00\",\"2012-12-31T00:00:00\",\"2013-01-02T00:00:00\",\"2013-01-03T00:00:00\",\"2013-01-04T00:00:00\",\"2013-01-07T00:00:00\",\"2013-01-08T00:00:00\",\"2013-01-09T00:00:00\",\"2013-01-10T00:00:00\",\"2013-01-11T00:00:00\",\"2013-01-14T00:00:00\",\"2013-01-15T00:00:00\",\"2013-01-16T00:00:00\",\"2013-01-17T00:00:00\",\"2013-01-18T00:00:00\",\"2013-01-22T00:00:00\",\"2013-01-23T00:00:00\",\"2013-01-24T00:00:00\",\"2013-01-25T00:00:00\",\"2013-01-28T00:00:00\",\"2013-01-29T00:00:00\",\"2013-01-30T00:00:00\",\"2013-01-31T00:00:00\",\"2013-02-01T00:00:00\",\"2013-02-04T00:00:00\",\"2013-02-05T00:00:00\",\"2013-02-06T00:00:00\",\"2013-02-07T00:00:00\",\"2013-02-08T00:00:00\",\"2013-02-11T00:00:00\",\"2013-02-12T00:00:00\",\"2013-02-13T00:00:00\",\"2013-02-14T00:00:00\",\"2013-02-15T00:00:00\",\"2013-02-19T00:00:00\",\"2013-02-20T00:00:00\",\"2013-02-21T00:00:00\",\"2013-02-22T00:00:00\",\"2013-02-25T00:00:00\",\"2013-02-26T00:00:00\",\"2013-02-27T00:00:00\",\"2013-02-28T00:00:00\",\"2013-03-01T00:00:00\",\"2013-03-04T00:00:00\",\"2013-03-05T00:00:00\",\"2013-03-06T00:00:00\",\"2013-03-07T00:00:00\",\"2013-03-08T00:00:00\",\"2013-03-11T00:00:00\",\"2013-03-12T00:00:00\",\"2013-03-13T00:00:00\",\"2013-03-14T00:00:00\",\"2013-03-15T00:00:00\",\"2013-03-18T00:00:00\",\"2013-03-19T00:00:00\",\"2013-03-20T00:00:00\",\"2013-03-21T00:00:00\",\"2013-03-22T00:00:00\",\"2013-03-25T00:00:00\",\"2013-03-26T00:00:00\",\"2013-03-27T00:00:00\",\"2013-03-28T00:00:00\",\"2013-04-01T00:00:00\",\"2013-04-02T00:00:00\",\"2013-04-03T00:00:00\",\"2013-04-04T00:00:00\",\"2013-04-05T00:00:00\",\"2013-04-08T00:00:00\",\"2013-04-09T00:00:00\",\"2013-04-10T00:00:00\",\"2013-04-11T00:00:00\",\"2013-04-12T00:00:00\",\"2013-04-15T00:00:00\",\"2013-04-16T00:00:00\",\"2013-04-17T00:00:00\",\"2013-04-18T00:00:00\",\"2013-04-19T00:00:00\",\"2013-04-22T00:00:00\",\"2013-04-23T00:00:00\",\"2013-04-24T00:00:00\",\"2013-04-25T00:00:00\",\"2013-04-26T00:00:00\",\"2013-04-29T00:00:00\",\"2013-04-30T00:00:00\",\"2013-05-01T00:00:00\",\"2013-05-02T00:00:00\",\"2013-05-03T00:00:00\",\"2013-05-06T00:00:00\",\"2013-05-07T00:00:00\",\"2013-05-08T00:00:00\",\"2013-05-09T00:00:00\",\"2013-05-10T00:00:00\",\"2013-05-13T00:00:00\",\"2013-05-14T00:00:00\",\"2013-05-15T00:00:00\",\"2013-05-16T00:00:00\",\"2013-05-17T00:00:00\",\"2013-05-20T00:00:00\",\"2013-05-21T00:00:00\",\"2013-05-22T00:00:00\",\"2013-05-23T00:00:00\",\"2013-05-24T00:00:00\",\"2013-05-28T00:00:00\",\"2013-05-29T00:00:00\",\"2013-05-30T00:00:00\",\"2013-05-31T00:00:00\",\"2013-06-03T00:00:00\",\"2013-06-04T00:00:00\",\"2013-06-05T00:00:00\",\"2013-06-06T00:00:00\",\"2013-06-07T00:00:00\",\"2013-06-10T00:00:00\",\"2013-06-11T00:00:00\",\"2013-06-12T00:00:00\",\"2013-06-13T00:00:00\",\"2013-06-14T00:00:00\",\"2013-06-17T00:00:00\",\"2013-06-18T00:00:00\",\"2013-06-19T00:00:00\",\"2013-06-20T00:00:00\",\"2013-06-21T00:00:00\",\"2013-06-24T00:00:00\",\"2013-06-25T00:00:00\",\"2013-06-26T00:00:00\",\"2013-06-27T00:00:00\",\"2013-06-28T00:00:00\",\"2013-07-01T00:00:00\",\"2013-07-02T00:00:00\",\"2013-07-03T00:00:00\",\"2013-07-05T00:00:00\",\"2013-07-08T00:00:00\",\"2013-07-09T00:00:00\",\"2013-07-10T00:00:00\",\"2013-07-11T00:00:00\",\"2013-07-12T00:00:00\",\"2013-07-15T00:00:00\",\"2013-07-16T00:00:00\",\"2013-07-17T00:00:00\",\"2013-07-18T00:00:00\",\"2013-07-19T00:00:00\",\"2013-07-22T00:00:00\",\"2013-07-23T00:00:00\",\"2013-07-24T00:00:00\",\"2013-07-25T00:00:00\",\"2013-07-26T00:00:00\",\"2013-07-29T00:00:00\",\"2013-07-30T00:00:00\",\"2013-07-31T00:00:00\",\"2013-08-01T00:00:00\",\"2013-08-02T00:00:00\",\"2013-08-05T00:00:00\",\"2013-08-06T00:00:00\",\"2013-08-07T00:00:00\",\"2013-08-08T00:00:00\",\"2013-08-09T00:00:00\",\"2013-08-12T00:00:00\",\"2013-08-13T00:00:00\",\"2013-08-14T00:00:00\",\"2013-08-15T00:00:00\",\"2013-08-16T00:00:00\",\"2013-08-19T00:00:00\",\"2013-08-20T00:00:00\",\"2013-08-21T00:00:00\",\"2013-08-22T00:00:00\",\"2013-08-23T00:00:00\",\"2013-08-26T00:00:00\",\"2013-08-27T00:00:00\",\"2013-08-28T00:00:00\",\"2013-08-29T00:00:00\",\"2013-08-30T00:00:00\",\"2013-09-03T00:00:00\",\"2013-09-04T00:00:00\",\"2013-09-05T00:00:00\",\"2013-09-06T00:00:00\",\"2013-09-09T00:00:00\",\"2013-09-10T00:00:00\",\"2013-09-11T00:00:00\",\"2013-09-12T00:00:00\",\"2013-09-13T00:00:00\",\"2013-09-16T00:00:00\",\"2013-09-17T00:00:00\",\"2013-09-18T00:00:00\",\"2013-09-19T00:00:00\",\"2013-09-20T00:00:00\",\"2013-09-23T00:00:00\",\"2013-09-24T00:00:00\",\"2013-09-25T00:00:00\",\"2013-09-26T00:00:00\",\"2013-09-27T00:00:00\",\"2013-09-30T00:00:00\",\"2013-10-01T00:00:00\",\"2013-10-02T00:00:00\",\"2013-10-03T00:00:00\",\"2013-10-04T00:00:00\",\"2013-10-07T00:00:00\",\"2013-10-08T00:00:00\",\"2013-10-09T00:00:00\",\"2013-10-10T00:00:00\",\"2013-10-11T00:00:00\",\"2013-10-14T00:00:00\",\"2013-10-15T00:00:00\",\"2013-10-16T00:00:00\",\"2013-10-17T00:00:00\",\"2013-10-18T00:00:00\",\"2013-10-21T00:00:00\",\"2013-10-22T00:00:00\",\"2013-10-23T00:00:00\",\"2013-10-24T00:00:00\",\"2013-10-25T00:00:00\",\"2013-10-28T00:00:00\",\"2013-10-29T00:00:00\",\"2013-10-30T00:00:00\",\"2013-10-31T00:00:00\",\"2013-11-01T00:00:00\",\"2013-11-04T00:00:00\",\"2013-11-05T00:00:00\",\"2013-11-06T00:00:00\",\"2013-11-07T00:00:00\",\"2013-11-08T00:00:00\",\"2013-11-11T00:00:00\",\"2013-11-12T00:00:00\",\"2013-11-13T00:00:00\",\"2013-11-14T00:00:00\",\"2013-11-15T00:00:00\",\"2013-11-18T00:00:00\",\"2013-11-19T00:00:00\",\"2013-11-20T00:00:00\",\"2013-11-21T00:00:00\",\"2013-11-22T00:00:00\",\"2013-11-25T00:00:00\",\"2013-11-26T00:00:00\",\"2013-11-27T00:00:00\",\"2013-11-29T00:00:00\",\"2013-12-02T00:00:00\",\"2013-12-03T00:00:00\",\"2013-12-04T00:00:00\",\"2013-12-05T00:00:00\",\"2013-12-06T00:00:00\",\"2013-12-09T00:00:00\",\"2013-12-10T00:00:00\",\"2013-12-11T00:00:00\",\"2013-12-12T00:00:00\",\"2013-12-13T00:00:00\",\"2013-12-16T00:00:00\",\"2013-12-17T00:00:00\",\"2013-12-18T00:00:00\",\"2013-12-19T00:00:00\",\"2013-12-20T00:00:00\",\"2013-12-23T00:00:00\",\"2013-12-24T00:00:00\",\"2013-12-26T00:00:00\",\"2013-12-27T00:00:00\",\"2013-12-30T00:00:00\",\"2013-12-31T00:00:00\",\"2014-01-02T00:00:00\",\"2014-01-03T00:00:00\",\"2014-01-06T00:00:00\",\"2014-01-07T00:00:00\",\"2014-01-08T00:00:00\",\"2014-01-09T00:00:00\",\"2014-01-10T00:00:00\",\"2014-01-13T00:00:00\",\"2014-01-14T00:00:00\",\"2014-01-15T00:00:00\",\"2014-01-16T00:00:00\",\"2014-01-17T00:00:00\",\"2014-01-21T00:00:00\",\"2014-01-22T00:00:00\",\"2014-01-23T00:00:00\",\"2014-01-24T00:00:00\",\"2014-01-27T00:00:00\",\"2014-01-28T00:00:00\",\"2014-01-29T00:00:00\",\"2014-01-30T00:00:00\",\"2014-01-31T00:00:00\",\"2014-02-03T00:00:00\",\"2014-02-04T00:00:00\",\"2014-02-05T00:00:00\",\"2014-02-06T00:00:00\",\"2014-02-07T00:00:00\",\"2014-02-10T00:00:00\",\"2014-02-11T00:00:00\",\"2014-02-12T00:00:00\",\"2014-02-13T00:00:00\",\"2014-02-14T00:00:00\",\"2014-02-18T00:00:00\",\"2014-02-19T00:00:00\",\"2014-02-20T00:00:00\",\"2014-02-21T00:00:00\",\"2014-02-24T00:00:00\",\"2014-02-25T00:00:00\",\"2014-02-26T00:00:00\",\"2014-02-27T00:00:00\",\"2014-02-28T00:00:00\",\"2014-03-03T00:00:00\",\"2014-03-04T00:00:00\",\"2014-03-05T00:00:00\",\"2014-03-06T00:00:00\",\"2014-03-07T00:00:00\",\"2014-03-10T00:00:00\",\"2014-03-11T00:00:00\",\"2014-03-12T00:00:00\",\"2014-03-13T00:00:00\",\"2014-03-14T00:00:00\",\"2014-03-17T00:00:00\",\"2014-03-18T00:00:00\",\"2014-03-19T00:00:00\",\"2014-03-20T00:00:00\",\"2014-03-21T00:00:00\",\"2014-03-24T00:00:00\",\"2014-03-25T00:00:00\",\"2014-03-26T00:00:00\",\"2014-03-27T00:00:00\",\"2014-03-28T00:00:00\",\"2014-03-31T00:00:00\",\"2014-04-01T00:00:00\",\"2014-04-02T00:00:00\",\"2014-04-03T00:00:00\",\"2014-04-04T00:00:00\",\"2014-04-07T00:00:00\",\"2014-04-08T00:00:00\",\"2014-04-09T00:00:00\",\"2014-04-10T00:00:00\",\"2014-04-11T00:00:00\",\"2014-04-14T00:00:00\",\"2014-04-15T00:00:00\",\"2014-04-16T00:00:00\",\"2014-04-17T00:00:00\",\"2014-04-21T00:00:00\",\"2014-04-22T00:00:00\",\"2014-04-23T00:00:00\",\"2014-04-24T00:00:00\",\"2014-04-25T00:00:00\",\"2014-04-28T00:00:00\",\"2014-04-29T00:00:00\",\"2014-04-30T00:00:00\",\"2014-05-01T00:00:00\",\"2014-05-02T00:00:00\",\"2014-05-05T00:00:00\",\"2014-05-06T00:00:00\",\"2014-05-07T00:00:00\",\"2014-05-08T00:00:00\",\"2014-05-09T00:00:00\",\"2014-05-12T00:00:00\",\"2014-05-13T00:00:00\",\"2014-05-14T00:00:00\",\"2014-05-15T00:00:00\",\"2014-05-16T00:00:00\",\"2014-05-19T00:00:00\",\"2014-05-20T00:00:00\",\"2014-05-21T00:00:00\",\"2014-05-22T00:00:00\",\"2014-05-23T00:00:00\",\"2014-05-27T00:00:00\",\"2014-05-28T00:00:00\",\"2014-05-29T00:00:00\",\"2014-05-30T00:00:00\",\"2014-06-02T00:00:00\",\"2014-06-03T00:00:00\",\"2014-06-04T00:00:00\",\"2014-06-05T00:00:00\",\"2014-06-06T00:00:00\",\"2014-06-09T00:00:00\",\"2014-06-10T00:00:00\",\"2014-06-11T00:00:00\",\"2014-06-12T00:00:00\",\"2014-06-13T00:00:00\",\"2014-06-16T00:00:00\",\"2014-06-17T00:00:00\",\"2014-06-18T00:00:00\",\"2014-06-19T00:00:00\",\"2014-06-20T00:00:00\",\"2014-06-23T00:00:00\",\"2014-06-24T00:00:00\",\"2014-06-25T00:00:00\",\"2014-06-26T00:00:00\",\"2014-06-27T00:00:00\",\"2014-06-30T00:00:00\",\"2014-07-01T00:00:00\",\"2014-07-02T00:00:00\",\"2014-07-03T00:00:00\",\"2014-07-07T00:00:00\",\"2014-07-08T00:00:00\",\"2014-07-09T00:00:00\",\"2014-07-10T00:00:00\",\"2014-07-11T00:00:00\",\"2014-07-14T00:00:00\",\"2014-07-15T00:00:00\",\"2014-07-16T00:00:00\",\"2014-07-17T00:00:00\",\"2014-07-18T00:00:00\",\"2014-07-21T00:00:00\",\"2014-07-22T00:00:00\",\"2014-07-23T00:00:00\",\"2014-07-24T00:00:00\",\"2014-07-25T00:00:00\",\"2014-07-28T00:00:00\",\"2014-07-29T00:00:00\",\"2014-07-30T00:00:00\",\"2014-07-31T00:00:00\",\"2014-08-01T00:00:00\",\"2014-08-04T00:00:00\",\"2014-08-05T00:00:00\",\"2014-08-06T00:00:00\",\"2014-08-07T00:00:00\",\"2014-08-08T00:00:00\",\"2014-08-11T00:00:00\",\"2014-08-12T00:00:00\",\"2014-08-13T00:00:00\",\"2014-08-14T00:00:00\",\"2014-08-15T00:00:00\",\"2014-08-18T00:00:00\",\"2014-08-19T00:00:00\",\"2014-08-20T00:00:00\",\"2014-08-21T00:00:00\",\"2014-08-22T00:00:00\",\"2014-08-25T00:00:00\",\"2014-08-26T00:00:00\",\"2014-08-27T00:00:00\",\"2014-08-28T00:00:00\",\"2014-08-29T00:00:00\",\"2014-09-02T00:00:00\",\"2014-09-03T00:00:00\",\"2014-09-04T00:00:00\",\"2014-09-05T00:00:00\",\"2014-09-08T00:00:00\",\"2014-09-09T00:00:00\",\"2014-09-10T00:00:00\",\"2014-09-11T00:00:00\",\"2014-09-12T00:00:00\",\"2014-09-15T00:00:00\",\"2014-09-16T00:00:00\",\"2014-09-17T00:00:00\",\"2014-09-18T00:00:00\",\"2014-09-19T00:00:00\",\"2014-09-22T00:00:00\",\"2014-09-23T00:00:00\",\"2014-09-24T00:00:00\",\"2014-09-25T00:00:00\",\"2014-09-26T00:00:00\",\"2014-09-29T00:00:00\",\"2014-09-30T00:00:00\",\"2014-10-01T00:00:00\",\"2014-10-02T00:00:00\",\"2014-10-03T00:00:00\",\"2014-10-06T00:00:00\",\"2014-10-07T00:00:00\",\"2014-10-08T00:00:00\",\"2014-10-09T00:00:00\",\"2014-10-10T00:00:00\",\"2014-10-13T00:00:00\",\"2014-10-14T00:00:00\",\"2014-10-15T00:00:00\",\"2014-10-16T00:00:00\",\"2014-10-17T00:00:00\",\"2014-10-20T00:00:00\",\"2014-10-21T00:00:00\",\"2014-10-22T00:00:00\",\"2014-10-23T00:00:00\",\"2014-10-24T00:00:00\",\"2014-10-27T00:00:00\",\"2014-10-28T00:00:00\",\"2014-10-29T00:00:00\",\"2014-10-30T00:00:00\",\"2014-10-31T00:00:00\",\"2014-11-03T00:00:00\",\"2014-11-04T00:00:00\",\"2014-11-05T00:00:00\",\"2014-11-06T00:00:00\",\"2014-11-07T00:00:00\",\"2014-11-10T00:00:00\",\"2014-11-11T00:00:00\",\"2014-11-12T00:00:00\",\"2014-11-13T00:00:00\",\"2014-11-14T00:00:00\",\"2014-11-17T00:00:00\",\"2014-11-18T00:00:00\",\"2014-11-19T00:00:00\",\"2014-11-20T00:00:00\",\"2014-11-21T00:00:00\",\"2014-11-24T00:00:00\",\"2014-11-25T00:00:00\",\"2014-11-26T00:00:00\",\"2014-11-28T00:00:00\",\"2014-12-01T00:00:00\",\"2014-12-02T00:00:00\",\"2014-12-03T00:00:00\",\"2014-12-04T00:00:00\",\"2014-12-05T00:00:00\",\"2014-12-08T00:00:00\",\"2014-12-09T00:00:00\",\"2014-12-10T00:00:00\",\"2014-12-11T00:00:00\",\"2014-12-12T00:00:00\",\"2014-12-15T00:00:00\",\"2014-12-16T00:00:00\",\"2014-12-17T00:00:00\",\"2014-12-18T00:00:00\",\"2014-12-19T00:00:00\",\"2014-12-22T00:00:00\",\"2014-12-23T00:00:00\",\"2014-12-24T00:00:00\",\"2014-12-26T00:00:00\",\"2014-12-29T00:00:00\",\"2014-12-30T00:00:00\",\"2014-12-31T00:00:00\",\"2015-01-02T00:00:00\",\"2015-01-05T00:00:00\",\"2015-01-06T00:00:00\",\"2015-01-07T00:00:00\",\"2015-01-08T00:00:00\",\"2015-01-09T00:00:00\",\"2015-01-12T00:00:00\",\"2015-01-13T00:00:00\",\"2015-01-14T00:00:00\",\"2015-01-15T00:00:00\",\"2015-01-16T00:00:00\",\"2015-01-20T00:00:00\",\"2015-01-21T00:00:00\",\"2015-01-22T00:00:00\",\"2015-01-23T00:00:00\",\"2015-01-26T00:00:00\",\"2015-01-27T00:00:00\",\"2015-01-28T00:00:00\",\"2015-01-29T00:00:00\",\"2015-01-30T00:00:00\",\"2015-02-02T00:00:00\",\"2015-02-03T00:00:00\",\"2015-02-04T00:00:00\",\"2015-02-05T00:00:00\",\"2015-02-06T00:00:00\",\"2015-02-09T00:00:00\",\"2015-02-10T00:00:00\",\"2015-02-11T00:00:00\",\"2015-02-12T00:00:00\",\"2015-02-13T00:00:00\",\"2015-02-17T00:00:00\",\"2015-02-18T00:00:00\",\"2015-02-19T00:00:00\",\"2015-02-20T00:00:00\",\"2015-02-23T00:00:00\",\"2015-02-24T00:00:00\",\"2015-02-25T00:00:00\",\"2015-02-26T00:00:00\",\"2015-02-27T00:00:00\",\"2015-03-02T00:00:00\",\"2015-03-03T00:00:00\",\"2015-03-04T00:00:00\",\"2015-03-05T00:00:00\",\"2015-03-06T00:00:00\",\"2015-03-09T00:00:00\",\"2015-03-10T00:00:00\",\"2015-03-11T00:00:00\",\"2015-03-12T00:00:00\",\"2015-03-13T00:00:00\",\"2015-03-16T00:00:00\",\"2015-03-17T00:00:00\",\"2015-03-18T00:00:00\",\"2015-03-19T00:00:00\",\"2015-03-20T00:00:00\",\"2015-03-23T00:00:00\",\"2015-03-24T00:00:00\",\"2015-03-25T00:00:00\",\"2015-03-26T00:00:00\",\"2015-03-27T00:00:00\",\"2015-03-30T00:00:00\",\"2015-03-31T00:00:00\",\"2015-04-01T00:00:00\",\"2015-04-02T00:00:00\",\"2015-04-06T00:00:00\",\"2015-04-07T00:00:00\",\"2015-04-08T00:00:00\",\"2015-04-09T00:00:00\",\"2015-04-10T00:00:00\",\"2015-04-13T00:00:00\",\"2015-04-14T00:00:00\",\"2015-04-15T00:00:00\",\"2015-04-16T00:00:00\",\"2015-04-17T00:00:00\",\"2015-04-20T00:00:00\",\"2015-04-21T00:00:00\",\"2015-04-22T00:00:00\",\"2015-04-23T00:00:00\",\"2015-04-24T00:00:00\",\"2015-04-27T00:00:00\",\"2015-04-28T00:00:00\",\"2015-04-29T00:00:00\",\"2015-04-30T00:00:00\",\"2015-05-01T00:00:00\",\"2015-05-04T00:00:00\",\"2015-05-05T00:00:00\",\"2015-05-06T00:00:00\",\"2015-05-07T00:00:00\",\"2015-05-08T00:00:00\",\"2015-05-11T00:00:00\",\"2015-05-12T00:00:00\",\"2015-05-13T00:00:00\",\"2015-05-14T00:00:00\",\"2015-05-15T00:00:00\",\"2015-05-18T00:00:00\",\"2015-05-19T00:00:00\",\"2015-05-20T00:00:00\",\"2015-05-21T00:00:00\",\"2015-05-22T00:00:00\",\"2015-05-26T00:00:00\",\"2015-05-27T00:00:00\",\"2015-05-28T00:00:00\",\"2015-05-29T00:00:00\",\"2015-06-01T00:00:00\",\"2015-06-02T00:00:00\",\"2015-06-03T00:00:00\",\"2015-06-04T00:00:00\",\"2015-06-05T00:00:00\",\"2015-06-08T00:00:00\",\"2015-06-09T00:00:00\",\"2015-06-10T00:00:00\",\"2015-06-11T00:00:00\",\"2015-06-12T00:00:00\",\"2015-06-15T00:00:00\",\"2015-06-16T00:00:00\",\"2015-06-17T00:00:00\",\"2015-06-18T00:00:00\",\"2015-06-19T00:00:00\",\"2015-06-22T00:00:00\",\"2015-06-23T00:00:00\",\"2015-06-24T00:00:00\",\"2015-06-25T00:00:00\",\"2015-06-26T00:00:00\",\"2015-06-29T00:00:00\",\"2015-06-30T00:00:00\",\"2015-07-01T00:00:00\",\"2015-07-02T00:00:00\",\"2015-07-06T00:00:00\",\"2015-07-07T00:00:00\",\"2015-07-08T00:00:00\",\"2015-07-09T00:00:00\",\"2015-07-10T00:00:00\",\"2015-07-13T00:00:00\",\"2015-07-14T00:00:00\",\"2015-07-15T00:00:00\",\"2015-07-16T00:00:00\",\"2015-07-17T00:00:00\",\"2015-07-20T00:00:00\",\"2015-07-21T00:00:00\",\"2015-07-22T00:00:00\",\"2015-07-23T00:00:00\",\"2015-07-24T00:00:00\",\"2015-07-27T00:00:00\",\"2015-07-28T00:00:00\",\"2015-07-29T00:00:00\",\"2015-07-30T00:00:00\",\"2015-07-31T00:00:00\",\"2015-08-03T00:00:00\",\"2015-08-04T00:00:00\",\"2015-08-05T00:00:00\",\"2015-08-06T00:00:00\",\"2015-08-07T00:00:00\",\"2015-08-10T00:00:00\",\"2015-08-11T00:00:00\",\"2015-08-12T00:00:00\",\"2015-08-13T00:00:00\",\"2015-08-14T00:00:00\",\"2015-08-17T00:00:00\",\"2015-08-18T00:00:00\",\"2015-08-19T00:00:00\",\"2015-08-20T00:00:00\",\"2015-08-21T00:00:00\",\"2015-08-24T00:00:00\",\"2015-08-25T00:00:00\",\"2015-08-26T00:00:00\",\"2015-08-27T00:00:00\",\"2015-08-28T00:00:00\",\"2015-08-31T00:00:00\",\"2015-09-01T00:00:00\",\"2015-09-02T00:00:00\",\"2015-09-03T00:00:00\",\"2015-09-04T00:00:00\",\"2015-09-08T00:00:00\",\"2015-09-09T00:00:00\",\"2015-09-10T00:00:00\",\"2015-09-11T00:00:00\",\"2015-09-14T00:00:00\",\"2015-09-15T00:00:00\",\"2015-09-16T00:00:00\",\"2015-09-17T00:00:00\",\"2015-09-18T00:00:00\",\"2015-09-21T00:00:00\",\"2015-09-22T00:00:00\",\"2015-09-23T00:00:00\",\"2015-09-24T00:00:00\",\"2015-09-25T00:00:00\",\"2015-09-28T00:00:00\",\"2015-09-29T00:00:00\",\"2015-09-30T00:00:00\",\"2015-10-01T00:00:00\",\"2015-10-02T00:00:00\",\"2015-10-05T00:00:00\",\"2015-10-06T00:00:00\",\"2015-10-07T00:00:00\",\"2015-10-08T00:00:00\",\"2015-10-09T00:00:00\",\"2015-10-12T00:00:00\",\"2015-10-13T00:00:00\",\"2015-10-14T00:00:00\",\"2015-10-15T00:00:00\",\"2015-10-16T00:00:00\",\"2015-10-19T00:00:00\",\"2015-10-20T00:00:00\",\"2015-10-21T00:00:00\",\"2015-10-22T00:00:00\",\"2015-10-23T00:00:00\",\"2015-10-26T00:00:00\",\"2015-10-27T00:00:00\",\"2015-10-28T00:00:00\",\"2015-10-29T00:00:00\",\"2015-10-30T00:00:00\",\"2015-11-02T00:00:00\",\"2015-11-03T00:00:00\",\"2015-11-04T00:00:00\",\"2015-11-05T00:00:00\",\"2015-11-06T00:00:00\",\"2015-11-09T00:00:00\",\"2015-11-10T00:00:00\",\"2015-11-11T00:00:00\",\"2015-11-12T00:00:00\",\"2015-11-13T00:00:00\",\"2015-11-16T00:00:00\",\"2015-11-17T00:00:00\",\"2015-11-18T00:00:00\",\"2015-11-19T00:00:00\",\"2015-11-20T00:00:00\",\"2015-11-23T00:00:00\",\"2015-11-24T00:00:00\",\"2015-11-25T00:00:00\",\"2015-11-27T00:00:00\",\"2015-11-30T00:00:00\",\"2015-12-01T00:00:00\",\"2015-12-02T00:00:00\",\"2015-12-03T00:00:00\",\"2015-12-04T00:00:00\",\"2015-12-07T00:00:00\",\"2015-12-08T00:00:00\",\"2015-12-09T00:00:00\",\"2015-12-10T00:00:00\",\"2015-12-11T00:00:00\",\"2015-12-14T00:00:00\",\"2015-12-15T00:00:00\",\"2015-12-16T00:00:00\",\"2015-12-17T00:00:00\",\"2015-12-18T00:00:00\",\"2015-12-21T00:00:00\",\"2015-12-22T00:00:00\",\"2015-12-23T00:00:00\",\"2015-12-24T00:00:00\",\"2015-12-28T00:00:00\",\"2015-12-29T00:00:00\",\"2015-12-30T00:00:00\",\"2015-12-31T00:00:00\",\"2016-01-04T00:00:00\",\"2016-01-05T00:00:00\",\"2016-01-06T00:00:00\",\"2016-01-07T00:00:00\",\"2016-01-08T00:00:00\",\"2016-01-11T00:00:00\",\"2016-01-12T00:00:00\",\"2016-01-13T00:00:00\",\"2016-01-14T00:00:00\",\"2016-01-15T00:00:00\",\"2016-01-19T00:00:00\",\"2016-01-20T00:00:00\",\"2016-01-21T00:00:00\",\"2016-01-22T00:00:00\",\"2016-01-25T00:00:00\",\"2016-01-26T00:00:00\",\"2016-01-27T00:00:00\",\"2016-01-28T00:00:00\",\"2016-01-29T00:00:00\",\"2016-02-01T00:00:00\",\"2016-02-02T00:00:00\",\"2016-02-03T00:00:00\",\"2016-02-04T00:00:00\",\"2016-02-05T00:00:00\",\"2016-02-08T00:00:00\",\"2016-02-09T00:00:00\",\"2016-02-10T00:00:00\",\"2016-02-11T00:00:00\",\"2016-02-12T00:00:00\",\"2016-02-16T00:00:00\",\"2016-02-17T00:00:00\",\"2016-02-18T00:00:00\",\"2016-02-19T00:00:00\",\"2016-02-22T00:00:00\",\"2016-02-23T00:00:00\",\"2016-02-24T00:00:00\",\"2016-02-25T00:00:00\",\"2016-02-26T00:00:00\",\"2016-02-29T00:00:00\",\"2016-03-01T00:00:00\",\"2016-03-02T00:00:00\",\"2016-03-03T00:00:00\",\"2016-03-04T00:00:00\",\"2016-03-07T00:00:00\",\"2016-03-08T00:00:00\",\"2016-03-09T00:00:00\",\"2016-03-10T00:00:00\",\"2016-03-11T00:00:00\",\"2016-03-14T00:00:00\",\"2016-03-15T00:00:00\",\"2016-03-16T00:00:00\",\"2016-03-17T00:00:00\",\"2016-03-18T00:00:00\",\"2016-03-21T00:00:00\",\"2016-03-22T00:00:00\",\"2016-03-23T00:00:00\",\"2016-03-24T00:00:00\",\"2016-03-28T00:00:00\",\"2016-03-29T00:00:00\",\"2016-03-30T00:00:00\",\"2016-03-31T00:00:00\",\"2016-04-01T00:00:00\",\"2016-04-04T00:00:00\",\"2016-04-05T00:00:00\",\"2016-04-06T00:00:00\",\"2016-04-07T00:00:00\",\"2016-04-08T00:00:00\",\"2016-04-11T00:00:00\",\"2016-04-12T00:00:00\",\"2016-04-13T00:00:00\",\"2016-04-14T00:00:00\",\"2016-04-15T00:00:00\",\"2016-04-18T00:00:00\",\"2016-04-19T00:00:00\",\"2016-04-20T00:00:00\",\"2016-04-21T00:00:00\",\"2016-04-22T00:00:00\",\"2016-04-25T00:00:00\",\"2016-04-26T00:00:00\",\"2016-04-27T00:00:00\",\"2016-04-28T00:00:00\",\"2016-04-29T00:00:00\",\"2016-05-02T00:00:00\",\"2016-05-03T00:00:00\",\"2016-05-04T00:00:00\",\"2016-05-05T00:00:00\",\"2016-05-06T00:00:00\",\"2016-05-09T00:00:00\",\"2016-05-10T00:00:00\",\"2016-05-11T00:00:00\",\"2016-05-12T00:00:00\",\"2016-05-13T00:00:00\",\"2016-05-16T00:00:00\",\"2016-05-17T00:00:00\",\"2016-05-18T00:00:00\",\"2016-05-19T00:00:00\",\"2016-05-20T00:00:00\",\"2016-05-23T00:00:00\",\"2016-05-24T00:00:00\",\"2016-05-25T00:00:00\",\"2016-05-26T00:00:00\",\"2016-05-27T00:00:00\",\"2016-05-31T00:00:00\",\"2016-06-01T00:00:00\",\"2016-06-02T00:00:00\",\"2016-06-03T00:00:00\",\"2016-06-06T00:00:00\",\"2016-06-07T00:00:00\",\"2016-06-08T00:00:00\",\"2016-06-09T00:00:00\",\"2016-06-10T00:00:00\",\"2016-06-13T00:00:00\",\"2016-06-14T00:00:00\",\"2016-06-15T00:00:00\",\"2016-06-16T00:00:00\",\"2016-06-17T00:00:00\",\"2016-06-20T00:00:00\",\"2016-06-21T00:00:00\",\"2016-06-22T00:00:00\",\"2016-06-23T00:00:00\",\"2016-06-24T00:00:00\",\"2016-06-27T00:00:00\",\"2016-06-28T00:00:00\",\"2016-06-29T00:00:00\",\"2016-06-30T00:00:00\",\"2016-07-01T00:00:00\",\"2016-07-05T00:00:00\",\"2016-07-06T00:00:00\",\"2016-07-07T00:00:00\",\"2016-07-08T00:00:00\",\"2016-07-11T00:00:00\",\"2016-07-12T00:00:00\",\"2016-07-13T00:00:00\",\"2016-07-14T00:00:00\",\"2016-07-15T00:00:00\",\"2016-07-18T00:00:00\",\"2016-07-19T00:00:00\",\"2016-07-20T00:00:00\",\"2016-07-21T00:00:00\",\"2016-07-22T00:00:00\",\"2016-07-25T00:00:00\",\"2016-07-26T00:00:00\",\"2016-07-27T00:00:00\",\"2016-07-28T00:00:00\",\"2016-07-29T00:00:00\",\"2016-08-01T00:00:00\",\"2016-08-02T00:00:00\",\"2016-08-03T00:00:00\",\"2016-08-04T00:00:00\",\"2016-08-05T00:00:00\",\"2016-08-08T00:00:00\",\"2016-08-09T00:00:00\",\"2016-08-10T00:00:00\",\"2016-08-11T00:00:00\",\"2016-08-12T00:00:00\",\"2016-08-15T00:00:00\",\"2016-08-16T00:00:00\",\"2016-08-17T00:00:00\",\"2016-08-18T00:00:00\",\"2016-08-19T00:00:00\",\"2016-08-22T00:00:00\",\"2016-08-23T00:00:00\",\"2016-08-24T00:00:00\",\"2016-08-25T00:00:00\",\"2016-08-26T00:00:00\",\"2016-08-29T00:00:00\",\"2016-08-30T00:00:00\",\"2016-08-31T00:00:00\",\"2016-09-01T00:00:00\",\"2016-09-02T00:00:00\",\"2016-09-06T00:00:00\",\"2016-09-07T00:00:00\",\"2016-09-08T00:00:00\",\"2016-09-09T00:00:00\",\"2016-09-12T00:00:00\",\"2016-09-13T00:00:00\",\"2016-09-14T00:00:00\",\"2016-09-15T00:00:00\",\"2016-09-16T00:00:00\",\"2016-09-19T00:00:00\",\"2016-09-20T00:00:00\",\"2016-09-21T00:00:00\",\"2016-09-22T00:00:00\",\"2016-09-23T00:00:00\",\"2016-09-26T00:00:00\",\"2016-09-27T00:00:00\",\"2016-09-28T00:00:00\",\"2016-09-29T00:00:00\",\"2016-09-30T00:00:00\",\"2016-10-03T00:00:00\",\"2016-10-04T00:00:00\",\"2016-10-05T00:00:00\",\"2016-10-06T00:00:00\",\"2016-10-07T00:00:00\",\"2016-10-10T00:00:00\",\"2016-10-11T00:00:00\",\"2016-10-12T00:00:00\",\"2016-10-13T00:00:00\",\"2016-10-14T00:00:00\",\"2016-10-17T00:00:00\",\"2016-10-18T00:00:00\",\"2016-10-19T00:00:00\",\"2016-10-20T00:00:00\",\"2016-10-21T00:00:00\",\"2016-10-24T00:00:00\",\"2016-10-25T00:00:00\",\"2016-10-26T00:00:00\",\"2016-10-27T00:00:00\",\"2016-10-28T00:00:00\",\"2016-10-31T00:00:00\",\"2016-11-01T00:00:00\",\"2016-11-02T00:00:00\",\"2016-11-03T00:00:00\",\"2016-11-04T00:00:00\",\"2016-11-07T00:00:00\",\"2016-11-08T00:00:00\",\"2016-11-09T00:00:00\",\"2016-11-10T00:00:00\",\"2016-11-11T00:00:00\",\"2016-11-14T00:00:00\",\"2016-11-15T00:00:00\",\"2016-11-16T00:00:00\",\"2016-11-17T00:00:00\",\"2016-11-18T00:00:00\",\"2016-11-21T00:00:00\",\"2016-11-22T00:00:00\",\"2016-11-23T00:00:00\",\"2016-11-25T00:00:00\",\"2016-11-28T00:00:00\",\"2016-11-29T00:00:00\",\"2016-11-30T00:00:00\",\"2016-12-01T00:00:00\",\"2016-12-02T00:00:00\",\"2016-12-05T00:00:00\",\"2016-12-06T00:00:00\",\"2016-12-07T00:00:00\",\"2016-12-08T00:00:00\",\"2016-12-09T00:00:00\",\"2016-12-12T00:00:00\",\"2016-12-13T00:00:00\",\"2016-12-14T00:00:00\",\"2016-12-15T00:00:00\",\"2016-12-16T00:00:00\",\"2016-12-19T00:00:00\",\"2016-12-20T00:00:00\",\"2016-12-21T00:00:00\",\"2016-12-22T00:00:00\",\"2016-12-23T00:00:00\",\"2016-12-27T00:00:00\",\"2016-12-28T00:00:00\",\"2016-12-29T00:00:00\",\"2016-12-30T00:00:00\",\"2017-01-03T00:00:00\",\"2017-01-04T00:00:00\",\"2017-01-05T00:00:00\",\"2017-01-06T00:00:00\",\"2017-01-09T00:00:00\",\"2017-01-10T00:00:00\",\"2017-01-11T00:00:00\",\"2017-01-12T00:00:00\",\"2017-01-13T00:00:00\",\"2017-01-17T00:00:00\",\"2017-01-18T00:00:00\",\"2017-01-19T00:00:00\",\"2017-01-20T00:00:00\",\"2017-01-23T00:00:00\",\"2017-01-24T00:00:00\",\"2017-01-25T00:00:00\",\"2017-01-26T00:00:00\",\"2017-01-27T00:00:00\",\"2017-01-30T00:00:00\",\"2017-01-31T00:00:00\",\"2017-02-01T00:00:00\",\"2017-02-02T00:00:00\",\"2017-02-03T00:00:00\",\"2017-02-06T00:00:00\",\"2017-02-07T00:00:00\",\"2017-02-08T00:00:00\",\"2017-02-09T00:00:00\",\"2017-02-10T00:00:00\",\"2017-02-13T00:00:00\",\"2017-02-14T00:00:00\",\"2017-02-15T00:00:00\",\"2017-02-16T00:00:00\",\"2017-02-17T00:00:00\",\"2017-02-21T00:00:00\",\"2017-02-22T00:00:00\",\"2017-02-23T00:00:00\",\"2017-02-24T00:00:00\",\"2017-02-27T00:00:00\",\"2017-02-28T00:00:00\",\"2017-03-01T00:00:00\",\"2017-03-02T00:00:00\",\"2017-03-03T00:00:00\",\"2017-03-06T00:00:00\",\"2017-03-07T00:00:00\",\"2017-03-08T00:00:00\",\"2017-03-09T00:00:00\",\"2017-03-10T00:00:00\",\"2017-03-13T00:00:00\",\"2017-03-14T00:00:00\",\"2017-03-15T00:00:00\",\"2017-03-16T00:00:00\",\"2017-03-17T00:00:00\",\"2017-03-20T00:00:00\",\"2017-03-21T00:00:00\",\"2017-03-22T00:00:00\",\"2017-03-23T00:00:00\",\"2017-03-24T00:00:00\",\"2017-03-27T00:00:00\",\"2017-03-28T00:00:00\",\"2017-03-29T00:00:00\",\"2017-03-30T00:00:00\",\"2017-03-31T00:00:00\",\"2017-04-03T00:00:00\",\"2017-04-04T00:00:00\",\"2017-04-05T00:00:00\",\"2017-04-06T00:00:00\",\"2017-04-07T00:00:00\",\"2017-04-10T00:00:00\",\"2017-04-11T00:00:00\",\"2017-04-12T00:00:00\",\"2017-04-13T00:00:00\",\"2017-04-17T00:00:00\",\"2017-04-18T00:00:00\",\"2017-04-19T00:00:00\",\"2017-04-20T00:00:00\",\"2017-04-21T00:00:00\",\"2017-04-24T00:00:00\",\"2017-04-25T00:00:00\",\"2017-04-26T00:00:00\",\"2017-04-27T00:00:00\",\"2017-04-28T00:00:00\",\"2017-05-01T00:00:00\",\"2017-05-02T00:00:00\",\"2017-05-03T00:00:00\",\"2017-05-04T00:00:00\",\"2017-05-05T00:00:00\",\"2017-05-08T00:00:00\",\"2017-05-09T00:00:00\",\"2017-05-10T00:00:00\",\"2017-05-11T00:00:00\",\"2017-05-12T00:00:00\",\"2017-05-15T00:00:00\",\"2017-05-16T00:00:00\",\"2017-05-17T00:00:00\",\"2017-05-18T00:00:00\",\"2017-05-19T00:00:00\",\"2017-05-22T00:00:00\",\"2017-05-23T00:00:00\",\"2017-05-24T00:00:00\",\"2017-05-25T00:00:00\",\"2017-05-26T00:00:00\",\"2017-05-30T00:00:00\",\"2017-05-31T00:00:00\",\"2017-06-01T00:00:00\",\"2017-06-02T00:00:00\",\"2017-06-05T00:00:00\",\"2017-06-06T00:00:00\",\"2017-06-07T00:00:00\",\"2017-06-08T00:00:00\",\"2017-06-09T00:00:00\",\"2017-06-12T00:00:00\",\"2017-06-13T00:00:00\",\"2017-06-14T00:00:00\",\"2017-06-15T00:00:00\",\"2017-06-16T00:00:00\",\"2017-06-19T00:00:00\",\"2017-06-20T00:00:00\",\"2017-06-21T00:00:00\",\"2017-06-22T00:00:00\",\"2017-06-23T00:00:00\",\"2017-06-26T00:00:00\",\"2017-06-27T00:00:00\",\"2017-06-28T00:00:00\",\"2017-06-29T00:00:00\",\"2017-06-30T00:00:00\",\"2017-07-03T00:00:00\",\"2017-07-05T00:00:00\",\"2017-07-06T00:00:00\",\"2017-07-07T00:00:00\",\"2017-07-10T00:00:00\",\"2017-07-11T00:00:00\",\"2017-07-12T00:00:00\",\"2017-07-13T00:00:00\",\"2017-07-14T00:00:00\",\"2017-07-17T00:00:00\",\"2017-07-18T00:00:00\",\"2017-07-19T00:00:00\",\"2017-07-20T00:00:00\",\"2017-07-21T00:00:00\",\"2017-07-24T00:00:00\",\"2017-07-25T00:00:00\",\"2017-07-26T00:00:00\",\"2017-07-27T00:00:00\",\"2017-07-28T00:00:00\",\"2017-07-31T00:00:00\",\"2017-08-01T00:00:00\",\"2017-08-02T00:00:00\",\"2017-08-03T00:00:00\",\"2017-08-04T00:00:00\",\"2017-08-07T00:00:00\",\"2017-08-08T00:00:00\",\"2017-08-09T00:00:00\",\"2017-08-10T00:00:00\",\"2017-08-11T00:00:00\",\"2017-08-14T00:00:00\",\"2017-08-15T00:00:00\",\"2017-08-16T00:00:00\",\"2017-08-17T00:00:00\",\"2017-08-18T00:00:00\",\"2017-08-21T00:00:00\",\"2017-08-22T00:00:00\",\"2017-08-23T00:00:00\",\"2017-08-24T00:00:00\",\"2017-08-25T00:00:00\",\"2017-08-28T00:00:00\",\"2017-08-29T00:00:00\",\"2017-08-30T00:00:00\",\"2017-08-31T00:00:00\",\"2017-09-01T00:00:00\",\"2017-09-05T00:00:00\",\"2017-09-06T00:00:00\",\"2017-09-07T00:00:00\",\"2017-09-08T00:00:00\",\"2017-09-11T00:00:00\",\"2017-09-12T00:00:00\",\"2017-09-13T00:00:00\",\"2017-09-14T00:00:00\",\"2017-09-15T00:00:00\",\"2017-09-18T00:00:00\",\"2017-09-19T00:00:00\",\"2017-09-20T00:00:00\",\"2017-09-21T00:00:00\",\"2017-09-22T00:00:00\",\"2017-09-25T00:00:00\",\"2017-09-26T00:00:00\",\"2017-09-27T00:00:00\",\"2017-09-28T00:00:00\",\"2017-09-29T00:00:00\",\"2017-10-02T00:00:00\",\"2017-10-03T00:00:00\",\"2017-10-04T00:00:00\",\"2017-10-05T00:00:00\",\"2017-10-06T00:00:00\",\"2017-10-09T00:00:00\",\"2017-10-10T00:00:00\",\"2017-10-11T00:00:00\",\"2017-10-12T00:00:00\",\"2017-10-13T00:00:00\",\"2017-10-16T00:00:00\",\"2017-10-17T00:00:00\",\"2017-10-18T00:00:00\",\"2017-10-19T00:00:00\",\"2017-10-20T00:00:00\",\"2017-10-23T00:00:00\",\"2017-10-24T00:00:00\",\"2017-10-25T00:00:00\",\"2017-10-26T00:00:00\",\"2017-10-27T00:00:00\",\"2017-10-30T00:00:00\",\"2017-10-31T00:00:00\",\"2017-11-01T00:00:00\",\"2017-11-02T00:00:00\",\"2017-11-03T00:00:00\",\"2017-11-06T00:00:00\",\"2017-11-07T00:00:00\",\"2017-11-08T00:00:00\",\"2017-11-09T00:00:00\",\"2017-11-10T00:00:00\",\"2017-11-13T00:00:00\",\"2017-11-14T00:00:00\",\"2017-11-15T00:00:00\",\"2017-11-16T00:00:00\",\"2017-11-17T00:00:00\",\"2017-11-20T00:00:00\",\"2017-11-21T00:00:00\",\"2017-11-22T00:00:00\",\"2017-11-24T00:00:00\",\"2017-11-27T00:00:00\",\"2017-11-28T00:00:00\",\"2017-11-29T00:00:00\",\"2017-11-30T00:00:00\",\"2017-12-01T00:00:00\",\"2017-12-04T00:00:00\",\"2017-12-05T00:00:00\",\"2017-12-06T00:00:00\",\"2017-12-07T00:00:00\",\"2017-12-08T00:00:00\",\"2017-12-11T00:00:00\",\"2017-12-12T00:00:00\",\"2017-12-13T00:00:00\",\"2017-12-14T00:00:00\",\"2017-12-15T00:00:00\",\"2017-12-18T00:00:00\",\"2017-12-19T00:00:00\",\"2017-12-20T00:00:00\",\"2017-12-21T00:00:00\",\"2017-12-22T00:00:00\",\"2017-12-26T00:00:00\",\"2017-12-27T00:00:00\",\"2017-12-28T00:00:00\",\"2017-12-29T00:00:00\",\"2018-01-02T00:00:00\",\"2018-01-03T00:00:00\",\"2018-01-04T00:00:00\",\"2018-01-05T00:00:00\",\"2018-01-08T00:00:00\",\"2018-01-09T00:00:00\",\"2018-01-10T00:00:00\",\"2018-01-11T00:00:00\",\"2018-01-12T00:00:00\",\"2018-01-16T00:00:00\",\"2018-01-17T00:00:00\",\"2018-01-18T00:00:00\",\"2018-01-19T00:00:00\",\"2018-01-22T00:00:00\",\"2018-01-23T00:00:00\",\"2018-01-24T00:00:00\",\"2018-01-25T00:00:00\",\"2018-01-26T00:00:00\",\"2018-01-29T00:00:00\",\"2018-01-30T00:00:00\",\"2018-01-31T00:00:00\",\"2018-02-01T00:00:00\",\"2018-02-02T00:00:00\",\"2018-02-05T00:00:00\",\"2018-02-06T00:00:00\",\"2018-02-07T00:00:00\",\"2018-02-08T00:00:00\",\"2018-02-09T00:00:00\",\"2018-02-12T00:00:00\",\"2018-02-13T00:00:00\",\"2018-02-14T00:00:00\",\"2018-02-15T00:00:00\",\"2018-02-16T00:00:00\",\"2018-02-20T00:00:00\",\"2018-02-21T00:00:00\",\"2018-02-22T00:00:00\",\"2018-02-23T00:00:00\",\"2018-02-26T00:00:00\",\"2018-02-27T00:00:00\",\"2018-02-28T00:00:00\",\"2018-03-01T00:00:00\",\"2018-03-02T00:00:00\",\"2018-03-05T00:00:00\",\"2018-03-06T00:00:00\",\"2018-03-07T00:00:00\",\"2018-03-08T00:00:00\",\"2018-03-09T00:00:00\",\"2018-03-12T00:00:00\",\"2018-03-13T00:00:00\",\"2018-03-14T00:00:00\",\"2018-03-15T00:00:00\",\"2018-03-16T00:00:00\",\"2018-03-19T00:00:00\",\"2018-03-20T00:00:00\",\"2018-03-21T00:00:00\",\"2018-03-22T00:00:00\",\"2018-03-23T00:00:00\",\"2018-03-26T00:00:00\",\"2018-03-27T00:00:00\",\"2018-03-28T00:00:00\",\"2018-03-29T00:00:00\",\"2018-04-02T00:00:00\",\"2018-04-03T00:00:00\",\"2018-04-04T00:00:00\",\"2018-04-05T00:00:00\",\"2018-04-06T00:00:00\",\"2018-04-09T00:00:00\",\"2018-04-10T00:00:00\",\"2018-04-11T00:00:00\",\"2018-04-12T00:00:00\",\"2018-04-13T00:00:00\",\"2018-04-16T00:00:00\",\"2018-04-17T00:00:00\",\"2018-04-18T00:00:00\",\"2018-04-19T00:00:00\",\"2018-04-20T00:00:00\",\"2018-04-23T00:00:00\",\"2018-04-24T00:00:00\",\"2018-04-25T00:00:00\",\"2018-04-26T00:00:00\",\"2018-04-27T00:00:00\",\"2018-04-30T00:00:00\",\"2018-05-01T00:00:00\",\"2018-05-02T00:00:00\",\"2018-05-03T00:00:00\",\"2018-05-04T00:00:00\",\"2018-05-07T00:00:00\",\"2018-05-08T00:00:00\",\"2018-05-09T00:00:00\",\"2018-05-10T00:00:00\",\"2018-05-11T00:00:00\",\"2018-05-14T00:00:00\",\"2018-05-15T00:00:00\",\"2018-05-16T00:00:00\",\"2018-05-17T00:00:00\",\"2018-05-18T00:00:00\",\"2018-05-21T00:00:00\",\"2018-05-22T00:00:00\",\"2018-05-23T00:00:00\",\"2018-05-24T00:00:00\",\"2018-05-25T00:00:00\",\"2018-05-29T00:00:00\",\"2018-05-30T00:00:00\",\"2018-05-31T00:00:00\",\"2018-06-01T00:00:00\",\"2018-06-04T00:00:00\",\"2018-06-05T00:00:00\",\"2018-06-06T00:00:00\",\"2018-06-07T00:00:00\",\"2018-06-08T00:00:00\",\"2018-06-11T00:00:00\",\"2018-06-12T00:00:00\",\"2018-06-13T00:00:00\",\"2018-06-14T00:00:00\",\"2018-06-15T00:00:00\",\"2018-06-18T00:00:00\",\"2018-06-19T00:00:00\",\"2018-06-20T00:00:00\",\"2018-06-21T00:00:00\",\"2018-06-22T00:00:00\",\"2018-06-25T00:00:00\",\"2018-06-26T00:00:00\",\"2018-06-27T00:00:00\",\"2018-06-28T00:00:00\",\"2018-06-29T00:00:00\",\"2018-07-02T00:00:00\",\"2018-07-03T00:00:00\",\"2018-07-05T00:00:00\",\"2018-07-06T00:00:00\",\"2018-07-09T00:00:00\",\"2018-07-10T00:00:00\",\"2018-07-11T00:00:00\",\"2018-07-12T00:00:00\",\"2018-07-13T00:00:00\",\"2018-07-16T00:00:00\",\"2018-07-17T00:00:00\",\"2018-07-18T00:00:00\",\"2018-07-19T00:00:00\",\"2018-07-20T00:00:00\",\"2018-07-23T00:00:00\",\"2018-07-24T00:00:00\",\"2018-07-25T00:00:00\",\"2018-07-26T00:00:00\",\"2018-07-27T00:00:00\",\"2018-07-30T00:00:00\",\"2018-07-31T00:00:00\",\"2018-08-01T00:00:00\",\"2018-08-02T00:00:00\",\"2018-08-03T00:00:00\",\"2018-08-06T00:00:00\",\"2018-08-07T00:00:00\",\"2018-08-08T00:00:00\",\"2018-08-09T00:00:00\",\"2018-08-10T00:00:00\",\"2018-08-13T00:00:00\",\"2018-08-14T00:00:00\",\"2018-08-15T00:00:00\",\"2018-08-16T00:00:00\",\"2018-08-17T00:00:00\",\"2018-08-20T00:00:00\",\"2018-08-21T00:00:00\",\"2018-08-22T00:00:00\",\"2018-08-23T00:00:00\",\"2018-08-24T00:00:00\",\"2018-08-27T00:00:00\",\"2018-08-28T00:00:00\",\"2018-08-29T00:00:00\",\"2018-08-30T00:00:00\",\"2018-08-31T00:00:00\",\"2018-09-04T00:00:00\",\"2018-09-05T00:00:00\",\"2018-09-06T00:00:00\",\"2018-09-07T00:00:00\",\"2018-09-10T00:00:00\",\"2018-09-11T00:00:00\",\"2018-09-12T00:00:00\",\"2018-09-13T00:00:00\",\"2018-09-14T00:00:00\",\"2018-09-17T00:00:00\",\"2018-09-18T00:00:00\",\"2018-09-19T00:00:00\",\"2018-09-20T00:00:00\",\"2018-09-21T00:00:00\",\"2018-09-24T00:00:00\",\"2018-09-25T00:00:00\",\"2018-09-26T00:00:00\",\"2018-09-27T00:00:00\",\"2018-09-28T00:00:00\",\"2018-10-01T00:00:00\",\"2018-10-02T00:00:00\",\"2018-10-03T00:00:00\",\"2018-10-04T00:00:00\",\"2018-10-05T00:00:00\",\"2018-10-08T00:00:00\",\"2018-10-09T00:00:00\",\"2018-10-10T00:00:00\",\"2018-10-11T00:00:00\",\"2018-10-12T00:00:00\",\"2018-10-15T00:00:00\",\"2018-10-16T00:00:00\",\"2018-10-17T00:00:00\",\"2018-10-18T00:00:00\",\"2018-10-19T00:00:00\",\"2018-10-22T00:00:00\",\"2018-10-23T00:00:00\",\"2018-10-24T00:00:00\",\"2018-10-25T00:00:00\",\"2018-10-26T00:00:00\",\"2018-10-29T00:00:00\",\"2018-10-30T00:00:00\",\"2018-10-31T00:00:00\",\"2018-11-01T00:00:00\",\"2018-11-02T00:00:00\",\"2018-11-05T00:00:00\",\"2018-11-06T00:00:00\",\"2018-11-07T00:00:00\",\"2018-11-08T00:00:00\",\"2018-11-09T00:00:00\",\"2018-11-12T00:00:00\",\"2018-11-13T00:00:00\",\"2018-11-14T00:00:00\",\"2018-11-15T00:00:00\",\"2018-11-16T00:00:00\",\"2018-11-19T00:00:00\",\"2018-11-20T00:00:00\",\"2018-11-21T00:00:00\",\"2018-11-23T00:00:00\",\"2018-11-26T00:00:00\",\"2018-11-27T00:00:00\",\"2018-11-28T00:00:00\",\"2018-11-29T00:00:00\",\"2018-11-30T00:00:00\",\"2018-12-03T00:00:00\",\"2018-12-04T00:00:00\",\"2018-12-06T00:00:00\",\"2018-12-07T00:00:00\",\"2018-12-10T00:00:00\",\"2018-12-11T00:00:00\",\"2018-12-12T00:00:00\",\"2018-12-13T00:00:00\",\"2018-12-14T00:00:00\",\"2018-12-17T00:00:00\",\"2018-12-18T00:00:00\",\"2018-12-19T00:00:00\",\"2018-12-20T00:00:00\",\"2018-12-21T00:00:00\",\"2018-12-24T00:00:00\",\"2018-12-26T00:00:00\",\"2018-12-27T00:00:00\",\"2018-12-28T00:00:00\",\"2018-12-31T00:00:00\",\"2019-01-02T00:00:00\",\"2019-01-03T00:00:00\",\"2019-01-04T00:00:00\",\"2019-01-07T00:00:00\",\"2019-01-08T00:00:00\",\"2019-01-09T00:00:00\",\"2019-01-10T00:00:00\",\"2019-01-11T00:00:00\",\"2019-01-14T00:00:00\",\"2019-01-15T00:00:00\",\"2019-01-16T00:00:00\",\"2019-01-17T00:00:00\",\"2019-01-18T00:00:00\",\"2019-01-22T00:00:00\",\"2019-01-23T00:00:00\",\"2019-01-24T00:00:00\",\"2019-01-25T00:00:00\",\"2019-01-28T00:00:00\",\"2019-01-29T00:00:00\",\"2019-01-30T00:00:00\",\"2019-01-31T00:00:00\",\"2019-02-01T00:00:00\",\"2019-02-04T00:00:00\",\"2019-02-05T00:00:00\",\"2019-02-06T00:00:00\",\"2019-02-07T00:00:00\",\"2019-02-08T00:00:00\",\"2019-02-11T00:00:00\",\"2019-02-12T00:00:00\",\"2019-02-13T00:00:00\",\"2019-02-14T00:00:00\",\"2019-02-15T00:00:00\",\"2019-02-19T00:00:00\",\"2019-02-20T00:00:00\",\"2019-02-21T00:00:00\",\"2019-02-22T00:00:00\",\"2019-02-25T00:00:00\",\"2019-02-26T00:00:00\",\"2019-02-27T00:00:00\",\"2019-02-28T00:00:00\",\"2019-03-01T00:00:00\",\"2019-03-04T00:00:00\",\"2019-03-05T00:00:00\",\"2019-03-06T00:00:00\",\"2019-03-07T00:00:00\",\"2019-03-08T00:00:00\",\"2019-03-11T00:00:00\",\"2019-03-12T00:00:00\",\"2019-03-13T00:00:00\",\"2019-03-14T00:00:00\",\"2019-03-15T00:00:00\",\"2019-03-18T00:00:00\",\"2019-03-19T00:00:00\",\"2019-03-20T00:00:00\",\"2019-03-21T00:00:00\",\"2019-03-22T00:00:00\",\"2019-03-25T00:00:00\",\"2019-03-26T00:00:00\",\"2019-03-27T00:00:00\",\"2019-03-28T00:00:00\",\"2019-03-29T00:00:00\",\"2019-04-01T00:00:00\",\"2019-04-02T00:00:00\",\"2019-04-03T00:00:00\",\"2019-04-04T00:00:00\",\"2019-04-05T00:00:00\",\"2019-04-08T00:00:00\",\"2019-04-09T00:00:00\",\"2019-04-10T00:00:00\",\"2019-04-11T00:00:00\",\"2019-04-12T00:00:00\",\"2019-04-15T00:00:00\",\"2019-04-16T00:00:00\",\"2019-04-17T00:00:00\",\"2019-04-18T00:00:00\",\"2019-04-22T00:00:00\",\"2019-04-23T00:00:00\",\"2019-04-24T00:00:00\",\"2019-04-25T00:00:00\",\"2019-04-26T00:00:00\",\"2019-04-29T00:00:00\",\"2019-04-30T00:00:00\",\"2019-05-01T00:00:00\",\"2019-05-02T00:00:00\",\"2019-05-03T00:00:00\",\"2019-05-06T00:00:00\",\"2019-05-07T00:00:00\",\"2019-05-08T00:00:00\",\"2019-05-09T00:00:00\",\"2019-05-10T00:00:00\",\"2019-05-13T00:00:00\",\"2019-05-14T00:00:00\",\"2019-05-15T00:00:00\",\"2019-05-16T00:00:00\",\"2019-05-17T00:00:00\",\"2019-05-20T00:00:00\",\"2019-05-21T00:00:00\",\"2019-05-22T00:00:00\",\"2019-05-23T00:00:00\",\"2019-05-24T00:00:00\",\"2019-05-28T00:00:00\",\"2019-05-29T00:00:00\",\"2019-05-30T00:00:00\",\"2019-05-31T00:00:00\",\"2019-06-03T00:00:00\",\"2019-06-04T00:00:00\",\"2019-06-05T00:00:00\",\"2019-06-06T00:00:00\",\"2019-06-07T00:00:00\",\"2019-06-10T00:00:00\",\"2019-06-11T00:00:00\",\"2019-06-12T00:00:00\",\"2019-06-13T00:00:00\",\"2019-06-14T00:00:00\",\"2019-06-17T00:00:00\",\"2019-06-18T00:00:00\",\"2019-06-19T00:00:00\",\"2019-06-20T00:00:00\",\"2019-06-21T00:00:00\",\"2019-06-24T00:00:00\",\"2019-06-25T00:00:00\",\"2019-06-26T00:00:00\",\"2019-06-27T00:00:00\",\"2019-06-28T00:00:00\",\"2019-07-01T00:00:00\",\"2019-07-02T00:00:00\",\"2019-07-03T00:00:00\",\"2019-07-05T00:00:00\",\"2019-07-08T00:00:00\",\"2019-07-09T00:00:00\",\"2019-07-10T00:00:00\",\"2019-07-11T00:00:00\",\"2019-07-12T00:00:00\",\"2019-07-15T00:00:00\",\"2019-07-16T00:00:00\",\"2019-07-17T00:00:00\",\"2019-07-18T00:00:00\",\"2019-07-19T00:00:00\",\"2019-07-22T00:00:00\",\"2019-07-23T00:00:00\",\"2019-07-24T00:00:00\",\"2019-07-25T00:00:00\",\"2019-07-26T00:00:00\",\"2019-07-29T00:00:00\",\"2019-07-30T00:00:00\",\"2019-07-31T00:00:00\",\"2019-08-01T00:00:00\",\"2019-08-02T00:00:00\",\"2019-08-05T00:00:00\",\"2019-08-06T00:00:00\",\"2019-08-07T00:00:00\",\"2019-08-08T00:00:00\",\"2019-08-09T00:00:00\",\"2019-08-12T00:00:00\",\"2019-08-13T00:00:00\",\"2019-08-14T00:00:00\",\"2019-08-15T00:00:00\",\"2019-08-16T00:00:00\",\"2019-08-19T00:00:00\",\"2019-08-20T00:00:00\",\"2019-08-21T00:00:00\",\"2019-08-22T00:00:00\",\"2019-08-23T00:00:00\",\"2019-08-26T00:00:00\",\"2019-08-27T00:00:00\",\"2019-08-28T00:00:00\",\"2019-08-29T00:00:00\",\"2019-08-30T00:00:00\",\"2019-09-03T00:00:00\",\"2019-09-04T00:00:00\",\"2019-09-05T00:00:00\",\"2019-09-06T00:00:00\",\"2019-09-09T00:00:00\",\"2019-09-10T00:00:00\",\"2019-09-11T00:00:00\",\"2019-09-12T00:00:00\",\"2019-09-13T00:00:00\",\"2019-09-16T00:00:00\",\"2019-09-17T00:00:00\",\"2019-09-18T00:00:00\",\"2019-09-19T00:00:00\",\"2019-09-20T00:00:00\",\"2019-09-23T00:00:00\",\"2019-09-24T00:00:00\",\"2019-09-25T00:00:00\",\"2019-09-26T00:00:00\",\"2019-09-27T00:00:00\",\"2019-09-30T00:00:00\",\"2019-10-01T00:00:00\",\"2019-10-02T00:00:00\",\"2019-10-03T00:00:00\",\"2019-10-04T00:00:00\",\"2019-10-07T00:00:00\",\"2019-10-08T00:00:00\",\"2019-10-09T00:00:00\",\"2019-10-10T00:00:00\",\"2019-10-11T00:00:00\",\"2019-10-14T00:00:00\",\"2019-10-15T00:00:00\",\"2019-10-16T00:00:00\",\"2019-10-17T00:00:00\",\"2019-10-18T00:00:00\",\"2019-10-21T00:00:00\",\"2019-10-22T00:00:00\",\"2019-10-23T00:00:00\",\"2019-10-24T00:00:00\",\"2019-10-25T00:00:00\",\"2019-10-28T00:00:00\",\"2019-10-29T00:00:00\",\"2019-10-30T00:00:00\",\"2019-10-31T00:00:00\",\"2019-11-01T00:00:00\",\"2019-11-04T00:00:00\",\"2019-11-05T00:00:00\",\"2019-11-06T00:00:00\",\"2019-11-07T00:00:00\",\"2019-11-08T00:00:00\",\"2019-11-11T00:00:00\",\"2019-11-12T00:00:00\",\"2019-11-13T00:00:00\",\"2019-11-14T00:00:00\",\"2019-11-15T00:00:00\",\"2019-11-18T00:00:00\",\"2019-11-19T00:00:00\",\"2019-11-20T00:00:00\",\"2019-11-21T00:00:00\",\"2019-11-22T00:00:00\",\"2019-11-25T00:00:00\",\"2019-11-26T00:00:00\",\"2019-11-27T00:00:00\",\"2019-11-29T00:00:00\",\"2019-12-02T00:00:00\",\"2019-12-03T00:00:00\",\"2019-12-04T00:00:00\",\"2019-12-05T00:00:00\",\"2019-12-06T00:00:00\",\"2019-12-09T00:00:00\",\"2019-12-10T00:00:00\",\"2019-12-11T00:00:00\",\"2019-12-12T00:00:00\",\"2019-12-13T00:00:00\",\"2019-12-16T00:00:00\",\"2019-12-17T00:00:00\",\"2019-12-18T00:00:00\",\"2019-12-19T00:00:00\",\"2019-12-20T00:00:00\",\"2019-12-23T00:00:00\",\"2019-12-24T00:00:00\",\"2019-12-26T00:00:00\",\"2019-12-27T00:00:00\",\"2019-12-30T00:00:00\",\"2019-12-31T00:00:00\",\"2020-01-02T00:00:00\",\"2020-01-03T00:00:00\",\"2020-01-06T00:00:00\",\"2020-01-07T00:00:00\",\"2020-01-08T00:00:00\",\"2020-01-09T00:00:00\",\"2020-01-10T00:00:00\",\"2020-01-13T00:00:00\",\"2020-01-14T00:00:00\",\"2020-01-15T00:00:00\",\"2020-01-16T00:00:00\",\"2020-01-17T00:00:00\",\"2020-01-21T00:00:00\",\"2020-01-22T00:00:00\",\"2020-01-23T00:00:00\",\"2020-01-24T00:00:00\",\"2020-01-27T00:00:00\",\"2020-01-28T00:00:00\",\"2020-01-29T00:00:00\",\"2020-01-30T00:00:00\",\"2020-01-31T00:00:00\",\"2020-02-03T00:00:00\",\"2020-02-04T00:00:00\",\"2020-02-05T00:00:00\",\"2020-02-06T00:00:00\",\"2020-02-07T00:00:00\",\"2020-02-10T00:00:00\",\"2020-02-11T00:00:00\",\"2020-02-12T00:00:00\",\"2020-02-13T00:00:00\",\"2020-02-14T00:00:00\",\"2020-02-18T00:00:00\",\"2020-02-19T00:00:00\",\"2020-02-20T00:00:00\",\"2020-02-21T00:00:00\",\"2020-02-24T00:00:00\",\"2020-02-25T00:00:00\",\"2020-02-26T00:00:00\",\"2020-02-27T00:00:00\",\"2020-02-28T00:00:00\",\"2020-03-02T00:00:00\",\"2020-03-03T00:00:00\",\"2020-03-04T00:00:00\",\"2020-03-05T00:00:00\",\"2020-03-06T00:00:00\",\"2020-03-09T00:00:00\",\"2020-03-10T00:00:00\",\"2020-03-11T00:00:00\",\"2020-03-12T00:00:00\",\"2020-03-13T00:00:00\",\"2020-03-16T00:00:00\",\"2020-03-17T00:00:00\",\"2020-03-18T00:00:00\",\"2020-03-19T00:00:00\",\"2020-03-20T00:00:00\",\"2020-03-23T00:00:00\",\"2020-03-24T00:00:00\",\"2020-03-25T00:00:00\",\"2020-03-26T00:00:00\",\"2020-03-27T00:00:00\",\"2020-03-30T00:00:00\",\"2020-03-31T00:00:00\",\"2020-04-01T00:00:00\",\"2020-04-02T00:00:00\",\"2020-04-03T00:00:00\",\"2020-04-06T00:00:00\",\"2020-04-07T00:00:00\",\"2020-04-08T00:00:00\",\"2020-04-09T00:00:00\",\"2020-04-13T00:00:00\",\"2020-04-14T00:00:00\",\"2020-04-15T00:00:00\",\"2020-04-16T00:00:00\",\"2020-04-17T00:00:00\",\"2020-04-20T00:00:00\",\"2020-04-21T00:00:00\",\"2020-04-22T00:00:00\",\"2020-04-23T00:00:00\",\"2020-04-24T00:00:00\",\"2020-04-27T00:00:00\",\"2020-04-28T00:00:00\",\"2020-04-29T00:00:00\",\"2020-04-30T00:00:00\",\"2020-05-01T00:00:00\",\"2020-05-04T00:00:00\",\"2020-05-05T00:00:00\",\"2020-05-06T00:00:00\",\"2020-05-07T00:00:00\",\"2020-05-08T00:00:00\",\"2020-05-11T00:00:00\",\"2020-05-12T00:00:00\",\"2020-05-13T00:00:00\",\"2020-05-14T00:00:00\",\"2020-05-15T00:00:00\",\"2020-05-18T00:00:00\",\"2020-05-19T00:00:00\",\"2020-05-20T00:00:00\",\"2020-05-21T00:00:00\",\"2020-05-22T00:00:00\",\"2020-05-26T00:00:00\",\"2020-05-27T00:00:00\",\"2020-05-28T00:00:00\",\"2020-05-29T00:00:00\",\"2020-06-01T00:00:00\",\"2020-06-02T00:00:00\",\"2020-06-03T00:00:00\",\"2020-06-04T00:00:00\",\"2020-06-05T00:00:00\",\"2020-06-08T00:00:00\",\"2020-06-09T00:00:00\",\"2020-06-10T00:00:00\",\"2020-06-11T00:00:00\",\"2020-06-12T00:00:00\",\"2020-06-15T00:00:00\",\"2020-06-16T00:00:00\",\"2020-06-17T00:00:00\",\"2020-06-18T00:00:00\",\"2020-06-19T00:00:00\",\"2020-06-22T00:00:00\",\"2020-06-23T00:00:00\",\"2020-06-24T00:00:00\",\"2020-06-25T00:00:00\",\"2020-06-26T00:00:00\",\"2020-06-29T00:00:00\",\"2020-06-30T00:00:00\",\"2020-07-01T00:00:00\",\"2020-07-02T00:00:00\",\"2020-07-06T00:00:00\",\"2020-07-07T00:00:00\",\"2020-07-08T00:00:00\",\"2020-07-09T00:00:00\",\"2020-07-10T00:00:00\",\"2020-07-13T00:00:00\",\"2020-07-14T00:00:00\",\"2020-07-15T00:00:00\",\"2020-07-16T00:00:00\",\"2020-07-17T00:00:00\",\"2020-07-20T00:00:00\",\"2020-07-21T00:00:00\",\"2020-07-22T00:00:00\",\"2020-07-23T00:00:00\",\"2020-07-24T00:00:00\",\"2020-07-27T00:00:00\",\"2020-07-28T00:00:00\",\"2020-07-29T00:00:00\",\"2020-07-30T00:00:00\",\"2020-07-31T00:00:00\",\"2020-08-03T00:00:00\",\"2020-08-04T00:00:00\",\"2020-08-05T00:00:00\",\"2020-08-06T00:00:00\",\"2020-08-07T00:00:00\",\"2020-08-10T00:00:00\",\"2020-08-11T00:00:00\",\"2020-08-12T00:00:00\",\"2020-08-13T00:00:00\",\"2020-08-14T00:00:00\",\"2020-08-17T00:00:00\",\"2020-08-18T00:00:00\",\"2020-08-19T00:00:00\",\"2020-08-20T00:00:00\",\"2020-08-21T00:00:00\",\"2020-08-24T00:00:00\",\"2020-08-25T00:00:00\",\"2020-08-26T00:00:00\",\"2020-08-27T00:00:00\",\"2020-08-28T00:00:00\",\"2020-08-31T00:00:00\",\"2020-09-01T00:00:00\",\"2020-09-02T00:00:00\",\"2020-09-03T00:00:00\",\"2020-09-04T00:00:00\",\"2020-09-08T00:00:00\",\"2020-09-09T00:00:00\",\"2020-09-10T00:00:00\",\"2020-09-11T00:00:00\",\"2020-09-14T00:00:00\",\"2020-09-15T00:00:00\",\"2020-09-16T00:00:00\",\"2020-09-17T00:00:00\",\"2020-09-18T00:00:00\",\"2020-09-21T00:00:00\",\"2020-09-22T00:00:00\",\"2020-09-23T00:00:00\",\"2020-09-24T00:00:00\",\"2020-09-25T00:00:00\",\"2020-09-28T00:00:00\",\"2020-09-29T00:00:00\",\"2020-09-30T00:00:00\",\"2020-10-01T00:00:00\",\"2020-10-02T00:00:00\",\"2020-10-05T00:00:00\",\"2020-10-06T00:00:00\",\"2020-10-07T00:00:00\",\"2020-10-08T00:00:00\",\"2020-10-09T00:00:00\",\"2020-10-12T00:00:00\",\"2020-10-13T00:00:00\",\"2020-10-14T00:00:00\",\"2020-10-15T00:00:00\",\"2020-10-16T00:00:00\",\"2020-10-19T00:00:00\",\"2020-10-20T00:00:00\",\"2020-10-21T00:00:00\",\"2020-10-22T00:00:00\",\"2020-10-23T00:00:00\",\"2020-10-26T00:00:00\",\"2020-10-27T00:00:00\",\"2020-10-28T00:00:00\",\"2020-10-29T00:00:00\",\"2020-10-30T00:00:00\",\"2020-11-02T00:00:00\",\"2020-11-03T00:00:00\",\"2020-11-04T00:00:00\",\"2020-11-05T00:00:00\",\"2020-11-06T00:00:00\",\"2020-11-09T00:00:00\",\"2020-11-10T00:00:00\",\"2020-11-11T00:00:00\",\"2020-11-12T00:00:00\",\"2020-11-13T00:00:00\",\"2020-11-16T00:00:00\",\"2020-11-17T00:00:00\",\"2020-11-18T00:00:00\",\"2020-11-19T00:00:00\",\"2020-11-20T00:00:00\",\"2020-11-23T00:00:00\",\"2020-11-24T00:00:00\",\"2020-11-25T00:00:00\",\"2020-11-27T00:00:00\",\"2020-11-30T00:00:00\",\"2020-12-01T00:00:00\",\"2020-12-02T00:00:00\",\"2020-12-03T00:00:00\",\"2020-12-04T00:00:00\",\"2020-12-07T00:00:00\",\"2020-12-08T00:00:00\",\"2020-12-09T00:00:00\",\"2020-12-10T00:00:00\",\"2020-12-11T00:00:00\",\"2020-12-14T00:00:00\",\"2020-12-15T00:00:00\",\"2020-12-16T00:00:00\",\"2020-12-17T00:00:00\",\"2020-12-18T00:00:00\",\"2020-12-21T00:00:00\",\"2020-12-22T00:00:00\",\"2020-12-23T00:00:00\",\"2020-12-24T00:00:00\",\"2020-12-28T00:00:00\",\"2020-12-29T00:00:00\",\"2020-12-30T00:00:00\",\"2020-12-31T00:00:00\",\"2021-01-04T00:00:00\",\"2021-01-05T00:00:00\",\"2021-01-06T00:00:00\",\"2021-01-07T00:00:00\",\"2021-01-08T00:00:00\",\"2021-01-11T00:00:00\",\"2021-01-12T00:00:00\",\"2021-01-13T00:00:00\",\"2021-01-14T00:00:00\",\"2021-01-15T00:00:00\",\"2021-01-19T00:00:00\",\"2021-01-20T00:00:00\",\"2021-01-21T00:00:00\",\"2021-01-22T00:00:00\",\"2021-01-25T00:00:00\",\"2021-01-26T00:00:00\",\"2021-01-27T00:00:00\",\"2021-01-28T00:00:00\",\"2021-01-29T00:00:00\",\"2021-02-01T00:00:00\",\"2021-02-02T00:00:00\",\"2021-02-03T00:00:00\",\"2021-02-04T00:00:00\",\"2021-02-05T00:00:00\",\"2021-02-08T00:00:00\",\"2021-02-09T00:00:00\",\"2021-02-10T00:00:00\",\"2021-02-11T00:00:00\",\"2021-02-12T00:00:00\",\"2021-02-16T00:00:00\",\"2021-02-17T00:00:00\",\"2021-02-18T00:00:00\",\"2021-02-19T00:00:00\",\"2021-02-22T00:00:00\",\"2021-02-23T00:00:00\",\"2021-02-24T00:00:00\",\"2021-02-25T00:00:00\",\"2021-02-26T00:00:00\",\"2021-03-01T00:00:00\",\"2021-03-02T00:00:00\",\"2021-03-03T00:00:00\",\"2021-03-04T00:00:00\",\"2021-03-05T00:00:00\",\"2021-03-08T00:00:00\",\"2021-03-09T00:00:00\",\"2021-03-10T00:00:00\",\"2021-03-11T00:00:00\",\"2021-03-12T00:00:00\",\"2021-03-15T00:00:00\",\"2021-03-16T00:00:00\",\"2021-03-17T00:00:00\",\"2021-03-18T00:00:00\",\"2021-03-19T00:00:00\",\"2021-03-22T00:00:00\",\"2021-03-23T00:00:00\",\"2021-03-24T00:00:00\",\"2021-03-25T00:00:00\",\"2021-03-26T00:00:00\",\"2021-03-29T00:00:00\",\"2021-03-30T00:00:00\",\"2021-03-31T00:00:00\",\"2021-04-01T00:00:00\",\"2021-04-05T00:00:00\",\"2021-04-06T00:00:00\",\"2021-04-07T00:00:00\",\"2021-04-08T00:00:00\",\"2021-04-09T00:00:00\",\"2021-04-12T00:00:00\",\"2021-04-13T00:00:00\",\"2021-04-14T00:00:00\",\"2021-04-15T00:00:00\",\"2021-04-16T00:00:00\",\"2021-04-19T00:00:00\",\"2021-04-20T00:00:00\",\"2021-04-21T00:00:00\",\"2021-04-22T00:00:00\",\"2021-04-23T00:00:00\",\"2021-04-26T00:00:00\",\"2021-04-27T00:00:00\",\"2021-04-28T00:00:00\",\"2021-04-29T00:00:00\",\"2021-04-30T00:00:00\",\"2021-05-03T00:00:00\",\"2021-05-04T00:00:00\",\"2021-05-05T00:00:00\",\"2021-05-06T00:00:00\",\"2021-05-07T00:00:00\",\"2021-05-10T00:00:00\",\"2021-05-11T00:00:00\",\"2021-05-12T00:00:00\",\"2021-05-13T00:00:00\",\"2021-05-14T00:00:00\",\"2021-05-17T00:00:00\",\"2021-05-18T00:00:00\",\"2021-05-19T00:00:00\",\"2021-05-20T00:00:00\",\"2021-05-21T00:00:00\",\"2021-05-24T00:00:00\",\"2021-05-25T00:00:00\",\"2021-05-26T00:00:00\",\"2021-05-27T00:00:00\",\"2021-05-28T00:00:00\",\"2021-06-01T00:00:00\",\"2021-06-02T00:00:00\",\"2021-06-03T00:00:00\",\"2021-06-04T00:00:00\",\"2021-06-07T00:00:00\",\"2021-06-08T00:00:00\",\"2021-06-09T00:00:00\",\"2021-06-10T00:00:00\",\"2021-06-11T00:00:00\",\"2021-06-14T00:00:00\"],\"xaxis\":\"x\",\"y\":[1.6916667222976685,1.6832501888275146,1.6748340129852295,1.6075043678283691,1.6622096300125122,1.65800142288208,1.628544569015503,1.6411688327789307,1.6411688327789307,1.6117122173309326,1.6075043678283691,1.630228042602539,1.65800142288208,1.6201282739639282,1.628544569015503,1.7185986042022705,1.758996844291687,1.7817209959030151,1.7842457294464111,1.7690962553024292,1.767412781715393,1.7127071619033813,1.624336838722229,1.5738388299942017,1.5166089534759521,1.578047275543213,1.624336838722229,1.6596850156784058,1.6815667152404785,1.7337480783462524,1.7000833749771118,1.6032960414886475,1.5687893629074097,1.565422773361206,1.5948799848556519,1.5561648607254028,1.5401737689971924,1.5948799848556519,1.5923547744750977,1.5570063591003418,1.535966157913208,1.562056303024292,1.5990878343582153,1.667259693145752,1.667259693145752,1.7059744596481323,1.6832501888275146,1.6453771591186523,1.6335945129394531,1.6327530145645142,1.6201282739639282,1.5906717777252197,1.6032960414886475,1.7253315448760986,1.7531051635742188,1.750580072402954,1.8305342197418213,1.8094940185546875,1.885240077972412,1.9231141805648804,1.8566253185272217,1.8094940185546875,1.750580072402954,1.670626163482666,1.7337480783462524,1.786769986152649,1.799394965171814,1.7253315448760986,1.788453459739685,1.8860819339752197,1.9744524955749512,2.037574529647827,1.986235499382019,1.9576201438903809,2.03589129447937,1.9567787647247314,1.9719281196594238,1.9567787647247314,1.9567787647247314,1.9315297603607178,1.8936561346054077,1.914697289466858,1.885240077972412,1.9323710203170776,1.8944982290267944,1.9374213218688965,1.895339846611023,1.9357383251190186,1.8431594371795654,1.767412781715393,1.7270148992538452,1.6815667152404785,1.5948799848556519,1.6832501888275146,1.7665716409683228,1.6613680124282837,1.5788887739181519,1.5570063591003418,1.5999295711517334,1.667259693145752,1.6411688327789307,1.6159203052520752,1.5511150360107422,1.4888347387313843,1.405513882637024,1.3625911474227905,1.354175090789795,1.3499670028686523,1.3280845880508423,1.3297678232192993,1.3466001749038696,1.4804190397262573,1.4290798902511597,1.4762107133865356,1.5401737689971924,1.5107172727584839,1.4728440046310425,1.4046721458435059,1.270854115486145,1.291894555091858,1.3289263248443604,1.337342381477356,1.2540215253829956,1.2834783792495728,1.3676408529281616,1.3760571479797363,1.4560112953186035,1.523341417312622,1.5931963920593262,1.6790424585342407,1.760680079460144,1.8052862882614136,1.7253315448760986,1.6622096300125122,1.7387977838516235,1.7345898151397705,1.758996844291687,1.8036030530929565,1.750580072402954,1.6832501888275146,1.565422773361206,1.6142373085021973,1.650426983833313,1.6874582767486572,1.7169156074523926,1.750580072402954,1.7169156074523926,1.6495850086212158,1.700924038887024,1.7185986042022705,1.6916667222976685,1.7068159580230713,1.6874582767486572,1.6748340129852295,1.634435772895813,1.6537936925888062,1.7379558086395264,1.7909783124923706,1.721123456954956,1.6832501888275146,1.6664172410964966,1.6117122173309326,1.6251782178878784,1.565422773361206,1.5906717777252197,1.4703197479248047,1.541015386581421,1.562897801399231,1.5772058963775635,1.6487435102462769,1.6411688327789307,1.6647344827651978,1.7127071619033813,1.7547885179519653,1.6133954524993896,1.678200364112854,1.7169156074523926,1.7127071619033813,1.561214566230774,1.5149257183074951,1.5149257183074951,1.5065090656280518,1.4837851524353027,1.5216585397720337,1.578047275543213,1.565422773361206,1.5544817447662354,1.4332876205444336,1.4644278287887573,1.5485901832580566,1.5990878343582153,1.5990878343582153,1.697558045387268,1.7034498453140259,1.6075043678283691,1.6201282739639282,1.6361192464828491,1.5570063591003418,1.562056303024292,1.5570063591003418,1.5713145732879639,1.565422773361206,1.5906717777252197,1.6041380167007446,1.5822547674179077,1.6201282739639282,1.6176035404205322,1.5275498628616333,1.5250247716903687,1.4484367370605469,1.523341417312622,1.3297678232192993,1.3466001749038696,1.2540215253829956,1.121044635772705,0.7843946814537048,0.7970191240310669,0.7911273837089539,0.7700868844985962,0.7742950916290283,0.7869194149971008,0.8189012408256531,0.8247925043106079,0.8180596232414246,0.8306840062141418,0.8315258622169495,0.8500416874885559,0.8542494773864746,0.8921228647232056,0.8736068606376648,0.8879144191741943,0.8332086205482483,0.8029102087020874,0.8037521839141846,0.8037521839141846,0.8121684193611145,0.8332086205482483,0.8205844163894653,0.7919692397117615,0.7574628591537476,0.7566210627555847,0.7574628591537476,0.7465215921401978,0.715381383895874,0.6951823830604553,0.7145399451255798,0.6943407654762268,0.6733000874519348,0.6665670871734619,0.6497344970703125,0.6387935280799866,0.6733000874519348,0.6665670871734619,0.6926574110984802,0.8584578037261963,0.875290036201477,0.8576160073280334,0.8921228647232056,0.8710821270942688,0.8677154779434204,0.8550910949707031,0.8635074496269226,0.8837063908576965,0.9072718620300293,0.875290036201477,0.8837063908576965,0.9089551568031311,0.9190546870231628,0.8921228647232056,0.9022223353385925,0.9257877469062805,0.9712355732917786,1.0183665752410889,1.0225744247436523,1.0183665752410889,1.0208914279937744,0.9931177496910095,1.0200495719909668,0.990592896938324,1.0015339851379395,1.0099501609802246,1.0099501609802246,1.0133167505264282,1.0099501609802246,1.0107917785644531,1.0250993967056274,1.008266806602478,1.0840131044387817,1.0899046659469604,1.0772802829742432,1.0570814609527588,1.0377238988876343,1.0452983379364014,1.0730719566345215,1.0562398433685303,1.0629725456237793,1.0419318675994873,1.0604476928710938,1.068864107131958,1.094112515449524,1.0436149835586548,1.0166831016540527,1.0335155725479126,1.0671806335449219,1.0057421922683716,0.9594526290893555,0.9476699233055115,1.0074255466461182,0.9880678653717041,1.117678165435791,1.0983209609985352,1.1185200214385986,1.1538680791854858,1.0966377258300781,1.1235696077346802,1.0932708978652954,1.094112515449524,1.046140193939209,1.0166831016540527,1.0394073724746704,0.9720771312713623,0.9889096021652222,1.0141584873199463,1.049506664276123,1.049506664276123,1.0545562505722046,1.063814401626587,1.0621309280395508,1.0604476928710938,1.0814884901046753,1.0856962203979492,1.0730719566345215,1.0730719566345215,1.0730719566345215,1.0697054862976074,1.0730719566345215,1.1101034879684448,1.1681758165359497,1.1673343181610107,1.139560580253601,1.1429270505905151,1.1025291681289673,1.1260946989059448,1.1109449863433838,1.0890628099441528,1.0562398433685303,1.0873795747756958,1.1101034879684448,1.1446101665496826,1.1193616390228271,1.1589179039001465,1.2279311418533325,1.2498133182525635,1.203523874282837,1.1824833154678345,1.2119401693344116,1.1883747577667236,1.1462936401367188,1.1361939907073975,1.1404021978378296,1.1109449863433838,1.1547096967697144,1.1159950494766235,1.1319859027862549,1.1361939907073975,1.186691403388977,1.1993155479431152,1.1908996105194092,1.1446101665496826,1.1387192010879517,1.1572346687316895,1.1277778148651123,1.1025291681289673,1.1058955192565918,1.0705474615097046,1.0654975175857544,1.0730719566345215,1.0814884901046753,1.1025291681289673,1.1109449863433838,1.094112515449524,1.205207347869873,1.243080496788025,1.316301703453064,1.3701658248901367,1.3886815309524536,1.3423922061920166,1.380265235900879,1.3886815309524536,1.3996226787567139,1.4560112953186035,1.495568037033081,1.5132421255111694,1.5149257183074951,1.5014592409133911,1.489676833152771,1.4509618282318115,1.4299215078353882,1.4147717952728271,1.4475953578948975,1.4181386232376099,1.4534865617752075,1.4433869123458862,1.4433869123458862,1.4122473001480103,1.4433869123458862,1.3785818815231323,1.3466001749038696,1.3676408529281616,1.3718491792678833,1.338183879852295,1.3676408529281616,1.3954144716262817,1.4038307666778564,1.4518035650253296,1.4518035650253296,1.4374958276748657,1.4728440046310425,1.4661107063293457,1.5511150360107422,1.5864633321762085,1.5923547744750977,1.5755221843719482,1.535966157913208,1.5191336870193481,1.515766978263855,1.4770519733428955,1.4316041469573975,1.352491855621338,1.4038307666778564,1.4602196216583252,1.430762767791748,1.430762767791748,1.4156135320663452,1.3146188259124756,1.335659146308899,1.405513882637024,1.4223464727401733,1.4139301776885986,1.401305913925171,1.4223464727401733,1.4534865617752075,1.405513882637024,1.3609079122543335,1.3466001749038696,1.275061845779419,1.29694402217865,1.3651158809661865,1.3609079122543335,1.386156439781189,1.3575413227081299,1.3600664138793945,1.3592246770858765,1.3457581996917725,1.2834783792495728,1.2876865863800049,1.2506550550460815,1.2371890544891357,1.2346638441085815,1.203523874282837,1.2169899940490723,1.2876865863800049,1.274220585823059,1.2127820253372192,1.2573878765106201,1.2371890544891357,1.275061845779419,1.295261263847351,1.2658042907714844,1.3238762617111206,1.2615959644317627,1.2674875259399414,1.2961026430130005,1.3070437908172607,1.29694402217865,1.2733789682388306,1.3516499996185303,1.5149257183074951,1.4349708557128906,1.562897801399231,1.5124003887176514,1.5115587711334229,1.499776005744934,1.4795769453048706,1.4644278287887573,1.4728440046310425,1.4644278287887573,1.4694774150848389,1.4484367370605469,1.4299215078353882,1.4425456523895264,1.4349708557128906,1.3928896188735962,1.3886815309524536,1.3970977067947388,1.3760571479797363,1.3710075616836548,1.3735322952270508,1.3886815309524536,1.4661107063293457,1.4139301776885986,1.4475953578948975,1.4728440046310425,1.4728440046310425,1.4459123611450195,1.541015386581421,1.5191336870193481,1.5199750661849976,1.5149257183074951,1.498934030532837,1.5679477453231812,1.5696308612823486,1.555323839187622,1.5696308612823486,1.562056303024292,1.5275498628616333,1.539332628250122,1.515766978263855,1.523341417312622,1.4980928897857666,1.492201566696167,1.4366540908813477,1.4189800024032593,1.5065090656280518,1.4795769453048706,1.4450706243515015,1.4198216199874878,1.4080390930175781,1.4366540908813477,1.3895230293273926,1.430762767791748,1.4299215078353882,1.4518035650253296,1.471160650253296,1.5258665084838867,1.5115587711334229,1.5166089534759521,1.5090341567993164,1.5452239513397217,1.5536404848098755,1.5485901832580566,1.5418568849563599,1.5502737760543823,1.5527983903884888,1.5107172727584839,1.5073506832122803,1.539332628250122,1.5334413051605225,1.5376490354537964,1.5140835046768188,1.5561648607254028,1.5603734254837036,1.5275498628616333,1.5283913612365723,1.5384907722473145,1.5140835046768188,1.4938846826553345,1.4821020364761353,1.495568037033081,1.5300748348236084,1.5216585397720337,1.5191336870193481,1.4812605381011963,1.4475953578948975,1.4728440046310425,1.4593782424926758,1.4518035650253296,1.4366540908813477,1.3912065029144287,1.3255596160888672,1.3045190572738647,1.2902114391326904,1.2961026430130005,1.295261263847351,1.2961026430130005,1.3213515281677246,1.3238762617111206,1.3146188259124756,1.3062022924423218,1.3095688819885254,1.2876865863800049,1.3120933771133423,1.3423922061920166,1.3423922061920166,1.352491855621338,1.3314509391784668,1.29694402217865,1.2961026430130005,1.3280845880508423,1.3053607940673828,1.2649630308151245,1.2624375820159912,1.22372305393219,1.2489715814590454,1.2397139072418213,1.270854115486145,1.2632793188095093,1.2540215253829956,1.2809535264968872,1.2456053495407104,1.2506550550460815,1.2413969039916992,1.227089524269104,1.2371890544891357,1.2456053495407104,1.2624375820159912,1.274220585823059,1.275061845779419,1.2700122594833374,1.266645908355713,1.2456053495407104,1.2775870561599731,1.3062022924423218,1.291894555091858,1.2254064083099365,1.226247787475586,1.286845088005066,1.2716954946517944,1.295261263847351,1.2961026430130005,1.3196680545806885,1.2876865863800049,1.2792702913284302,1.258229374885559,1.2624375820159912,1.25149667263031,1.2700122594833374,1.2658042907714844,1.2548632621765137,1.2624375820159912,1.3297678232192993,1.3508082628250122,1.408880352973938,1.4433869123458862,1.430762767791748,1.4080390930175781,1.427396297454834,1.430762767791748,1.4198216199874878,1.4299215078353882,1.4400206804275513,1.410563588142395,1.4257127046585083,1.4560112953186035,1.452644944190979,1.4585365056991577,1.4341295957565308,1.452644944190979,1.4509618282318115,1.4585365056991577,1.468636155128479,1.475368857383728,1.4964091777801514,1.578047275543213,1.523341417312622,1.5570063591003418,1.5317574739456177,1.5023009777069092,1.535966157913208,1.5081921815872192,1.4964091777801514,1.5292329788208008,1.5578484535217285,1.5923547744750977,1.6790424585342407,1.7026076316833496,1.67399263381958,1.5923547744750977,1.5755221843719482,1.609187364578247,1.6159203052520752,1.5864633321762085,1.5527983903884888,1.6066625118255615,1.6075043678283691,1.5931963920593262,1.610870599746704,1.6394855976104736,1.6218116283416748,1.6159203052520752,1.6369611024856567,1.6840919256210327,1.6748340129852295,1.6487435102462769,1.667259693145752,1.6883001327514648,1.679883599281311,1.7084989547729492,1.8120191097259521,1.9231141805648804,1.850733995437622,1.8010778427124023,1.800235629081726,1.9778192043304443,1.948362112045288,1.877665638923645,1.851575493812561,1.8431594371795654,1.7286986112594604,1.6655759811401367,1.7337480783462524,1.8078110218048096,1.8263269662857056,1.7968696355819702,1.7749871015548706,1.7758288383483887,1.7724632024765015,1.767412781715393,1.7707794904708862,1.7758288383483887,1.8027608394622803,1.8027608394622803,1.8221185207366943,1.8094940185546875,1.786769986152649,1.7892946004867554,1.806969165802002,1.7800370454788208,1.7690962553024292,1.7842457294464111,1.8456840515136719,1.8061270713806152,1.7943451404571533,1.8726160526275635,1.8793492317199707,1.8902899026870728,1.8818743228912354,1.8120191097259521,1.792661190032959,1.7909783124923706,1.7800370454788208,1.6453771591186523,1.6327530145645142,1.6117122173309326,1.6024543046951294,1.5974047183990479,1.6032960414886475,1.6260197162628174,1.6293866634368896,1.6133954524993896,1.6075043678283691,1.5721557140350342,1.5729973316192627,1.609187364578247,1.6192870140075684,1.5822547674179077,1.6066625118255615,1.6218116283416748,1.6866167783737183,1.650426983833313,1.6546353101730347,1.6411688327789307,1.6411688327789307,1.609187364578247,1.5923547744750977,1.6117122173309326,1.6201282739639282,1.6571600437164307,1.65800142288208,1.663051724433899,1.6436940431594849,1.574681043624878,1.5856218338012695,1.565422773361206,1.6184453964233398,1.6335945129394531,1.7059744596481323,1.7068159580230713,1.7127071619033813,1.74132239818573,1.7514219284057617,1.7278563976287842,1.7051323652267456,1.7084989547729492,1.7076573371887207,1.6546353101730347,1.7834038734436035,1.750580072402954,1.769938349723816,1.7690962553024292,1.7345898151397705,1.6411688327789307,1.8473676443099976,1.8978642225265503,1.9710865020751953,1.8995475769042969,1.9121724367141724,1.8650411367416382,1.8322173357009888,1.8330600261688232,1.8608332872390747,1.8456840515136719,1.850733995437622,1.8330600261688232,1.8103357553482056,1.8473676443099976,1.811177372932434,1.7598381042480469,1.8187521696090698,1.995492935180664,2.0283169746398926,1.9710865020751953,2.0131676197052,1.9904437065124512,2.050198793411255,2.0687143802642822,2.0594563484191895,2.064507246017456,2.071239709854126,2.1579267978668213,2.146143913269043,2.116687536239624,2.1713924407958984,2.1739182472229004,2.167184829711914,2.1596105098724365,2.165501594543457,2.1713924407958984,2.1453020572662354,2.1604511737823486,2.2050583362579346,2.2866952419281006,2.358233690261841,2.358233690261841,2.401998519897461,2.5038349628448486,2.4062063694000244,2.480268955230713,2.513934373855591,2.454179048538208,2.5282421112060547,2.533291816711426,2.6157705783843994,2.7378063201904297,2.695725202560425,2.625870704650879,2.7176079750061035,2.758004903793335,2.7436983585357666,2.725182294845581,2.82112717628479,2.7765214443206787,2.783254384994507,2.7260239124298096,2.697408437728882,2.7352817058563232,2.7352817058563232,2.7016165256500244,2.6578526496887207,2.728548765182495,2.7327561378479004,2.7529561519622803,2.7613720893859863,2.784937858581543,2.8303849697113037,2.8800413608551025,2.959153890609741,2.9852442741394043,3.0046019554138184,2.986086368560791,2.9768283367156982,2.961679220199585,2.944004774093628,2.944004774093628,2.9692540168762207,2.947371244430542,2.89855694770813,2.8766746520996094,2.8657333850860596,2.942321300506592,2.9751439094543457,2.8909823894500732,2.8707830905914307,2.9204392433166504,2.887615919113159,2.8169198036193848,2.7100331783294678,2.710874557495117,2.768946647644043,2.772312879562378,2.7352817058563232,2.642703056335449,2.655327081680298,2.530766725540161,2.478586435317993,2.721815824508667,2.775679588317871,2.882566452026367,2.9355885982513428,2.903607130050659,2.8993985652923584,2.8623669147491455,2.8404855728149414,2.804295301437378,2.8404855728149414,2.8194446563720703,2.8472182750701904,3.0062849521636963,3.049208641052246,3.0306925773620605,3.0416324138641357,3.060149669647217,3.0500495433807373,3.0887651443481445,3.0163843631744385,3.03153395652771,3.0281670093536377,2.971778154373169,2.7874624729156494,2.811027765274048,2.8446929454803467,2.8017706871032715,2.753797769546509,2.7647385597229004,2.7016165256500244,2.6485936641693115,2.6065120697021484,2.6494364738464355,2.6940419673919678,2.6090381145477295,2.583789110183716,2.629237651824951,2.6006217002868652,2.5879976749420166,2.580422878265381,2.604829788208008,2.655327081680298,2.763897180557251,2.8581597805023193,2.8648922443389893,2.8691000938415527,2.921281576156616,3.0020766258239746,2.8514254093170166,2.7807295322418213,2.901923656463623,2.986086368560791,2.996185779571533,3.050891160964966,3.1131715774536133,3.0618321895599365,3.130845546722412,3.062673807144165,3.110647678375244,3.095496892929077,3.022275924682617,3.0391082763671875,2.991136074066162,2.9835615158081055,3.0062849521636963,3.052574396133423,3.1813435554504395,3.078665256500244,2.984403133392334,3.0752980709075928,2.9608380794525146,2.9448471069335938,2.8312270641326904,2.828701972961426,2.9625210762023926,2.9355885982513428,2.945688009262085,2.890141248703003,2.916231393814087,2.8573172092437744,2.874150514602661,2.769788980484009,2.770629644393921,2.6603775024414062,2.6544857025146484,2.5980968475341797,2.5627481937408447,2.5913641452789307,2.5703234672546387,2.577897548675537,2.5980968475341797,2.652801990509033,2.673001766204834,2.678051233291626,2.7192912101745605,2.8152360916137695,3.140104055404663,3.241941213607788,3.2259490489959717,3.257089138031006,3.2974870204925537,3.2436232566833496,3.2267909049987793,3.2208988666534424,3.2032246589660645,3.2562472820281982,3.2082760334014893,3.206592082977295,3.206592082977295,3.224266529083252,3.2587733268737793,3.2941207885742188,3.328627347946167,3.3925909996032715,3.5508170127868652,3.539876699447632,3.582798957824707,3.6274044513702393,3.5255680084228516,3.513784885406494,3.405215263366699,3.4068996906280518,3.382491111755371,3.4111061096191406,3.419523239135742,3.5095770359039307,3.463287830352783,3.409423351287842,3.4540297985076904,3.363133430480957,3.370708465576172,3.386699676513672,3.369025468826294,3.448979616165161,3.3917505741119385,3.4506630897521973,3.4329888820648193,3.3614511489868164,3.2612977027893066,3.21921706199646,3.2655060291290283,3.292438268661499,3.403531312942505,3.3488261699676514,3.3749165534973145,3.4590795040130615,3.484328508377075,3.7873122692108154,3.8243448734283447,3.8024630546569824,3.939648389816284,3.9455389976501465,3.900932788848877,3.9556384086608887,3.9556384086608887,3.9674198627471924,3.910191059112549,4.0431671142578125,4.096189022064209,4.12312126159668,4.1214399337768555,4.095347881317139,3.9539551734924316,3.9648964405059814,3.9438562393188477,3.9219722747802734,3.9371235370635986,3.9615299701690674,3.9994020462036133,3.954796314239502,3.935438871383667,3.9388058185577393,3.987619400024414,3.9850940704345703,3.972470998764038,4.006135940551758,4.04148530960083,4.037276268005371,3.990985870361328,4.058316230773926,3.9951953887939453,4.002769947052002,3.9059829711914062,3.779737949371338,3.6989424228668213,3.6560189723968506,3.728398561477661,3.7536470890045166,3.8192942142486572,3.7847883701324463,3.646761655807495,3.639186382293701,3.539034128189087,3.658543586730957,3.6678028106689453,3.549974203109741,3.613938331604004,3.697258472442627,3.655177354812622,3.448138952255249,3.5078928470611572,3.4717040061950684,3.446455955505371,3.484328508377075,3.3749165534973145,3.325260877609253,3.3984830379486084,3.4717040061950684,3.318527936935425,3.191441774368286,3.087080717086792,3.2335236072540283,3.0980234146118164,3.1704013347625732,3.1249544620513916,3.095496892929077,3.125795602798462,3.2958037853240967,3.534825563430786,3.3471436500549316,3.268871545791626,3.3000128269195557,3.204908609390259,3.114854097366333,3.1409451961517334,3.106438398361206,3.31095290184021,3.2772881984710693,3.1704013347625732,3.3193700313568115,3.4439291954040527,3.271397352218628,3.1872339248657227,3.2890708446502686,3.3892250061035156,3.438880443572998,3.4380388259887695,3.5533411502838135,3.5020015239715576,3.4060568809509277,3.6114120483398438,3.737656593322754,3.728398561477661,3.7620654106140137,3.732607841491699,3.6854774951934814,3.750281810760498,3.9093494415283203,3.8807342052459717,3.8975670337677,3.9556384086608887,3.804985761642456,3.7393407821655273,3.624880075454712,3.6703269481658936,3.672851085662842,3.5541832447052,3.523042917251587,3.582798957824707,3.6282460689544678,3.669484853744507,3.6762187480926514,3.640869617462158,3.7183008193969727,3.6745359897613525,3.677060604095459,3.766272783279419,3.837810516357422,3.97920298576355,4.035593509674072,3.970787763595581,4.0103440284729,4.052425384521484,4.037276268005371,4.070940971374512,4.111339092254639,3.9665796756744385,4.038117408752441,4.0608415603637695,3.973313570022583,3.925339460372925,3.89504075050354,3.8807342052459717,3.982569456100464,4.038117408752441,4.059157371520996,4.006977081298828,4.044009208679199,4.0389604568481445,4.128170967102051,4.2308502197265625,4.352886199951172,4.356251239776611,4.304913520812988,4.290604114532471,4.315012454986572,4.313329696655273,4.384025573730469,4.283872604370117,4.1811933517456055,4.339419364929199,4.346152305603027,4.283029556274414,4.297338485717773,4.215700149536133,4.233375072479248,4.504378795623779,4.482494831085205,4.463980197906494,4.483336925506592,4.375608921051025,4.400858402252197,4.400858402252197,4.469029426574707,4.437889099121094,4.39917516708374,4.354569435119629,4.305755138397217,4.460613250732422,4.657553672790527,4.7678070068359375,4.629779815673828,4.5784406661987305,4.64577054977417,4.717308521270752,4.677752494812012,4.735825538635254,4.776222229003906,4.836820125579834,4.814095497131348,4.8637518882751465,4.816620349884033,4.746765613555908,4.736666679382324,4.796422004699707,4.763598442077637,4.6676530838012695,4.633147716522217,4.642404556274414,4.6701788902282715,4.649979114532471,4.630622863769531,4.688694000244141,4.695426940917969,4.6381964683532715,4.6205220222473145,4.66344690322876,4.6701788902282715,4.586857318878174,4.742558002471924,4.766963005065918,4.883109092712402,4.851128101348877,4.855334758758545,4.844395160675049,4.784638404846191,4.715624809265137,4.633147716522217,4.622206687927246,4.692902088165283,4.5161614418029785,4.397490501403809,4.467346668243408,4.438731670379639,4.496802806854248,4.531308650970459,4.536359786987305,4.460613250732422,4.438731670379639,4.520367622375488,4.481653690338135,4.505218982696533,4.463980197906494,4.512794017791748,4.5380425453186035,4.5220513343811035,4.522894382476807,4.537201881408691,4.65587043762207,4.570865631103516,4.530468463897705,4.492595195770264,4.388233184814453,4.4084320068359375,4.3907575607299805,4.316695213317871,4.30322790145874,4.358776569366455,4.359618663787842,4.5245771408081055,4.561608791351318,4.614630699157715,4.5380425453186035,4.483336925506592,4.558242321014404,4.4984869956970215,4.5801239013671875,4.654186725616455,4.650821685791016,4.598639011383057,4.600322723388672,4.708050727844238,5.2450079917907715,5.487396717071533,5.45709753036499,5.4823455810546875,5.542943000793457,5.586707592010498,5.551359176635742,5.608590602874756,5.571558475494385,5.733150482177734,5.780282497406006,5.707901954650879,5.687703609466553,5.694436550140381,5.714634418487549,5.64225435256958,5.559775352478027,5.731466770172119,5.882960796356201,5.748301029205322,5.692751884460449,5.728100299835205,5.657403945922852,5.583340167999268,5.638889312744141,5.689385890960693,5.6540374755859375,5.596807956695557,5.606907367706299,5.6321563720703125,5.638889312744141,5.541259288787842,5.494129180908203,5.551359176635742,5.768499851226807,5.9334588050842285,5.992371559143066,5.990688323974609,6.244858264923096,6.342487335205078,6.034451484680176,5.926724433898926,6.024352073669434,6.06306791305542,6.130396842956543,6.224659442901611,6.342487335205078,6.440116882324219,6.419917106628418,6.295355319976807,6.130396842956543,6.273475646972656,6.212876796722412,6.120299339294434,6.231393814086914,6.271790981292725,6.600025653839111,6.763298034667969,6.741416931152344,6.667353630065918,6.741416931152344,6.743101596832275,6.729635715484619,6.650521755218506,6.796966075897217,6.719534397125244,6.581508636474609,6.766666889190674,6.808749198913574,6.987170219421387,6.993903636932373,7.28005838394165,7.091536045074463,7.027569770812988,7.140347957611084,7.069651126861572,7.08143424987793,7.004003047943115,7.086482048034668,7.014104843139648,7.0578694343566895,6.916475772857666,7.004003047943115,7.0713348388671875,6.911425590515137,6.800333499908447,6.854195594787598,6.7919158935546875,6.749833106994629,6.987170219421387,6.657254695892334,6.833995819091797,7.197579860687256,7.413034915924072,6.892911911010742,6.712801456451416,6.849146842956543,6.744785785675049,6.655572414398193,6.561310291290283,6.716169834136963,7.0157856941223145,7.231244087219238,7.3086724281311035,7.987020492553711,8.320307731628418,8.199113845825195,7.813648223876953,8.355652809143066,8.21930980682373,8.43981647491455,8.60645580291748,8.360701560974121,8.42466926574707,8.114950180053711,8.215943336486816,8.446550369262695,8.475165367126465,8.384272575378418,8.72933578491211,8.651907920837402,8.788249015808105,8.990240097045898,9.172030448913574,9.305008888244629,9.454817771911621,9.599575996398926,9.894146919250488,9.559178352355957,9.485116004943848,9.451448440551758,9.695521354675293,9.528878211975098,9.195596694946289,9.547395706176758,9.535614013671875,9.88236141204834,9.926127433776855,9.60294246673584,9.661857604980469,9.766218185424805,9.783050537109375,9.8486967086792,9.828497886657715,9.550763130187988,9.554128646850586,10.107916831970215,9.784734725952148,9.528878211975098,9.668587684631348,9.808300018310547,9.678689956665039,9.968209266662598,9.737602233886719,9.515411376953125,9.59115982055664,9.878996849060059,9.496899604797363,9.392536163330078,8.884193420410156,8.752900123596191,9.161931991577148,9.067668914794922,9.41441822052002,9.257877349853516,8.91954517364502,8.586258888244629,8.301791191101074,8.441502571105957,8.665371894836426,8.944793701171875,9.387486457824707,9.40263557434082,9.670271873474121,9.695521354675293,9.629876136779785,9.74601936340332,10.040587425231934,10.230794906616211,10.09950065612793,9.783050537109375,9.867216110229492,9.687106132507324,9.798199653625488,9.788102149963379,10.261094093322754,10.262777328491211,10.452981948852539,10.343572616577148,10.654975891113281,10.584278106689453,10.469817161560059,10.486649513244629,10.454668045043945,10.149998664855957,10.118019104003906,9.6012601852417,9.513731002807617,9.443034172058105,9.276392936706543,8.79835033416748,8.773101806640625,9.040735244750977,8.552596092224121,8.636759757995605,8.369121551513672,8.301791191101074,8.495365142822266,8.76131820678711,8.823598861694336,8.348919868469238,8.508830070495605,8.360701560974121,8.261392593383789,8.678838729858398,8.840431213378906,8.752900123596191,8.308525085449219,8.29505729675293,8.276541709899902,8.45665168762207,8.45665168762207,8.264759063720703,7.965138912200928,7.702553749084473,8.017321586608887,7.887712478637695,7.699187278747559,7.741268634796143,7.7883992195129395,7.753052711486816,7.929792881011963,7.980290412902832,7.584725856781006,7.130249500274658,7.194211006164551,7.338969707489014,7.613339424133301,7.298572540283203,7.184112071990967,7.29352331161499,7.889396667480469,7.785030841827393,7.939891338348389,8.256341934204102,7.911276817321777,8.172181129455566,7.907910346984863,8.446550369262695,9.087867736816406,9.064300537109375,8.917859077453613,9.08955192565918,8.73438549041748,8.704086303710938,9.370652198791504,9.370652198791504,9.493531227111816,9.496899604797363,9.436301231384277,9.316789627075195,9.037371635437012,9.2898588180542,9.18044662475586,9.239361763000488,9.400952339172363,9.537297248840332,9.6012601852417,9.533926010131836,9.353821754455566,9.232627868652344,9.293224334716797,9.42115592956543,9.456500053405762,9.278075218200684,9.195596694946289,9.264609336853027,9.491848945617676,9.087867736816406,8.87914752960205,9.07271957397461,8.783199310302734,8.594676971435547,8.623291015625,9.106382369995117,9.190545082092285,9.252829551696777,9.333623886108398,9.067668914794922,8.786567687988281,8.682206153869629,8.55764389038086,8.222678184509277,8.310206413269043,8.332088470458984,8.465065956115723,8.2799072265625,8.348919868469238,8.274857521057129,8.15198040008545,7.975238800048828,8.005539894104004,7.574624538421631,7.714336395263672,7.512345314025879,7.155498027801514,7.224508285522461,7.492145538330078,8.069500923156738,7.887712478637695,7.852363109588623,8.069500923156738,7.645321846008301,7.699187278747559,7.641958236694336,7.746318817138672,7.327188014984131,7.209361553192139,6.800333499908447,6.859245300292969,6.80201530456543,6.527645111083984,6.625273704528809,6.852514266967773,6.628640174865723,6.551209926605225,6.611808776855469,6.778450012207031,6.936675071716309,7.195896148681641,7.29352331161499,7.616707801818848,7.246393203735352,7.312037944793701,7.445016384124756,7.163913249969482,6.992222785949707,6.830629348754883,6.985488414764404,6.90469217300415,6.818846702575684,6.7043867111206055,6.63705587387085,7.221145153045654,7.200942516326904,6.972021102905273,7.443333148956299,7.7042365074157715,7.599876403808594,7.441651344299316,7.478681564331055,7.273324012756348,7.436601638793945,7.413034915924072,7.32550573348999,7.318772315979004,7.433232307434082,7.281739234924316,7.2564921379089355,7.2548089027404785,7.421449661254883,7.384420871734619,7.6385884284973145,7.38947057723999,7.394516944885254,7.344020843505859,7.453432559967041,7.330554962158203,7.197579860687256,7.187478542327881,6.936675071716309,6.547844409942627,6.746467113494873,6.329019069671631,6.478830814361572,6.345853328704834,6.106832027435303,5.881278991699219,5.824045181274414,6.066435813903809,6.086634159088135,5.756716251373291,5.758400917053223,6.066435813903809,6.027719020843506,5.938508033752441,5.741566181182861,5.175995349884033,5.085099697113037,4.8965744972229,4.898258209228516,5.64225435256958,5.110348224639893,4.6676530838012695,5.186094760894775,5.359468936920166,5.586707592010498,5.127181053161621,4.7518157958984375,4.556558132171631,4.331003189086914,4.243474006652832,4.86627721786499,4.953806400299072,4.953806400299072,4.610422611236572,4.539726257324219,4.6710205078125,4.255257606506348,4.007819175720215,4.224959373474121,4.120596408843994,3.940488576889038,3.7098844051361084,4.179510116577148,3.918606758117676,3.829394578933716,3.7384984493255615,3.4607622623443604,2.945688009262085,3.026484251022339,3.401848077774048,3.479278564453125,3.703150987625122,3.6779017448425293,3.257089138031006,3.199859142303467,3.172926664352417,3.396799087524414,3.5802741050720215,4.20812463760376,3.910191059112549,4.054949760437012,3.84454345703125,4.061683177947998,3.8916752338409424,4.324270248413086,4.320902347564697,4.105447292327881,4.140795707702637,3.89504075050354,3.733449697494507,3.9236557483673096,3.89504075050354,3.694735288619995,3.7267162799835205,3.6459200382232666,3.9034578800201416,4.0111846923828125,3.959005832672119,3.805828809738159,4.305755138397217,4.398333549499512,4.287238121032715,4.147528648376465,3.9438562393188477,4.0111846923828125,4.154262542724609,3.8798928260803223,4.112181186676025,4.095347881317139,4.3444695472717285,4.470712661743164,4.438731670379639,4.736666679382324,4.430314064025879,4.1710944175720215,4.2855544090271,4.312488079071045,4.3747687339782715,4.563292503356934,4.714784145355225,4.615472316741943,4.5279436111450195,4.462296485900879,4.543093681335449,4.418531894683838,4.211492538452148,4.186243534088135,4.482494831085205,4.490911483764648,4.413483619689941,4.605372428894043,4.765280246734619,4.54477596282959,4.531308650970459,4.391599655151367,4.373083591461182,4.595272541046143,3.9489049911499023,3.7671139240264893,3.854644775390625,4.243474006652832,4.251890182495117,4.275456428527832,4.319221019744873,4.108814239501953,4.199710369110107,4.179510116577148,4.27882194519043,4.1828765869140625,4.480813503265381,4.553191184997559,4.517843246459961,4.411799430847168,4.68448543548584,4.556558132171631,4.716467380523682,4.746765613555908,5.066583633422852,5.012720108032227,4.81746244430542,4.923506259918213,5.10698127746582,5.45709753036499,5.435215950012207,5.300555229187012,5.369568824768066,4.999253273010254,4.852809429168701,4.780431747436523,5.016086101531982,5.026185989379883,5.133913516998291,5.270256519317627,5.130547046661377,4.994202613830566,5.0649003982543945,5.076683521270752,4.938655376434326,4.938655376434326,4.8965744972229,4.630622863769531,4.529627323150635,4.398333549499512,4.487545013427734,4.418531894683838,4.319221019744873,4.371400833129883,4.455563068389893,4.423582077026367,4.346152305603027,4.455563068389893,3.7671139240264893,3.7957284450531006,3.9320733547210693,3.704833745956421,3.9606871604919434,4.199710369110107,4.342784881591797,4.093663692474365,4.06841516494751,4.115546226501465,4.021285533905029,4.095347881317139,4.20812463760376,4.199710369110107,4.142479419708252,4.059998989105225,3.984253406524658,3.8697919845581055,3.9118738174438477,3.837810516357422,3.8630595207214355,3.6964175701141357,3.6795856952667236,3.6745359897613525,3.7384984493255615,3.7317652702331543,3.7317652702331543,3.704833745956421,3.7805798053741455,3.5466086864471436,3.5415589809417725,3.4439291954040527,3.5247268676757812,3.48264479637146,3.4405627250671387,3.539876699447632,3.640869617462158,3.6425530910491943,3.728398561477661,3.6964175701141357,3.7603812217712402,3.8580098152160645,3.975837469100952,4.022968769073486,4.06505012512207,3.9606871604919434,3.837810516357422,3.681269407272339,3.615622043609619,3.684634208679199,3.8479108810424805,4.11049747467041,4.06505012512207,4.1273298263549805,4.235057830810547,4.066732406616211,4.157629489898682,4.315853595733643,4.4319987297058105,4.450514316558838,4.223275184631348,4.1306962966918945,4.238424301147461,3.940488576889038,3.893357753753662,3.7974135875701904,3.7755298614501953,3.7974135875701904,3.874842643737793,3.950587272644043,4.006135940551758,3.925339460372925,3.9489049911499023,4.0313849449157715,4.049900054931641,4.196343898773193,4.216541290283203,4.211492538452148,4.157629489898682,4.307436943054199,4.265355587005615,4.346152305603027,4.342784881591797,4.509427070617676,4.423582077026367,4.416848182678223,4.487545013427734,4.415164947509766,4.383183479309082,4.411799430847168,4.509427070617676,4.455563068389893,4.379817485809326,4.322587013244629,4.381501197814941,4.480813503265381,4.416848182678223,4.607057094573975,4.5380425453186035,4.52121114730835,4.602005481719971,4.740034103393555,4.6861677169799805,4.6676530838012695,4.740034103393555,4.3175368309021,4.265355587005615,4.248523712158203,4.169410228729248,4.053267002105713,4.140795707702637,4.078516006469727,4.132379531860352,4.088614463806152,4.07178258895874,4.036434173583984,3.9960365295410156,4.07178258895874,4.145845413208008,4.292287826538086,4.238424301147461,4.112181186676025,4.144161701202393,3.987619400024414,4.107131481170654,4.034750461578369,4.054949760437012,4.123963832855225,4.290604114532471,4.319221019744873,4.255257606506348,4.309121131896973,4.261990070343018,4.108814239501953,4.0128679275512695,3.681269407272339,3.5937392711639404,3.59037184715271,3.6913681030273438,3.5937392711639404,3.5045270919799805,3.565124750137329,3.6560189723968506,3.750281810760498,3.75533127784729,3.7772130966186523,3.812561273574829,3.7839467525482178,3.8075125217437744,3.7401819229125977,3.704833745956421,3.704833745956421,3.74354887008667,3.7317652702331543,3.7317652702331543,3.693051338195801,3.854644775390625,3.959005832672119,4.044851779937744,3.4439291954040527,3.4153146743774414,3.4203643798828125,3.4961113929748535,3.499476671218872,3.4506630897521973,3.4506630897521973,3.5028438568115234,3.452346086502075,3.437197208404541,3.3715507984161377,3.354717493057251,3.3059043884277344,3.356400728225708,3.342935085296631,3.3277862071990967,3.354717493057251,3.405215263366699,3.452346086502075,3.383333444595337,3.3917505741119385,3.3143200874328613,3.167876958847046,3.2267909049987793,3.2587733268737793,3.2267909049987793,3.1964924335479736,3.2453062534332275,3.268871545791626,3.250356435775757,3.2116408348083496,3.1762938499450684,3.1746108531951904,2.947371244430542,2.895190715789795,2.944004774093628,2.944004774093628,3.0046019554138184,2.994502067565918,3.0433170795440674,3.1089634895324707,3.039950132369995,3.076981544494629,3.257089138031006,3.2335236072540283,3.2655060291290283,3.2671890258789062,3.342935085296631,3.561757802963257,3.5533411502838135,3.6358206272125244,3.736815929412842,3.6543362140655518,3.6661200523376465,3.703150987625122,3.6644346714019775,3.672851085662842,3.688002586364746,3.770480155944824,3.810878038406372,3.788996458053589,3.8176112174987793,3.8916752338409424,3.9219722747802734,3.950587272644043,3.982569456100464,4.0313849449157715,4.11049747467041,4.176144599914551,4.258623123168945,4.275456428527832,4.231690406799316,4.2131757736206055,4.245157241821289,4.2855544090271,4.1306962966918945,4.1609954833984375,4.206442832946777,4.091980934143066,4.231690406799316,4.164361953735352,4.125647068023682,3.9017739295959473,3.8007798194885254,3.9219722747802734,3.8613765239715576,3.89504075050354,3.8176112174987793,3.6779017448425293,3.708200216293335,3.603839635848999,3.5802741050720215,3.4708619117736816,3.585322380065918,3.581956624984741,3.688002586364746,3.6459200382232666,3.868109703063965,3.8361282348632812,3.6795856952667236,3.7250330448150635,3.8176112174987793,3.6644346714019775,3.5583910942077637,3.5331432819366455,3.5331432819366455,3.573539972305298,3.6459200382232666,3.6829519271850586,3.4860105514526367,3.3059043884277344,3.2587733268737793,3.2335236072540283,3.1746108531951904,3.1695597171783447,3.179659605026245,3.092130422592163,3.115696907043457,3.156094551086426,3.0837137699127197,3.1628267765045166,3.209958553314209,3.0752980709075928,3.0971803665161133,3.156094551086426,3.172926664352417,3.2032246589660645,3.2520394325256348,3.2840216159820557,3.2840216159820557,3.2857048511505127,3.1897599697113037,3.2655060291290283,3.332834482192993,3.3092706203460693,3.3648178577423096,3.4506630897521973,3.5163097381591797,3.4153146743774414,3.3681838512420654,3.3227360248565674,3.3749165534973145,3.5533411502838135,3.477595567703247,3.5785892009735107,3.5567080974578857,3.5297749042510986,3.528092861175537,3.4557127952575684,3.342935085296631,3.3176863193511963,3.2941207885742188,3.3378846645355225,3.369868278503418,3.494427442550659,3.2082760334014893,3.166193723678589,3.1005475521087646,3.087080717086792,3.1005475521087646,3.087080717086792,3.085397481918335,3.007969379425049,3.018068313598633,3.076981544494629,3.1140127182006836,3.199859142303467,3.156094551086426,3.125795602798462,3.093813896179199,3.071932315826416,3.1392617225646973,3.1325294971466064,3.129162073135376,3.2655060291290283,3.260456085205078,3.292438268661499,3.2789711952209473,3.2823376655578613,3.2890708446502686,3.353034019470215,3.3362021446228027,3.346301794052124,3.31600284576416,3.3176863193511963,3.3665003776550293,3.34798526763916,3.4068996906280518,3.401848077774048,3.353034019470215,3.3799667358398438,3.4287819862365723,3.332834482192993,3.2402565479278564,3.167876958847046,3.0837137699127197,3.0752980709075928,3.1005475521087646,3.191441774368286,3.204908609390259,3.2200584411621094,3.2368907928466797,3.2655060291290283,3.262139320373535,3.2671890258789062,3.3075873851776123,3.250356435775757,3.2958037853240967,3.2907543182373047,3.3580849170684814,3.3648178577423096,3.4557127952575684,3.3984830379486084,3.390066623687744,3.5516576766967773,3.5062103271484375,3.487694501876831,3.5095770359039307,3.534825563430786,3.433831214904785,3.386699676513672,3.430464029312134,3.401848077774048,3.4254143238067627,3.4506630897521973,3.386699676513672,3.353034019470215,3.4119489192962646,3.5600740909576416,3.59037184715271,3.57690691947937,3.60888934135437,3.5886902809143066,3.6425530910491943,3.74354887008667,3.689685344696045,3.659386157989502,3.629087448120117,3.6543362140655518,3.647603750228882,3.5785892009735107,3.6425530910491943,3.652653932571411,3.7401819229125977,3.745232105255127,3.790679693222046,3.788996458053589,3.8630595207214355,3.8512768745422363,3.8563265800476074,3.7873122692108154,3.684634208679199,3.472545623779297,3.4961113929748535,3.484328508377075,3.3984830379486084,3.479278564453125,3.467496156692505,3.4287819862365723,3.4287819862365723,3.4439291954040527,3.5365092754364014,3.517993688583374,3.549974203109741,3.544926404953003,3.5415589809417725,3.5466086864471436,3.531459093093872,3.5466086864471436,3.4590795040130615,3.3362021446228027,3.2823376655578613,3.3749165534973145,3.390066623687744,3.369868278503418,3.31600284576416,3.4287819862365723,3.4136319160461426,3.344618082046509,3.3732335567474365,3.4119489192962646,3.385017156600952,3.3580849170684814,3.3126368522644043,3.3126368522644043,3.2840216159820557,3.341252326965332,3.3580849170684814,3.3193700313568115,3.31600284576416,3.3883819580078125,3.3749165534973145,3.3176863193511963,3.3362021446228027,3.326103448867798,3.2958037853240967,3.3277862071990967,3.3362021446228027,3.4557127952575684,3.457397222518921,3.531459093093872,3.528092861175537,3.566807746887207,3.5381925106048584,3.5533411502838135,3.657703161239624,3.6560189723968506,3.698101282119751,3.7570152282714844,3.8091938495635986,3.790679693222046,3.8580098152160645,3.7990951538085938,3.9691035747528076,4.022968769073486,4.044851779937744,4.007819175720215,3.9977197647094727,4.006135940551758,4.2687225341796875,4.277139663696289,4.443779945373535,4.400015830993652,4.470712661743164,4.435364723205566,4.467346668243408,4.458929538726807,4.425264358520508,4.413483619689941,4.410116672515869,4.322587013244629,4.339419364929199,4.352886199951172,4.322587013244629,4.354569435119629,4.2855544090271,4.288920879364014,4.339419364929199,4.342784881591797,4.364667892456055,4.497644424438477,4.457248210906982,4.435364723205566,4.490911483764648,4.598639011383057,4.692902088165283,4.65587043762207,4.6491379737854,4.6710205078125,4.6710205078125,4.748449802398682,4.709734916687012,4.62388801574707,4.588541030883789,4.49932861328125,4.4723968505859375,4.406749248504639,4.421897888183594,4.460613250732422,4.420215606689453,4.418531894683838,4.448829650878906,4.3966498374938965,4.410116672515869,4.450514316558838,4.511111259460449,4.630622863769531,4.467346668243408,4.420215606689453,4.3966498374938965,4.3411030769348145,4.435364723205566,4.3747687339782715,4.489228248596191,4.532993316650391,4.612105369567871,4.5969557762146,4.5818071365356445,4.519526958465576,4.368035316467285,4.176144599914551,4.078516006469727,4.0111846923828125,3.970787763595581,3.9421730041503906,3.990985870361328,3.918606758117676,3.925339460372925,3.950587272644043,3.9775216579437256,3.9994020462036133,3.9556384086608887,3.9657371044158936,3.9691035747528076,3.8899919986724854,3.8563265800476074,3.8462283611297607,3.6829519271850586,3.7250330448150635,3.4607622623443604,3.5954225063323975,3.457397222518921,3.60888934135437,3.487694501876831,3.526409387588501,3.600471258163452,3.4439291954040527,3.607206106185913,3.6307713985443115,3.6375043392181396,3.8007798194885254,3.930389642715454,3.7873122692108154,3.8344435691833496,3.888308525085449,3.9320733547210693,4.028017997741699,3.878208875656128,3.728398561477661,3.839493751525879,3.908506393432617,3.8563265800476074,3.893357753753662,3.908506393432617,3.9000909328460693,4.024652004241943,4.147528648376465,4.189610481262207,4.078516006469727,4.036434173583984,3.9455389976501465,3.805828809738159,3.788996458053589,3.974153757095337,4.019602298736572,3.959005832672119,4.038117408752441,3.888308525085449,3.866426944732666,4.004451751708984,4.017918586730957,4.049900054931641,4.095347881317139,4.1374287605285645,4.1946611404418945,4.3175368309021,4.245157241821289,4.235057830810547,4.080198287963867,4.204759120941162,4.186243534088135,4.218225002288818,4.214859962463379,4.305755138397217,4.309121131896973,4.214859962463379,4.361301898956299,4.410116672515869,4.304071426391602,4.214859962463379,4.224959373474121,4.347836494445801,4.324270248413086,4.283872604370117,4.315853595733643,4.1946611404418945,4.140795707702637,4.236741542816162,4.147528648376465,3.9657371044158936,3.790679693222046,3.6913681030273438,3.7805798053741455,3.8243448734283447,3.7755298614501953,3.7216665744781494,3.620671510696411,3.7637486457824707,3.829394578933716,3.8916752338409424,3.9320733547210693,3.908506393432617,3.9859371185302734,3.9287049770355225,3.987619400024414,3.9674198627471924,4.0734663009643555,4.159311771392822,4.051583766937256,3.9539551734924316,3.989302635192871,3.9287049770355225,3.8159284591674805,3.950587272644043,3.962371587753296,4.004451751708984,4.0263352394104,4.0263352394104,4.051583766937256,4.0987138748168945,4.061683177947998,4.004451751708984,4.061683177947998,4.251890182495117,4.186243534088135,4.038117408752441,4.078516006469727,4.103764057159424,4.070098400115967,3.9573211669921875,3.910191059112549,4.0431671142578125,4.1811933517456055,4.132379531860352,4.167727470397949,4.166044235229492,4.20812463760376,4.157629489898682,4.093663692474365,3.9960365295410156,3.9320733547210693,3.9236557483673096,3.916922092437744,3.97920298576355,3.940488576889038,3.9943528175354004,4.122280120849609,4.053267002105713,3.8512768745422363,3.8613765239715576,3.868109703063965,3.839493751525879,3.9038801193237305,3.9276018142700195,3.9479353427886963,3.8920204639434814,3.9462413787841797,3.8513548374176025,3.897104263305664,3.9530186653137207,3.859825611114502,4.039432525634766,4.044515609741211,4.093654155731201,4.0309600830078125,4.049598693847656,4.102125644683838,4.049598693847656,4.027571201324463,4.0309600830078125,3.981823205947876,4.0343499183654785,3.9919893741607666,4.058071613311768,4.068237781524658,4.18006706237793,3.924213409423828,4.0021562576293945,4.032654285430908,4.025876998901367,3.980128765106201,3.82763409614563,3.700554132461548,3.805605888366699,3.7344412803649902,3.719191074371338,3.6819159984588623,3.7022478580474854,3.6293892860412598,3.603973388671875,3.6531107425689697,3.597195863723755,3.676833152770996,3.753080129623413,3.7768025398254395,3.7768025398254395,3.792051315307617,3.7903568744659424,3.7751076221466064,3.825939178466797,3.825939178466797,3.8428826332092285,3.856437921524048,3.8733818531036377,3.8581314086914062,3.808994770050049,3.698859930038452,3.573474168777466,3.5768628120422363,3.5429749488830566,3.5700855255126953,3.444700002670288,3.5378916263580322,3.493837833404541,3.5311150550842285,3.138015031814575,3.2312071323394775,3.2159576416015625,3.2261240482330322,3.2329018115997314,3.27388858795166,3.333662271499634,3.3661108016967773,3.357572078704834,3.275596857070923,3.2790117263793945,3.2790117263793945,3.337078094482422,3.30462908744812,3.2106986045837402,3.24997878074646,3.121893882751465,3.171419620513916,3.0928597450256348,3.0296714305877686,3.045041561126709,3.1116464138031006,3.137263536453247,3.0979835987091064,2.9989302158355713,3.021131753921509,2.9357402324676514,2.985267162322998,3.043333053588867,3.041625499725342,3.1355555057525635,3.0706591606140137,3.137263536453247,3.120185375213623,3.09627628326416,2.992098569869995,2.997222423553467,2.9391558170318604,2.9203710556030273,2.8742597103118896,2.8298559188842773,2.858889102935791,2.8862144947052,2.869136095046997,2.7837445735931396,2.7564196586608887,2.68639874458313,2.6932308673858643,2.727386713027954,2.7564196586608887,2.7359259128570557,2.7359259128570557,2.744464635848999,2.689815044403076,2.7154321670532227,2.734218120574951,2.8708438873291016,2.8571817874908447,2.8742597103118896,3.0296714305877686,3.055288314819336,2.951111316680908,2.9118313789367676,3.0706591606140137,3.171419620513916,3.3285396099090576,3.3285396099090576,3.208991765975952,3.2277777194976807,3.187971591949463,3.141242504119873,3.139511823654175,3.2208549976348877,3.316044807434082,3.302198886871338,3.5323827266693115,3.556612014770508,3.644880533218384,3.7487218379974365,3.7366063594818115,3.7677605152130127,3.819681167602539,3.873333215713501,4.006598472595215,3.857757091522217,3.8819873332977295,3.9512147903442383,3.9356398582458496,3.8594868183135986,3.8300657272338867,3.6137261390686035,3.6552631855010986,3.6206486225128174,3.634495496749878,3.676032781600952,3.6916093826293945,3.6864171028137207,3.871603012084961,3.994483470916748,4.023904800415039,4.151978969573975,3.973714828491211,3.956407308578491,3.9408316612243652,3.94256329536438,3.971984624862671,3.9702539443969727,4.056789875030518,4.001406669616699,4.015253067016602,3.9979445934295654,4.029097080230713,4.10524845123291,3.980637550354004,3.9512147903442383,4.084481716156006,4.120824813842773,4.10524845123291,4.139863014221191,4.04986572265625,3.8975632190704346,3.8266043663024902,3.9962143898010254,4.025636672973633,4.063711643218994,4.240244388580322,4.421968936920166,4.4860053062438965,4.581194877624512,4.686769008636475,4.685037612915039,4.685036659240723,4.660581588745117,4.61865758895874,4.578480243682861,4.585467338562012,4.512099742889404,4.520834445953369,4.536555290222168,4.65359354019165,4.768886089324951,4.793340682983398,4.840505599975586,4.861468315124512,4.823039531707764,4.805570125579834,4.807316780090332,4.842252731323242,4.812556266784668,4.564505577087402,4.466681003570557,4.468428611755371,4.347896575927734,4.309466361999512,4.285010814666748,4.3828325271606445,4.482402324676514,4.255313396453857,4.332175254821777,4.323440074920654,4.05093240737915,3.9496166706085205,3.9810597896575928,4.061413288116455,4.019490718841553,4.04569149017334,4.029969692230225,4.103338241577148,4.066654205322266,4.073641777038574,4.043945789337158,4.099843978881836,4.141767978668213,4.153995513916016,4.195920944213867,4.129540920257568,4.052680492401123,4.312959671020508,4.410783290863037,4.683290481567383,4.402048587799072,4.438732147216797,4.552275657653809,4.576733112335205,4.515594482421875,4.5470356941223145,4.498125076293945,4.431744575500488,4.45445442199707,4.424757480621338,4.319947242736816,4.335668087005615,4.298985481262207,4.330427646636963,4.409035682678223,4.377592086791992,4.247775077819824,4.157698154449463,4.291931629180908,4.311358451843262,4.334319591522217,4.357281684875488,4.461488246917725,4.500345706939697,4.53037166595459,4.487982273101807,4.4950456619262695,4.542735576629639,4.457956314086914,4.4950456619262695,4.457956314086914,4.532138824462891,4.482684135437012,4.655774116516113,4.6716694831848145,4.940136909484863,5.256289958953857,5.341068744659424,5.342836380004883,5.279251575469971,5.291614532470703,5.344602108001709,5.2774858474731445,5.282784461975098,5.5954060554504395,5.655457973480225,5.542418956756592,5.70491361618042,5.787925720214844,5.772029399871826,5.780859470367432,5.743770122528076,5.8621063232421875,6.0457940101623535,6.047560691833496,6.1146769523620605,6.105844020843506,6.164130687713623,6.135871410369873,6.4131693840026855,6.561532020568848,6.568597316741943,6.586258411407471,6.559764862060547,6.550934791564941,6.778779029846191,6.7593488693237305,6.824700355529785,6.886519432067871,6.720491886138916,7.022517681121826,6.845894813537598,6.496181964874268,6.402572154998779,6.360182285308838,5.671353340148926,5.602470874786377,5.620133876800537,5.916860580444336,5.9052839279174805,6.126107692718506,6.320220470428467,6.208028316497803,6.165287017822266,6.544607639312744,6.231178283691406,6.717350482940674,6.516112327575684,6.683513164520264,6.947078227996826,6.856255054473877,6.849131107330322,6.861599445343018,7.2907819747924805,7.262288570404053,7.105574607849121,7.134068012237549,7.191054344177246,7.27831506729126,7.484894275665283,7.516948223114014,7.509824275970459,7.547224521636963,7.655855655670166,7.591745853424072,7.602428436279297,7.554347515106201,7.58640193939209,7.687909126281738,7.74311637878418,7.807225704193115,7.74311637878418,7.769829273223877,7.739553928375244,7.661196708679199,7.554347515106201,7.700375556945801,7.908735275268555,8.156272888183594,8.083256721496582,8.353944778442383,8.736828804016113,8.900667190551758,8.97368049621582,8.955872535705566,8.72436237335205,8.526688575744629,8.635322570800781,8.720803260803223,8.811623573303223,8.76888370513916,8.670937538146973,8.492851257324219,8.473264694213867,8.494634628295898,8.590798377990723,8.480386734008789,9.244368553161621,9.19272518157959,9.328068733215332,8.792035102844238,8.886419296264648,9.071759223937988,8.991175651550293,8.948198318481445,8.889103889465332,9.168457984924316,8.883733749389648,8.971475601196289,9.014453887939453,8.874780654907227,8.855081558227539,9.39229679107666,9.33320140838623,9.422737121582031,9.200687408447266,9.283061981201172,8.85150146484375,8.919546127319336,9.14159870147705,9.09682846069336,9.030571937561035,8.890897750854492,8.890897750854492,9.170248031616211,9.010873794555664,8.92133903503418,9.0789213180542,8.878360748291016,8.831804275512695,8.957155227661133,9.29201602935791,9.232922554016113,9.272318840026855,9.186362266540527,9.250829696655273,9.431690216064453,9.648367881774902,9.78625202178955,9.805951118469238,9.754021644592285,9.813112258911133,9.827438354492188,9.743274688720703,9.929512023925781,9.888325691223145,9.816695213317871,9.857881546020508,9.902649879455566,10.128281593322754,10.03695297241211,9.63762378692627,9.934882164001465,9.916975975036621,10.199908256530762,10.312724113464355,10.284072875976562,10.122906684875488,9.856090545654297,9.524809837341309,9.390506744384766,8.738685607910156,8.928502082824707,8.756592750549316,8.641985893249512,8.554241180419922,8.640195846557617,8.459197044372559,8.275500297546387,8.243082046508789,8.12781810760498,8.118813514709473,8.208861351013184,8.243082046508789,8.14222526550293,8.214264869689941,8.516830444335938,8.664509773254395,8.821192741394043,8.992288589477539,8.981483459472656,8.869820594787598,9.09854507446289,9.179590225219727,9.069727897644043,8.832000732421875,8.873422622680664,8.871620178222656,8.941862106323242,8.868020057678223,8.675313949584961,7.949520587921143,8.167440414428711,8.09900188446045,8.198058128356934,8.162035942077637,6.5393548011779785,6.658219337463379,6.798695087432861,6.780683994293213,6.881540298461914,7.068841934204102,6.8887457847595215,6.577174663543701,6.721255302429199,6.49252986907959,6.316032886505127,6.359257698059082,6.316032886505127,6.09271240234375,6.114323139190674,6.260202407836914,6.366459369659424,6.393475532531738,6.5591654777526855,6.4384989738464355,6.575374126434326,6.458309650421143,6.413285732269287,6.508738040924072,6.411484241485596,6.4186882972717285,6.404279708862305,6.49252986907959,6.928364276885986,6.856325149536133,6.708646297454834,6.719451904296875,6.697840690612793,6.726655006408691,6.9787917137146,6.967987537384033,6.937372207641602,6.9355692863464355,6.931966304779053,6.9337687492370605,6.743030071258545,7.0809102058410645,7.220783710479736,6.973731517791748,6.8320417404174805,6.982815742492676,6.870189666748047,6.92287015914917,6.864739418029785,7.066378116607666,6.781179904937744,7.378822326660156,7.466017723083496,7.734866619110107,7.878374099731445,8.0636625289917,7.782096862792969,7.905622959136963,7.945587158203125,7.84385871887207,7.485998630523682,7.360659122467041,7.478733539581299,7.529596328735352,7.400622844696045,7.533230304718018,7.442402362823486,7.678554058074951,7.249847888946533,7.304344654083252,7.151754856109619,7.3279595375061035,7.329775333404541,7.208068370819092,7.131772041320801,7.2516655921936035,6.930135726928711,6.841125011444092,6.510512828826904,6.543210506439209,6.641304016113281,6.688535690307617,6.875637054443359,6.623140335083008,6.515962600708008,6.57954216003418,6.7175984382629395,6.61768913269043,6.710332870483398,6.699434757232666,6.980998516082764,6.7739129066467285,6.941034317016602,6.933767795562744,6.875637054443359,6.699716567993164,6.701549530029297,6.827994346618652,6.723538875579834,6.831658840179443,6.692387104034424,6.833490371704102,6.915955543518066,6.65207052230835,6.778514862060547,6.912291049957275,7.383249282836914,7.330106735229492,7.3227763175964355,7.350262641906738,7.403407573699951,7.374086380004883,7.368586540222168,7.434558868408203,7.394242763519287,7.416234016418457,7.421733856201172,7.489534854888916,7.6526288986206055,7.621477127075195,7.630640506744385,7.6581292152404785,7.6562933921813965,7.557339668273926,7.6562933921813965,7.51702356338501,7.612313747406006,7.559171199798584,7.8487091064453125,7.852376461029053,8.079610824584961,8.195058822631836,8.447945594787598,8.370980262756348,8.444282531738281,7.958660125732422,7.905518531799316,7.6911139488220215,7.553672790527344,7.639801979064941,7.5738301277160645,7.604984283447266,7.489534854888916,7.4583821296691895,7.630640506744385,7.5005292892456055,7.5756635665893555,7.665458679199219,7.264133930206299,7.449219703674316,7.491365909576416,7.5738301277160645,7.41989803314209,7.861538887023926,7.7717437744140625,7.837713241577148,7.878032207489014,7.91101598739624,7.792830944061279,8.079063415527344,8.038434982299805,8.206478118896484,8.354211807250977,8.176933288574219,7.970109939575195,7.966414928436279,8.117838859558105,8.053207397460938,8.034738540649414,8.282190322875977,8.12891960144043,8.167698860168457,8.010734558105469,8.010734558105469,7.826069355010986,7.971954345703125,7.766977787017822,7.763284206390381,7.766977787017822,7.608166694641113,7.456742286682129,7.549073219299316,7.471513748168945,7.305318832397461,7.203752040863037,7.320089817047119,7.072640419006348,7.074486255645752,6.86951208114624,6.86951208114624,7.1021857261657715,7.244377136230469,7.360718727111816,7.50844669342041,7.5176801681518555,7.497368335723877,7.619246959686279,7.761436939239502,7.7208123207092285,7.576774597167969,7.669104099273682,7.770671844482422,7.896242141723633,7.887009620666504,7.890700340270996,7.947947025299072,8.26003360748291,8.067981719970703,7.892549991607666,7.848230838775635,8.016274452209473,8.210173606872559,8.199092864990234,8.143692970275879,8.12891960144043,8.053207397460938,8.10122013092041,7.044377326965332,7.02577018737793,6.95878791809082,6.921576499938965,7.035073757171631,6.666667938232422,6.6127095222473145,6.81179666519165,6.897387504577637,6.962510108947754,6.547587871551514,6.618290901184082,6.20150899887085,6.3094258308410645,6.009862422943115,6.127083778381348,5.939157962799072,6.082427501678467,6.158713340759277,6.419201850891113,6.348498344421387,6.443390369415283,6.212672233581543,6.261049270629883,6.261049270629883,6.294540882110596,6.2889580726623535,6.2889580726623535,6.46013879776001,6.268490314483643,6.195927143096924,6.268490314483643,6.004281044006348,6.283377647399902,6.097313404083252,6.737371921539307,6.411759376525879,6.763420104980469,6.711324214935303,6.854592800140381,6.906689643859863,6.95878791809082,7.100198745727539,7.122524738311768,6.997861385345459,6.748536109924316,6.558750152587891,6.852733612060547,6.977394104003906,6.8155198097229,6.8285441398620605,6.839706897735596,6.9178547859191895,7.077868938446045,6.981116771697998,6.930879592895508,6.949484825134277,6.951347351074219,6.977394104003906,6.982975482940674,6.975533485412598,6.949484825134277,6.910412311553955,6.936460971832275,6.889944076538086,6.878780364990234,7.195089817047119,7.196950912475586,7.448136329650879,7.4425554275512695,7.472323894500732,7.596988201141357,7.56349515914917,7.345801830291748,7.38301420211792,7.6421332359313965,7.715362548828125,7.681562423706055,7.720993518829346,7.659032344818115,7.683441162109375,7.76230525970459,7.681562423706055,7.4750213623046875,7.283495903015137,7.202756881713867,7.0769524574279785,7.127651214599609,7.093852519989014,7.1727142333984375,7.204634189605713,7.131404876708984,7.26847505569458,7.508819103240967,7.58580207824707,7.5895586013793945,7.58580207824707,7.6778082847595215,7.687197208404541,7.446855068206787,7.57078218460083,7.525717735290527,7.555760383605957,7.57078218460083,7.644011497497559,7.56326961517334,7.583925724029541,7.384892463684082,7.236555099487305,7.354847431182861,7.533227920532227,7.514451503753662,7.3473381996154785,7.418690204620361,7.546372413635254,7.465632438659668,7.332316875457764,7.360482215881348,7.354847431182861,7.521963119506836,7.555760383605957,7.568903923034668,7.536983489990234,7.655275821685791,7.660910129547119,7.544493675231934,7.411179542541504,7.683441162109375,8.150982856750488,8.162248611450195,8.256132125854492,8.20919132232666,8.265521049499512,8.288052558898926,8.14985466003418,8.1214599609375,8.111992835998535,8.140388488769531,8.132818222045898,8.049522399902344,8.047628402709961,8.146068572998047,8.17635726928711,8.157427787780762,8.308876037597656,8.39785385131836,8.433823585510254,8.265335083007812,8.337273597717285,8.096848487854004,8.132818222045898,8.352418899536133,8.246404647827148,8.390280723571777,8.714004516601562,8.659103393554688,8.878705024719238,8.890061378479004,8.96389389038086,8.846521377563477,8.787835121154785,8.941176414489746,8.835163116455078,8.86545467376709,8.886277198791504,8.935498237609863,8.886277198791504,8.611776351928711,8.579591751098633,8.57201862335205,8.68371295928955,8.73861312866211,8.679926872253418,8.509547233581543,8.626920700073242,8.78215503692627,8.585272789001465,8.55119514465332,8.672356605529785,8.655316352844238,8.636385917663574,8.727253913879395,8.980931282043457,8.888171195983887,8.89574146270752,8.793514251708984,8.562555313110352,8.486831665039062,8.132818222045898,8.308876037597656,8.587164878845215,8.746186256408691,8.043843269348145,8.041948318481445,7.795843601226807,7.915107727050781,7.89617919921875,7.877081871032715,7.980201244354248,7.980201244354248,8.087138175964355,8.169248580932617,8.24372386932373,8.211261749267578,8.398402214050293,8.327747344970703,8.071860313415527,7.966835021972656,7.896177291870117,7.844619274139404,7.867534637451172,7.829342842102051,7.695671558380127,7.720495700836182,7.869443893432617,7.737681865692139,7.924821376800537,8.111963272094727,8.276187896728516,8.295283317565918,8.398402214050293,8.480514526367188,8.390764236450195,8.31056022644043,8.220808982849121,8.38885498046875,8.490062713623047,8.539713859558105,8.612276077270508,8.791779518127441,8.971281051635742,8.660017013549805,8.530163764953613,8.44996166229248,8.698208808898926,8.72876262664795,8.797508239746094,8.818511962890625,8.927360534667969,8.946457862854004,8.963642120361328,8.940728187561035,8.68865966796875,8.772682189941406,8.512977600097656,8.503430366516113,7.09987735748291,7.273651599884033,7.096057415008545,7.220181941986084,7.344305515289307,7.497073173522949,7.181989669799805,7.239277362823486,6.996758460998535,6.876453399658203,6.689312934875488,6.695101261138916,6.53495979309082,6.324653148651123,6.424983024597168,6.380606174468994,6.509877681732178,6.25905179977417,6.176086902618408,5.788272857666016,5.840367317199707,5.892462253570557,5.8963212966918945,5.604977607727051,5.5490241050720215,5.547094821929932,5.518153190612793,5.547094821929932,5.4737772941589355,5.493070602416992,5.485353946685791,5.494999885559082,5.410106658935547,5.462200164794922,5.550954341888428,5.4737772941589355,5.489212512969971,5.4737772941589355,5.668648719787598,5.379234790802002,5.197869777679443,4.935468673706055,4.9470438957214355,4.921961307525635,4.860220432281494,4.879513740539551,4.952832221984863,4.835136413574219,5.028079986572266,5.045444011688232,4.960549354553223,5.057020664215088,5.172786712646484,5.001068115234375,5.049304008483887,5.211374759674072,5.176645755767822,5.381165027618408,5.232599258422852,5.1419172286987305,5.1457743644714355,5.205585479736328,5.402387619018555,5.545165538787842,5.641636371612549,5.439046382904053,5.635848045349121,5.680225849151611,5.767049789428711,5.780555248260498,5.892462253570557,5.9464850425720215,5.969639301300049,6.037168979644775,6.311147212982178,6.094531536102295,5.99890661239624,5.8779144287109375,6.106239318847656,5.940362453460693,6.000858306884766,6.178444862365723,6.0067138671875,6.227232456207275,6.119899749755859,6.016470909118652,6.0203728675842285,5.889623165130615,5.92670202255249,5.907186031341553,5.8720598220825195,6.149171829223633,6.197959899902344,6.192104339599609,6.115996360778809,6.035984992980957,5.911089897155762,5.8720598220825195,5.682764530181885,5.754969596862793,5.831078052520752,5.8720598220825195,6.141366004943848,6.176492691040039,6.2038140296936035,6.285776615142822,6.332613468170166,6.4184794425964355,6.30529260635376,6.400916576385498,6.400916576385498,6.50239372253418,6.514103889465332,6.420431613922119,6.400916576385498,6.315049171447754,6.108190059661865,5.99890661239624,5.875962257385254,5.8720598220825195,5.891574859619141,5.9559736251831055,5.698376655578613,5.678861618041992,5.606656074523926,5.663249969482422,5.553965091705322,5.470051288604736,5.571528434753418,5.557868003845215,5.555917263031006,5.600801467895508,5.80180549621582,5.850592613220215,5.620316505432129,5.678861618041992,5.6495890617370605,5.637878894805908,5.587141036987305,5.628658771514893,5.626680850982666,5.581209182739258,5.391412734985352,5.245111465454102,5.1462602615356445,5.086947441101074,5.166029453277588,5.126488208770752,5.169983386993408,5.219409465789795,5.108694553375244,5.140328407287598,5.205570220947266,5.009842872619629,5.041475296020508,5.150213718414307,5.221386909484863,5.254996299743652,5.3498945236206055,5.199638843536377,5.233249187469482,5.205570220947266,5.411183834075928,5.6247053146362305,5.6820387840271,5.703786849975586,5.658315181732178,5.533761501312256,5.968710899353027,5.968710899353027,6.152577877044678,6.130828857421875,6.091288089752197,6.105127334594727,6.178277969360352,6.192117691040039,6.1624627113342285,6.118967533111572,6.000344276428223,5.780891418457031,5.859973907470703,5.863927841186523,5.939055442810059,5.88962984085083,5.857996463775635,5.960803508758545,6.150600433349609,6.198049068450928,6.273176193237305,6.1624627113342285,6.093264579772949,6.1624627113342285,6.271199703216553,6.219797134399414,6.344350814819336,6.269221782684326,6.358190059661865,5.6820387840271,5.727510929107666,5.632612705230713,5.612843036651611,5.54166841506958,5.612843036651611,5.608888149261475,5.634929656982422,5.564819812774658,5.44462776184082,5.416584014892578,5.406567573547363,5.414580821990967,5.4586501121521,5.426599979400635,5.588856220245361,5.552800178527832,5.634929656982422,5.6629743576049805,5.646949291229248,5.536774158477783,5.4947075843811035,5.50672721862793,5.436614990234375,5.526758193969727,5.564819812774658,5.43461275100708,5.448634624481201,5.3444695472717285,5.3444695472717285,5.374517440795898,5.2182698249816895,5.232292175292969,5.102084636688232,5.084056854248047,4.947841167449951,4.971879005432129,5.007935523986816,5.029971599578857,5.009938716888428,5.035981178283691,4.957857131958008,4.9618635177612305,4.805615425109863,4.787586212158203,4.8176350593566895,4.719479084014893,4.192644119262695,4.172612190246582,4.152580738067627,4.254742622375488,4.188638210296631,4.312834739685059,4.380943298339844,4.471085071563721,4.60529899597168,4.5371904373168945,4.619319915771484,4.699447154998779,4.699447154998779,4.699447154998779,4.829653739929199,5.220272064208984,5.172196865081787,5.037983417510986,4.979024410247803,5.0196852684021,5.009520053863525,4.934296607971191,4.985124111175537,5.060347557067871,5.273821830749512,5.27992057800293,5.29008674621582,5.371409893035889,5.3653106689453125,5.139637470245361,5.15183687210083,5.1681013107299805,5.265688896179199,5.310417175292969,5.3653106689453125,5.09490966796875,5.166067600250244,5.27585506439209,5.137604713439941,5.15183687210083,5.135571479797363,5.157935619354248,5.2697553634643555,5.082711219787598,4.985124111175537,4.979024410247803,5.009520053863525,5.003421306610107,5.025784969329834,4.621201038360596,4.745219707489014,4.7757158279418945,4.7391204833984375,4.794013977050781,4.865171432495117,4.852973461151123,4.913965702056885,4.924130916595459,4.9424285888671875,4.915998458862305,4.979024410247803,4.940395832061768,4.95665979385376,5.02985143661499,5.017652988433838,5.007486820220947,5.040017127990723,5.1620025634765625,5.21689510345459,5.157935619354248,5.233160495758057,5.241292476654053,5.1681013107299805,5.1985979080200195,5.330747604370117,5.3388800621032715,5.196564197540283,5.342947006225586,5.391740798950195,4.96885871887207,4.976990699768066,5.078645706176758,5.139637470245361,5.064413547515869,5.015620231628418,5.082711219787598,5.082711219787598,5.19832181930542,4.993939399719238,5.070324420928955,5.093033790588379,5.0083909034729,5.086840629577637,4.929941177368164,4.956779956817627,4.97329568862915,4.946456432342529,4.273441791534424,4.304409027099609,4.484017372131348,4.53149938583374,4.636787414550781,4.655367851257324,4.5418219566345215,4.537693023681641,4.492274761199951,4.508790969848633,4.471630096435547,4.517048358917236,4.5645318031311035,4.556273460388184,4.620272159576416,4.725559234619141,4.715237140655518,4.702850818634033,4.787493705749512,4.787493705749512,4.793686866760254,4.830846786499023,4.882458209991455,4.768913269042969,4.68427038192749,4.702850818634033,4.839105606079102,4.948521137237549,4.86594295501709,4.954714775085449,5.0331645011901855,5.055873394012451,5.150839328765869,5.026971340179443,4.960908889770508,5.029035568237305,5.05174446105957,4.921683311462402,4.909296989440918,5.0001325607299805,4.965036869049072,4.67807674407959,4.688398838043213,4.876265525817871,4.587239742279053,4.659496784210205,4.5707244873046875,4.702850818634033,4.680141448974609,4.720035076141357,4.598254203796387,4.627650260925293,4.486973285675049,4.6213507652282715,4.558360576629639,4.615051746368408,4.541563510894775,4.455477714538574,4.3231987953186035,4.3672919273376465,4.33369779586792,4.295903205871582,4.3127007484436035,4.335797309875488,4.436580181121826,4.489071846008301,4.516368389129639,4.537364482879639,4.537364482879639,4.53526496887207,4.516368389129639,4.434481143951416,4.390388488769531,4.386188507080078,4.400886535644531,4.4071855545043945,4.4428791999816895,4.413484573364258,4.468076229095459,4.428182125091553,4.482773303985596,4.430281639099121,4.36309289932251,4.3672919273376465,4.463876247406006,4.4176836013793945,4.556262016296387,4.514268398284912,4.55416202545166,4.484872817993164,4.489071846008301,4.547863006591797,4.604553699493408,4.654944896697998,4.606653213500977,4.636048793792725,4.507968902587891,4.568858623504639,4.587756633758545,4.394587993621826,4.491171836853027,4.430281639099121,4.455477714538574,4.405085563659668,4.54366397857666,4.510068893432617,4.57305908203125,4.073338985443115,4.020848274230957,3.936861276626587,3.9452602863311768,3.8843700885772705,3.920064687728882,3.976755380630493,4.060741901397705,4.037182807922363,4.101434230804443,4.112143516540527,4.182821273803711,4.2877655029296875,4.30061674118042,4.345592975616455,4.319892883300781,4.32417631149292,4.304900646209717,4.259923934936523,4.285624027252197,4.377718925476074,4.422696113586426,4.465531349182129,4.452680587768555,4.424837589263916,4.384144306182861,4.328459739685059,4.337026119232178,4.394853591918945,4.2877655029296875,4.315608978271484,4.332742214202881,4.195671081542969,4.176395416259766,4.221372127532959,4.157120227813721,4.210663318634033,4.294190883636475,4.294190883636475,4.3113250732421875,4.343451499938965,4.27491569519043,4.199954986572266,4.178537845611572,4.142127990722656,4.02004861831665,4.0029144287109375,3.9836390018463135,3.9643630981445312,3.876552104949951,3.8187248706817627,3.6645195484161377,3.683795213699341,3.7608978748321533,3.51888108253479,3.469620943069458,3.4674789905548096,3.426786422729492,3.4653372764587402,3.4931800365448,3.5210230350494385,3.5831334590911865,3.720205307006836,3.730912923812866,3.8915441036224365,4.073591709136963,4.180678844451904,4.095492839813232,4.0998616218566895,4.237469673156738,4.209074974060059,4.152284145355225,4.069282054901123,4.193784713745117,4.165389537811279,4.174126625061035,4.078018665313721,4.014674663543701,4.0059380531311035,4.075835227966309,4.01685905456543,3.9862802028656006,4.029965400695801,3.9950170516967773,4.0430707931518555,3.9862802028656006,3.9688057899475098,3.9207520484924316,3.98846435546875,3.9753589630126953,4.0015692710876465,4.080203056335449,4.200337886810303,4.270234107971191,4.298629283905029,4.35978889465332,3.8792507648468018,3.748195171356201,3.822460174560547,3.9010932445526123,3.960068464279175,3.833381414413452,3.8006174564361572,3.7088780403137207,3.6782987117767334,3.7263524532318115,3.7460110187530518,3.728536605834961,3.671745777130127,3.638981819152832,3.545058488845825,3.4183714389801025,3.525400161743164,3.5974810123443604,3.457688093185425,3.5319528579711914,3.4511353969573975,3.4030816555023193,3.542874336242676,3.5843753814697266,3.582190990447998,3.464240789413452,3.4271085262298584,3.411818742752075,3.4882678985595703,3.5122947692871094,3.4008970260620117,3.4271085262298584,3.4882678985595703,3.564343214035034,3.5911927223205566,3.593430280685425,3.566580295562744,3.499455451965332,3.546442747116089,3.4793179035186768,3.4927427768707275,3.4591803550720215,3.4256176948547363,3.450230121612549,3.3137426376342773,3.2376673221588135,3.136979818344116,3.0944671630859375,3.020629644393921,3.1414546966552734,3.105654716491699,3.166067123413086,2.8237292766571045,2.868479013442993,2.910991907119751,2.9848296642303467,3.034054756164551,3.004967212677002,3.0161542892456055,3.0609045028686523,3.0967049598693848,3.0497171878814697,3.0452420711517334,3.0899922847747803,3.119079351425171,3.056429624557495,3.0251047611236572,2.881904363632202,2.9535045623779297,3.0004920959472656,3.0116796493530273,3.0586674213409424,3.101179599761963,3.054192066192627,3.0989420413970947,3.009442090988159,2.8707168102264404,2.908754348754883,2.8841421604156494,2.861766815185547,2.893091917037964,2.915466785430908,2.8438668251037598,2.9669294357299805,3.02286696434021,3.0318171977996826,3.0474796295166016,2.7879292964935303,2.8595290184020996,2.834916830062866,2.846104145050049,2.850579261779785,2.834916830062866,2.9199419021606445,3.0027294158935547,2.9535045623779297,3.069854497909546,3.186204671859741,3.2667551040649414,3.226480007171631,3.24214243888855,3.2510926723480225,3.2832586765289307,3.228116512298584,3.062689781188965,2.9524056911468506,3.2074382305145264,3.4923393726348877,3.6187071800231934,3.6095168590545654,3.568160057067871,3.5658624172210693,3.47166109085083,3.439495086669922,3.3544843196868896,3.418816566467285,3.3475911617279053,3.253389835357666,3.228116512298584,3.361377000808716,3.480851650238037,3.5543746948242188,3.4142212867736816,3.37746000289917,3.4670660495758057,3.5107202529907227,3.4969348907470703,3.349888801574707,3.349888801574707,3.428007125854492,3.464768648147583,3.421114206314087,3.395840644836426,3.333805799484253,3.402733564376831,3.4073286056518555,3.37746000289917,3.3108296394348145,3.384352684020996,3.359079122543335,3.411924123764038,3.4142212867736816,3.473958730697632,3.5038273334503174,3.4946370124816895,3.5199105739593506,3.4946370124816895,3.561267375946045,3.54288649559021,3.4969348907470703,3.5222082138061523,3.6416831016540527,3.788728713989258,3.901310443878174,3.8507637977600098,3.80251407623291,3.3797576427459717,3.2235212326049805,3.244199514389038,3.1201295852661133,3.0489044189453125,3.228116512298584,3.735884428024292,3.708313226699829,3.7060155868530273,3.676146984100342,3.7129085063934326,3.8277878761291504,3.9150965213775635,3.857656717300415,3.904672622680664,3.8788137435913086,3.9023218154907227,3.876462936401367,3.8835155963897705,3.6484358310699463,3.7659759521484375,3.664891481399536,3.6554882526397705,3.5896661281585693,3.5920166969299316,3.495634078979492,3.507388114929199,3.483880043029785,3.4509689807891846,3.5214927196502686,3.4697751998901367,3.4862308502197266,3.4462673664093018,3.4791786670684814,3.4979848861694336,3.594367742538452,3.6014199256896973,3.540299415588379,3.4627230167388916,3.5544040203094482,3.5896661281585693,3.542649984359741,3.394549608230591,3.2229416370391846,3.4157071113586426,3.448618173599243,3.4321627616882324,3.6084723472595215,3.669593095779419,3.52384352684021,3.5144405364990234,3.5026862621307373,3.493283271789551,3.441565990447998,3.2629053592681885,3.2629053592681885,3.0466320514678955,3.0865957736968994,3.0066685676574707,3.0630874633789062,2.886777639389038,3.2229416370391846,3.173574924468994,3.4274609088897705,3.46037220954895,3.528545379638672,3.4392151832580566,3.2111878395080566,3.260554552078247,3.173574924468994,3.1876800060272217,3.2158892154693604,3.1989636421203613,3.131260633468628,3.1989636421203613,3.092573404312134,3.0853195190429688,3.0587217807769775,3.0780653953552246,3.0417962074279785,3.0055267810821533,2.8918824195861816,2.8217616081237793,2.998272657394409,2.945077657699585,2.969257116317749,3.0514678955078125,3.160276174545288,3.136096715927124,3.684973955154419,3.7430050373077393,3.822798013687134,3.863903045654297,3.85906720161438,3.8324697017669678,3.7816925048828125,3.7550947666168213,3.7913644313812256,3.8131260871887207,3.851813554763794,3.692228078842163,3.7430050373077393,3.8203799724578857,3.84455943107605,3.7478411197662354,2.727461099624634,2.7081172466278076,2.741968870162964,2.7177891731262207,2.749222755432129,2.8507771492004395,2.783074378967285,2.773402452468872,2.744386911392212,2.732296943664551,2.792746067047119,2.773402452468872,2.739550828933716,2.763730525970459,2.7081172466278076,2.7081172466278076,2.6670119762420654,2.749222755432129,2.792746067047119,2.8145077228546143,2.8217616081237793,2.8290154933929443,2.8411052227020264,2.797581911087036,2.8048360347747803,2.795164108276367,2.8024179935455322,2.6525044441223145,2.722625255584717,2.773402452468872,2.799999952316284,2.737499952316284,2.765000104904175,2.7674999237060547,2.740000009536743,2.625,2.637500047683716,2.612499952316284,2.5350000858306885,2.5875000953674316,2.572499990463257,2.547499895095825,2.5399999618530273,2.5924999713897705,2.5250000953674316,2.4075000286102295,2.507499933242798,2.4649999141693115,2.484999895095825,2.4549999237060547,2.492500066757202,2.440000057220459,2.3299999237060547,2.234999895095825,2.2699999809265137,2.234999895095825,2.192500114440918,2.1624999046325684,2.2225000858306885,2.252500057220459,2.237499952316284,2.2225000858306885,2.190000057220459,2.1624999046325684,2.127500057220459,2.192500114440918,2.242500066757202,2.2125000953674316,2.192500114440918,2.172499895095825,2.130000114440918,2.119999885559082,2.065000057220459,2.132499933242798,2.172499895095825,2.1675000190734863,2.1524999141693115,2.015000104904175,2.0325000286102295,1.975000023841858,1.9249999523162842,1.9550000429153442,1.934999942779541,1.8925000429153442,1.899999976158142,1.8949999809265137,1.8674999475479126,1.9550000429153442,1.2599999904632568,1.2825000286102295,1.2549999952316284,1.3600000143051147,1.4299999475479126,1.375,1.4249999523162842,1.4075000286102295,1.4249999523162842,1.4325000047683716,1.4075000286102295,1.3825000524520874,1.3550000190734863,1.3424999713897705,1.3624999523162842,1.3674999475479126,1.3849999904632568,1.3674999475479126,1.340000033378601,1.3450000286102295,1.3274999856948853,1.3799999952316284,1.3624999523162842,1.3274999856948853,1.2949999570846558,1.2100000381469727,1.2274999618530273,1.1875,1.1575000286102295,1.0950000286102295,1.0499999523162842,1.0800000429153442,1.034999966621399,1.0225000381469727,1.0199999809265137,0.9950000047683716,1.002500057220459,1.0299999713897705,1.0075000524520874,1.0049999952316284,0.9599999785423279,0.9449999928474426,0.9275000095367432,0.9524999856948853,0.9524999856948853,0.9725000262260437,0.8974999785423279,0.8774999976158142,0.8675000071525574,0.8299999833106995,0.8025000095367432,0.8299999833106995,0.8450000286102295,0.8550000190734863,0.8849999904632568,0.9674999713897705,0.9125000238418579,0.9549999833106995,0.925000011920929,0.9700000286102295,1.0575000047683716,0.9925000071525574,0.9524999856948853,0.9950000047683716,1.0575000047683716,1.0774999856948853,1.190000057220459,1.2725000381469727,1.1475000381469727,1.1449999809265137,1.1024999618530273,1.087499976158142,1.0824999809265137,1.149999976158142,1.1100000143051147,1.1749999523162842,1.2549999952316284,1.252500057220459,1.2999999523162842,1.3200000524520874,1.3350000381469727,1.3799999952316284,1.3949999809265137,1.3300000429153442,1.3550000190734863,1.3875000476837158,1.372499942779541,1.3075000047683716,1.247499942779541,1.2625000476837158,1.3424999713897705,1.3949999809265137,1.402500033378601,1.4700000286102295,1.5075000524520874,1.4850000143051147,1.4824999570846558,1.597499966621399,1.6074999570846558,1.6050000190734863,1.587499976158142,1.5475000143051147,1.4524999856948853,1.4325000047683716,1.3600000143051147,1.4600000381469727,1.462499976158142,1.4774999618530273,1.5225000381469727,1.5549999475479126,1.5225000381469727,1.5049999952316284,1.4800000190734863,1.4850000143051147,1.4950000047683716,1.4700000286102295,1.4049999713897705,1.375,1.3650000095367432,1.375,1.4149999618530273,1.5075000524520874,1.524999976158142,1.587499976158142,1.5850000381469727,1.5425000190734863,1.5299999713897705,1.6074999570846558,1.600000023841858,1.6699999570846558,1.5824999809265137,1.627500057220459,1.3825000524520874,1.3949999809265137,1.3624999523162842,1.375,1.5149999856948853,1.5399999618530273,1.5149999856948853,1.497499942779541,1.402500033378601,1.3600000143051147,1.350000023841858,1.475000023841858,1.5325000286102295,1.5199999809265137,1.5774999856948853,1.4700000286102295,1.462499976158142,1.3799999952316284,1.4299999475479126,1.3875000476837158,1.3574999570846558,1.3574999570846558,1.1775000095367432,1.152500033378601,1.1549999713897705,1.1875,1.1475000381469727,1.1399999856948853,1.1549999713897705,1.0800000429153442,1.0700000524520874,1.0525000095367432,1.0325000286102295,0.9825000166893005,0.9599999785423279,0.987500011920929,1.0175000429153442,1.0449999570846558,1.034999966621399,0.9524999856948853,0.9850000143051147,1.0049999952316284,1.0475000143051147,1.027500033378601,1.0049999952316284,1.0149999856948853,1.037500023841858,1.034999966621399,1.0099999904632568,0.925000011920929,0.8899999856948853,0.8475000262260437,0.8675000071525574,0.8999999761581421,0.9574999809265137,0.9075000286102295,0.9424999952316284,0.9900000095367432,0.9800000190734863,0.925000011920929,1.0575000047683716,1.034999966621399,0.9950000047683716,1.1475000381469727,1.0924999713897705,1.0575000047683716,0.9424999952316284,1.0475000143051147,0.9399999976158142,0.9524999856948853,1.0399999618530273,1.0425000190734863,1.1024999618530273,1.0549999475479126,0.9125000238418579,0.875,0.8125,0.7124999761581421,0.699999988079071,0.7724999785423279,0.8174999952316284,0.8525000214576721,0.9725000262260437,1.184999942779541,1.4874999523162842,1.3174999952316284,1.2575000524520874,1.2200000286102295,1.402500033378601,1.1950000524520874,1.222499966621399,1.1749999523162842,1.1924999952316284,1.4550000429153442,1.409999966621399,1.5099999904632568,1.4325000047683716,1.5125000476837158,1.3700000047683716,1.347499966621399,1.2324999570846558,1.2174999713897705,1.2450000047683716,1.190000057220459,1.1349999904632568,1.0525000095367432,1.0325000286102295,1.0549999475479126,1.1449999809265137,1.1100000143051147,1.1074999570846558,1.1100000143051147,1.0449999570846558,1.1050000190734863,1.1725000143051147,1.0824999809265137,1.0149999856948853,1.0325000286102295,1.0449999570846558,1.1100000143051147,1.1174999475479126,1.034999966621399,1.252500057220459,1.2400000095367432,1.2675000429153442,1.0924999713897705,1.1799999475479126,1.1725000143051147,1.159999966621399,1.190000057220459,1.2374999523162842,1.2200000286102295,1.2174999713897705,1.2074999809265137,1.1024999618530273,1.1150000095367432,1.087499976158142,1.0950000286102295,1.0850000381469727,1.1100000143051147,1.0724999904632568,1.059999942779541,1.0225000381469727,1.065000057220459,1.0525000095367432,1.0850000381469727,1.065000057220459,1.0199999809265137,1.0475000143051147,1.0425000190734863,0.9900000095367432,0.9624999761581421,1.002500057220459,1.027500033378601,1.027500033378601,1.0075000524520874,1.002500057220459,0.9850000143051147,1.0149999856948853,1.024999976158142,1.002500057220459,1.037500023841858,1.1074999570846558,1.1575000286102295,1.1074999570846558,1.0399999618530273,1.0824999809265137,1.087499976158142,1.1299999952316284,1.159999966621399,1.1875,1.1575000286102295,1.2024999856948853,1.1799999475479126,1.152500033378601,1.2575000524520874,1.2174999713897705,1.2450000047683716,1.277500033378601,1.3125,1.347499966621399,1.6699999570846558,1.912500023841858,1.9275000095367432,1.9550000429153442,1.912500023841858,1.9249999523162842,1.837499976158142,1.5575000047683716,1.5225000381469727,1.7274999618530273,1.7725000381469727,2.1700000762939453,2.299999952316284,2.367500066757202,2.1875,2.640000104904175,2.509999990463257,2.2850000858306885,2.505000114440918,2.5225000381469727,2.5875000953674316,2.549999952316284,2.442500114440918,2.3475000858306885,2.365000009536743,2.2825000286102295,2.3399999141693115,3.372499942779541,3.005000114440918,2.950000047683716,2.9700000286102295,3.0625,3.4574999809265137,3.327500104904175,3.4774999618530273,3.4649999141693115,3.5250000953674316,3.7274999618530273,3.75,3.362499952316284,3.172499895095825,2.9549999237060547,2.932499885559082,2.617500066757202,2.6875,2.8924999237060547,2.7274999618530273,2.862499952316284,2.9649999141693115,2.872499942779541,2.7750000953674316,2.9375,2.7825000286102295,2.752500057220459,3.015000104904175,2.9075000286102295,2.8924999237060547,3.115000009536743,3.177500009536743,3.4749999046325684,3.4175000190734863,3.6875,4.019999980926514,4.139999866485596,3.950000047683716,4.144999980926514,4.03000020980835,4.224999904632568,4.087500095367432,4.235000133514404,3.4149999618530273,3.5299999713897705,3.327500104904175,3.180000066757202,3.4625000953674316,3.4625000953674316,3.7074999809265137,3.9075000286102295,3.882499933242798,4.864999771118164,5.142499923706055,5.037499904632568,5.247499942779541,4.84499979019165,4.815000057220459,4.710000038146973,4.3125,4.34250020980835,4.590000152587891,4.519999980926514,4.422500133514404,4.985000133514404,4.987500190734863,7.849999904632568,9.977499961853027,8.875,9.84000015258789,9.779999732971191,10.757499694824219,16.252500534057617,19.197500228881836,36.994998931884766,86.87750244140625,48.400001525878906,81.25,56.25,22.5,23.102500915527344,13.375,15.942500114440918,15.0,12.577500343322754,12.800000190734863,12.774999618530273,13.100000381469727,12.3774995803833,11.484999656677246,10.172499656677246,10.147500038146973,11.5,11.242500305175781,22.927499771118164,27.1825008392334,25.434999465942383,30.100000381469727,29.545000076293945,31.045000076293945,33.087501525878906,34.435001373291016,48.625,61.724998474121094,66.25,65.0,66.125,55.03499984741211,52.04249954223633,52.45249938964844,50.4375,50.067501068115234,48.622501373291016,45.4375,30.084999084472656,45.9375,45.25,45.32500076293945,48.6150016784668,47.45500183105469,47.86249923706055,46.73749923706055,46.125,44.49250030517578,42.564998626708984,39.59000015258789,35.272499084472656,35.247501373291016,41.63249969482422,39.11000061035156,38.67250061035156,41.092498779296875,39.63249969482422,39.627498626708984,37.79249954223633,37.79499816894531,42.23249816894531,44.442501068115234,44.64500045776367,44.04750061035156,43.397499084472656,40.54999923706055,40.182498931884766,39.869998931884766,40.252498626708984,40.27750015258789,35.80500030517578,36.72999954223633,36.1974983215332,41.125,39.97999954223633,45.150001525878906,45.16749954223633,42.20750045776367,42.622501373291016,44.1974983215332,45.002498626708984,52.35749816894531,60.63999938964844,63.532501220703125,55.5,62.255001068115234,70.55999755859375,64.54499816894531,62.09000015258789,70.00250244140625,75.0,75.63999938964844,55.09749984741211,58.334999084472656,57.36000061035156],\"yaxis\":\"y\"},{\"name\":\"Revenue\",\"type\":\"scatter\",\"x\":[\"2020-04-30T00:00:00\",\"2020-01-31T00:00:00\",\"2019-10-31T00:00:00\",\"2019-07-31T00:00:00\",\"2019-04-30T00:00:00\",\"2019-01-31T00:00:00\",\"2018-10-31T00:00:00\",\"2018-07-31T00:00:00\",\"2018-04-30T00:00:00\",\"2018-01-31T00:00:00\",\"2017-10-31T00:00:00\",\"2017-07-31T00:00:00\",\"2017-04-30T00:00:00\",\"2017-01-31T00:00:00\",\"2016-10-31T00:00:00\",\"2016-07-31T00:00:00\",\"2016-04-30T00:00:00\",\"2016-01-31T00:00:00\",\"2015-10-31T00:00:00\",\"2015-07-31T00:00:00\",\"2015-04-30T00:00:00\",\"2015-01-31T00:00:00\",\"2014-10-31T00:00:00\",\"2014-07-31T00:00:00\",\"2014-04-30T00:00:00\",\"2014-01-31T00:00:00\",\"2013-10-31T00:00:00\",\"2013-07-31T00:00:00\",\"2013-04-30T00:00:00\",\"2013-01-31T00:00:00\",\"2012-10-31T00:00:00\",\"2012-07-31T00:00:00\",\"2012-04-30T00:00:00\",\"2012-01-31T00:00:00\",\"2011-10-31T00:00:00\",\"2011-07-31T00:00:00\",\"2011-04-30T00:00:00\",\"2011-01-31T00:00:00\",\"2010-10-31T00:00:00\",\"2010-07-31T00:00:00\",\"2010-04-30T00:00:00\",\"2010-01-31T00:00:00\",\"2009-10-31T00:00:00\",\"2009-07-31T00:00:00\",\"2009-04-30T00:00:00\",\"2009-01-31T00:00:00\",\"2008-10-31T00:00:00\",\"2008-07-31T00:00:00\",\"2008-04-30T00:00:00\",\"2008-01-31T00:00:00\",\"2007-10-31T00:00:00\",\"2007-07-31T00:00:00\",\"2007-04-30T00:00:00\",\"2007-01-31T00:00:00\",\"2006-10-31T00:00:00\",\"2006-07-31T00:00:00\",\"2006-04-30T00:00:00\",\"2006-01-31T00:00:00\",\"2005-10-31T00:00:00\",\"2005-07-31T00:00:00\",\"2005-04-30T00:00:00\",\"2005-01-31T00:00:00\"],\"xaxis\":\"x2\",\"y\":[1021.0,2194.0,1439.0,1286.0,1548.0,3063.0,1935.0,1501.0,1786.0,2825.0,1989.0,1688.0,2046.0,2403.0,1959.0,1632.0,1972.0,3525.0,2016.0,1762.0,2061.0,3476.0,2092.0,1731.0,1996.0,3684.0,2107.0,1384.0,1865.0,3562.0,1773.0,1550.0,2002.0,3579.0,1947.0,1744.0,2281.0,3693.0,1899.0,1799.0,2083.0,3524.0,1835.0,1739.0,1981.0,3492.0,1696.0,1804.0,1814.0,2866.0,1611.0,1338.0,1279.0,2304.0,1012.0,963.0,1040.0,1667.0,534.0,416.0,475.0,709.0],\"yaxis\":\"y2\"}],                        {\"annotations\":[{\"font\":{\"size\":16},\"showarrow\":false,\"text\":\"Historical Share Price\",\"x\":0.5,\"xanchor\":\"center\",\"xref\":\"paper\",\"y\":0.9999999999999999,\"yanchor\":\"bottom\",\"yref\":\"paper\"},{\"font\":{\"size\":16},\"showarrow\":false,\"text\":\"Historical Revenue\",\"x\":0.5,\"xanchor\":\"center\",\"xref\":\"paper\",\"y\":0.35,\"yanchor\":\"bottom\",\"yref\":\"paper\"}],\"height\":900,\"showlegend\":false,\"template\":{\"data\":{\"bar\":[{\"error_x\":{\"color\":\"#2a3f5f\"},\"error_y\":{\"color\":\"#2a3f5f\"},\"marker\":{\"line\":{\"color\":\"#E5ECF6\",\"width\":0.5},\"pattern\":{\"fillmode\":\"overlay\",\"size\":10,\"solidity\":0.2}},\"type\":\"bar\"}],\"barpolar\":[{\"marker\":{\"line\":{\"color\":\"#E5ECF6\",\"width\":0.5},\"pattern\":{\"fillmode\":\"overlay\",\"size\":10,\"solidity\":0.2}},\"type\":\"barpolar\"}],\"carpet\":[{\"aaxis\":{\"endlinecolor\":\"#2a3f5f\",\"gridcolor\":\"white\",\"linecolor\":\"white\",\"minorgridcolor\":\"white\",\"startlinecolor\":\"#2a3f5f\"},\"baxis\":{\"endlinecolor\":\"#2a3f5f\",\"gridcolor\":\"white\",\"linecolor\":\"white\",\"minorgridcolor\":\"white\",\"startlinecolor\":\"#2a3f5f\"},\"type\":\"carpet\"}],\"choropleth\":[{\"colorbar\":{\"outlinewidth\":0,\"ticks\":\"\"},\"type\":\"choropleth\"}],\"contour\":[{\"colorbar\":{\"outlinewidth\":0,\"ticks\":\"\"},\"colorscale\":[[0.0,\"#0d0887\"],[0.1111111111111111,\"#46039f\"],[0.2222222222222222,\"#7201a8\"],[0.3333333333333333,\"#9c179e\"],[0.4444444444444444,\"#bd3786\"],[0.5555555555555556,\"#d8576b\"],[0.6666666666666666,\"#ed7953\"],[0.7777777777777778,\"#fb9f3a\"],[0.8888888888888888,\"#fdca26\"],[1.0,\"#f0f921\"]],\"type\":\"contour\"}],\"contourcarpet\":[{\"colorbar\":{\"outlinewidth\":0,\"ticks\":\"\"},\"type\":\"contourcarpet\"}],\"heatmap\":[{\"colorbar\":{\"outlinewidth\":0,\"ticks\":\"\"},\"colorscale\":[[0.0,\"#0d0887\"],[0.1111111111111111,\"#46039f\"],[0.2222222222222222,\"#7201a8\"],[0.3333333333333333,\"#9c179e\"],[0.4444444444444444,\"#bd3786\"],[0.5555555555555556,\"#d8576b\"],[0.6666666666666666,\"#ed7953\"],[0.7777777777777778,\"#fb9f3a\"],[0.8888888888888888,\"#fdca26\"],[1.0,\"#f0f921\"]],\"type\":\"heatmap\"}],\"heatmapgl\":[{\"colorbar\":{\"outlinewidth\":0,\"ticks\":\"\"},\"colorscale\":[[0.0,\"#0d0887\"],[0.1111111111111111,\"#46039f\"],[0.2222222222222222,\"#7201a8\"],[0.3333333333333333,\"#9c179e\"],[0.4444444444444444,\"#bd3786\"],[0.5555555555555556,\"#d8576b\"],[0.6666666666666666,\"#ed7953\"],[0.7777777777777778,\"#fb9f3a\"],[0.8888888888888888,\"#fdca26\"],[1.0,\"#f0f921\"]],\"type\":\"heatmapgl\"}],\"histogram\":[{\"marker\":{\"pattern\":{\"fillmode\":\"overlay\",\"size\":10,\"solidity\":0.2}},\"type\":\"histogram\"}],\"histogram2d\":[{\"colorbar\":{\"outlinewidth\":0,\"ticks\":\"\"},\"colorscale\":[[0.0,\"#0d0887\"],[0.1111111111111111,\"#46039f\"],[0.2222222222222222,\"#7201a8\"],[0.3333333333333333,\"#9c179e\"],[0.4444444444444444,\"#bd3786\"],[0.5555555555555556,\"#d8576b\"],[0.6666666666666666,\"#ed7953\"],[0.7777777777777778,\"#fb9f3a\"],[0.8888888888888888,\"#fdca26\"],[1.0,\"#f0f921\"]],\"type\":\"histogram2d\"}],\"histogram2dcontour\":[{\"colorbar\":{\"outlinewidth\":0,\"ticks\":\"\"},\"colorscale\":[[0.0,\"#0d0887\"],[0.1111111111111111,\"#46039f\"],[0.2222222222222222,\"#7201a8\"],[0.3333333333333333,\"#9c179e\"],[0.4444444444444444,\"#bd3786\"],[0.5555555555555556,\"#d8576b\"],[0.6666666666666666,\"#ed7953\"],[0.7777777777777778,\"#fb9f3a\"],[0.8888888888888888,\"#fdca26\"],[1.0,\"#f0f921\"]],\"type\":\"histogram2dcontour\"}],\"mesh3d\":[{\"colorbar\":{\"outlinewidth\":0,\"ticks\":\"\"},\"type\":\"mesh3d\"}],\"parcoords\":[{\"line\":{\"colorbar\":{\"outlinewidth\":0,\"ticks\":\"\"}},\"type\":\"parcoords\"}],\"pie\":[{\"automargin\":true,\"type\":\"pie\"}],\"scatter\":[{\"marker\":{\"colorbar\":{\"outlinewidth\":0,\"ticks\":\"\"}},\"type\":\"scatter\"}],\"scatter3d\":[{\"line\":{\"colorbar\":{\"outlinewidth\":0,\"ticks\":\"\"}},\"marker\":{\"colorbar\":{\"outlinewidth\":0,\"ticks\":\"\"}},\"type\":\"scatter3d\"}],\"scattercarpet\":[{\"marker\":{\"colorbar\":{\"outlinewidth\":0,\"ticks\":\"\"}},\"type\":\"scattercarpet\"}],\"scattergeo\":[{\"marker\":{\"colorbar\":{\"outlinewidth\":0,\"ticks\":\"\"}},\"type\":\"scattergeo\"}],\"scattergl\":[{\"marker\":{\"colorbar\":{\"outlinewidth\":0,\"ticks\":\"\"}},\"type\":\"scattergl\"}],\"scattermapbox\":[{\"marker\":{\"colorbar\":{\"outlinewidth\":0,\"ticks\":\"\"}},\"type\":\"scattermapbox\"}],\"scatterpolar\":[{\"marker\":{\"colorbar\":{\"outlinewidth\":0,\"ticks\":\"\"}},\"type\":\"scatterpolar\"}],\"scatterpolargl\":[{\"marker\":{\"colorbar\":{\"outlinewidth\":0,\"ticks\":\"\"}},\"type\":\"scatterpolargl\"}],\"scatterternary\":[{\"marker\":{\"colorbar\":{\"outlinewidth\":0,\"ticks\":\"\"}},\"type\":\"scatterternary\"}],\"surface\":[{\"colorbar\":{\"outlinewidth\":0,\"ticks\":\"\"},\"colorscale\":[[0.0,\"#0d0887\"],[0.1111111111111111,\"#46039f\"],[0.2222222222222222,\"#7201a8\"],[0.3333333333333333,\"#9c179e\"],[0.4444444444444444,\"#bd3786\"],[0.5555555555555556,\"#d8576b\"],[0.6666666666666666,\"#ed7953\"],[0.7777777777777778,\"#fb9f3a\"],[0.8888888888888888,\"#fdca26\"],[1.0,\"#f0f921\"]],\"type\":\"surface\"}],\"table\":[{\"cells\":{\"fill\":{\"color\":\"#EBF0F8\"},\"line\":{\"color\":\"white\"}},\"header\":{\"fill\":{\"color\":\"#C8D4E3\"},\"line\":{\"color\":\"white\"}},\"type\":\"table\"}]},\"layout\":{\"annotationdefaults\":{\"arrowcolor\":\"#2a3f5f\",\"arrowhead\":0,\"arrowwidth\":1},\"autotypenumbers\":\"strict\",\"coloraxis\":{\"colorbar\":{\"outlinewidth\":0,\"ticks\":\"\"}},\"colorscale\":{\"diverging\":[[0,\"#8e0152\"],[0.1,\"#c51b7d\"],[0.2,\"#de77ae\"],[0.3,\"#f1b6da\"],[0.4,\"#fde0ef\"],[0.5,\"#f7f7f7\"],[0.6,\"#e6f5d0\"],[0.7,\"#b8e186\"],[0.8,\"#7fbc41\"],[0.9,\"#4d9221\"],[1,\"#276419\"]],\"sequential\":[[0.0,\"#0d0887\"],[0.1111111111111111,\"#46039f\"],[0.2222222222222222,\"#7201a8\"],[0.3333333333333333,\"#9c179e\"],[0.4444444444444444,\"#bd3786\"],[0.5555555555555556,\"#d8576b\"],[0.6666666666666666,\"#ed7953\"],[0.7777777777777778,\"#fb9f3a\"],[0.8888888888888888,\"#fdca26\"],[1.0,\"#f0f921\"]],\"sequentialminus\":[[0.0,\"#0d0887\"],[0.1111111111111111,\"#46039f\"],[0.2222222222222222,\"#7201a8\"],[0.3333333333333333,\"#9c179e\"],[0.4444444444444444,\"#bd3786\"],[0.5555555555555556,\"#d8576b\"],[0.6666666666666666,\"#ed7953\"],[0.7777777777777778,\"#fb9f3a\"],[0.8888888888888888,\"#fdca26\"],[1.0,\"#f0f921\"]]},\"colorway\":[\"#636efa\",\"#EF553B\",\"#00cc96\",\"#ab63fa\",\"#FFA15A\",\"#19d3f3\",\"#FF6692\",\"#B6E880\",\"#FF97FF\",\"#FECB52\"],\"font\":{\"color\":\"#2a3f5f\"},\"geo\":{\"bgcolor\":\"white\",\"lakecolor\":\"white\",\"landcolor\":\"#E5ECF6\",\"showlakes\":true,\"showland\":true,\"subunitcolor\":\"white\"},\"hoverlabel\":{\"align\":\"left\"},\"hovermode\":\"closest\",\"mapbox\":{\"style\":\"light\"},\"paper_bgcolor\":\"white\",\"plot_bgcolor\":\"#E5ECF6\",\"polar\":{\"angularaxis\":{\"gridcolor\":\"white\",\"linecolor\":\"white\",\"ticks\":\"\"},\"bgcolor\":\"#E5ECF6\",\"radialaxis\":{\"gridcolor\":\"white\",\"linecolor\":\"white\",\"ticks\":\"\"}},\"scene\":{\"xaxis\":{\"backgroundcolor\":\"#E5ECF6\",\"gridcolor\":\"white\",\"gridwidth\":2,\"linecolor\":\"white\",\"showbackground\":true,\"ticks\":\"\",\"zerolinecolor\":\"white\"},\"yaxis\":{\"backgroundcolor\":\"#E5ECF6\",\"gridcolor\":\"white\",\"gridwidth\":2,\"linecolor\":\"white\",\"showbackground\":true,\"ticks\":\"\",\"zerolinecolor\":\"white\"},\"zaxis\":{\"backgroundcolor\":\"#E5ECF6\",\"gridcolor\":\"white\",\"gridwidth\":2,\"linecolor\":\"white\",\"showbackground\":true,\"ticks\":\"\",\"zerolinecolor\":\"white\"}},\"shapedefaults\":{\"line\":{\"color\":\"#2a3f5f\"}},\"ternary\":{\"aaxis\":{\"gridcolor\":\"white\",\"linecolor\":\"white\",\"ticks\":\"\"},\"baxis\":{\"gridcolor\":\"white\",\"linecolor\":\"white\",\"ticks\":\"\"},\"bgcolor\":\"#E5ECF6\",\"caxis\":{\"gridcolor\":\"white\",\"linecolor\":\"white\",\"ticks\":\"\"}},\"title\":{\"x\":0.05},\"xaxis\":{\"automargin\":true,\"gridcolor\":\"white\",\"linecolor\":\"white\",\"ticks\":\"\",\"title\":{\"standoff\":15},\"zerolinecolor\":\"white\",\"zerolinewidth\":2},\"yaxis\":{\"automargin\":true,\"gridcolor\":\"white\",\"linecolor\":\"white\",\"ticks\":\"\",\"title\":{\"standoff\":15},\"zerolinecolor\":\"white\",\"zerolinewidth\":2}}},\"title\":{\"text\":\"GameStop\"},\"xaxis\":{\"anchor\":\"y\",\"domain\":[0.0,1.0],\"matches\":\"x2\",\"rangeslider\":{\"visible\":true},\"showticklabels\":false,\"title\":{\"text\":\"Date\"}},\"xaxis2\":{\"anchor\":\"y2\",\"domain\":[0.0,1.0],\"title\":{\"text\":\"Date\"}},\"yaxis\":{\"anchor\":\"x\",\"domain\":[0.6499999999999999,0.9999999999999999],\"title\":{\"text\":\"Price ($US)\"}},\"yaxis2\":{\"anchor\":\"x2\",\"domain\":[0.0,0.35],\"title\":{\"text\":\"Revenue ($US Millions)\"}}},                        {\"responsive\": true}                    ).then(function(){\n",
       "                            \n",
       "var gd = document.getElementById('10f8bee9-d7be-4c9d-bda8-b240615e3001');\n",
       "var x = new MutationObserver(function (mutations, observer) {{\n",
       "        var display = window.getComputedStyle(gd).display;\n",
       "        if (!display || display === 'none') {{\n",
       "            console.log([gd, 'removed!']);\n",
       "            Plotly.purge(gd);\n",
       "            observer.disconnect();\n",
       "        }}\n",
       "}});\n",
       "\n",
       "// Listen for the removal of the full notebook cells\n",
       "var notebookContainer = gd.closest('#notebook-container');\n",
       "if (notebookContainer) {{\n",
       "    x.observe(notebookContainer, {childList: true});\n",
       "}}\n",
       "\n",
       "// Listen for the clearing of the current output cell\n",
       "var outputEl = gd.closest('.output');\n",
       "if (outputEl) {{\n",
       "    x.observe(outputEl, {childList: true});\n",
       "}}\n",
       "\n",
       "                        })                };                });            </script>        </div>"
      ]
     },
     "metadata": {},
     "output_type": "display_data"
    }
   ],
   "source": [
    "make_graph(gme_data, gme_revenue, 'GameStop')"
   ]
  },
  {
   "cell_type": "markdown",
   "id": "c8a84786",
   "metadata": {
    "papermill": {
     "duration": 0.028476,
     "end_time": "2022-09-15T05:39:42.077496",
     "exception": false,
     "start_time": "2022-09-15T05:39:42.049020",
     "status": "completed"
    },
    "tags": []
   },
   "source": [
    "<h2>About the Authors:</h2> \n",
    "\n",
    "<a href=\"https://www.linkedin.com/in/joseph-s-50398b136/?utm_medium=Exinfluencer&utm_source=Exinfluencer&utm_content=000026UJ&utm_term=10006555&utm_id=NA-SkillsNetwork-Channel-SkillsNetworkCoursesIBMDeveloperSkillsNetworkPY0220ENSkillsNetwork23455606-2022-01-01\">Joseph Santarcangelo</a> has a PhD in Electrical Engineering, his research focused on using machine learning, signal processing, and computer vision to determine how videos impact human cognition. Joseph has been working for IBM since he completed his PhD.\n",
    "\n",
    "Azim Hirjani\n"
   ]
  },
  {
   "cell_type": "markdown",
   "id": "5a162733",
   "metadata": {
    "papermill": {
     "duration": 0.028646,
     "end_time": "2022-09-15T05:39:42.136214",
     "exception": false,
     "start_time": "2022-09-15T05:39:42.107568",
     "status": "completed"
    },
    "tags": []
   },
   "source": [
    "## Change Log\n",
    "\n",
    "| Date (YYYY-MM-DD) | Version | Changed By    | Change Description          |\n",
    "| ----------------- | ------- | ------------- | --------------------------- |\n",
    "| 2022-02-28        | 1.2     | Lakshmi Holla | Changed the URL of GameStop |\n",
    "| 2020-11-10        | 1.1     | Malika Singla | Deleted the Optional part   |\n",
    "| 2020-08-27        | 1.0     | Malika Singla | Added lab to GitLab         |\n",
    "\n",
    "<hr>\n",
    "\n",
    "## <h3 align=\"center\"> © IBM Corporation 2020. All rights reserved. <h3/>\n",
    "\n",
    "<p>\n"
   ]
  }
 ],
 "metadata": {
  "kernelspec": {
   "display_name": "Python 3",
   "language": "python",
   "name": "python3"
  },
  "language_info": {
   "codemirror_mode": {
    "name": "ipython",
    "version": 3
   },
   "file_extension": ".py",
   "mimetype": "text/x-python",
   "name": "python",
   "nbconvert_exporter": "python",
   "pygments_lexer": "ipython3",
   "version": "3.7.12"
  },
  "papermill": {
   "default_parameters": {},
   "duration": 171.622991,
   "end_time": "2022-09-15T05:39:42.989281",
   "environment_variables": {},
   "exception": null,
   "input_path": "__notebook__.ipynb",
   "output_path": "__notebook__.ipynb",
   "parameters": {},
   "start_time": "2022-09-15T05:36:51.366290",
   "version": "2.3.4"
  }
 },
 "nbformat": 4,
 "nbformat_minor": 5
}
